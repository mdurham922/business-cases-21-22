{
 "cells": [
  {
   "cell_type": "code",
   "execution_count": 59,
   "id": "f7c16037",
   "metadata": {},
   "outputs": [
    {
     "name": "stdout",
     "output_type": "stream",
     "text": [
      "Collecting xgboost\n",
      "  Downloading xgboost-1.6.0-py3-none-win_amd64.whl (126.1 MB)\n",
      "Requirement already satisfied: numpy in c:\\users\\mdurh\\anaconda3\\lib\\site-packages (from xgboost) (1.22.2)\n",
      "Requirement already satisfied: scipy in c:\\users\\mdurh\\anaconda3\\lib\\site-packages (from xgboost) (1.6.2)\n",
      "Installing collected packages: xgboost\n",
      "Successfully installed xgboost-1.6.0\n",
      "Note: you may need to restart the kernel to use updated packages.\n"
     ]
    },
    {
     "name": "stderr",
     "output_type": "stream",
     "text": [
      "WARNING: You are using pip version 21.3.1; however, version 22.0.4 is available.\n",
      "You should consider upgrading via the 'C:\\Users\\mdurh\\anaconda3\\python.exe -m pip install --upgrade pip' command.\n"
     ]
    }
   ],
   "source": [
    "pip install xgboost"
   ]
  },
  {
   "cell_type": "code",
   "execution_count": null,
   "id": "38d1d18f",
   "metadata": {},
   "outputs": [],
   "source": [
    "#source: https://www.kaggle.com/code/ysthehurricane/bitcoin-dogecoin-etc-price-prediction-xgboost/comments"
   ]
  },
  {
   "cell_type": "code",
   "execution_count": 66,
   "id": "856b8846",
   "metadata": {},
   "outputs": [],
   "source": [
    "import pandas as pd\n",
    "import numpy as np\n",
    "import matplotlib.pyplot as plt\n",
    "import plotly.graph_objects as go \n",
    "import plotly.express as px\n",
    "import ta\n",
    "\n",
    "import math\n",
    "import datetime as dt\n",
    "\n",
    "from sklearn.metrics import mean_squared_error, mean_absolute_error, explained_variance_score, r2_score \n",
    "from sklearn.metrics import mean_poisson_deviance, mean_gamma_deviance, accuracy_score\n",
    "from sklearn.preprocessing import MinMaxScaler\n",
    "\n",
    "from itertools import cycle\n",
    "import plotly.graph_objects as go\n",
    "import plotly.express as px\n",
    "from plotly.subplots import make_subplots\n",
    "\n",
    "import seaborn as sns \n",
    "import matplotlib.pyplot as plt \n",
    "from colorama import Fore"
   ]
  },
  {
   "cell_type": "code",
   "execution_count": 67,
   "id": "e63d7d5f",
   "metadata": {},
   "outputs": [],
   "source": [
    "close=pd.read_csv('data/close.csv')\n",
    "adj_close=pd.read_csv('data/adj_close.csv')\n",
    "open=pd.read_csv('data/open.csv')\n",
    "high=pd.read_csv('data/open.csv')\n",
    "low=pd.read_csv('data/low.csv')\n",
    "volume=pd.read_csv('data/volume.csv')"
   ]
  },
  {
   "cell_type": "code",
   "execution_count": 68,
   "id": "661cccef",
   "metadata": {},
   "outputs": [],
   "source": [
    "from functools import reduce\n",
    "dataframes = [close, adj_close, open, high, low, volume]\n",
    "df_merged = reduce(lambda  left,right: pd.merge(left,right,on=['Date'], how='outer'), dataframes)"
   ]
  },
  {
   "cell_type": "code",
   "execution_count": 69,
   "id": "803f845d",
   "metadata": {},
   "outputs": [],
   "source": [
    "def currency(curr): \n",
    "    df=df_merged[['Date',curr+'_x', curr+'_y']]\n",
    "    df.columns = ['Date','Close', 'Adj_Close','Open','High', 'Low', 'Volume']\n",
    "    df = ta.utils.dropna(df)\n",
    "    return df"
   ]
  },
  {
   "cell_type": "code",
   "execution_count": 70,
   "id": "19f26b4f",
   "metadata": {},
   "outputs": [],
   "source": [
    "ADA=currency('ADA-USD')\n",
    "ATOM=currency('ATOM-USD')\n",
    "AVAX=currency('AVAX-USD')\n",
    "AXS=currency('AXS-USD')\n",
    "BTC=currency('BTC-USD')\n",
    "ETH=currency('ETH-USD')\n",
    "LINK=currency('LINK-USD')\n",
    "LUNA1=currency('LUNA1-USD')\n",
    "MATIC=currency('MATIC-USD')\n",
    "SOL=currency('SOL-USD')"
   ]
  },
  {
   "cell_type": "code",
   "execution_count": 49,
   "id": "e5cca8fd",
   "metadata": {},
   "outputs": [
    {
     "data": {
      "text/html": [
       "<div>\n",
       "<style scoped>\n",
       "    .dataframe tbody tr th:only-of-type {\n",
       "        vertical-align: middle;\n",
       "    }\n",
       "\n",
       "    .dataframe tbody tr th {\n",
       "        vertical-align: top;\n",
       "    }\n",
       "\n",
       "    .dataframe thead th {\n",
       "        text-align: right;\n",
       "    }\n",
       "</style>\n",
       "<table border=\"1\" class=\"dataframe\">\n",
       "  <thead>\n",
       "    <tr style=\"text-align: right;\">\n",
       "      <th></th>\n",
       "      <th>Date</th>\n",
       "      <th>Close</th>\n",
       "      <th>Adj_Close</th>\n",
       "      <th>Open</th>\n",
       "      <th>High</th>\n",
       "      <th>Low</th>\n",
       "      <th>Volume</th>\n",
       "    </tr>\n",
       "  </thead>\n",
       "  <tbody>\n",
       "    <tr>\n",
       "      <th>0</th>\n",
       "      <td>2017-04-26</td>\n",
       "      <td>1281.079956</td>\n",
       "      <td>1265.989990</td>\n",
       "      <td>1265.930054</td>\n",
       "      <td>1281.079956</td>\n",
       "      <td>1265.989990</td>\n",
       "      <td>329631008</td>\n",
       "    </tr>\n",
       "    <tr>\n",
       "      <th>1</th>\n",
       "      <td>2017-04-27</td>\n",
       "      <td>1317.729980</td>\n",
       "      <td>1281.880005</td>\n",
       "      <td>1281.300049</td>\n",
       "      <td>1317.729980</td>\n",
       "      <td>1281.880005</td>\n",
       "      <td>449196992</td>\n",
       "    </tr>\n",
       "    <tr>\n",
       "      <th>2</th>\n",
       "      <td>2017-04-28</td>\n",
       "      <td>1316.479980</td>\n",
       "      <td>1317.739990</td>\n",
       "      <td>1292.369995</td>\n",
       "      <td>1316.479980</td>\n",
       "      <td>1317.739990</td>\n",
       "      <td>527488992</td>\n",
       "    </tr>\n",
       "    <tr>\n",
       "      <th>3</th>\n",
       "      <td>2017-04-29</td>\n",
       "      <td>1321.790039</td>\n",
       "      <td>1317.839966</td>\n",
       "      <td>1315.209961</td>\n",
       "      <td>1321.790039</td>\n",
       "      <td>1317.839966</td>\n",
       "      <td>422705984</td>\n",
       "    </tr>\n",
       "    <tr>\n",
       "      <th>4</th>\n",
       "      <td>2017-04-30</td>\n",
       "      <td>1347.890015</td>\n",
       "      <td>1321.869995</td>\n",
       "      <td>1314.920044</td>\n",
       "      <td>1347.890015</td>\n",
       "      <td>1321.869995</td>\n",
       "      <td>413115008</td>\n",
       "    </tr>\n",
       "    <tr>\n",
       "      <th>...</th>\n",
       "      <td>...</td>\n",
       "      <td>...</td>\n",
       "      <td>...</td>\n",
       "      <td>...</td>\n",
       "      <td>...</td>\n",
       "      <td>...</td>\n",
       "      <td>...</td>\n",
       "    </tr>\n",
       "    <tr>\n",
       "      <th>1821</th>\n",
       "      <td>2022-04-21</td>\n",
       "      <td>40527.363281</td>\n",
       "      <td>41371.515625</td>\n",
       "      <td>40063.828125</td>\n",
       "      <td>40527.363281</td>\n",
       "      <td>41371.515625</td>\n",
       "      <td>35372786395</td>\n",
       "    </tr>\n",
       "    <tr>\n",
       "      <th>1822</th>\n",
       "      <td>2022-04-22</td>\n",
       "      <td>39740.320312</td>\n",
       "      <td>40525.863281</td>\n",
       "      <td>39315.417969</td>\n",
       "      <td>39740.320312</td>\n",
       "      <td>40525.863281</td>\n",
       "      <td>28011716745</td>\n",
       "    </tr>\n",
       "    <tr>\n",
       "      <th>1823</th>\n",
       "      <td>2022-04-23</td>\n",
       "      <td>39486.730469</td>\n",
       "      <td>39738.722656</td>\n",
       "      <td>39352.203125</td>\n",
       "      <td>39486.730469</td>\n",
       "      <td>39738.722656</td>\n",
       "      <td>16138021249</td>\n",
       "    </tr>\n",
       "    <tr>\n",
       "      <th>1824</th>\n",
       "      <td>2022-04-24</td>\n",
       "      <td>39469.292969</td>\n",
       "      <td>39478.375000</td>\n",
       "      <td>39233.539062</td>\n",
       "      <td>39469.292969</td>\n",
       "      <td>39478.375000</td>\n",
       "      <td>17964398167</td>\n",
       "    </tr>\n",
       "    <tr>\n",
       "      <th>1825</th>\n",
       "      <td>2022-04-25</td>\n",
       "      <td>40458.308594</td>\n",
       "      <td>39472.605469</td>\n",
       "      <td>38338.378906</td>\n",
       "      <td>40458.308594</td>\n",
       "      <td>39472.605469</td>\n",
       "      <td>35445730570</td>\n",
       "    </tr>\n",
       "  </tbody>\n",
       "</table>\n",
       "<p>1826 rows × 7 columns</p>\n",
       "</div>"
      ],
      "text/plain": [
       "            Date         Close     Adj_Close          Open          High  \\\n",
       "0     2017-04-26   1281.079956   1265.989990   1265.930054   1281.079956   \n",
       "1     2017-04-27   1317.729980   1281.880005   1281.300049   1317.729980   \n",
       "2     2017-04-28   1316.479980   1317.739990   1292.369995   1316.479980   \n",
       "3     2017-04-29   1321.790039   1317.839966   1315.209961   1321.790039   \n",
       "4     2017-04-30   1347.890015   1321.869995   1314.920044   1347.890015   \n",
       "...          ...           ...           ...           ...           ...   \n",
       "1821  2022-04-21  40527.363281  41371.515625  40063.828125  40527.363281   \n",
       "1822  2022-04-22  39740.320312  40525.863281  39315.417969  39740.320312   \n",
       "1823  2022-04-23  39486.730469  39738.722656  39352.203125  39486.730469   \n",
       "1824  2022-04-24  39469.292969  39478.375000  39233.539062  39469.292969   \n",
       "1825  2022-04-25  40458.308594  39472.605469  38338.378906  40458.308594   \n",
       "\n",
       "               Low       Volume  \n",
       "0      1265.989990    329631008  \n",
       "1      1281.880005    449196992  \n",
       "2      1317.739990    527488992  \n",
       "3      1317.839966    422705984  \n",
       "4      1321.869995    413115008  \n",
       "...            ...          ...  \n",
       "1821  41371.515625  35372786395  \n",
       "1822  40525.863281  28011716745  \n",
       "1823  39738.722656  16138021249  \n",
       "1824  39478.375000  17964398167  \n",
       "1825  39472.605469  35445730570  \n",
       "\n",
       "[1826 rows x 7 columns]"
      ]
     },
     "execution_count": 49,
     "metadata": {},
     "output_type": "execute_result"
    }
   ],
   "source": [
    "BTC"
   ]
  },
  {
   "cell_type": "code",
   "execution_count": 71,
   "id": "29ed3cd4",
   "metadata": {},
   "outputs": [
    {
     "name": "stderr",
     "output_type": "stream",
     "text": [
      "C:\\Users\\mdurh\\anaconda3\\lib\\site-packages\\ta\\trend.py:769: RuntimeWarning:\n",
      "\n",
      "invalid value encountered in double_scalars\n",
      "\n",
      "C:\\Users\\mdurh\\anaconda3\\lib\\site-packages\\ta\\trend.py:774: RuntimeWarning:\n",
      "\n",
      "invalid value encountered in double_scalars\n",
      "\n"
     ]
    }
   ],
   "source": [
    "# Add all ta features filling nans values\n",
    "df = ta.add_all_ta_features(BTC, \"Open\", \"High\", \"Low\", \"Close\", \"Volume\", fillna=True)"
   ]
  },
  {
   "cell_type": "code",
   "execution_count": 51,
   "id": "63c1ee9f",
   "metadata": {},
   "outputs": [
    {
     "data": {
      "text/html": [
       "<div>\n",
       "<style scoped>\n",
       "    .dataframe tbody tr th:only-of-type {\n",
       "        vertical-align: middle;\n",
       "    }\n",
       "\n",
       "    .dataframe tbody tr th {\n",
       "        vertical-align: top;\n",
       "    }\n",
       "\n",
       "    .dataframe thead th {\n",
       "        text-align: right;\n",
       "    }\n",
       "</style>\n",
       "<table border=\"1\" class=\"dataframe\">\n",
       "  <thead>\n",
       "    <tr style=\"text-align: right;\">\n",
       "      <th></th>\n",
       "      <th>Date</th>\n",
       "      <th>Close</th>\n",
       "      <th>Adj_Close</th>\n",
       "      <th>Open</th>\n",
       "      <th>High</th>\n",
       "      <th>Low</th>\n",
       "      <th>Volume</th>\n",
       "      <th>volume_adi</th>\n",
       "      <th>volume_obv</th>\n",
       "      <th>volume_cmf</th>\n",
       "      <th>...</th>\n",
       "      <th>momentum_ppo</th>\n",
       "      <th>momentum_ppo_signal</th>\n",
       "      <th>momentum_ppo_hist</th>\n",
       "      <th>momentum_pvo</th>\n",
       "      <th>momentum_pvo_signal</th>\n",
       "      <th>momentum_pvo_hist</th>\n",
       "      <th>momentum_kama</th>\n",
       "      <th>others_dr</th>\n",
       "      <th>others_dlr</th>\n",
       "      <th>others_cr</th>\n",
       "    </tr>\n",
       "  </thead>\n",
       "  <tbody>\n",
       "    <tr>\n",
       "      <th>0</th>\n",
       "      <td>2017-04-26</td>\n",
       "      <td>1281.079956</td>\n",
       "      <td>1265.989990</td>\n",
       "      <td>1265.930054</td>\n",
       "      <td>1281.079956</td>\n",
       "      <td>1265.989990</td>\n",
       "      <td>329631008</td>\n",
       "      <td>3.296310e+08</td>\n",
       "      <td>329631008</td>\n",
       "      <td>1.0</td>\n",
       "      <td>...</td>\n",
       "      <td>0.000000</td>\n",
       "      <td>0.000000</td>\n",
       "      <td>0.000000</td>\n",
       "      <td>0.000000</td>\n",
       "      <td>0.000000</td>\n",
       "      <td>0.000000</td>\n",
       "      <td>1281.079956</td>\n",
       "      <td>-92.901069</td>\n",
       "      <td>0.000000</td>\n",
       "      <td>0.000000</td>\n",
       "    </tr>\n",
       "    <tr>\n",
       "      <th>1</th>\n",
       "      <td>2017-04-27</td>\n",
       "      <td>1317.729980</td>\n",
       "      <td>1281.880005</td>\n",
       "      <td>1281.300049</td>\n",
       "      <td>1317.729980</td>\n",
       "      <td>1281.880005</td>\n",
       "      <td>449196992</td>\n",
       "      <td>7.788280e+08</td>\n",
       "      <td>778828000</td>\n",
       "      <td>1.0</td>\n",
       "      <td>...</td>\n",
       "      <td>0.227735</td>\n",
       "      <td>0.045547</td>\n",
       "      <td>0.182188</td>\n",
       "      <td>2.817835</td>\n",
       "      <td>0.563567</td>\n",
       "      <td>2.254268</td>\n",
       "      <td>1296.763294</td>\n",
       "      <td>2.860869</td>\n",
       "      <td>2.820711</td>\n",
       "      <td>2.860869</td>\n",
       "    </tr>\n",
       "    <tr>\n",
       "      <th>2</th>\n",
       "      <td>2017-04-28</td>\n",
       "      <td>1316.479980</td>\n",
       "      <td>1317.739990</td>\n",
       "      <td>1292.369995</td>\n",
       "      <td>1316.479980</td>\n",
       "      <td>1317.739990</td>\n",
       "      <td>527488992</td>\n",
       "      <td>1.306317e+09</td>\n",
       "      <td>251339008</td>\n",
       "      <td>1.0</td>\n",
       "      <td>...</td>\n",
       "      <td>0.395052</td>\n",
       "      <td>0.115448</td>\n",
       "      <td>0.279604</td>\n",
       "      <td>6.566939</td>\n",
       "      <td>1.764241</td>\n",
       "      <td>4.802697</td>\n",
       "      <td>1305.645592</td>\n",
       "      <td>-0.094860</td>\n",
       "      <td>-0.094905</td>\n",
       "      <td>2.763295</td>\n",
       "    </tr>\n",
       "    <tr>\n",
       "      <th>3</th>\n",
       "      <td>2017-04-29</td>\n",
       "      <td>1321.790039</td>\n",
       "      <td>1317.839966</td>\n",
       "      <td>1315.209961</td>\n",
       "      <td>1321.790039</td>\n",
       "      <td>1317.839966</td>\n",
       "      <td>422705984</td>\n",
       "      <td>1.729023e+09</td>\n",
       "      <td>674044992</td>\n",
       "      <td>1.0</td>\n",
       "      <td>...</td>\n",
       "      <td>0.553774</td>\n",
       "      <td>0.203113</td>\n",
       "      <td>0.350661</td>\n",
       "      <td>7.041848</td>\n",
       "      <td>2.819763</td>\n",
       "      <td>4.222085</td>\n",
       "      <td>1313.141853</td>\n",
       "      <td>0.403353</td>\n",
       "      <td>0.402541</td>\n",
       "      <td>3.177794</td>\n",
       "    </tr>\n",
       "    <tr>\n",
       "      <th>4</th>\n",
       "      <td>2017-04-30</td>\n",
       "      <td>1347.890015</td>\n",
       "      <td>1321.869995</td>\n",
       "      <td>1314.920044</td>\n",
       "      <td>1347.890015</td>\n",
       "      <td>1321.869995</td>\n",
       "      <td>413115008</td>\n",
       "      <td>2.142138e+09</td>\n",
       "      <td>1087160000</td>\n",
       "      <td>1.0</td>\n",
       "      <td>...</td>\n",
       "      <td>0.831173</td>\n",
       "      <td>0.328725</td>\n",
       "      <td>0.502448</td>\n",
       "      <td>7.112954</td>\n",
       "      <td>3.678401</td>\n",
       "      <td>3.434553</td>\n",
       "      <td>1329.144879</td>\n",
       "      <td>1.974593</td>\n",
       "      <td>1.955351</td>\n",
       "      <td>5.215136</td>\n",
       "    </tr>\n",
       "    <tr>\n",
       "      <th>...</th>\n",
       "      <td>...</td>\n",
       "      <td>...</td>\n",
       "      <td>...</td>\n",
       "      <td>...</td>\n",
       "      <td>...</td>\n",
       "      <td>...</td>\n",
       "      <td>...</td>\n",
       "      <td>...</td>\n",
       "      <td>...</td>\n",
       "      <td>...</td>\n",
       "      <td>...</td>\n",
       "      <td>...</td>\n",
       "      <td>...</td>\n",
       "      <td>...</td>\n",
       "      <td>...</td>\n",
       "      <td>...</td>\n",
       "      <td>...</td>\n",
       "      <td>...</td>\n",
       "      <td>...</td>\n",
       "      <td>...</td>\n",
       "      <td>...</td>\n",
       "    </tr>\n",
       "    <tr>\n",
       "      <th>1821</th>\n",
       "      <td>2022-04-21</td>\n",
       "      <td>40527.363281</td>\n",
       "      <td>41371.515625</td>\n",
       "      <td>40063.828125</td>\n",
       "      <td>40527.363281</td>\n",
       "      <td>41371.515625</td>\n",
       "      <td>35372786395</td>\n",
       "      <td>4.146460e+13</td>\n",
       "      <td>1855541134026</td>\n",
       "      <td>1.0</td>\n",
       "      <td>...</td>\n",
       "      <td>-1.708643</td>\n",
       "      <td>-1.370410</td>\n",
       "      <td>-0.338233</td>\n",
       "      <td>0.567928</td>\n",
       "      <td>-2.043221</td>\n",
       "      <td>2.611149</td>\n",
       "      <td>41548.456520</td>\n",
       "      <td>-2.047198</td>\n",
       "      <td>-2.068444</td>\n",
       "      <td>3063.531136</td>\n",
       "    </tr>\n",
       "    <tr>\n",
       "      <th>1822</th>\n",
       "      <td>2022-04-22</td>\n",
       "      <td>39740.320312</td>\n",
       "      <td>40525.863281</td>\n",
       "      <td>39315.417969</td>\n",
       "      <td>39740.320312</td>\n",
       "      <td>40525.863281</td>\n",
       "      <td>28011716745</td>\n",
       "      <td>4.149262e+13</td>\n",
       "      <td>1827529417281</td>\n",
       "      <td>1.0</td>\n",
       "      <td>...</td>\n",
       "      <td>-1.867734</td>\n",
       "      <td>-1.469875</td>\n",
       "      <td>-0.397859</td>\n",
       "      <td>0.712566</td>\n",
       "      <td>-1.492064</td>\n",
       "      <td>2.204630</td>\n",
       "      <td>41531.603497</td>\n",
       "      <td>-1.942004</td>\n",
       "      <td>-1.961109</td>\n",
       "      <td>3002.095238</td>\n",
       "    </tr>\n",
       "    <tr>\n",
       "      <th>1823</th>\n",
       "      <td>2022-04-23</td>\n",
       "      <td>39486.730469</td>\n",
       "      <td>39738.722656</td>\n",
       "      <td>39352.203125</td>\n",
       "      <td>39486.730469</td>\n",
       "      <td>39738.722656</td>\n",
       "      <td>16138021249</td>\n",
       "      <td>4.150875e+13</td>\n",
       "      <td>1811391396032</td>\n",
       "      <td>1.0</td>\n",
       "      <td>...</td>\n",
       "      <td>-2.022512</td>\n",
       "      <td>-1.580402</td>\n",
       "      <td>-0.442109</td>\n",
       "      <td>-2.736921</td>\n",
       "      <td>-1.741035</td>\n",
       "      <td>-0.995886</td>\n",
       "      <td>41432.227298</td>\n",
       "      <td>-0.638117</td>\n",
       "      <td>-0.640162</td>\n",
       "      <td>2982.300233</td>\n",
       "    </tr>\n",
       "    <tr>\n",
       "      <th>1824</th>\n",
       "      <td>2022-04-24</td>\n",
       "      <td>39469.292969</td>\n",
       "      <td>39478.375000</td>\n",
       "      <td>39233.539062</td>\n",
       "      <td>39469.292969</td>\n",
       "      <td>39478.375000</td>\n",
       "      <td>17964398167</td>\n",
       "      <td>4.152672e+13</td>\n",
       "      <td>1793426997865</td>\n",
       "      <td>1.0</td>\n",
       "      <td>...</td>\n",
       "      <td>-2.126183</td>\n",
       "      <td>-1.689558</td>\n",
       "      <td>-0.436625</td>\n",
       "      <td>-4.993543</td>\n",
       "      <td>-2.391537</td>\n",
       "      <td>-2.602006</td>\n",
       "      <td>41405.011444</td>\n",
       "      <td>-0.044160</td>\n",
       "      <td>-0.044170</td>\n",
       "      <td>2980.939077</td>\n",
       "    </tr>\n",
       "    <tr>\n",
       "      <th>1825</th>\n",
       "      <td>2022-04-25</td>\n",
       "      <td>40458.308594</td>\n",
       "      <td>39472.605469</td>\n",
       "      <td>38338.378906</td>\n",
       "      <td>40458.308594</td>\n",
       "      <td>39472.605469</td>\n",
       "      <td>35445730570</td>\n",
       "      <td>4.156216e+13</td>\n",
       "      <td>1828872728435</td>\n",
       "      <td>1.0</td>\n",
       "      <td>...</td>\n",
       "      <td>-1.990219</td>\n",
       "      <td>-1.749690</td>\n",
       "      <td>-0.240529</td>\n",
       "      <td>-1.217998</td>\n",
       "      <td>-2.156829</td>\n",
       "      <td>0.938831</td>\n",
       "      <td>41399.733450</td>\n",
       "      <td>2.505785</td>\n",
       "      <td>2.474905</td>\n",
       "      <td>3058.140786</td>\n",
       "    </tr>\n",
       "  </tbody>\n",
       "</table>\n",
       "<p>1826 rows × 93 columns</p>\n",
       "</div>"
      ],
      "text/plain": [
       "            Date         Close     Adj_Close          Open          High  \\\n",
       "0     2017-04-26   1281.079956   1265.989990   1265.930054   1281.079956   \n",
       "1     2017-04-27   1317.729980   1281.880005   1281.300049   1317.729980   \n",
       "2     2017-04-28   1316.479980   1317.739990   1292.369995   1316.479980   \n",
       "3     2017-04-29   1321.790039   1317.839966   1315.209961   1321.790039   \n",
       "4     2017-04-30   1347.890015   1321.869995   1314.920044   1347.890015   \n",
       "...          ...           ...           ...           ...           ...   \n",
       "1821  2022-04-21  40527.363281  41371.515625  40063.828125  40527.363281   \n",
       "1822  2022-04-22  39740.320312  40525.863281  39315.417969  39740.320312   \n",
       "1823  2022-04-23  39486.730469  39738.722656  39352.203125  39486.730469   \n",
       "1824  2022-04-24  39469.292969  39478.375000  39233.539062  39469.292969   \n",
       "1825  2022-04-25  40458.308594  39472.605469  38338.378906  40458.308594   \n",
       "\n",
       "               Low       Volume    volume_adi     volume_obv  volume_cmf  ...  \\\n",
       "0      1265.989990    329631008  3.296310e+08      329631008         1.0  ...   \n",
       "1      1281.880005    449196992  7.788280e+08      778828000         1.0  ...   \n",
       "2      1317.739990    527488992  1.306317e+09      251339008         1.0  ...   \n",
       "3      1317.839966    422705984  1.729023e+09      674044992         1.0  ...   \n",
       "4      1321.869995    413115008  2.142138e+09     1087160000         1.0  ...   \n",
       "...            ...          ...           ...            ...         ...  ...   \n",
       "1821  41371.515625  35372786395  4.146460e+13  1855541134026         1.0  ...   \n",
       "1822  40525.863281  28011716745  4.149262e+13  1827529417281         1.0  ...   \n",
       "1823  39738.722656  16138021249  4.150875e+13  1811391396032         1.0  ...   \n",
       "1824  39478.375000  17964398167  4.152672e+13  1793426997865         1.0  ...   \n",
       "1825  39472.605469  35445730570  4.156216e+13  1828872728435         1.0  ...   \n",
       "\n",
       "      momentum_ppo  momentum_ppo_signal  momentum_ppo_hist  momentum_pvo  \\\n",
       "0         0.000000             0.000000           0.000000      0.000000   \n",
       "1         0.227735             0.045547           0.182188      2.817835   \n",
       "2         0.395052             0.115448           0.279604      6.566939   \n",
       "3         0.553774             0.203113           0.350661      7.041848   \n",
       "4         0.831173             0.328725           0.502448      7.112954   \n",
       "...            ...                  ...                ...           ...   \n",
       "1821     -1.708643            -1.370410          -0.338233      0.567928   \n",
       "1822     -1.867734            -1.469875          -0.397859      0.712566   \n",
       "1823     -2.022512            -1.580402          -0.442109     -2.736921   \n",
       "1824     -2.126183            -1.689558          -0.436625     -4.993543   \n",
       "1825     -1.990219            -1.749690          -0.240529     -1.217998   \n",
       "\n",
       "      momentum_pvo_signal  momentum_pvo_hist  momentum_kama  others_dr  \\\n",
       "0                0.000000           0.000000    1281.079956 -92.901069   \n",
       "1                0.563567           2.254268    1296.763294   2.860869   \n",
       "2                1.764241           4.802697    1305.645592  -0.094860   \n",
       "3                2.819763           4.222085    1313.141853   0.403353   \n",
       "4                3.678401           3.434553    1329.144879   1.974593   \n",
       "...                   ...                ...            ...        ...   \n",
       "1821            -2.043221           2.611149   41548.456520  -2.047198   \n",
       "1822            -1.492064           2.204630   41531.603497  -1.942004   \n",
       "1823            -1.741035          -0.995886   41432.227298  -0.638117   \n",
       "1824            -2.391537          -2.602006   41405.011444  -0.044160   \n",
       "1825            -2.156829           0.938831   41399.733450   2.505785   \n",
       "\n",
       "      others_dlr    others_cr  \n",
       "0       0.000000     0.000000  \n",
       "1       2.820711     2.860869  \n",
       "2      -0.094905     2.763295  \n",
       "3       0.402541     3.177794  \n",
       "4       1.955351     5.215136  \n",
       "...          ...          ...  \n",
       "1821   -2.068444  3063.531136  \n",
       "1822   -1.961109  3002.095238  \n",
       "1823   -0.640162  2982.300233  \n",
       "1824   -0.044170  2980.939077  \n",
       "1825    2.474905  3058.140786  \n",
       "\n",
       "[1826 rows x 93 columns]"
      ]
     },
     "execution_count": 51,
     "metadata": {},
     "output_type": "execute_result"
    }
   ],
   "source": [
    "df"
   ]
  },
  {
   "cell_type": "code",
   "execution_count": 52,
   "id": "82be9b21",
   "metadata": {},
   "outputs": [
    {
     "data": {
      "text/plain": [
       "[<matplotlib.lines.Line2D at 0x1d413bb4ee0>]"
      ]
     },
     "execution_count": 52,
     "metadata": {},
     "output_type": "execute_result"
    },
    {
     "data": {
      "image/png": "[encoded data removed]",
      "text/plain": [
       "<Figure size 432x288 with 1 Axes>"
      ]
     },
     "metadata": {
      "needs_background": "light"
     },
     "output_type": "display_data"
    }
   ],
   "source": [
    "plt.plot(LUNA1.Close)"
   ]
  },
  {
   "cell_type": "code",
   "execution_count": 53,
   "id": "5b8b1623",
   "metadata": {},
   "outputs": [
    {
     "data": {
      "image/png": "[encoded data removed]",
      "text/plain": [
       "<Figure size 432x288 with 1 Axes>"
      ]
     },
     "metadata": {
      "needs_background": "light"
     },
     "output_type": "display_data"
    }
   ],
   "source": [
    "### Bollinger Bands\n",
    "\n",
    "plt.plot(df[1750:1825].Close)\n",
    "plt.plot(df[1750:1825].volatility_bbh, label='High BB')\n",
    "plt.plot(df[1750:1825].volatility_bbl, label='Low BB')\n",
    "plt.plot(df[1750:1825].volatility_bbm, label='EMA BB')\n",
    "plt.title('Bollinger Bands')\n",
    "plt.legend()\n",
    "plt.show()"
   ]
  },
  {
   "cell_type": "code",
   "execution_count": 55,
   "id": "bc67fcc8",
   "metadata": {},
   "outputs": [
    {
     "data": {
      "image/png": "[encoded data removed]",
      "text/plain": [
       "<Figure size 432x288 with 1 Axes>"
      ]
     },
     "metadata": {
      "needs_background": "light"
     },
     "output_type": "display_data"
    }
   ],
   "source": [
    "### MACD\n",
    "\n",
    "plt.plot(df[1750:1825].trend_macd, label='MACD')\n",
    "plt.plot(df[1750:1825].trend_macd_signal, label='MACD Signal')\n",
    "plt.plot(df[1750:1825].trend_macd_diff, label='MACD Difference')\n",
    "plt.title('MACD, MACD Signal and MACD Difference')\n",
    "plt.legend()\n",
    "plt.show()"
   ]
  },
  {
   "cell_type": "code",
   "execution_count": null,
   "id": "aba9b87b",
   "metadata": {},
   "outputs": [],
   "source": [
    "#To plot every indicator \n",
    "\n",
    "#for col in df.columns:\n",
    "#    plt.plot(df[col])\n",
    "#    plt.title(col)\n",
    "#    plt.show()"
   ]
  },
  {
   "cell_type": "code",
   "execution_count": 31,
   "id": "a44646a1",
   "metadata": {},
   "outputs": [
    {
     "data": {
      "text/html": [
       "<div>\n",
       "<style scoped>\n",
       "    .dataframe tbody tr th:only-of-type {\n",
       "        vertical-align: middle;\n",
       "    }\n",
       "\n",
       "    .dataframe tbody tr th {\n",
       "        vertical-align: top;\n",
       "    }\n",
       "\n",
       "    .dataframe thead th {\n",
       "        text-align: right;\n",
       "    }\n",
       "</style>\n",
       "<table border=\"1\" class=\"dataframe\">\n",
       "  <thead>\n",
       "    <tr style=\"text-align: right;\">\n",
       "      <th></th>\n",
       "      <th>Date</th>\n",
       "      <th>Close</th>\n",
       "      <th>Adj_Close</th>\n",
       "      <th>Open</th>\n",
       "      <th>High</th>\n",
       "      <th>Low</th>\n",
       "      <th>Volume</th>\n",
       "    </tr>\n",
       "  </thead>\n",
       "  <tbody>\n",
       "    <tr>\n",
       "      <th>0</th>\n",
       "      <td>2017-04-26</td>\n",
       "      <td>1281.079956</td>\n",
       "      <td>1265.989990</td>\n",
       "      <td>1265.930054</td>\n",
       "      <td>1281.079956</td>\n",
       "      <td>1265.989990</td>\n",
       "      <td>329631008</td>\n",
       "    </tr>\n",
       "    <tr>\n",
       "      <th>1</th>\n",
       "      <td>2017-04-27</td>\n",
       "      <td>1317.729980</td>\n",
       "      <td>1281.880005</td>\n",
       "      <td>1281.300049</td>\n",
       "      <td>1317.729980</td>\n",
       "      <td>1281.880005</td>\n",
       "      <td>449196992</td>\n",
       "    </tr>\n",
       "    <tr>\n",
       "      <th>2</th>\n",
       "      <td>2017-04-28</td>\n",
       "      <td>1316.479980</td>\n",
       "      <td>1317.739990</td>\n",
       "      <td>1292.369995</td>\n",
       "      <td>1316.479980</td>\n",
       "      <td>1317.739990</td>\n",
       "      <td>527488992</td>\n",
       "    </tr>\n",
       "    <tr>\n",
       "      <th>3</th>\n",
       "      <td>2017-04-29</td>\n",
       "      <td>1321.790039</td>\n",
       "      <td>1317.839966</td>\n",
       "      <td>1315.209961</td>\n",
       "      <td>1321.790039</td>\n",
       "      <td>1317.839966</td>\n",
       "      <td>422705984</td>\n",
       "    </tr>\n",
       "    <tr>\n",
       "      <th>4</th>\n",
       "      <td>2017-04-30</td>\n",
       "      <td>1347.890015</td>\n",
       "      <td>1321.869995</td>\n",
       "      <td>1314.920044</td>\n",
       "      <td>1347.890015</td>\n",
       "      <td>1321.869995</td>\n",
       "      <td>413115008</td>\n",
       "    </tr>\n",
       "    <tr>\n",
       "      <th>...</th>\n",
       "      <td>...</td>\n",
       "      <td>...</td>\n",
       "      <td>...</td>\n",
       "      <td>...</td>\n",
       "      <td>...</td>\n",
       "      <td>...</td>\n",
       "      <td>...</td>\n",
       "    </tr>\n",
       "    <tr>\n",
       "      <th>1821</th>\n",
       "      <td>2022-04-21</td>\n",
       "      <td>40527.363281</td>\n",
       "      <td>41371.515625</td>\n",
       "      <td>40063.828125</td>\n",
       "      <td>40527.363281</td>\n",
       "      <td>41371.515625</td>\n",
       "      <td>35372786395</td>\n",
       "    </tr>\n",
       "    <tr>\n",
       "      <th>1822</th>\n",
       "      <td>2022-04-22</td>\n",
       "      <td>39740.320312</td>\n",
       "      <td>40525.863281</td>\n",
       "      <td>39315.417969</td>\n",
       "      <td>39740.320312</td>\n",
       "      <td>40525.863281</td>\n",
       "      <td>28011716745</td>\n",
       "    </tr>\n",
       "    <tr>\n",
       "      <th>1823</th>\n",
       "      <td>2022-04-23</td>\n",
       "      <td>39486.730469</td>\n",
       "      <td>39738.722656</td>\n",
       "      <td>39352.203125</td>\n",
       "      <td>39486.730469</td>\n",
       "      <td>39738.722656</td>\n",
       "      <td>16138021249</td>\n",
       "    </tr>\n",
       "    <tr>\n",
       "      <th>1824</th>\n",
       "      <td>2022-04-24</td>\n",
       "      <td>39469.292969</td>\n",
       "      <td>39478.375000</td>\n",
       "      <td>39233.539062</td>\n",
       "      <td>39469.292969</td>\n",
       "      <td>39478.375000</td>\n",
       "      <td>17964398167</td>\n",
       "    </tr>\n",
       "    <tr>\n",
       "      <th>1825</th>\n",
       "      <td>2022-04-25</td>\n",
       "      <td>40458.308594</td>\n",
       "      <td>39472.605469</td>\n",
       "      <td>38338.378906</td>\n",
       "      <td>40458.308594</td>\n",
       "      <td>39472.605469</td>\n",
       "      <td>35445730570</td>\n",
       "    </tr>\n",
       "  </tbody>\n",
       "</table>\n",
       "<p>1826 rows × 7 columns</p>\n",
       "</div>"
      ],
      "text/plain": [
       "            Date         Close     Adj_Close          Open          High  \\\n",
       "0     2017-04-26   1281.079956   1265.989990   1265.930054   1281.079956   \n",
       "1     2017-04-27   1317.729980   1281.880005   1281.300049   1317.729980   \n",
       "2     2017-04-28   1316.479980   1317.739990   1292.369995   1316.479980   \n",
       "3     2017-04-29   1321.790039   1317.839966   1315.209961   1321.790039   \n",
       "4     2017-04-30   1347.890015   1321.869995   1314.920044   1347.890015   \n",
       "...          ...           ...           ...           ...           ...   \n",
       "1821  2022-04-21  40527.363281  41371.515625  40063.828125  40527.363281   \n",
       "1822  2022-04-22  39740.320312  40525.863281  39315.417969  39740.320312   \n",
       "1823  2022-04-23  39486.730469  39738.722656  39352.203125  39486.730469   \n",
       "1824  2022-04-24  39469.292969  39478.375000  39233.539062  39469.292969   \n",
       "1825  2022-04-25  40458.308594  39472.605469  38338.378906  40458.308594   \n",
       "\n",
       "               Low       Volume  \n",
       "0      1265.989990    329631008  \n",
       "1      1281.880005    449196992  \n",
       "2      1317.739990    527488992  \n",
       "3      1317.839966    422705984  \n",
       "4      1321.869995    413115008  \n",
       "...            ...          ...  \n",
       "1821  41371.515625  35372786395  \n",
       "1822  40525.863281  28011716745  \n",
       "1823  39738.722656  16138021249  \n",
       "1824  39478.375000  17964398167  \n",
       "1825  39472.605469  35445730570  \n",
       "\n",
       "[1826 rows x 7 columns]"
      ]
     },
     "execution_count": 31,
     "metadata": {},
     "output_type": "execute_result"
    }
   ],
   "source": [
    "BTC"
   ]
  },
  {
   "cell_type": "markdown",
   "id": "0af6a81d",
   "metadata": {},
   "source": [
    "### Preprocessing"
   ]
  },
  {
   "cell_type": "code",
   "execution_count": 72,
   "id": "f89e221c",
   "metadata": {},
   "outputs": [],
   "source": [
    "bitcoindf = BTC.copy()\n",
    "bitcoindf = bitcoindf.rename(columns={'Date': 'date','Open':'open','High':'high','Low':'low','Close':'close',\n",
    "                                'Adj Close':'adj_close','Volume':'volume'})"
   ]
  },
  {
   "cell_type": "code",
   "execution_count": 73,
   "id": "716d590c",
   "metadata": {},
   "outputs": [
    {
     "data": {
      "text/html": [
       "<style  type=\"text/css\" >\n",
       "#T_d8cb4_row0_col0,#T_d8cb4_row0_col1,#T_d8cb4_row1_col0,#T_d8cb4_row1_col1,#T_d8cb4_row2_col0,#T_d8cb4_row2_col1,#T_d8cb4_row3_col0,#T_d8cb4_row3_col1,#T_d8cb4_row4_col0,#T_d8cb4_row4_col1{\n",
       "            background-color:  skyblue;\n",
       "        }</style><table id=\"T_d8cb4_\" ><thead>    <tr>        <th class=\"blank level0\" ></th>        <th class=\"col_heading level0 col0\" >date</th>        <th class=\"col_heading level0 col1\" >close</th>        <th class=\"col_heading level0 col2\" >Adj_Close</th>        <th class=\"col_heading level0 col3\" >open</th>        <th class=\"col_heading level0 col4\" >high</th>        <th class=\"col_heading level0 col5\" >low</th>        <th class=\"col_heading level0 col6\" >volume</th>        <th class=\"col_heading level0 col7\" >volume_adi</th>        <th class=\"col_heading level0 col8\" >volume_obv</th>        <th class=\"col_heading level0 col9\" >volume_cmf</th>        <th class=\"col_heading level0 col10\" >volume_fi</th>        <th class=\"col_heading level0 col11\" >volume_em</th>        <th class=\"col_heading level0 col12\" >volume_sma_em</th>        <th class=\"col_heading level0 col13\" >volume_vpt</th>        <th class=\"col_heading level0 col14\" >volume_vwap</th>        <th class=\"col_heading level0 col15\" >volume_mfi</th>        <th class=\"col_heading level0 col16\" >volume_nvi</th>        <th class=\"col_heading level0 col17\" >volatility_bbm</th>        <th class=\"col_heading level0 col18\" >volatility_bbh</th>        <th class=\"col_heading level0 col19\" >volatility_bbl</th>        <th class=\"col_heading level0 col20\" >volatility_bbw</th>        <th class=\"col_heading level0 col21\" >volatility_bbp</th>        <th class=\"col_heading level0 col22\" >volatility_bbhi</th>        <th class=\"col_heading level0 col23\" >volatility_bbli</th>        <th class=\"col_heading level0 col24\" >volatility_kcc</th>        <th class=\"col_heading level0 col25\" >volatility_kch</th>        <th class=\"col_heading level0 col26\" >volatility_kcl</th>        <th class=\"col_heading level0 col27\" >volatility_kcw</th>        <th class=\"col_heading level0 col28\" >volatility_kcp</th>        <th class=\"col_heading level0 col29\" >volatility_kchi</th>        <th class=\"col_heading level0 col30\" >volatility_kcli</th>        <th class=\"col_heading level0 col31\" >volatility_dcl</th>        <th class=\"col_heading level0 col32\" >volatility_dch</th>        <th class=\"col_heading level0 col33\" >volatility_dcm</th>        <th class=\"col_heading level0 col34\" >volatility_dcw</th>        <th class=\"col_heading level0 col35\" >volatility_dcp</th>        <th class=\"col_heading level0 col36\" >volatility_atr</th>        <th class=\"col_heading level0 col37\" >volatility_ui</th>        <th class=\"col_heading level0 col38\" >trend_macd</th>        <th class=\"col_heading level0 col39\" >trend_macd_signal</th>        <th class=\"col_heading level0 col40\" >trend_macd_diff</th>        <th class=\"col_heading level0 col41\" >trend_sma_fast</th>        <th class=\"col_heading level0 col42\" >trend_sma_slow</th>        <th class=\"col_heading level0 col43\" >trend_ema_fast</th>        <th class=\"col_heading level0 col44\" >trend_ema_slow</th>        <th class=\"col_heading level0 col45\" >trend_vortex_ind_pos</th>        <th class=\"col_heading level0 col46\" >trend_vortex_ind_neg</th>        <th class=\"col_heading level0 col47\" >trend_vortex_ind_diff</th>        <th class=\"col_heading level0 col48\" >trend_trix</th>        <th class=\"col_heading level0 col49\" >trend_mass_index</th>        <th class=\"col_heading level0 col50\" >trend_dpo</th>        <th class=\"col_heading level0 col51\" >trend_kst</th>        <th class=\"col_heading level0 col52\" >trend_kst_sig</th>        <th class=\"col_heading level0 col53\" >trend_kst_diff</th>        <th class=\"col_heading level0 col54\" >trend_ichimoku_conv</th>        <th class=\"col_heading level0 col55\" >trend_ichimoku_base</th>        <th class=\"col_heading level0 col56\" >trend_ichimoku_a</th>        <th class=\"col_heading level0 col57\" >trend_ichimoku_b</th>        <th class=\"col_heading level0 col58\" >trend_stc</th>        <th class=\"col_heading level0 col59\" >trend_adx</th>        <th class=\"col_heading level0 col60\" >trend_adx_pos</th>        <th class=\"col_heading level0 col61\" >trend_adx_neg</th>        <th class=\"col_heading level0 col62\" >trend_cci</th>        <th class=\"col_heading level0 col63\" >trend_visual_ichimoku_a</th>        <th class=\"col_heading level0 col64\" >trend_visual_ichimoku_b</th>        <th class=\"col_heading level0 col65\" >trend_aroon_up</th>        <th class=\"col_heading level0 col66\" >trend_aroon_down</th>        <th class=\"col_heading level0 col67\" >trend_aroon_ind</th>        <th class=\"col_heading level0 col68\" >trend_psar_up</th>        <th class=\"col_heading level0 col69\" >trend_psar_down</th>        <th class=\"col_heading level0 col70\" >trend_psar_up_indicator</th>        <th class=\"col_heading level0 col71\" >trend_psar_down_indicator</th>        <th class=\"col_heading level0 col72\" >momentum_rsi</th>        <th class=\"col_heading level0 col73\" >momentum_stoch_rsi</th>        <th class=\"col_heading level0 col74\" >momentum_stoch_rsi_k</th>        <th class=\"col_heading level0 col75\" >momentum_stoch_rsi_d</th>        <th class=\"col_heading level0 col76\" >momentum_tsi</th>        <th class=\"col_heading level0 col77\" >momentum_uo</th>        <th class=\"col_heading level0 col78\" >momentum_stoch</th>        <th class=\"col_heading level0 col79\" >momentum_stoch_signal</th>        <th class=\"col_heading level0 col80\" >momentum_wr</th>        <th class=\"col_heading level0 col81\" >momentum_ao</th>        <th class=\"col_heading level0 col82\" >momentum_roc</th>        <th class=\"col_heading level0 col83\" >momentum_ppo</th>        <th class=\"col_heading level0 col84\" >momentum_ppo_signal</th>        <th class=\"col_heading level0 col85\" >momentum_ppo_hist</th>        <th class=\"col_heading level0 col86\" >momentum_pvo</th>        <th class=\"col_heading level0 col87\" >momentum_pvo_signal</th>        <th class=\"col_heading level0 col88\" >momentum_pvo_hist</th>        <th class=\"col_heading level0 col89\" >momentum_kama</th>        <th class=\"col_heading level0 col90\" >others_dr</th>        <th class=\"col_heading level0 col91\" >others_dlr</th>        <th class=\"col_heading level0 col92\" >others_cr</th>    </tr></thead><tbody>\n",
       "                <tr>\n",
       "                        <th id=\"T_d8cb4_level0_row0\" class=\"row_heading level0 row0\" >0</th>\n",
       "                        <td id=\"T_d8cb4_row0_col0\" class=\"data row0 col0\" >2017-04-26 00:00:00</td>\n",
       "                        <td id=\"T_d8cb4_row0_col1\" class=\"data row0 col1\" >1281.079956</td>\n",
       "                        <td id=\"T_d8cb4_row0_col2\" class=\"data row0 col2\" >1265.989990</td>\n",
       "                        <td id=\"T_d8cb4_row0_col3\" class=\"data row0 col3\" >1265.930054</td>\n",
       "                        <td id=\"T_d8cb4_row0_col4\" class=\"data row0 col4\" >1281.079956</td>\n",
       "                        <td id=\"T_d8cb4_row0_col5\" class=\"data row0 col5\" >1265.989990</td>\n",
       "                        <td id=\"T_d8cb4_row0_col6\" class=\"data row0 col6\" >329631008</td>\n",
       "                        <td id=\"T_d8cb4_row0_col7\" class=\"data row0 col7\" >329631008.000000</td>\n",
       "                        <td id=\"T_d8cb4_row0_col8\" class=\"data row0 col8\" >329631008</td>\n",
       "                        <td id=\"T_d8cb4_row0_col9\" class=\"data row0 col9\" >1.000000</td>\n",
       "                        <td id=\"T_d8cb4_row0_col10\" class=\"data row0 col10\" >0.000000</td>\n",
       "                        <td id=\"T_d8cb4_row0_col11\" class=\"data row0 col11\" >0.000000</td>\n",
       "                        <td id=\"T_d8cb4_row0_col12\" class=\"data row0 col12\" >0.000000</td>\n",
       "                        <td id=\"T_d8cb4_row0_col13\" class=\"data row0 col13\" >-249484793.277680</td>\n",
       "                        <td id=\"T_d8cb4_row0_col14\" class=\"data row0 col14\" >1276.049967</td>\n",
       "                        <td id=\"T_d8cb4_row0_col15\" class=\"data row0 col15\" >50.000000</td>\n",
       "                        <td id=\"T_d8cb4_row0_col16\" class=\"data row0 col16\" >1000.000000</td>\n",
       "                        <td id=\"T_d8cb4_row0_col17\" class=\"data row0 col17\" >1281.079956</td>\n",
       "                        <td id=\"T_d8cb4_row0_col18\" class=\"data row0 col18\" >1281.079956</td>\n",
       "                        <td id=\"T_d8cb4_row0_col19\" class=\"data row0 col19\" >1281.079956</td>\n",
       "                        <td id=\"T_d8cb4_row0_col20\" class=\"data row0 col20\" >0.000000</td>\n",
       "                        <td id=\"T_d8cb4_row0_col21\" class=\"data row0 col21\" >0.000000</td>\n",
       "                        <td id=\"T_d8cb4_row0_col22\" class=\"data row0 col22\" >0.000000</td>\n",
       "                        <td id=\"T_d8cb4_row0_col23\" class=\"data row0 col23\" >0.000000</td>\n",
       "                        <td id=\"T_d8cb4_row0_col24\" class=\"data row0 col24\" >1276.049967</td>\n",
       "                        <td id=\"T_d8cb4_row0_col25\" class=\"data row0 col25\" >1291.139933</td>\n",
       "                        <td id=\"T_d8cb4_row0_col26\" class=\"data row0 col26\" >1260.960002</td>\n",
       "                        <td id=\"T_d8cb4_row0_col27\" class=\"data row0 col27\" >2.365106</td>\n",
       "                        <td id=\"T_d8cb4_row0_col28\" class=\"data row0 col28\" >0.666667</td>\n",
       "                        <td id=\"T_d8cb4_row0_col29\" class=\"data row0 col29\" >0.000000</td>\n",
       "                        <td id=\"T_d8cb4_row0_col30\" class=\"data row0 col30\" >0.000000</td>\n",
       "                        <td id=\"T_d8cb4_row0_col31\" class=\"data row0 col31\" >1265.989990</td>\n",
       "                        <td id=\"T_d8cb4_row0_col32\" class=\"data row0 col32\" >1281.079956</td>\n",
       "                        <td id=\"T_d8cb4_row0_col33\" class=\"data row0 col33\" >1273.534973</td>\n",
       "                        <td id=\"T_d8cb4_row0_col34\" class=\"data row0 col34\" >1.177910</td>\n",
       "                        <td id=\"T_d8cb4_row0_col35\" class=\"data row0 col35\" >1.000000</td>\n",
       "                        <td id=\"T_d8cb4_row0_col36\" class=\"data row0 col36\" >0.000000</td>\n",
       "                        <td id=\"T_d8cb4_row0_col37\" class=\"data row0 col37\" >0.000000</td>\n",
       "                        <td id=\"T_d8cb4_row0_col38\" class=\"data row0 col38\" >0.000000</td>\n",
       "                        <td id=\"T_d8cb4_row0_col39\" class=\"data row0 col39\" >0.000000</td>\n",
       "                        <td id=\"T_d8cb4_row0_col40\" class=\"data row0 col40\" >0.000000</td>\n",
       "                        <td id=\"T_d8cb4_row0_col41\" class=\"data row0 col41\" >1281.079956</td>\n",
       "                        <td id=\"T_d8cb4_row0_col42\" class=\"data row0 col42\" >1281.079956</td>\n",
       "                        <td id=\"T_d8cb4_row0_col43\" class=\"data row0 col43\" >1281.079956</td>\n",
       "                        <td id=\"T_d8cb4_row0_col44\" class=\"data row0 col44\" >1281.079956</td>\n",
       "                        <td id=\"T_d8cb4_row0_col45\" class=\"data row0 col45\" >0.000000</td>\n",
       "                        <td id=\"T_d8cb4_row0_col46\" class=\"data row0 col46\" >0.000000</td>\n",
       "                        <td id=\"T_d8cb4_row0_col47\" class=\"data row0 col47\" >0.000000</td>\n",
       "                        <td id=\"T_d8cb4_row0_col48\" class=\"data row0 col48\" >-92.713349</td>\n",
       "                        <td id=\"T_d8cb4_row0_col49\" class=\"data row0 col49\" >1.000000</td>\n",
       "                        <td id=\"T_d8cb4_row0_col50\" class=\"data row0 col50\" >16765.017052</td>\n",
       "                        <td id=\"T_d8cb4_row0_col51\" class=\"data row0 col51\" >-929.010691</td>\n",
       "                        <td id=\"T_d8cb4_row0_col52\" class=\"data row0 col52\" >-929.010691</td>\n",
       "                        <td id=\"T_d8cb4_row0_col53\" class=\"data row0 col53\" >0.000000</td>\n",
       "                        <td id=\"T_d8cb4_row0_col54\" class=\"data row0 col54\" >1273.534973</td>\n",
       "                        <td id=\"T_d8cb4_row0_col55\" class=\"data row0 col55\" >1273.534973</td>\n",
       "                        <td id=\"T_d8cb4_row0_col56\" class=\"data row0 col56\" >1273.534973</td>\n",
       "                        <td id=\"T_d8cb4_row0_col57\" class=\"data row0 col57\" >1273.534973</td>\n",
       "                        <td id=\"T_d8cb4_row0_col58\" class=\"data row0 col58\" >0.000000</td>\n",
       "                        <td id=\"T_d8cb4_row0_col59\" class=\"data row0 col59\" >0.000000</td>\n",
       "                        <td id=\"T_d8cb4_row0_col60\" class=\"data row0 col60\" >0.000000</td>\n",
       "                        <td id=\"T_d8cb4_row0_col61\" class=\"data row0 col61\" >0.000000</td>\n",
       "                        <td id=\"T_d8cb4_row0_col62\" class=\"data row0 col62\" >0.000000</td>\n",
       "                        <td id=\"T_d8cb4_row0_col63\" class=\"data row0 col63\" >17896.031352</td>\n",
       "                        <td id=\"T_d8cb4_row0_col64\" class=\"data row0 col64\" >17654.510580</td>\n",
       "                        <td id=\"T_d8cb4_row0_col65\" class=\"data row0 col65\" >4.000000</td>\n",
       "                        <td id=\"T_d8cb4_row0_col66\" class=\"data row0 col66\" >4.000000</td>\n",
       "                        <td id=\"T_d8cb4_row0_col67\" class=\"data row0 col67\" >0.000000</td>\n",
       "                        <td id=\"T_d8cb4_row0_col68\" class=\"data row0 col68\" >1265.989990</td>\n",
       "                        <td id=\"T_d8cb4_row0_col69\" class=\"data row0 col69\" >1848.569946</td>\n",
       "                        <td id=\"T_d8cb4_row0_col70\" class=\"data row0 col70\" >0.000000</td>\n",
       "                        <td id=\"T_d8cb4_row0_col71\" class=\"data row0 col71\" >0.000000</td>\n",
       "                        <td id=\"T_d8cb4_row0_col72\" class=\"data row0 col72\" >100.000000</td>\n",
       "                        <td id=\"T_d8cb4_row0_col73\" class=\"data row0 col73\" >0.000000</td>\n",
       "                        <td id=\"T_d8cb4_row0_col74\" class=\"data row0 col74\" >0.000000</td>\n",
       "                        <td id=\"T_d8cb4_row0_col75\" class=\"data row0 col75\" >0.000000</td>\n",
       "                        <td id=\"T_d8cb4_row0_col76\" class=\"data row0 col76\" >0.000000</td>\n",
       "                        <td id=\"T_d8cb4_row0_col77\" class=\"data row0 col77\" >0.000000</td>\n",
       "                        <td id=\"T_d8cb4_row0_col78\" class=\"data row0 col78\" >100.000000</td>\n",
       "                        <td id=\"T_d8cb4_row0_col79\" class=\"data row0 col79\" >100.000000</td>\n",
       "                        <td id=\"T_d8cb4_row0_col80\" class=\"data row0 col80\" >-0.000000</td>\n",
       "                        <td id=\"T_d8cb4_row0_col81\" class=\"data row0 col81\" >0.000000</td>\n",
       "                        <td id=\"T_d8cb4_row0_col82\" class=\"data row0 col82\" >0.000000</td>\n",
       "                        <td id=\"T_d8cb4_row0_col83\" class=\"data row0 col83\" >0.000000</td>\n",
       "                        <td id=\"T_d8cb4_row0_col84\" class=\"data row0 col84\" >0.000000</td>\n",
       "                        <td id=\"T_d8cb4_row0_col85\" class=\"data row0 col85\" >0.000000</td>\n",
       "                        <td id=\"T_d8cb4_row0_col86\" class=\"data row0 col86\" >0.000000</td>\n",
       "                        <td id=\"T_d8cb4_row0_col87\" class=\"data row0 col87\" >0.000000</td>\n",
       "                        <td id=\"T_d8cb4_row0_col88\" class=\"data row0 col88\" >0.000000</td>\n",
       "                        <td id=\"T_d8cb4_row0_col89\" class=\"data row0 col89\" >1281.079956</td>\n",
       "                        <td id=\"T_d8cb4_row0_col90\" class=\"data row0 col90\" >-92.901069</td>\n",
       "                        <td id=\"T_d8cb4_row0_col91\" class=\"data row0 col91\" >0.000000</td>\n",
       "                        <td id=\"T_d8cb4_row0_col92\" class=\"data row0 col92\" >0.000000</td>\n",
       "            </tr>\n",
       "            <tr>\n",
       "                        <th id=\"T_d8cb4_level0_row1\" class=\"row_heading level0 row1\" >1</th>\n",
       "                        <td id=\"T_d8cb4_row1_col0\" class=\"data row1 col0\" >2017-04-27 00:00:00</td>\n",
       "                        <td id=\"T_d8cb4_row1_col1\" class=\"data row1 col1\" >1317.729980</td>\n",
       "                        <td id=\"T_d8cb4_row1_col2\" class=\"data row1 col2\" >1281.880005</td>\n",
       "                        <td id=\"T_d8cb4_row1_col3\" class=\"data row1 col3\" >1281.300049</td>\n",
       "                        <td id=\"T_d8cb4_row1_col4\" class=\"data row1 col4\" >1317.729980</td>\n",
       "                        <td id=\"T_d8cb4_row1_col5\" class=\"data row1 col5\" >1281.880005</td>\n",
       "                        <td id=\"T_d8cb4_row1_col6\" class=\"data row1 col6\" >449196992</td>\n",
       "                        <td id=\"T_d8cb4_row1_col7\" class=\"data row1 col7\" >778828000.000000</td>\n",
       "                        <td id=\"T_d8cb4_row1_col8\" class=\"data row1 col8\" >778828000</td>\n",
       "                        <td id=\"T_d8cb4_row1_col9\" class=\"data row1 col9\" >1.000000</td>\n",
       "                        <td id=\"T_d8cb4_row1_col10\" class=\"data row1 col10\" >16463080723.523438</td>\n",
       "                        <td id=\"T_d8cb4_row1_col11\" class=\"data row1 col11\" >209.658474</td>\n",
       "                        <td id=\"T_d8cb4_row1_col12\" class=\"data row1 col12\" >209.658474</td>\n",
       "                        <td id=\"T_d8cb4_row1_col13\" class=\"data row1 col13\" >-293379791.253526</td>\n",
       "                        <td id=\"T_d8cb4_row1_col14\" class=\"data row1 col14\" >1293.197060</td>\n",
       "                        <td id=\"T_d8cb4_row1_col15\" class=\"data row1 col15\" >100.000000</td>\n",
       "                        <td id=\"T_d8cb4_row1_col16\" class=\"data row1 col16\" >1000.000000</td>\n",
       "                        <td id=\"T_d8cb4_row1_col17\" class=\"data row1 col17\" >1299.404968</td>\n",
       "                        <td id=\"T_d8cb4_row1_col18\" class=\"data row1 col18\" >1336.054993</td>\n",
       "                        <td id=\"T_d8cb4_row1_col19\" class=\"data row1 col19\" >1262.754944</td>\n",
       "                        <td id=\"T_d8cb4_row1_col20\" class=\"data row1 col20\" >5.641047</td>\n",
       "                        <td id=\"T_d8cb4_row1_col21\" class=\"data row1 col21\" >0.750000</td>\n",
       "                        <td id=\"T_d8cb4_row1_col22\" class=\"data row1 col22\" >0.000000</td>\n",
       "                        <td id=\"T_d8cb4_row1_col23\" class=\"data row1 col23\" >0.000000</td>\n",
       "                        <td id=\"T_d8cb4_row1_col24\" class=\"data row1 col24\" >1290.914978</td>\n",
       "                        <td id=\"T_d8cb4_row1_col25\" class=\"data row1 col25\" >1316.384949</td>\n",
       "                        <td id=\"T_d8cb4_row1_col26\" class=\"data row1 col26\" >1265.445007</td>\n",
       "                        <td id=\"T_d8cb4_row1_col27\" class=\"data row1 col27\" >3.946034</td>\n",
       "                        <td id=\"T_d8cb4_row1_col28\" class=\"data row1 col28\" >1.026404</td>\n",
       "                        <td id=\"T_d8cb4_row1_col29\" class=\"data row1 col29\" >1.000000</td>\n",
       "                        <td id=\"T_d8cb4_row1_col30\" class=\"data row1 col30\" >0.000000</td>\n",
       "                        <td id=\"T_d8cb4_row1_col31\" class=\"data row1 col31\" >1265.989990</td>\n",
       "                        <td id=\"T_d8cb4_row1_col32\" class=\"data row1 col32\" >1317.729980</td>\n",
       "                        <td id=\"T_d8cb4_row1_col33\" class=\"data row1 col33\" >1291.859985</td>\n",
       "                        <td id=\"T_d8cb4_row1_col34\" class=\"data row1 col34\" >3.981822</td>\n",
       "                        <td id=\"T_d8cb4_row1_col35\" class=\"data row1 col35\" >1.000000</td>\n",
       "                        <td id=\"T_d8cb4_row1_col36\" class=\"data row1 col36\" >0.000000</td>\n",
       "                        <td id=\"T_d8cb4_row1_col37\" class=\"data row1 col37\" >0.000000</td>\n",
       "                        <td id=\"T_d8cb4_row1_col38\" class=\"data row1 col38\" >2.923649</td>\n",
       "                        <td id=\"T_d8cb4_row1_col39\" class=\"data row1 col39\" >0.584730</td>\n",
       "                        <td id=\"T_d8cb4_row1_col40\" class=\"data row1 col40\" >2.338919</td>\n",
       "                        <td id=\"T_d8cb4_row1_col41\" class=\"data row1 col41\" >1299.404968</td>\n",
       "                        <td id=\"T_d8cb4_row1_col42\" class=\"data row1 col42\" >1299.404968</td>\n",
       "                        <td id=\"T_d8cb4_row1_col43\" class=\"data row1 col43\" >1286.718421</td>\n",
       "                        <td id=\"T_d8cb4_row1_col44\" class=\"data row1 col44\" >1283.794773</td>\n",
       "                        <td id=\"T_d8cb4_row1_col45\" class=\"data row1 col45\" >0.003077</td>\n",
       "                        <td id=\"T_d8cb4_row1_col46\" class=\"data row1 col46\" >0.000048</td>\n",
       "                        <td id=\"T_d8cb4_row1_col47\" class=\"data row1 col47\" >0.003029</td>\n",
       "                        <td id=\"T_d8cb4_row1_col48\" class=\"data row1 col48\" >0.005588</td>\n",
       "                        <td id=\"T_d8cb4_row1_col49\" class=\"data row1 col49\" >2.208639</td>\n",
       "                        <td id=\"T_d8cb4_row1_col50\" class=\"data row1 col50\" >16746.692040</td>\n",
       "                        <td id=\"T_d8cb4_row1_col51\" class=\"data row1 col51\" >-927.995235</td>\n",
       "                        <td id=\"T_d8cb4_row1_col52\" class=\"data row1 col52\" >-928.502963</td>\n",
       "                        <td id=\"T_d8cb4_row1_col53\" class=\"data row1 col53\" >0.507728</td>\n",
       "                        <td id=\"T_d8cb4_row1_col54\" class=\"data row1 col54\" >1291.859985</td>\n",
       "                        <td id=\"T_d8cb4_row1_col55\" class=\"data row1 col55\" >1291.859985</td>\n",
       "                        <td id=\"T_d8cb4_row1_col56\" class=\"data row1 col56\" >1291.859985</td>\n",
       "                        <td id=\"T_d8cb4_row1_col57\" class=\"data row1 col57\" >1291.859985</td>\n",
       "                        <td id=\"T_d8cb4_row1_col58\" class=\"data row1 col58\" >0.000000</td>\n",
       "                        <td id=\"T_d8cb4_row1_col59\" class=\"data row1 col59\" >0.000000</td>\n",
       "                        <td id=\"T_d8cb4_row1_col60\" class=\"data row1 col60\" >0.000000</td>\n",
       "                        <td id=\"T_d8cb4_row1_col61\" class=\"data row1 col61\" >0.000000</td>\n",
       "                        <td id=\"T_d8cb4_row1_col62\" class=\"data row1 col62\" >66.666667</td>\n",
       "                        <td id=\"T_d8cb4_row1_col63\" class=\"data row1 col63\" >17896.031352</td>\n",
       "                        <td id=\"T_d8cb4_row1_col64\" class=\"data row1 col64\" >17654.510580</td>\n",
       "                        <td id=\"T_d8cb4_row1_col65\" class=\"data row1 col65\" >8.000000</td>\n",
       "                        <td id=\"T_d8cb4_row1_col66\" class=\"data row1 col66\" >4.000000</td>\n",
       "                        <td id=\"T_d8cb4_row1_col67\" class=\"data row1 col67\" >4.000000</td>\n",
       "                        <td id=\"T_d8cb4_row1_col68\" class=\"data row1 col68\" >1265.989990</td>\n",
       "                        <td id=\"T_d8cb4_row1_col69\" class=\"data row1 col69\" >1848.569946</td>\n",
       "                        <td id=\"T_d8cb4_row1_col70\" class=\"data row1 col70\" >0.000000</td>\n",
       "                        <td id=\"T_d8cb4_row1_col71\" class=\"data row1 col71\" >0.000000</td>\n",
       "                        <td id=\"T_d8cb4_row1_col72\" class=\"data row1 col72\" >100.000000</td>\n",
       "                        <td id=\"T_d8cb4_row1_col73\" class=\"data row1 col73\" >0.000000</td>\n",
       "                        <td id=\"T_d8cb4_row1_col74\" class=\"data row1 col74\" >0.000000</td>\n",
       "                        <td id=\"T_d8cb4_row1_col75\" class=\"data row1 col75\" >0.000000</td>\n",
       "                        <td id=\"T_d8cb4_row1_col76\" class=\"data row1 col76\" >100.000000</td>\n",
       "                        <td id=\"T_d8cb4_row1_col77\" class=\"data row1 col77\" >70.835005</td>\n",
       "                        <td id=\"T_d8cb4_row1_col78\" class=\"data row1 col78\" >100.000000</td>\n",
       "                        <td id=\"T_d8cb4_row1_col79\" class=\"data row1 col79\" >100.000000</td>\n",
       "                        <td id=\"T_d8cb4_row1_col80\" class=\"data row1 col80\" >-0.000000</td>\n",
       "                        <td id=\"T_d8cb4_row1_col81\" class=\"data row1 col81\" >0.000000</td>\n",
       "                        <td id=\"T_d8cb4_row1_col82\" class=\"data row1 col82\" >0.000000</td>\n",
       "                        <td id=\"T_d8cb4_row1_col83\" class=\"data row1 col83\" >0.227735</td>\n",
       "                        <td id=\"T_d8cb4_row1_col84\" class=\"data row1 col84\" >0.045547</td>\n",
       "                        <td id=\"T_d8cb4_row1_col85\" class=\"data row1 col85\" >0.182188</td>\n",
       "                        <td id=\"T_d8cb4_row1_col86\" class=\"data row1 col86\" >2.817835</td>\n",
       "                        <td id=\"T_d8cb4_row1_col87\" class=\"data row1 col87\" >0.563567</td>\n",
       "                        <td id=\"T_d8cb4_row1_col88\" class=\"data row1 col88\" >2.254268</td>\n",
       "                        <td id=\"T_d8cb4_row1_col89\" class=\"data row1 col89\" >1296.763294</td>\n",
       "                        <td id=\"T_d8cb4_row1_col90\" class=\"data row1 col90\" >2.860869</td>\n",
       "                        <td id=\"T_d8cb4_row1_col91\" class=\"data row1 col91\" >2.820711</td>\n",
       "                        <td id=\"T_d8cb4_row1_col92\" class=\"data row1 col92\" >2.860869</td>\n",
       "            </tr>\n",
       "            <tr>\n",
       "                        <th id=\"T_d8cb4_level0_row2\" class=\"row_heading level0 row2\" >2</th>\n",
       "                        <td id=\"T_d8cb4_row2_col0\" class=\"data row2 col0\" >2017-04-28 00:00:00</td>\n",
       "                        <td id=\"T_d8cb4_row2_col1\" class=\"data row2 col1\" >1316.479980</td>\n",
       "                        <td id=\"T_d8cb4_row2_col2\" class=\"data row2 col2\" >1317.739990</td>\n",
       "                        <td id=\"T_d8cb4_row2_col3\" class=\"data row2 col3\" >1292.369995</td>\n",
       "                        <td id=\"T_d8cb4_row2_col4\" class=\"data row2 col4\" >1316.479980</td>\n",
       "                        <td id=\"T_d8cb4_row2_col5\" class=\"data row2 col5\" >1317.739990</td>\n",
       "                        <td id=\"T_d8cb4_row2_col6\" class=\"data row2 col6\" >527488992</td>\n",
       "                        <td id=\"T_d8cb4_row2_col7\" class=\"data row2 col7\" >1306316992.000000</td>\n",
       "                        <td id=\"T_d8cb4_row2_col8\" class=\"data row2 col8\" >251339008</td>\n",
       "                        <td id=\"T_d8cb4_row2_col9\" class=\"data row2 col9\" >1.000000</td>\n",
       "                        <td id=\"T_d8cb4_row2_col10\" class=\"data row2 col10\" >14017017585.877234</td>\n",
       "                        <td id=\"T_d8cb4_row2_col11\" class=\"data row2 col11\" >-4.133633</td>\n",
       "                        <td id=\"T_d8cb4_row2_col12\" class=\"data row2 col12\" >102.762420</td>\n",
       "                        <td id=\"T_d8cb4_row2_col13\" class=\"data row2 col13\" >12350562.682014</td>\n",
       "                        <td id=\"T_d8cb4_row2_col14\" class=\"data row2 col14\" >1302.768268</td>\n",
       "                        <td id=\"T_d8cb4_row2_col15\" class=\"data row2 col15\" >100.000000</td>\n",
       "                        <td id=\"T_d8cb4_row2_col16\" class=\"data row2 col16\" >1000.000000</td>\n",
       "                        <td id=\"T_d8cb4_row2_col17\" class=\"data row2 col17\" >1305.096639</td>\n",
       "                        <td id=\"T_d8cb4_row2_col18\" class=\"data row2 col18\" >1339.076689</td>\n",
       "                        <td id=\"T_d8cb4_row2_col19\" class=\"data row2 col19\" >1271.116589</td>\n",
       "                        <td id=\"T_d8cb4_row2_col20\" class=\"data row2 col20\" >5.207285</td>\n",
       "                        <td id=\"T_d8cb4_row2_col21\" class=\"data row2 col21\" >0.667500</td>\n",
       "                        <td id=\"T_d8cb4_row2_col22\" class=\"data row2 col22\" >0.000000</td>\n",
       "                        <td id=\"T_d8cb4_row2_col23\" class=\"data row2 col23\" >0.000000</td>\n",
       "                        <td id=\"T_d8cb4_row2_col24\" class=\"data row2 col24\" >1299.576647</td>\n",
       "                        <td id=\"T_d8cb4_row2_col25\" class=\"data row2 col25\" >1316.136624</td>\n",
       "                        <td id=\"T_d8cb4_row2_col26\" class=\"data row2 col26\" >1283.016669</td>\n",
       "                        <td id=\"T_d8cb4_row2_col27\" class=\"data row2 col27\" >2.548519</td>\n",
       "                        <td id=\"T_d8cb4_row2_col28\" class=\"data row2 col28\" >1.010367</td>\n",
       "                        <td id=\"T_d8cb4_row2_col29\" class=\"data row2 col29\" >1.000000</td>\n",
       "                        <td id=\"T_d8cb4_row2_col30\" class=\"data row2 col30\" >0.000000</td>\n",
       "                        <td id=\"T_d8cb4_row2_col31\" class=\"data row2 col31\" >1265.989990</td>\n",
       "                        <td id=\"T_d8cb4_row2_col32\" class=\"data row2 col32\" >1317.729980</td>\n",
       "                        <td id=\"T_d8cb4_row2_col33\" class=\"data row2 col33\" >1291.859985</td>\n",
       "                        <td id=\"T_d8cb4_row2_col34\" class=\"data row2 col34\" >3.964457</td>\n",
       "                        <td id=\"T_d8cb4_row2_col35\" class=\"data row2 col35\" >0.975841</td>\n",
       "                        <td id=\"T_d8cb4_row2_col36\" class=\"data row2 col36\" >0.000000</td>\n",
       "                        <td id=\"T_d8cb4_row2_col37\" class=\"data row2 col37\" >0.000000</td>\n",
       "                        <td id=\"T_d8cb4_row2_col38\" class=\"data row2 col38\" >5.081224</td>\n",
       "                        <td id=\"T_d8cb4_row2_col39\" class=\"data row2 col39\" >1.484029</td>\n",
       "                        <td id=\"T_d8cb4_row2_col40\" class=\"data row2 col40\" >3.597195</td>\n",
       "                        <td id=\"T_d8cb4_row2_col41\" class=\"data row2 col41\" >1305.096639</td>\n",
       "                        <td id=\"T_d8cb4_row2_col42\" class=\"data row2 col42\" >1305.096639</td>\n",
       "                        <td id=\"T_d8cb4_row2_col43\" class=\"data row2 col43\" >1291.297123</td>\n",
       "                        <td id=\"T_d8cb4_row2_col44\" class=\"data row2 col44\" >1286.215899</td>\n",
       "                        <td id=\"T_d8cb4_row2_col45\" class=\"data row2 col45\" >0.005134</td>\n",
       "                        <td id=\"T_d8cb4_row2_col46\" class=\"data row2 col46\" >0.000048</td>\n",
       "                        <td id=\"T_d8cb4_row2_col47\" class=\"data row2 col47\" >0.005086</td>\n",
       "                        <td id=\"T_d8cb4_row2_col48\" class=\"data row2 col48\" >0.014476</td>\n",
       "                        <td id=\"T_d8cb4_row2_col49\" class=\"data row2 col49\" >3.169117</td>\n",
       "                        <td id=\"T_d8cb4_row2_col50\" class=\"data row2 col50\" >16741.000369</td>\n",
       "                        <td id=\"T_d8cb4_row2_col51\" class=\"data row2 col51\" >-927.679839</td>\n",
       "                        <td id=\"T_d8cb4_row2_col52\" class=\"data row2 col52\" >-928.228588</td>\n",
       "                        <td id=\"T_d8cb4_row2_col53\" class=\"data row2 col53\" >0.548749</td>\n",
       "                        <td id=\"T_d8cb4_row2_col54\" class=\"data row2 col54\" >1291.859985</td>\n",
       "                        <td id=\"T_d8cb4_row2_col55\" class=\"data row2 col55\" >1291.859985</td>\n",
       "                        <td id=\"T_d8cb4_row2_col56\" class=\"data row2 col56\" >1291.859985</td>\n",
       "                        <td id=\"T_d8cb4_row2_col57\" class=\"data row2 col57\" >1291.859985</td>\n",
       "                        <td id=\"T_d8cb4_row2_col58\" class=\"data row2 col58\" >0.000000</td>\n",
       "                        <td id=\"T_d8cb4_row2_col59\" class=\"data row2 col59\" >0.000000</td>\n",
       "                        <td id=\"T_d8cb4_row2_col60\" class=\"data row2 col60\" >0.000000</td>\n",
       "                        <td id=\"T_d8cb4_row2_col61\" class=\"data row2 col61\" >0.000000</td>\n",
       "                        <td id=\"T_d8cb4_row2_col62\" class=\"data row2 col62\" >73.632734</td>\n",
       "                        <td id=\"T_d8cb4_row2_col63\" class=\"data row2 col63\" >17896.031352</td>\n",
       "                        <td id=\"T_d8cb4_row2_col64\" class=\"data row2 col64\" >17654.510580</td>\n",
       "                        <td id=\"T_d8cb4_row2_col65\" class=\"data row2 col65\" >8.000000</td>\n",
       "                        <td id=\"T_d8cb4_row2_col66\" class=\"data row2 col66\" >4.000000</td>\n",
       "                        <td id=\"T_d8cb4_row2_col67\" class=\"data row2 col67\" >4.000000</td>\n",
       "                        <td id=\"T_d8cb4_row2_col68\" class=\"data row2 col68\" >1265.989990</td>\n",
       "                        <td id=\"T_d8cb4_row2_col69\" class=\"data row2 col69\" >1848.569946</td>\n",
       "                        <td id=\"T_d8cb4_row2_col70\" class=\"data row2 col70\" >1.000000</td>\n",
       "                        <td id=\"T_d8cb4_row2_col71\" class=\"data row2 col71\" >0.000000</td>\n",
       "                        <td id=\"T_d8cb4_row2_col72\" class=\"data row2 col72\" >96.457134</td>\n",
       "                        <td id=\"T_d8cb4_row2_col73\" class=\"data row2 col73\" >0.000000</td>\n",
       "                        <td id=\"T_d8cb4_row2_col74\" class=\"data row2 col74\" >0.000000</td>\n",
       "                        <td id=\"T_d8cb4_row2_col75\" class=\"data row2 col75\" >0.000000</td>\n",
       "                        <td id=\"T_d8cb4_row2_col76\" class=\"data row2 col76\" >99.924237</td>\n",
       "                        <td id=\"T_d8cb4_row2_col77\" class=\"data row2 col77\" >66.805116</td>\n",
       "                        <td id=\"T_d8cb4_row2_col78\" class=\"data row2 col78\" >97.584074</td>\n",
       "                        <td id=\"T_d8cb4_row2_col79\" class=\"data row2 col79\" >99.194691</td>\n",
       "                        <td id=\"T_d8cb4_row2_col80\" class=\"data row2 col80\" >-2.415926</td>\n",
       "                        <td id=\"T_d8cb4_row2_col81\" class=\"data row2 col81\" >0.000000</td>\n",
       "                        <td id=\"T_d8cb4_row2_col82\" class=\"data row2 col82\" >0.000000</td>\n",
       "                        <td id=\"T_d8cb4_row2_col83\" class=\"data row2 col83\" >0.395052</td>\n",
       "                        <td id=\"T_d8cb4_row2_col84\" class=\"data row2 col84\" >0.115448</td>\n",
       "                        <td id=\"T_d8cb4_row2_col85\" class=\"data row2 col85\" >0.279604</td>\n",
       "                        <td id=\"T_d8cb4_row2_col86\" class=\"data row2 col86\" >6.566939</td>\n",
       "                        <td id=\"T_d8cb4_row2_col87\" class=\"data row2 col87\" >1.764241</td>\n",
       "                        <td id=\"T_d8cb4_row2_col88\" class=\"data row2 col88\" >4.802697</td>\n",
       "                        <td id=\"T_d8cb4_row2_col89\" class=\"data row2 col89\" >1305.645592</td>\n",
       "                        <td id=\"T_d8cb4_row2_col90\" class=\"data row2 col90\" >-0.094860</td>\n",
       "                        <td id=\"T_d8cb4_row2_col91\" class=\"data row2 col91\" >-0.094905</td>\n",
       "                        <td id=\"T_d8cb4_row2_col92\" class=\"data row2 col92\" >2.763295</td>\n",
       "            </tr>\n",
       "            <tr>\n",
       "                        <th id=\"T_d8cb4_level0_row3\" class=\"row_heading level0 row3\" >3</th>\n",
       "                        <td id=\"T_d8cb4_row3_col0\" class=\"data row3 col0\" >2017-04-29 00:00:00</td>\n",
       "                        <td id=\"T_d8cb4_row3_col1\" class=\"data row3 col1\" >1321.790039</td>\n",
       "                        <td id=\"T_d8cb4_row3_col2\" class=\"data row3 col2\" >1317.839966</td>\n",
       "                        <td id=\"T_d8cb4_row3_col3\" class=\"data row3 col3\" >1315.209961</td>\n",
       "                        <td id=\"T_d8cb4_row3_col4\" class=\"data row3 col4\" >1321.790039</td>\n",
       "                        <td id=\"T_d8cb4_row3_col5\" class=\"data row3 col5\" >1317.839966</td>\n",
       "                        <td id=\"T_d8cb4_row3_col6\" class=\"data row3 col6\" >422705984</td>\n",
       "                        <td id=\"T_d8cb4_row3_col7\" class=\"data row3 col7\" >1729022976.000000</td>\n",
       "                        <td id=\"T_d8cb4_row3_col8\" class=\"data row3 col8\" >674044992</td>\n",
       "                        <td id=\"T_d8cb4_row3_col9\" class=\"data row3 col9\" >1.000000</td>\n",
       "                        <td id=\"T_d8cb4_row3_col10\" class=\"data row3 col10\" >12335242722.604593</td>\n",
       "                        <td id=\"T_d8cb4_row3_col11\" class=\"data row3 col11\" >2.527765</td>\n",
       "                        <td id=\"T_d8cb4_row3_col12\" class=\"data row3 col12\" >69.350869</td>\n",
       "                        <td id=\"T_d8cb4_row3_col13\" class=\"data row3 col13\" >1204619.741462</td>\n",
       "                        <td id=\"T_d8cb4_row3_col14\" class=\"data row3 col14\" >1307.096749</td>\n",
       "                        <td id=\"T_d8cb4_row3_col15\" class=\"data row3 col15\" >100.000000</td>\n",
       "                        <td id=\"T_d8cb4_row3_col16\" class=\"data row3 col16\" >1004.033528</td>\n",
       "                        <td id=\"T_d8cb4_row3_col17\" class=\"data row3 col17\" >1309.269989</td>\n",
       "                        <td id=\"T_d8cb4_row3_col18\" class=\"data row3 col18\" >1342.056954</td>\n",
       "                        <td id=\"T_d8cb4_row3_col19\" class=\"data row3 col19\" >1276.483024</td>\n",
       "                        <td id=\"T_d8cb4_row3_col20\" class=\"data row3 col20\" >5.008434</td>\n",
       "                        <td id=\"T_d8cb4_row3_col21\" class=\"data row3 col21\" >0.690930</td>\n",
       "                        <td id=\"T_d8cb4_row3_col22\" class=\"data row3 col22\" >0.000000</td>\n",
       "                        <td id=\"T_d8cb4_row3_col23\" class=\"data row3 col23\" >0.000000</td>\n",
       "                        <td id=\"T_d8cb4_row3_col24\" class=\"data row3 col24\" >1304.800822</td>\n",
       "                        <td id=\"T_d8cb4_row3_col25\" class=\"data row3 col25\" >1318.208323</td>\n",
       "                        <td id=\"T_d8cb4_row3_col26\" class=\"data row3 col26\" >1291.393321</td>\n",
       "                        <td id=\"T_d8cb4_row3_col27\" class=\"data row3 col27\" >2.055103</td>\n",
       "                        <td id=\"T_d8cb4_row3_col28\" class=\"data row3 col28\" >1.133571</td>\n",
       "                        <td id=\"T_d8cb4_row3_col29\" class=\"data row3 col29\" >1.000000</td>\n",
       "                        <td id=\"T_d8cb4_row3_col30\" class=\"data row3 col30\" >0.000000</td>\n",
       "                        <td id=\"T_d8cb4_row3_col31\" class=\"data row3 col31\" >1265.989990</td>\n",
       "                        <td id=\"T_d8cb4_row3_col32\" class=\"data row3 col32\" >1321.790039</td>\n",
       "                        <td id=\"T_d8cb4_row3_col33\" class=\"data row3 col33\" >1293.890015</td>\n",
       "                        <td id=\"T_d8cb4_row3_col34\" class=\"data row3 col34\" >4.261921</td>\n",
       "                        <td id=\"T_d8cb4_row3_col35\" class=\"data row3 col35\" >1.000000</td>\n",
       "                        <td id=\"T_d8cb4_row3_col36\" class=\"data row3 col36\" >0.000000</td>\n",
       "                        <td id=\"T_d8cb4_row3_col37\" class=\"data row3 col37\" >0.000000</td>\n",
       "                        <td id=\"T_d8cb4_row3_col38\" class=\"data row3 col38\" >7.137320</td>\n",
       "                        <td id=\"T_d8cb4_row3_col39\" class=\"data row3 col39\" >2.614687</td>\n",
       "                        <td id=\"T_d8cb4_row3_col40\" class=\"data row3 col40\" >4.522633</td>\n",
       "                        <td id=\"T_d8cb4_row3_col41\" class=\"data row3 col41\" >1309.269989</td>\n",
       "                        <td id=\"T_d8cb4_row3_col42\" class=\"data row3 col42\" >1309.269989</td>\n",
       "                        <td id=\"T_d8cb4_row3_col43\" class=\"data row3 col43\" >1295.988341</td>\n",
       "                        <td id=\"T_d8cb4_row3_col44\" class=\"data row3 col44\" >1288.851021</td>\n",
       "                        <td id=\"T_d8cb4_row3_col45\" class=\"data row3 col45\" >0.005373</td>\n",
       "                        <td id=\"T_d8cb4_row3_col46\" class=\"data row3 col46\" >0.000129</td>\n",
       "                        <td id=\"T_d8cb4_row3_col47\" class=\"data row3 col47\" >0.005244</td>\n",
       "                        <td id=\"T_d8cb4_row3_col48\" class=\"data row3 col48\" >0.025972</td>\n",
       "                        <td id=\"T_d8cb4_row3_col49\" class=\"data row3 col49\" >4.018445</td>\n",
       "                        <td id=\"T_d8cb4_row3_col50\" class=\"data row3 col50\" >16736.827019</td>\n",
       "                        <td id=\"T_d8cb4_row3_col51\" class=\"data row3 col51\" >-927.448579</td>\n",
       "                        <td id=\"T_d8cb4_row3_col52\" class=\"data row3 col52\" >-928.033586</td>\n",
       "                        <td id=\"T_d8cb4_row3_col53\" class=\"data row3 col53\" >0.585007</td>\n",
       "                        <td id=\"T_d8cb4_row3_col54\" class=\"data row3 col54\" >1293.890015</td>\n",
       "                        <td id=\"T_d8cb4_row3_col55\" class=\"data row3 col55\" >1293.890015</td>\n",
       "                        <td id=\"T_d8cb4_row3_col56\" class=\"data row3 col56\" >1293.890015</td>\n",
       "                        <td id=\"T_d8cb4_row3_col57\" class=\"data row3 col57\" >1293.890015</td>\n",
       "                        <td id=\"T_d8cb4_row3_col58\" class=\"data row3 col58\" >0.000000</td>\n",
       "                        <td id=\"T_d8cb4_row3_col59\" class=\"data row3 col59\" >0.000000</td>\n",
       "                        <td id=\"T_d8cb4_row3_col60\" class=\"data row3 col60\" >0.000000</td>\n",
       "                        <td id=\"T_d8cb4_row3_col61\" class=\"data row3 col61\" >0.000000</td>\n",
       "                        <td id=\"T_d8cb4_row3_col62\" class=\"data row3 col62\" >72.682019</td>\n",
       "                        <td id=\"T_d8cb4_row3_col63\" class=\"data row3 col63\" >17896.031352</td>\n",
       "                        <td id=\"T_d8cb4_row3_col64\" class=\"data row3 col64\" >17654.510580</td>\n",
       "                        <td id=\"T_d8cb4_row3_col65\" class=\"data row3 col65\" >16.000000</td>\n",
       "                        <td id=\"T_d8cb4_row3_col66\" class=\"data row3 col66\" >4.000000</td>\n",
       "                        <td id=\"T_d8cb4_row3_col67\" class=\"data row3 col67\" >12.000000</td>\n",
       "                        <td id=\"T_d8cb4_row3_col68\" class=\"data row3 col68\" >1268.009590</td>\n",
       "                        <td id=\"T_d8cb4_row3_col69\" class=\"data row3 col69\" >1848.569946</td>\n",
       "                        <td id=\"T_d8cb4_row3_col70\" class=\"data row3 col70\" >0.000000</td>\n",
       "                        <td id=\"T_d8cb4_row3_col71\" class=\"data row3 col71\" >0.000000</td>\n",
       "                        <td id=\"T_d8cb4_row3_col72\" class=\"data row3 col72\" >96.951271</td>\n",
       "                        <td id=\"T_d8cb4_row3_col73\" class=\"data row3 col73\" >0.000000</td>\n",
       "                        <td id=\"T_d8cb4_row3_col74\" class=\"data row3 col74\" >0.000000</td>\n",
       "                        <td id=\"T_d8cb4_row3_col75\" class=\"data row3 col75\" >0.000000</td>\n",
       "                        <td id=\"T_d8cb4_row3_col76\" class=\"data row3 col76\" >99.862671</td>\n",
       "                        <td id=\"T_d8cb4_row3_col77\" class=\"data row3 col77\" >69.828557</td>\n",
       "                        <td id=\"T_d8cb4_row3_col78\" class=\"data row3 col78\" >100.000000</td>\n",
       "                        <td id=\"T_d8cb4_row3_col79\" class=\"data row3 col79\" >99.194691</td>\n",
       "                        <td id=\"T_d8cb4_row3_col80\" class=\"data row3 col80\" >-0.000000</td>\n",
       "                        <td id=\"T_d8cb4_row3_col81\" class=\"data row3 col81\" >0.000000</td>\n",
       "                        <td id=\"T_d8cb4_row3_col82\" class=\"data row3 col82\" >0.000000</td>\n",
       "                        <td id=\"T_d8cb4_row3_col83\" class=\"data row3 col83\" >0.553774</td>\n",
       "                        <td id=\"T_d8cb4_row3_col84\" class=\"data row3 col84\" >0.203113</td>\n",
       "                        <td id=\"T_d8cb4_row3_col85\" class=\"data row3 col85\" >0.350661</td>\n",
       "                        <td id=\"T_d8cb4_row3_col86\" class=\"data row3 col86\" >7.041848</td>\n",
       "                        <td id=\"T_d8cb4_row3_col87\" class=\"data row3 col87\" >2.819763</td>\n",
       "                        <td id=\"T_d8cb4_row3_col88\" class=\"data row3 col88\" >4.222085</td>\n",
       "                        <td id=\"T_d8cb4_row3_col89\" class=\"data row3 col89\" >1313.141853</td>\n",
       "                        <td id=\"T_d8cb4_row3_col90\" class=\"data row3 col90\" >0.403353</td>\n",
       "                        <td id=\"T_d8cb4_row3_col91\" class=\"data row3 col91\" >0.402541</td>\n",
       "                        <td id=\"T_d8cb4_row3_col92\" class=\"data row3 col92\" >3.177794</td>\n",
       "            </tr>\n",
       "            <tr>\n",
       "                        <th id=\"T_d8cb4_level0_row4\" class=\"row_heading level0 row4\" >4</th>\n",
       "                        <td id=\"T_d8cb4_row4_col0\" class=\"data row4 col0\" >2017-04-30 00:00:00</td>\n",
       "                        <td id=\"T_d8cb4_row4_col1\" class=\"data row4 col1\" >1347.890015</td>\n",
       "                        <td id=\"T_d8cb4_row4_col2\" class=\"data row4 col2\" >1321.869995</td>\n",
       "                        <td id=\"T_d8cb4_row4_col3\" class=\"data row4 col3\" >1314.920044</td>\n",
       "                        <td id=\"T_d8cb4_row4_col4\" class=\"data row4 col4\" >1347.890015</td>\n",
       "                        <td id=\"T_d8cb4_row4_col5\" class=\"data row4 col5\" >1321.869995</td>\n",
       "                        <td id=\"T_d8cb4_row4_col6\" class=\"data row4 col6\" >413115008</td>\n",
       "                        <td id=\"T_d8cb4_row4_col7\" class=\"data row4 col7\" >2142137984.000000</td>\n",
       "                        <td id=\"T_d8cb4_row4_col8\" class=\"data row4 col8\" >1087160000</td>\n",
       "                        <td id=\"T_d8cb4_row4_col9\" class=\"data row4 col9\" >1.000000</td>\n",
       "                        <td id=\"T_d8cb4_row4_col10\" class=\"data row4 col10\" >12113392565.515991</td>\n",
       "                        <td id=\"T_d8cb4_row4_col11\" class=\"data row4 col11\" >94.886811</td>\n",
       "                        <td id=\"T_d8cb4_row4_col12\" class=\"data row4 col12\" >75.734854</td>\n",
       "                        <td id=\"T_d8cb4_row4_col13\" class=\"data row4 col13\" >9862336.990862</td>\n",
       "                        <td id=\"T_d8cb4_row4_col14\" class=\"data row4 col14\" >1313.291132</td>\n",
       "                        <td id=\"T_d8cb4_row4_col15\" class=\"data row4 col15\" >100.000000</td>\n",
       "                        <td id=\"T_d8cb4_row4_col16\" class=\"data row4 col16\" >1023.859105</td>\n",
       "                        <td id=\"T_d8cb4_row4_col17\" class=\"data row4 col17\" >1316.993994</td>\n",
       "                        <td id=\"T_d8cb4_row4_col18\" class=\"data row4 col18\" >1359.591554</td>\n",
       "                        <td id=\"T_d8cb4_row4_col19\" class=\"data row4 col19\" >1274.396434</td>\n",
       "                        <td id=\"T_d8cb4_row4_col20\" class=\"data row4 col20\" >6.468907</td>\n",
       "                        <td id=\"T_d8cb4_row4_col21\" class=\"data row4 col21\" >0.862650</td>\n",
       "                        <td id=\"T_d8cb4_row4_col22\" class=\"data row4 col22\" >0.000000</td>\n",
       "                        <td id=\"T_d8cb4_row4_col23\" class=\"data row4 col23\" >0.000000</td>\n",
       "                        <td id=\"T_d8cb4_row4_col24\" class=\"data row4 col24\" >1311.683993</td>\n",
       "                        <td id=\"T_d8cb4_row4_col25\" class=\"data row4 col25\" >1327.613997</td>\n",
       "                        <td id=\"T_d8cb4_row4_col26\" class=\"data row4 col26\" >1295.753988</td>\n",
       "                        <td id=\"T_d8cb4_row4_col27\" class=\"data row4 col27\" >2.428939</td>\n",
       "                        <td id=\"T_d8cb4_row4_col28\" class=\"data row4 col28\" >1.636410</td>\n",
       "                        <td id=\"T_d8cb4_row4_col29\" class=\"data row4 col29\" >1.000000</td>\n",
       "                        <td id=\"T_d8cb4_row4_col30\" class=\"data row4 col30\" >0.000000</td>\n",
       "                        <td id=\"T_d8cb4_row4_col31\" class=\"data row4 col31\" >1265.989990</td>\n",
       "                        <td id=\"T_d8cb4_row4_col32\" class=\"data row4 col32\" >1347.890015</td>\n",
       "                        <td id=\"T_d8cb4_row4_col33\" class=\"data row4 col33\" >1306.940002</td>\n",
       "                        <td id=\"T_d8cb4_row4_col34\" class=\"data row4 col34\" >6.218709</td>\n",
       "                        <td id=\"T_d8cb4_row4_col35\" class=\"data row4 col35\" >1.000000</td>\n",
       "                        <td id=\"T_d8cb4_row4_col36\" class=\"data row4 col36\" >0.000000</td>\n",
       "                        <td id=\"T_d8cb4_row4_col37\" class=\"data row4 col37\" >0.000000</td>\n",
       "                        <td id=\"T_d8cb4_row4_col38\" class=\"data row4 col38\" >10.748934</td>\n",
       "                        <td id=\"T_d8cb4_row4_col39\" class=\"data row4 col39\" >4.241536</td>\n",
       "                        <td id=\"T_d8cb4_row4_col40\" class=\"data row4 col40\" >6.507398</td>\n",
       "                        <td id=\"T_d8cb4_row4_col41\" class=\"data row4 col41\" >1316.993994</td>\n",
       "                        <td id=\"T_d8cb4_row4_col42\" class=\"data row4 col42\" >1316.993994</td>\n",
       "                        <td id=\"T_d8cb4_row4_col43\" class=\"data row4 col43\" >1303.973214</td>\n",
       "                        <td id=\"T_d8cb4_row4_col44\" class=\"data row4 col44\" >1293.224279</td>\n",
       "                        <td id=\"T_d8cb4_row4_col45\" class=\"data row4 col45\" >0.007148</td>\n",
       "                        <td id=\"T_d8cb4_row4_col46\" class=\"data row4 col46\" >0.000134</td>\n",
       "                        <td id=\"T_d8cb4_row4_col47\" class=\"data row4 col47\" >0.007014</td>\n",
       "                        <td id=\"T_d8cb4_row4_col48\" class=\"data row4 col48\" >0.042642</td>\n",
       "                        <td id=\"T_d8cb4_row4_col49\" class=\"data row4 col49\" >5.035970</td>\n",
       "                        <td id=\"T_d8cb4_row4_col50\" class=\"data row4 col50\" >16729.103014</td>\n",
       "                        <td id=\"T_d8cb4_row4_col51\" class=\"data row4 col51\" >-927.020563</td>\n",
       "                        <td id=\"T_d8cb4_row4_col52\" class=\"data row4 col52\" >-927.830981</td>\n",
       "                        <td id=\"T_d8cb4_row4_col53\" class=\"data row4 col53\" >0.810418</td>\n",
       "                        <td id=\"T_d8cb4_row4_col54\" class=\"data row4 col54\" >1306.940002</td>\n",
       "                        <td id=\"T_d8cb4_row4_col55\" class=\"data row4 col55\" >1306.940002</td>\n",
       "                        <td id=\"T_d8cb4_row4_col56\" class=\"data row4 col56\" >1306.940002</td>\n",
       "                        <td id=\"T_d8cb4_row4_col57\" class=\"data row4 col57\" >1306.940002</td>\n",
       "                        <td id=\"T_d8cb4_row4_col58\" class=\"data row4 col58\" >0.000000</td>\n",
       "                        <td id=\"T_d8cb4_row4_col59\" class=\"data row4 col59\" >0.000000</td>\n",
       "                        <td id=\"T_d8cb4_row4_col60\" class=\"data row4 col60\" >0.000000</td>\n",
       "                        <td id=\"T_d8cb4_row4_col61\" class=\"data row4 col61\" >0.000000</td>\n",
       "                        <td id=\"T_d8cb4_row4_col62\" class=\"data row4 col62\" >110.471789</td>\n",
       "                        <td id=\"T_d8cb4_row4_col63\" class=\"data row4 col63\" >17896.031352</td>\n",
       "                        <td id=\"T_d8cb4_row4_col64\" class=\"data row4 col64\" >17654.510580</td>\n",
       "                        <td id=\"T_d8cb4_row4_col65\" class=\"data row4 col65\" >20.000000</td>\n",
       "                        <td id=\"T_d8cb4_row4_col66\" class=\"data row4 col66\" >4.000000</td>\n",
       "                        <td id=\"T_d8cb4_row4_col67\" class=\"data row4 col67\" >16.000000</td>\n",
       "                        <td id=\"T_d8cb4_row4_col68\" class=\"data row4 col68\" >1271.236417</td>\n",
       "                        <td id=\"T_d8cb4_row4_col69\" class=\"data row4 col69\" >1848.569946</td>\n",
       "                        <td id=\"T_d8cb4_row4_col70\" class=\"data row4 col70\" >0.000000</td>\n",
       "                        <td id=\"T_d8cb4_row4_col71\" class=\"data row4 col71\" >0.000000</td>\n",
       "                        <td id=\"T_d8cb4_row4_col72\" class=\"data row4 col72\" >98.246118</td>\n",
       "                        <td id=\"T_d8cb4_row4_col73\" class=\"data row4 col73\" >0.000000</td>\n",
       "                        <td id=\"T_d8cb4_row4_col74\" class=\"data row4 col74\" >0.000000</td>\n",
       "                        <td id=\"T_d8cb4_row4_col75\" class=\"data row4 col75\" >0.000000</td>\n",
       "                        <td id=\"T_d8cb4_row4_col76\" class=\"data row4 col76\" >99.813324</td>\n",
       "                        <td id=\"T_d8cb4_row4_col77\" class=\"data row4 col77\" >79.158814</td>\n",
       "                        <td id=\"T_d8cb4_row4_col78\" class=\"data row4 col78\" >100.000000</td>\n",
       "                        <td id=\"T_d8cb4_row4_col79\" class=\"data row4 col79\" >99.194691</td>\n",
       "                        <td id=\"T_d8cb4_row4_col80\" class=\"data row4 col80\" >-0.000000</td>\n",
       "                        <td id=\"T_d8cb4_row4_col81\" class=\"data row4 col81\" >0.000000</td>\n",
       "                        <td id=\"T_d8cb4_row4_col82\" class=\"data row4 col82\" >0.000000</td>\n",
       "                        <td id=\"T_d8cb4_row4_col83\" class=\"data row4 col83\" >0.831173</td>\n",
       "                        <td id=\"T_d8cb4_row4_col84\" class=\"data row4 col84\" >0.328725</td>\n",
       "                        <td id=\"T_d8cb4_row4_col85\" class=\"data row4 col85\" >0.502448</td>\n",
       "                        <td id=\"T_d8cb4_row4_col86\" class=\"data row4 col86\" >7.112954</td>\n",
       "                        <td id=\"T_d8cb4_row4_col87\" class=\"data row4 col87\" >3.678401</td>\n",
       "                        <td id=\"T_d8cb4_row4_col88\" class=\"data row4 col88\" >3.434553</td>\n",
       "                        <td id=\"T_d8cb4_row4_col89\" class=\"data row4 col89\" >1329.144879</td>\n",
       "                        <td id=\"T_d8cb4_row4_col90\" class=\"data row4 col90\" >1.974593</td>\n",
       "                        <td id=\"T_d8cb4_row4_col91\" class=\"data row4 col91\" >1.955351</td>\n",
       "                        <td id=\"T_d8cb4_row4_col92\" class=\"data row4 col92\" >5.215136</td>\n",
       "            </tr>\n",
       "    </tbody></table>"
      ],
      "text/plain": [
       "<pandas.io.formats.style.Styler at 0x1d4127f72b0>"
      ]
     },
     "execution_count": 73,
     "metadata": {},
     "output_type": "execute_result"
    }
   ],
   "source": [
    "bitcoindf['date'] = pd.to_datetime(bitcoindf.date)\n",
    "bitcoindf.head().style.set_properties(subset=['date','close'], **{'background-color': 'skyblue'})"
   ]
  },
  {
   "cell_type": "code",
   "execution_count": null,
   "id": "44c9042f",
   "metadata": {},
   "outputs": [],
   "source": [
    "trend_macd, volume"
   ]
  },
  {
   "cell_type": "code",
   "execution_count": 13,
   "id": "9cca4be2",
   "metadata": {},
   "outputs": [
    {
     "data": {
      "text/plain": [
       "Text(0.5, 1.0, 'Bitcoin Close Price')"
      ]
     },
     "execution_count": 13,
     "metadata": {},
     "output_type": "execute_result"
    },
    {
     "data": {
      "image/png": "[encoded data removed]",
      "text/plain": [
       "<Figure size 1080x720 with 1 Axes>"
      ]
     },
     "metadata": {
      "needs_background": "light"
     },
     "output_type": "display_data"
    }
   ],
   "source": [
    "fig = plt.figure(figsize = (15,10))\n",
    "\n",
    "plt.subplot(2, 2, 1)\n",
    "plt.plot(bitcoindf['date'], bitcoindf['close'], color=\"red\")\n",
    "plt.title('Bitcoin Close Price')"
   ]
  },
  {
   "cell_type": "code",
   "execution_count": 14,
   "id": "951bcc69",
   "metadata": {},
   "outputs": [
    {
     "data": {
      "text/plain": [
       "<matplotlib.legend.Legend at 0x1d412249100>"
      ]
     },
     "execution_count": 14,
     "metadata": {},
     "output_type": "execute_result"
    },
    {
     "data": {
      "image/png": "[encoded data removed]",
      "text/plain": [
       "<Figure size 1080x720 with 1 Axes>"
      ]
     },
     "metadata": {
      "needs_background": "light"
     },
     "output_type": "display_data"
    }
   ],
   "source": [
    "last1year_bitcoindf = bitcoindf[bitcoindf['date'] > '09-2020']\n",
    "\n",
    "fig = plt.figure(figsize = (15,10))\n",
    "fig.suptitle(\"Last 1 year close prices of Bitcoin, Cardano, Dogecoin, Ethereum\", fontsize=16)\n",
    "\n",
    "\n",
    "plt.subplot(4, 1, 1)\n",
    "plt.plot(last1year_bitcoindf['date'], last1year_bitcoindf['close'], color=\"red\")\n",
    "plt.legend(\"B\")"
   ]
  },
  {
   "cell_type": "code",
   "execution_count": 15,
   "id": "9182626f",
   "metadata": {},
   "outputs": [
    {
     "data": {
      "image/png": "[encoded data removed]",
      "text/plain": [
       "<Figure size 1080x504 with 1 Axes>"
      ]
     },
     "metadata": {
      "needs_background": "light"
     },
     "output_type": "display_data"
    }
   ],
   "source": [
    "fig = plt.figure(figsize = (15,7))\n",
    "\n",
    "plt.plot(last1year_bitcoindf['date'] , last1year_bitcoindf['volume'])\n",
    "plt.title('Volume of Bitcoin')\n",
    "plt.legend(['Bitcoin'])\n",
    "\n",
    "\n",
    "plt.show()"
   ]
  },
  {
   "cell_type": "markdown",
   "id": "42d0ddfb",
   "metadata": {},
   "source": [
    "#  Bitcoin Close Price Prediction using XGBoost"
   ]
  },
  {
   "cell_type": "markdown",
   "id": "2b530feb",
   "metadata": {},
   "source": [
    "#### Dataframe of bitcoin close price"
   ]
  },
  {
   "cell_type": "code",
   "execution_count": 81,
   "id": "7b975ee5",
   "metadata": {
    "execution": {
     "iopub.execute_input": "2021-09-14T16:04:30.443478Z",
     "iopub.status.busy": "2021-09-14T16:04:30.443136Z",
     "iopub.status.idle": "2021-09-14T16:04:30.453894Z",
     "shell.execute_reply": "2021-09-14T16:04:30.452917Z",
     "shell.execute_reply.started": "2021-09-14T16:04:30.443431Z"
    }
   },
   "outputs": [
    {
     "name": "stdout",
     "output_type": "stream",
     "text": [
      "Shape of close dataframe: (1826, 4)\n"
     ]
    }
   ],
   "source": [
    "closedf = bitcoindf[['date','close',\"trend_macd\", \"volume\"]]\n",
    "print(\"Shape of close dataframe:\", closedf.shape)"
   ]
  },
  {
   "cell_type": "code",
   "execution_count": 82,
   "id": "8f182dae",
   "metadata": {
    "execution": {
     "iopub.execute_input": "2021-09-14T16:04:30.457035Z",
     "iopub.status.busy": "2021-09-14T16:04:30.456723Z",
     "iopub.status.idle": "2021-09-14T16:04:30.471809Z",
     "shell.execute_reply": "2021-09-14T16:04:30.470680Z",
     "shell.execute_reply.started": "2021-09-14T16:04:30.457003Z"
    }
   },
   "outputs": [
    {
     "name": "stdout",
     "output_type": "stream",
     "text": [
      "Total data for prediction:  377\n"
     ]
    }
   ],
   "source": [
    "closedf = closedf[closedf['date'] > '2021-04-13']\n",
    "close_stock = closedf.copy()\n",
    "print(\"Total data for prediction: \",closedf.shape[0])"
   ]
  },
  {
   "cell_type": "markdown",
   "id": "559ca072",
   "metadata": {},
   "source": [
    "#### Normalizing close price value"
   ]
  },
  {
   "cell_type": "code",
   "execution_count": 83,
   "id": "70081c05",
   "metadata": {
    "execution": {
     "iopub.execute_input": "2021-09-14T16:04:30.475658Z",
     "iopub.status.busy": "2021-09-14T16:04:30.475271Z",
     "iopub.status.idle": "2021-09-14T16:04:30.485370Z",
     "shell.execute_reply": "2021-09-14T16:04:30.484160Z",
     "shell.execute_reply.started": "2021-09-14T16:04:30.475625Z"
    }
   },
   "outputs": [
    {
     "name": "stdout",
     "output_type": "stream",
     "text": [
      "(1131, 1)\n"
     ]
    }
   ],
   "source": [
    "del closedf['date']\n",
    "scaler=MinMaxScaler(feature_range=(0,1))\n",
    "closedf=scaler.fit_transform(np.array(closedf).reshape(-1,1))\n",
    "print(closedf.shape)"
   ]
  },
  {
   "cell_type": "code",
   "execution_count": 84,
   "id": "67eeed83",
   "metadata": {},
   "outputs": [
    {
     "data": {
      "text/html": [
       "<div>\n",
       "<style scoped>\n",
       "    .dataframe tbody tr th:only-of-type {\n",
       "        vertical-align: middle;\n",
       "    }\n",
       "\n",
       "    .dataframe tbody tr th {\n",
       "        vertical-align: top;\n",
       "    }\n",
       "\n",
       "    .dataframe thead th {\n",
       "        text-align: right;\n",
       "    }\n",
       "</style>\n",
       "<table border=\"1\" class=\"dataframe\">\n",
       "  <thead>\n",
       "    <tr style=\"text-align: right;\">\n",
       "      <th></th>\n",
       "      <th>date</th>\n",
       "      <th>close</th>\n",
       "      <th>trend_macd</th>\n",
       "      <th>volume</th>\n",
       "    </tr>\n",
       "  </thead>\n",
       "  <tbody>\n",
       "    <tr>\n",
       "      <th>1449</th>\n",
       "      <td>2021-04-14</td>\n",
       "      <td>63109.695312</td>\n",
       "      <td>1740.940598</td>\n",
       "      <td>77451779687</td>\n",
       "    </tr>\n",
       "    <tr>\n",
       "      <th>1450</th>\n",
       "      <td>2021-04-15</td>\n",
       "      <td>63314.011719</td>\n",
       "      <td>1878.537658</td>\n",
       "      <td>60954381579</td>\n",
       "    </tr>\n",
       "    <tr>\n",
       "      <th>1451</th>\n",
       "      <td>2021-04-16</td>\n",
       "      <td>61572.789062</td>\n",
       "      <td>1826.032834</td>\n",
       "      <td>84293007468</td>\n",
       "    </tr>\n",
       "    <tr>\n",
       "      <th>1452</th>\n",
       "      <td>2021-04-17</td>\n",
       "      <td>60683.820312</td>\n",
       "      <td>1693.172199</td>\n",
       "      <td>66138759198</td>\n",
       "    </tr>\n",
       "    <tr>\n",
       "      <th>1453</th>\n",
       "      <td>2021-04-18</td>\n",
       "      <td>56216.183594</td>\n",
       "      <td>1213.391026</td>\n",
       "      <td>97468872758</td>\n",
       "    </tr>\n",
       "    <tr>\n",
       "      <th>...</th>\n",
       "      <td>...</td>\n",
       "      <td>...</td>\n",
       "      <td>...</td>\n",
       "      <td>...</td>\n",
       "    </tr>\n",
       "    <tr>\n",
       "      <th>1821</th>\n",
       "      <td>2022-04-21</td>\n",
       "      <td>40527.363281</td>\n",
       "      <td>-716.261285</td>\n",
       "      <td>35372786395</td>\n",
       "    </tr>\n",
       "    <tr>\n",
       "      <th>1822</th>\n",
       "      <td>2022-04-22</td>\n",
       "      <td>39740.320312</td>\n",
       "      <td>-779.936694</td>\n",
       "      <td>28011716745</td>\n",
       "    </tr>\n",
       "    <tr>\n",
       "      <th>1823</th>\n",
       "      <td>2022-04-23</td>\n",
       "      <td>39486.730469</td>\n",
       "      <td>-841.166056</td>\n",
       "      <td>16138021249</td>\n",
       "    </tr>\n",
       "    <tr>\n",
       "      <th>1824</th>\n",
       "      <td>2022-04-24</td>\n",
       "      <td>39469.292969</td>\n",
       "      <td>-880.942866</td>\n",
       "      <td>17964398167</td>\n",
       "    </tr>\n",
       "    <tr>\n",
       "      <th>1825</th>\n",
       "      <td>2022-04-25</td>\n",
       "      <td>40458.308594</td>\n",
       "      <td>-823.171966</td>\n",
       "      <td>35445730570</td>\n",
       "    </tr>\n",
       "  </tbody>\n",
       "</table>\n",
       "<p>377 rows × 4 columns</p>\n",
       "</div>"
      ],
      "text/plain": [
       "           date         close   trend_macd       volume\n",
       "1449 2021-04-14  63109.695312  1740.940598  77451779687\n",
       "1450 2021-04-15  63314.011719  1878.537658  60954381579\n",
       "1451 2021-04-16  61572.789062  1826.032834  84293007468\n",
       "1452 2021-04-17  60683.820312  1693.172199  66138759198\n",
       "1453 2021-04-18  56216.183594  1213.391026  97468872758\n",
       "...         ...           ...          ...          ...\n",
       "1821 2022-04-21  40527.363281  -716.261285  35372786395\n",
       "1822 2022-04-22  39740.320312  -779.936694  28011716745\n",
       "1823 2022-04-23  39486.730469  -841.166056  16138021249\n",
       "1824 2022-04-24  39469.292969  -880.942866  17964398167\n",
       "1825 2022-04-25  40458.308594  -823.171966  35445730570\n",
       "\n",
       "[377 rows x 4 columns]"
      ]
     },
     "execution_count": 84,
     "metadata": {},
     "output_type": "execute_result"
    }
   ],
   "source": [
    "close_stock"
   ]
  },
  {
   "cell_type": "markdown",
   "id": "e231ef4e",
   "metadata": {},
   "source": [
    "#### Separate data for Train and Test"
   ]
  },
  {
   "cell_type": "code",
   "execution_count": 85,
   "id": "63b00299",
   "metadata": {
    "execution": {
     "iopub.execute_input": "2021-09-14T16:04:30.487196Z",
     "iopub.status.busy": "2021-09-14T16:04:30.486914Z",
     "iopub.status.idle": "2021-09-14T16:04:30.498259Z",
     "shell.execute_reply": "2021-09-14T16:04:30.497207Z",
     "shell.execute_reply.started": "2021-09-14T16:04:30.487165Z"
    }
   },
   "outputs": [
    {
     "name": "stdout",
     "output_type": "stream",
     "text": [
      "train_data:  (791, 1)\n",
      "test_data:  (340, 1)\n"
     ]
    }
   ],
   "source": [
    "training_size=int(len(closedf)*0.70)\n",
    "test_size=len(closedf)-training_size\n",
    "train_data,test_data=closedf[0:training_size,:],closedf[training_size:len(closedf),:1]\n",
    "print(\"train_data: \", train_data.shape)\n",
    "print(\"test_data: \", test_data.shape)"
   ]
  },
  {
   "cell_type": "code",
   "execution_count": 86,
   "id": "2f923acc",
   "metadata": {
    "execution": {
     "iopub.execute_input": "2021-09-14T16:04:30.503292Z",
     "iopub.status.busy": "2021-09-14T16:04:30.502953Z",
     "iopub.status.idle": "2021-09-14T16:04:30.930481Z",
     "shell.execute_reply": "2021-09-14T16:04:30.929496Z",
     "shell.execute_reply.started": "2021-09-14T16:04:30.503255Z"
    }
   },
   "outputs": [
    {
     "data": {
      "text/plain": [
       "<matplotlib.legend.Legend at 0x1d412705d60>"
      ]
     },
     "execution_count": 86,
     "metadata": {},
     "output_type": "execute_result"
    },
    {
     "data": {
      "image/png": "[encoded data removed]",
      "text/plain": [
       "<Figure size 1080x432 with 1 Axes>"
      ]
     },
     "metadata": {
      "needs_background": "light"
     },
     "output_type": "display_data"
    }
   ],
   "source": [
    "fig, ax = plt.subplots(figsize=(15, 6))\n",
    "sns.lineplot(x = close_stock['date'][:255], y = close_stock['close'][:255], color = 'black')\n",
    "sns.lineplot(x = close_stock['date'][255:], y = close_stock['close'][255:], color = 'red')\n",
    "\n",
    "# Formatting\n",
    "ax.set_title('Train & Test data', fontsize = 20, loc='center', fontdict=dict(weight='bold'))\n",
    "ax.set_xlabel('Date', fontsize = 16, fontdict=dict(weight='bold'))\n",
    "ax.set_ylabel('Weekly Sales', fontsize = 16, fontdict=dict(weight='bold'))\n",
    "plt.tick_params(axis='y', which='major', labelsize=16)\n",
    "plt.tick_params(axis='x', which='major', labelsize=16)\n",
    "plt.legend(loc='upper right' ,labels = ('train', 'test'))"
   ]
  },
  {
   "cell_type": "markdown",
   "id": "bebc858b",
   "metadata": {},
   "source": [
    "#### Prepare train data for time series analysis"
   ]
  },
  {
   "cell_type": "code",
   "execution_count": 87,
   "id": "7cd7d1a6",
   "metadata": {
    "execution": {
     "iopub.execute_input": "2021-09-14T16:04:30.932847Z",
     "iopub.status.busy": "2021-09-14T16:04:30.931960Z",
     "iopub.status.idle": "2021-09-14T16:04:30.939563Z",
     "shell.execute_reply": "2021-09-14T16:04:30.938813Z",
     "shell.execute_reply.started": "2021-09-14T16:04:30.932794Z"
    }
   },
   "outputs": [],
   "source": [
    "# convert an array of values into a dataset matrix\n",
    "def create_dataset(dataset, time_step=1):\n",
    "    dataX, dataY = [], []\n",
    "    for i in range(len(dataset)-time_step-1):\n",
    "        a = dataset[i:(i+time_step), 0]   ###i=0, 0,1,2,3-----99   100 \n",
    "        dataX.append(a)\n",
    "        dataY.append(dataset[i + time_step, 0])\n",
    "    return np.array(dataX), np.array(dataY)"
   ]
  },
  {
   "cell_type": "code",
   "execution_count": 88,
   "id": "22ae1f60",
   "metadata": {
    "execution": {
     "iopub.execute_input": "2021-09-14T16:04:30.940790Z",
     "iopub.status.busy": "2021-09-14T16:04:30.940524Z",
     "iopub.status.idle": "2021-09-14T16:04:30.961427Z",
     "shell.execute_reply": "2021-09-14T16:04:30.959745Z",
     "shell.execute_reply.started": "2021-09-14T16:04:30.940761Z"
    }
   },
   "outputs": [
    {
     "name": "stdout",
     "output_type": "stream",
     "text": [
      "X_train:  (775, 15)\n",
      "y_train:  (775,)\n",
      "X_test:  (324, 15)\n",
      "y_test (324,)\n"
     ]
    }
   ],
   "source": [
    "time_step = 15\n",
    "X_train, y_train = create_dataset(train_data, time_step)\n",
    "X_test, y_test = create_dataset(test_data, time_step)\n",
    "\n",
    "print(\"X_train: \", X_train.shape)\n",
    "print(\"y_train: \", y_train.shape)\n",
    "print(\"X_test: \", X_test.shape)\n",
    "print(\"y_test\", y_test.shape)"
   ]
  },
  {
   "cell_type": "markdown",
   "id": "f7ff1486",
   "metadata": {},
   "source": [
    "#### Import XGBRegressor module and Fit X_train and y_train for training model"
   ]
  },
  {
   "cell_type": "code",
   "execution_count": 89,
   "id": "da7f75fe",
   "metadata": {
    "execution": {
     "iopub.execute_input": "2021-09-14T16:04:30.962802Z",
     "iopub.status.busy": "2021-09-14T16:04:30.962501Z",
     "iopub.status.idle": "2021-09-14T16:04:31.293664Z",
     "shell.execute_reply": "2021-09-14T16:04:31.292962Z",
     "shell.execute_reply.started": "2021-09-14T16:04:30.962771Z"
    }
   },
   "outputs": [
    {
     "data": {
      "text/plain": [
       "XGBRegressor(base_score=0.5, booster='gbtree', callbacks=None,\n",
       "             colsample_bylevel=1, colsample_bynode=1, colsample_bytree=1,\n",
       "             early_stopping_rounds=None, enable_categorical=False,\n",
       "             eval_metric=None, gamma=0, gpu_id=-1, grow_policy='depthwise',\n",
       "             importance_type=None, interaction_constraints='',\n",
       "             learning_rate=0.300000012, max_bin=256, max_cat_to_onehot=4,\n",
       "             max_delta_step=0, max_depth=6, max_leaves=0, min_child_weight=1,\n",
       "             missing=nan, monotone_constraints='()', n_estimators=1000,\n",
       "             n_jobs=0, num_parallel_tree=1, predictor='auto', random_state=0,\n",
       "             reg_alpha=0, reg_lambda=1, ...)"
      ]
     },
     "execution_count": 89,
     "metadata": {},
     "output_type": "execute_result"
    }
   ],
   "source": [
    "from xgboost import XGBRegressor\n",
    "my_model = XGBRegressor(n_estimators=1000)\n",
    "my_model.fit(X_train, y_train, verbose=False)"
   ]
  },
  {
   "cell_type": "markdown",
   "id": "20037f23",
   "metadata": {},
   "source": [
    "#### Model testing and evaluation"
   ]
  },
  {
   "cell_type": "code",
   "execution_count": 90,
   "id": "c8b1be68",
   "metadata": {},
   "outputs": [
    {
     "name": "stdout",
     "output_type": "stream",
     "text": [
      "Mean Absolute Error - MAE : 0.021367360380858097\n",
      "Root Mean squared Error - RMSE : 0.047901882879640964\n"
     ]
    }
   ],
   "source": [
    "#second run\n",
    "predictions = my_model.predict(X_test)\n",
    "print(\"Mean Absolute Error - MAE : \" + str(mean_absolute_error(y_test, predictions)))\n",
    "print(\"Root Mean squared Error - RMSE : \" + str(math.sqrt(mean_squared_error(y_test, predictions))))"
   ]
  },
  {
   "cell_type": "code",
   "execution_count": 24,
   "id": "aed3d260",
   "metadata": {
    "execution": {
     "iopub.execute_input": "2021-09-14T16:04:31.295531Z",
     "iopub.status.busy": "2021-09-14T16:04:31.294705Z",
     "iopub.status.idle": "2021-09-14T16:04:31.311224Z",
     "shell.execute_reply": "2021-09-14T16:04:31.309959Z",
     "shell.execute_reply.started": "2021-09-14T16:04:31.295452Z"
    }
   },
   "outputs": [
    {
     "name": "stdout",
     "output_type": "stream",
     "text": [
      "Mean Absolute Error - MAE : 0.03586139649678331\n",
      "Root Mean squared Error - RMSE : 0.04974812278025246\n"
     ]
    }
   ],
   "source": [
    "#first run\n",
    "predictions = my_model.predict(X_test)\n",
    "print(\"Mean Absolute Error - MAE : \" + str(mean_absolute_error(y_test, predictions)))\n",
    "print(\"Root Mean squared Error - RMSE : \" + str(math.sqrt(mean_squared_error(y_test, predictions))))"
   ]
  },
  {
   "cell_type": "code",
   "execution_count": 91,
   "id": "a0fbe546",
   "metadata": {
    "execution": {
     "iopub.execute_input": "2021-09-14T16:04:31.316623Z",
     "iopub.status.busy": "2021-09-14T16:04:31.315926Z",
     "iopub.status.idle": "2021-09-14T16:04:31.337743Z",
     "shell.execute_reply": "2021-09-14T16:04:31.336728Z",
     "shell.execute_reply.started": "2021-09-14T16:04:31.316565Z"
    }
   },
   "outputs": [
    {
     "name": "stdout",
     "output_type": "stream",
     "text": [
      "Train data prediction: (775, 1)\n",
      "Test data prediction: (324, 1)\n"
     ]
    }
   ],
   "source": [
    "train_predict=my_model.predict(X_train)\n",
    "test_predict=my_model.predict(X_test)\n",
    "\n",
    "train_predict = train_predict.reshape(-1,1)\n",
    "test_predict = test_predict.reshape(-1,1)\n",
    "\n",
    "print(\"Train data prediction:\", train_predict.shape)\n",
    "print(\"Test data prediction:\", test_predict.shape)"
   ]
  },
  {
   "cell_type": "code",
   "execution_count": 92,
   "id": "0adf9e62",
   "metadata": {
    "execution": {
     "iopub.execute_input": "2021-09-14T16:04:31.343040Z",
     "iopub.status.busy": "2021-09-14T16:04:31.342326Z",
     "iopub.status.idle": "2021-09-14T16:04:31.351197Z",
     "shell.execute_reply": "2021-09-14T16:04:31.350212Z",
     "shell.execute_reply.started": "2021-09-14T16:04:31.342995Z"
    }
   },
   "outputs": [],
   "source": [
    "# Transform back to original form\n",
    "\n",
    "train_predict = scaler.inverse_transform(train_predict)\n",
    "test_predict = scaler.inverse_transform(test_predict)\n",
    "original_ytrain = scaler.inverse_transform(y_train.reshape(-1,1)) \n",
    "original_ytest = scaler.inverse_transform(y_test.reshape(-1,1)) "
   ]
  },
  {
   "cell_type": "code",
   "execution_count": 40,
   "id": "817b86dc",
   "metadata": {},
   "outputs": [],
   "source": [
    "#test_predict"
   ]
  },
  {
   "cell_type": "code",
   "execution_count": 93,
   "id": "c1b212f8",
   "metadata": {},
   "outputs": [
    {
     "name": "stdout",
     "output_type": "stream",
     "text": [
      "Root Mean squared Error - RMSE : 6052791236.9034\n"
     ]
    }
   ],
   "source": [
    "#unscaled datasets\n",
    "print(\"Root Mean squared Error - RMSE : \" + str(math.sqrt(mean_squared_error(original_ytest, test_predict))))"
   ]
  },
  {
   "cell_type": "code",
   "execution_count": 94,
   "id": "1e482195",
   "metadata": {
    "execution": {
     "iopub.execute_input": "2021-09-14T16:04:31.353556Z",
     "iopub.status.busy": "2021-09-14T16:04:31.352673Z",
     "iopub.status.idle": "2021-09-14T16:04:32.221030Z",
     "shell.execute_reply": "2021-09-14T16:04:32.219980Z",
     "shell.execute_reply.started": "2021-09-14T16:04:31.353510Z"
    },
    "scrolled": true
   },
   "outputs": [
    {
     "name": "stdout",
     "output_type": "stream",
     "text": [
      "Train predicted data:  (1131, 1)\n",
      "Test predicted data:  (1131, 1)\n"
     ]
    },
    {
     "ename": "ValueError",
     "evalue": "array length 1131 does not match index length 377",
     "output_type": "error",
     "traceback": [
      "\u001b[1;31m---------------------------------------------------------------------------\u001b[0m",
      "\u001b[1;31mValueError\u001b[0m                                Traceback (most recent call last)",
      "\u001b[1;32m<ipython-input-94-4116aff0f5b2>\u001b[0m in \u001b[0;36m<module>\u001b[1;34m\u001b[0m\n\u001b[0;32m     15\u001b[0m \u001b[0mnames\u001b[0m \u001b[1;33m=\u001b[0m \u001b[0mcycle\u001b[0m\u001b[1;33m(\u001b[0m\u001b[1;33m[\u001b[0m\u001b[1;34m'Original close price'\u001b[0m\u001b[1;33m,\u001b[0m\u001b[1;34m'Train predicted close price'\u001b[0m\u001b[1;33m,\u001b[0m\u001b[1;34m'Test predicted close price'\u001b[0m\u001b[1;33m]\u001b[0m\u001b[1;33m)\u001b[0m\u001b[1;33m\u001b[0m\u001b[1;33m\u001b[0m\u001b[0m\n\u001b[0;32m     16\u001b[0m \u001b[1;33m\u001b[0m\u001b[0m\n\u001b[1;32m---> 17\u001b[1;33m plotdf = pd.DataFrame({'date': close_stock['date'],\n\u001b[0m\u001b[0;32m     18\u001b[0m                        \u001b[1;34m'original_close'\u001b[0m\u001b[1;33m:\u001b[0m \u001b[0mclose_stock\u001b[0m\u001b[1;33m[\u001b[0m\u001b[1;34m'close'\u001b[0m\u001b[1;33m]\u001b[0m\u001b[1;33m,\u001b[0m\u001b[1;33m\u001b[0m\u001b[1;33m\u001b[0m\u001b[0m\n\u001b[0;32m     19\u001b[0m                       \u001b[1;34m'train_predicted_close'\u001b[0m\u001b[1;33m:\u001b[0m \u001b[0mtrainPredictPlot\u001b[0m\u001b[1;33m.\u001b[0m\u001b[0mreshape\u001b[0m\u001b[1;33m(\u001b[0m\u001b[1;36m1\u001b[0m\u001b[1;33m,\u001b[0m\u001b[1;33m-\u001b[0m\u001b[1;36m1\u001b[0m\u001b[1;33m)\u001b[0m\u001b[1;33m[\u001b[0m\u001b[1;36m0\u001b[0m\u001b[1;33m]\u001b[0m\u001b[1;33m.\u001b[0m\u001b[0mtolist\u001b[0m\u001b[1;33m(\u001b[0m\u001b[1;33m)\u001b[0m\u001b[1;33m,\u001b[0m\u001b[1;33m\u001b[0m\u001b[1;33m\u001b[0m\u001b[0m\n",
      "\u001b[1;32m~\\anaconda3\\lib\\site-packages\\pandas\\core\\frame.py\u001b[0m in \u001b[0;36m__init__\u001b[1;34m(self, data, index, columns, dtype, copy)\u001b[0m\n\u001b[0;32m    527\u001b[0m \u001b[1;33m\u001b[0m\u001b[0m\n\u001b[0;32m    528\u001b[0m         \u001b[1;32melif\u001b[0m \u001b[0misinstance\u001b[0m\u001b[1;33m(\u001b[0m\u001b[0mdata\u001b[0m\u001b[1;33m,\u001b[0m \u001b[0mdict\u001b[0m\u001b[1;33m)\u001b[0m\u001b[1;33m:\u001b[0m\u001b[1;33m\u001b[0m\u001b[1;33m\u001b[0m\u001b[0m\n\u001b[1;32m--> 529\u001b[1;33m             \u001b[0mmgr\u001b[0m \u001b[1;33m=\u001b[0m \u001b[0minit_dict\u001b[0m\u001b[1;33m(\u001b[0m\u001b[0mdata\u001b[0m\u001b[1;33m,\u001b[0m \u001b[0mindex\u001b[0m\u001b[1;33m,\u001b[0m \u001b[0mcolumns\u001b[0m\u001b[1;33m,\u001b[0m \u001b[0mdtype\u001b[0m\u001b[1;33m=\u001b[0m\u001b[0mdtype\u001b[0m\u001b[1;33m)\u001b[0m\u001b[1;33m\u001b[0m\u001b[1;33m\u001b[0m\u001b[0m\n\u001b[0m\u001b[0;32m    530\u001b[0m         \u001b[1;32melif\u001b[0m \u001b[0misinstance\u001b[0m\u001b[1;33m(\u001b[0m\u001b[0mdata\u001b[0m\u001b[1;33m,\u001b[0m \u001b[0mma\u001b[0m\u001b[1;33m.\u001b[0m\u001b[0mMaskedArray\u001b[0m\u001b[1;33m)\u001b[0m\u001b[1;33m:\u001b[0m\u001b[1;33m\u001b[0m\u001b[1;33m\u001b[0m\u001b[0m\n\u001b[0;32m    531\u001b[0m             \u001b[1;32mimport\u001b[0m \u001b[0mnumpy\u001b[0m\u001b[1;33m.\u001b[0m\u001b[0mma\u001b[0m\u001b[1;33m.\u001b[0m\u001b[0mmrecords\u001b[0m \u001b[1;32mas\u001b[0m \u001b[0mmrecords\u001b[0m\u001b[1;33m\u001b[0m\u001b[1;33m\u001b[0m\u001b[0m\n",
      "\u001b[1;32m~\\anaconda3\\lib\\site-packages\\pandas\\core\\internals\\construction.py\u001b[0m in \u001b[0;36minit_dict\u001b[1;34m(data, index, columns, dtype)\u001b[0m\n\u001b[0;32m    285\u001b[0m             \u001b[0marr\u001b[0m \u001b[1;32mif\u001b[0m \u001b[1;32mnot\u001b[0m \u001b[0mis_datetime64tz_dtype\u001b[0m\u001b[1;33m(\u001b[0m\u001b[0marr\u001b[0m\u001b[1;33m)\u001b[0m \u001b[1;32melse\u001b[0m \u001b[0marr\u001b[0m\u001b[1;33m.\u001b[0m\u001b[0mcopy\u001b[0m\u001b[1;33m(\u001b[0m\u001b[1;33m)\u001b[0m \u001b[1;32mfor\u001b[0m \u001b[0marr\u001b[0m \u001b[1;32min\u001b[0m \u001b[0marrays\u001b[0m\u001b[1;33m\u001b[0m\u001b[1;33m\u001b[0m\u001b[0m\n\u001b[0;32m    286\u001b[0m         ]\n\u001b[1;32m--> 287\u001b[1;33m     \u001b[1;32mreturn\u001b[0m \u001b[0marrays_to_mgr\u001b[0m\u001b[1;33m(\u001b[0m\u001b[0marrays\u001b[0m\u001b[1;33m,\u001b[0m \u001b[0mdata_names\u001b[0m\u001b[1;33m,\u001b[0m \u001b[0mindex\u001b[0m\u001b[1;33m,\u001b[0m \u001b[0mcolumns\u001b[0m\u001b[1;33m,\u001b[0m \u001b[0mdtype\u001b[0m\u001b[1;33m=\u001b[0m\u001b[0mdtype\u001b[0m\u001b[1;33m)\u001b[0m\u001b[1;33m\u001b[0m\u001b[1;33m\u001b[0m\u001b[0m\n\u001b[0m\u001b[0;32m    288\u001b[0m \u001b[1;33m\u001b[0m\u001b[0m\n\u001b[0;32m    289\u001b[0m \u001b[1;33m\u001b[0m\u001b[0m\n",
      "\u001b[1;32m~\\anaconda3\\lib\\site-packages\\pandas\\core\\internals\\construction.py\u001b[0m in \u001b[0;36marrays_to_mgr\u001b[1;34m(arrays, arr_names, index, columns, dtype, verify_integrity)\u001b[0m\n\u001b[0;32m     78\u001b[0m         \u001b[1;31m# figure out the index, if necessary\u001b[0m\u001b[1;33m\u001b[0m\u001b[1;33m\u001b[0m\u001b[1;33m\u001b[0m\u001b[0m\n\u001b[0;32m     79\u001b[0m         \u001b[1;32mif\u001b[0m \u001b[0mindex\u001b[0m \u001b[1;32mis\u001b[0m \u001b[1;32mNone\u001b[0m\u001b[1;33m:\u001b[0m\u001b[1;33m\u001b[0m\u001b[1;33m\u001b[0m\u001b[0m\n\u001b[1;32m---> 80\u001b[1;33m             \u001b[0mindex\u001b[0m \u001b[1;33m=\u001b[0m \u001b[0mextract_index\u001b[0m\u001b[1;33m(\u001b[0m\u001b[0marrays\u001b[0m\u001b[1;33m)\u001b[0m\u001b[1;33m\u001b[0m\u001b[1;33m\u001b[0m\u001b[0m\n\u001b[0m\u001b[0;32m     81\u001b[0m         \u001b[1;32melse\u001b[0m\u001b[1;33m:\u001b[0m\u001b[1;33m\u001b[0m\u001b[1;33m\u001b[0m\u001b[0m\n\u001b[0;32m     82\u001b[0m             \u001b[0mindex\u001b[0m \u001b[1;33m=\u001b[0m \u001b[0mensure_index\u001b[0m\u001b[1;33m(\u001b[0m\u001b[0mindex\u001b[0m\u001b[1;33m)\u001b[0m\u001b[1;33m\u001b[0m\u001b[1;33m\u001b[0m\u001b[0m\n",
      "\u001b[1;32m~\\anaconda3\\lib\\site-packages\\pandas\\core\\internals\\construction.py\u001b[0m in \u001b[0;36mextract_index\u001b[1;34m(data)\u001b[0m\n\u001b[0;32m    413\u001b[0m                         \u001b[1;34mf\"length {len(index)}\"\u001b[0m\u001b[1;33m\u001b[0m\u001b[1;33m\u001b[0m\u001b[0m\n\u001b[0;32m    414\u001b[0m                     )\n\u001b[1;32m--> 415\u001b[1;33m                     \u001b[1;32mraise\u001b[0m \u001b[0mValueError\u001b[0m\u001b[1;33m(\u001b[0m\u001b[0mmsg\u001b[0m\u001b[1;33m)\u001b[0m\u001b[1;33m\u001b[0m\u001b[1;33m\u001b[0m\u001b[0m\n\u001b[0m\u001b[0;32m    416\u001b[0m             \u001b[1;32melse\u001b[0m\u001b[1;33m:\u001b[0m\u001b[1;33m\u001b[0m\u001b[1;33m\u001b[0m\u001b[0m\n\u001b[0;32m    417\u001b[0m                 \u001b[0mindex\u001b[0m \u001b[1;33m=\u001b[0m \u001b[0mibase\u001b[0m\u001b[1;33m.\u001b[0m\u001b[0mdefault_index\u001b[0m\u001b[1;33m(\u001b[0m\u001b[0mlengths\u001b[0m\u001b[1;33m[\u001b[0m\u001b[1;36m0\u001b[0m\u001b[1;33m]\u001b[0m\u001b[1;33m)\u001b[0m\u001b[1;33m\u001b[0m\u001b[1;33m\u001b[0m\u001b[0m\n",
      "\u001b[1;31mValueError\u001b[0m: array length 1131 does not match index length 377"
     ]
    }
   ],
   "source": [
    "# shift train predictions for plotting\n",
    "\n",
    "look_back=time_step\n",
    "trainPredictPlot = np.empty_like(closedf)\n",
    "trainPredictPlot[:, :] = np.nan\n",
    "trainPredictPlot[look_back:len(train_predict)+look_back, :] = train_predict\n",
    "print(\"Train predicted data: \", trainPredictPlot.shape)\n",
    "\n",
    "# shift test predictions for plotting\n",
    "testPredictPlot = np.empty_like(closedf)\n",
    "testPredictPlot[:, :] = np.nan\n",
    "testPredictPlot[len(train_predict)+(look_back*2)+1:len(closedf)-1, :] = test_predict\n",
    "print(\"Test predicted data: \", testPredictPlot.shape)\n",
    "\n",
    "names = cycle(['Original close price','Train predicted close price','Test predicted close price'])\n",
    "\n",
    "plotdf = pd.DataFrame({'date': close_stock['date'],\n",
    "                       'original_close': close_stock['close'],\n",
    "                      'train_predicted_close': trainPredictPlot.reshape(1,-1)[0].tolist(),\n",
    "                      'test_predicted_close': testPredictPlot.reshape(1,-1)[0].tolist()})\n",
    "\n",
    "fig = px.line(plotdf,x=plotdf['date'], y=[plotdf['original_close'],plotdf['train_predicted_close'],\n",
    "                                          plotdf['test_predicted_close']],\n",
    "              labels={'value':'Close price','date': 'Date'})\n",
    "fig.update_layout(title_text='Comparision between original close price vs predicted close price',\n",
    "                  plot_bgcolor='white', font_size=15, font_color='black',legend_title_text='Close Price')\n",
    "fig.for_each_trace(lambda t:  t.update(name = next(names)))\n",
    "\n",
    "fig.update_xaxes(showgrid=False)\n",
    "fig.update_yaxes(showgrid=False)\n",
    "fig.show()\n"
   ]
  },
  {
   "cell_type": "code",
   "execution_count": 96,
   "id": "965ff378",
   "metadata": {},
   "outputs": [
    {
     "data": {
      "text/plain": [
       "(1131, 1)"
      ]
     },
     "execution_count": 96,
     "metadata": {},
     "output_type": "execute_result"
    }
   ],
   "source": [
    "testPredictPlot.shape"
   ]
  },
  {
   "cell_type": "markdown",
   "id": "25b41d3c",
   "metadata": {},
   "source": [
    "#### Prediction next 10 days"
   ]
  },
  {
   "cell_type": "code",
   "execution_count": 33,
   "id": "03a7e0af",
   "metadata": {
    "execution": {
     "iopub.execute_input": "2021-09-14T16:04:32.222945Z",
     "iopub.status.busy": "2021-09-14T16:04:32.222562Z",
     "iopub.status.idle": "2021-09-14T16:04:32.263676Z",
     "shell.execute_reply": "2021-09-14T16:04:32.262505Z",
     "shell.execute_reply.started": "2021-09-14T16:04:32.222900Z"
    }
   },
   "outputs": [
    {
     "name": "stdout",
     "output_type": "stream",
     "text": [
      "Output of predicted next days:  10\n"
     ]
    }
   ],
   "source": [
    "x_input=test_data[len(test_data)-time_step:].reshape(1,-1)\n",
    "temp_input=list(x_input)\n",
    "temp_input=temp_input[0].tolist()\n",
    "\n",
    "from numpy import array\n",
    "\n",
    "lst_output=[]\n",
    "n_steps=time_step\n",
    "i=0\n",
    "pred_days = 10\n",
    "while(i<pred_days):\n",
    "    \n",
    "    if(len(temp_input)>time_step):\n",
    "        \n",
    "        x_input=np.array(temp_input[1:])\n",
    "        #print(\"{} day input {}\".format(i,x_input))\n",
    "        x_input=x_input.reshape(1,-1)\n",
    "        \n",
    "        yhat = my_model.predict(x_input)\n",
    "        #print(\"{} day output {}\".format(i,yhat))\n",
    "        temp_input.extend(yhat.tolist())\n",
    "        temp_input=temp_input[1:]\n",
    "       \n",
    "        lst_output.extend(yhat.tolist())\n",
    "        i=i+1\n",
    "        \n",
    "    else:\n",
    "        yhat = my_model.predict(x_input)\n",
    "        \n",
    "        temp_input.extend(yhat.tolist())\n",
    "        lst_output.extend(yhat.tolist())\n",
    "        \n",
    "        i=i+1\n",
    "        \n",
    "print(\"Output of predicted next days: \", len(lst_output))"
   ]
  },
  {
   "cell_type": "code",
   "execution_count": 34,
   "id": "12ee9196",
   "metadata": {
    "execution": {
     "iopub.execute_input": "2021-09-14T16:04:32.271039Z",
     "iopub.status.busy": "2021-09-14T16:04:32.268714Z",
     "iopub.status.idle": "2021-09-14T16:04:32.281056Z",
     "shell.execute_reply": "2021-09-14T16:04:32.279930Z",
     "shell.execute_reply.started": "2021-09-14T16:04:32.270978Z"
    }
   },
   "outputs": [
    {
     "name": "stdout",
     "output_type": "stream",
     "text": [
      "[ 1  2  3  4  5  6  7  8  9 10 11 12 13 14 15]\n",
      "[16 17 18 19 20 21 22 23 24 25]\n"
     ]
    }
   ],
   "source": [
    "last_days=np.arange(1,time_step+1)\n",
    "day_pred=np.arange(time_step+1,time_step+pred_days+1)\n",
    "print(last_days)\n",
    "print(day_pred)"
   ]
  },
  {
   "cell_type": "code",
   "execution_count": 35,
   "id": "45d415cb",
   "metadata": {
    "execution": {
     "iopub.execute_input": "2021-09-14T16:04:32.283865Z",
     "iopub.status.busy": "2021-09-14T16:04:32.282823Z",
     "iopub.status.idle": "2021-09-14T16:04:32.392839Z",
     "shell.execute_reply": "2021-09-14T16:04:32.390987Z",
     "shell.execute_reply.started": "2021-09-14T16:04:32.283814Z"
    }
   },
   "outputs": [
    {
     "data": {
      "application/vnd.plotly.v1+json": {
       "config": {
        "plotlyServerURL": "https://plot.ly"
       },
       "data": [
        {
         "hovertemplate": "variable=last_original_days_value<br>Timestamp=%{x}<br>Close price=%{y}<extra></extra>",
         "legendgroup": "last_original_days_value",
         "line": {
          "color": "#636efa",
          "dash": "solid"
         },
         "marker": {
          "symbol": "circle"
         },
         "mode": "lines",
         "name": "Last 15 days close price",
         "orientation": "v",
         "showlegend": true,
         "type": "scatter",
         "x": [
          0,
          1,
          2,
          3,
          4,
          5,
          6,
          7,
          8,
          9,
          10,
          11,
          12,
          13,
          14,
          15,
          16,
          17,
          18,
          19,
          20,
          21,
          22,
          23,
          24,
          25
         ],
         "xaxis": "x",
         "y": [
          39521.90234374999,
          40127.18359375,
          41166.73046875001,
          39935.515625,
          40553.46484375,
          40424.484375,
          39716.953125,
          40826.21484375,
          41502.75,
          41374.37890625,
          40527.36328125001,
          39740.3203125,
          39486.73046875,
          39469.29296875,
          40458.30859374999,
          null,
          41240.251016499824,
          41947.80285053502,
          42171.822595404345,
          42942.54540475493,
          42896.794386292226,
          42873.373096758965,
          42299.206592549686,
          42724.09149364487,
          42764.875348700094,
          43192.20444529166
         ],
         "yaxis": "y"
        },
        {
         "hovertemplate": "variable=next_predicted_days_value<br>Timestamp=%{x}<br>Close price=%{y}<extra></extra>",
         "legendgroup": "next_predicted_days_value",
         "line": {
          "color": "#EF553B",
          "dash": "solid"
         },
         "marker": {
          "symbol": "circle"
         },
         "mode": "lines",
         "name": "Predicted next 10 days close price",
         "orientation": "v",
         "showlegend": true,
         "type": "scatter",
         "x": [
          0,
          1,
          2,
          3,
          4,
          5,
          6,
          7,
          8,
          9,
          10,
          11,
          12,
          13,
          14,
          15,
          16,
          17,
          18,
          19,
          20,
          21,
          22,
          23,
          24,
          25
         ],
         "xaxis": "x",
         "y": [
          39521.90234374999,
          40127.18359375,
          41166.73046875001,
          39935.515625,
          40553.46484375,
          40424.484375,
          39716.953125,
          40826.21484375,
          41502.75,
          41374.37890625,
          40527.36328125001,
          39740.3203125,
          39486.73046875,
          39469.29296875,
          40458.30859374999,
          null,
          41240.251016499824,
          41947.80285053502,
          42171.822595404345,
          42942.54540475493,
          42896.794386292226,
          42873.373096758965,
          42299.206592549686,
          42724.09149364487,
          42764.875348700094,
          43192.20444529166
         ],
         "yaxis": "y"
        }
       ],
       "layout": {
        "font": {
         "color": "black",
         "size": 15
        },
        "legend": {
         "title": {
          "text": "Close Price"
         },
         "tracegroupgap": 0
        },
        "margin": {
         "t": 60
        },
        "plot_bgcolor": "white",
        "template": {
         "data": {
          "bar": [
           {
            "error_x": {
             "color": "#2a3f5f"
            },
            "error_y": {
             "color": "#2a3f5f"
            },
            "marker": {
             "line": {
              "color": "#E5ECF6",
              "width": 0.5
             },
             "pattern": {
              "fillmode": "overlay",
              "size": 10,
              "solidity": 0.2
             }
            },
            "type": "bar"
           }
          ],
          "barpolar": [
           {
            "marker": {
             "line": {
              "color": "#E5ECF6",
              "width": 0.5
             },
             "pattern": {
              "fillmode": "overlay",
              "size": 10,
              "solidity": 0.2
             }
            },
            "type": "barpolar"
           }
          ],
          "carpet": [
           {
            "aaxis": {
             "endlinecolor": "#2a3f5f",
             "gridcolor": "white",
             "linecolor": "white",
             "minorgridcolor": "white",
             "startlinecolor": "#2a3f5f"
            },
            "baxis": {
             "endlinecolor": "#2a3f5f",
             "gridcolor": "white",
             "linecolor": "white",
             "minorgridcolor": "white",
             "startlinecolor": "#2a3f5f"
            },
            "type": "carpet"
           }
          ],
          "choropleth": [
           {
            "colorbar": {
             "outlinewidth": 0,
             "ticks": ""
            },
            "type": "choropleth"
           }
          ],
          "contour": [
           {
            "colorbar": {
             "outlinewidth": 0,
             "ticks": ""
            },
            "colorscale": [
             [
              0,
              "#0d0887"
             ],
             [
              0.1111111111111111,
              "#46039f"
             ],
             [
              0.2222222222222222,
              "#7201a8"
             ],
             [
              0.3333333333333333,
              "#9c179e"
             ],
             [
              0.4444444444444444,
              "#bd3786"
             ],
             [
              0.5555555555555556,
              "#d8576b"
             ],
             [
              0.6666666666666666,
              "#ed7953"
             ],
             [
              0.7777777777777778,
              "#fb9f3a"
             ],
             [
              0.8888888888888888,
              "#fdca26"
             ],
             [
              1,
              "#f0f921"
             ]
            ],
            "type": "contour"
           }
          ],
          "contourcarpet": [
           {
            "colorbar": {
             "outlinewidth": 0,
             "ticks": ""
            },
            "type": "contourcarpet"
           }
          ],
          "heatmap": [
           {
            "colorbar": {
             "outlinewidth": 0,
             "ticks": ""
            },
            "colorscale": [
             [
              0,
              "#0d0887"
             ],
             [
              0.1111111111111111,
              "#46039f"
             ],
             [
              0.2222222222222222,
              "#7201a8"
             ],
             [
              0.3333333333333333,
              "#9c179e"
             ],
             [
              0.4444444444444444,
              "#bd3786"
             ],
             [
              0.5555555555555556,
              "#d8576b"
             ],
             [
              0.6666666666666666,
              "#ed7953"
             ],
             [
              0.7777777777777778,
              "#fb9f3a"
             ],
             [
              0.8888888888888888,
              "#fdca26"
             ],
             [
              1,
              "#f0f921"
             ]
            ],
            "type": "heatmap"
           }
          ],
          "heatmapgl": [
           {
            "colorbar": {
             "outlinewidth": 0,
             "ticks": ""
            },
            "colorscale": [
             [
              0,
              "#0d0887"
             ],
             [
              0.1111111111111111,
              "#46039f"
             ],
             [
              0.2222222222222222,
              "#7201a8"
             ],
             [
              0.3333333333333333,
              "#9c179e"
             ],
             [
              0.4444444444444444,
              "#bd3786"
             ],
             [
              0.5555555555555556,
              "#d8576b"
             ],
             [
              0.6666666666666666,
              "#ed7953"
             ],
             [
              0.7777777777777778,
              "#fb9f3a"
             ],
             [
              0.8888888888888888,
              "#fdca26"
             ],
             [
              1,
              "#f0f921"
             ]
            ],
            "type": "heatmapgl"
           }
          ],
          "histogram": [
           {
            "marker": {
             "pattern": {
              "fillmode": "overlay",
              "size": 10,
              "solidity": 0.2
             }
            },
            "type": "histogram"
           }
          ],
          "histogram2d": [
           {
            "colorbar": {
             "outlinewidth": 0,
             "ticks": ""
            },
            "colorscale": [
             [
              0,
              "#0d0887"
             ],
             [
              0.1111111111111111,
              "#46039f"
             ],
             [
              0.2222222222222222,
              "#7201a8"
             ],
             [
              0.3333333333333333,
              "#9c179e"
             ],
             [
              0.4444444444444444,
              "#bd3786"
             ],
             [
              0.5555555555555556,
              "#d8576b"
             ],
             [
              0.6666666666666666,
              "#ed7953"
             ],
             [
              0.7777777777777778,
              "#fb9f3a"
             ],
             [
              0.8888888888888888,
              "#fdca26"
             ],
             [
              1,
              "#f0f921"
             ]
            ],
            "type": "histogram2d"
           }
          ],
          "histogram2dcontour": [
           {
            "colorbar": {
             "outlinewidth": 0,
             "ticks": ""
            },
            "colorscale": [
             [
              0,
              "#0d0887"
             ],
             [
              0.1111111111111111,
              "#46039f"
             ],
             [
              0.2222222222222222,
              "#7201a8"
             ],
             [
              0.3333333333333333,
              "#9c179e"
             ],
             [
              0.4444444444444444,
              "#bd3786"
             ],
             [
              0.5555555555555556,
              "#d8576b"
             ],
             [
              0.6666666666666666,
              "#ed7953"
             ],
             [
              0.7777777777777778,
              "#fb9f3a"
             ],
             [
              0.8888888888888888,
              "#fdca26"
             ],
             [
              1,
              "#f0f921"
             ]
            ],
            "type": "histogram2dcontour"
           }
          ],
          "mesh3d": [
           {
            "colorbar": {
             "outlinewidth": 0,
             "ticks": ""
            },
            "type": "mesh3d"
           }
          ],
          "parcoords": [
           {
            "line": {
             "colorbar": {
              "outlinewidth": 0,
              "ticks": ""
             }
            },
            "type": "parcoords"
           }
          ],
          "pie": [
           {
            "automargin": true,
            "type": "pie"
           }
          ],
          "scatter": [
           {
            "marker": {
             "colorbar": {
              "outlinewidth": 0,
              "ticks": ""
             }
            },
            "type": "scatter"
           }
          ],
          "scatter3d": [
           {
            "line": {
             "colorbar": {
              "outlinewidth": 0,
              "ticks": ""
             }
            },
            "marker": {
             "colorbar": {
              "outlinewidth": 0,
              "ticks": ""
             }
            },
            "type": "scatter3d"
           }
          ],
          "scattercarpet": [
           {
            "marker": {
             "colorbar": {
              "outlinewidth": 0,
              "ticks": ""
             }
            },
            "type": "scattercarpet"
           }
          ],
          "scattergeo": [
           {
            "marker": {
             "colorbar": {
              "outlinewidth": 0,
              "ticks": ""
             }
            },
            "type": "scattergeo"
           }
          ],
          "scattergl": [
           {
            "marker": {
             "colorbar": {
              "outlinewidth": 0,
              "ticks": ""
             }
            },
            "type": "scattergl"
           }
          ],
          "scattermapbox": [
           {
            "marker": {
             "colorbar": {
              "outlinewidth": 0,
              "ticks": ""
             }
            },
            "type": "scattermapbox"
           }
          ],
          "scatterpolar": [
           {
            "marker": {
             "colorbar": {
              "outlinewidth": 0,
              "ticks": ""
             }
            },
            "type": "scatterpolar"
           }
          ],
          "scatterpolargl": [
           {
            "marker": {
             "colorbar": {
              "outlinewidth": 0,
              "ticks": ""
             }
            },
            "type": "scatterpolargl"
           }
          ],
          "scatterternary": [
           {
            "marker": {
             "colorbar": {
              "outlinewidth": 0,
              "ticks": ""
             }
            },
            "type": "scatterternary"
           }
          ],
          "surface": [
           {
            "colorbar": {
             "outlinewidth": 0,
             "ticks": ""
            },
            "colorscale": [
             [
              0,
              "#0d0887"
             ],
             [
              0.1111111111111111,
              "#46039f"
             ],
             [
              0.2222222222222222,
              "#7201a8"
             ],
             [
              0.3333333333333333,
              "#9c179e"
             ],
             [
              0.4444444444444444,
              "#bd3786"
             ],
             [
              0.5555555555555556,
              "#d8576b"
             ],
             [
              0.6666666666666666,
              "#ed7953"
             ],
             [
              0.7777777777777778,
              "#fb9f3a"
             ],
             [
              0.8888888888888888,
              "#fdca26"
             ],
             [
              1,
              "#f0f921"
             ]
            ],
            "type": "surface"
           }
          ],
          "table": [
           {
            "cells": {
             "fill": {
              "color": "#EBF0F8"
             },
             "line": {
              "color": "white"
             }
            },
            "header": {
             "fill": {
              "color": "#C8D4E3"
             },
             "line": {
              "color": "white"
             }
            },
            "type": "table"
           }
          ]
         },
         "layout": {
          "annotationdefaults": {
           "arrowcolor": "#2a3f5f",
           "arrowhead": 0,
           "arrowwidth": 1
          },
          "autotypenumbers": "strict",
          "coloraxis": {
           "colorbar": {
            "outlinewidth": 0,
            "ticks": ""
           }
          },
          "colorscale": {
           "diverging": [
            [
             0,
             "#8e0152"
            ],
            [
             0.1,
             "#c51b7d"
            ],
            [
             0.2,
             "#de77ae"
            ],
            [
             0.3,
             "#f1b6da"
            ],
            [
             0.4,
             "#fde0ef"
            ],
            [
             0.5,
             "#f7f7f7"
            ],
            [
             0.6,
             "#e6f5d0"
            ],
            [
             0.7,
             "#b8e186"
            ],
            [
             0.8,
             "#7fbc41"
            ],
            [
             0.9,
             "#4d9221"
            ],
            [
             1,
             "#276419"
            ]
           ],
           "sequential": [
            [
             0,
             "#0d0887"
            ],
            [
             0.1111111111111111,
             "#46039f"
            ],
            [
             0.2222222222222222,
             "#7201a8"
            ],
            [
             0.3333333333333333,
             "#9c179e"
            ],
            [
             0.4444444444444444,
             "#bd3786"
            ],
            [
             0.5555555555555556,
             "#d8576b"
            ],
            [
             0.6666666666666666,
             "#ed7953"
            ],
            [
             0.7777777777777778,
             "#fb9f3a"
            ],
            [
             0.8888888888888888,
             "#fdca26"
            ],
            [
             1,
             "#f0f921"
            ]
           ],
           "sequentialminus": [
            [
             0,
             "#0d0887"
            ],
            [
             0.1111111111111111,
             "#46039f"
            ],
            [
             0.2222222222222222,
             "#7201a8"
            ],
            [
             0.3333333333333333,
             "#9c179e"
            ],
            [
             0.4444444444444444,
             "#bd3786"
            ],
            [
             0.5555555555555556,
             "#d8576b"
            ],
            [
             0.6666666666666666,
             "#ed7953"
            ],
            [
             0.7777777777777778,
             "#fb9f3a"
            ],
            [
             0.8888888888888888,
             "#fdca26"
            ],
            [
             1,
             "#f0f921"
            ]
           ]
          },
          "colorway": [
           "#636efa",
           "#EF553B",
           "#00cc96",
           "#ab63fa",
           "#FFA15A",
           "#19d3f3",
           "#FF6692",
           "#B6E880",
           "#FF97FF",
           "#FECB52"
          ],
          "font": {
           "color": "#2a3f5f"
          },
          "geo": {
           "bgcolor": "white",
           "lakecolor": "white",
           "landcolor": "#E5ECF6",
           "showlakes": true,
           "showland": true,
           "subunitcolor": "white"
          },
          "hoverlabel": {
           "align": "left"
          },
          "hovermode": "closest",
          "mapbox": {
           "style": "light"
          },
          "paper_bgcolor": "white",
          "plot_bgcolor": "#E5ECF6",
          "polar": {
           "angularaxis": {
            "gridcolor": "white",
            "linecolor": "white",
            "ticks": ""
           },
           "bgcolor": "#E5ECF6",
           "radialaxis": {
            "gridcolor": "white",
            "linecolor": "white",
            "ticks": ""
           }
          },
          "scene": {
           "xaxis": {
            "backgroundcolor": "#E5ECF6",
            "gridcolor": "white",
            "gridwidth": 2,
            "linecolor": "white",
            "showbackground": true,
            "ticks": "",
            "zerolinecolor": "white"
           },
           "yaxis": {
            "backgroundcolor": "#E5ECF6",
            "gridcolor": "white",
            "gridwidth": 2,
            "linecolor": "white",
            "showbackground": true,
            "ticks": "",
            "zerolinecolor": "white"
           },
           "zaxis": {
            "backgroundcolor": "#E5ECF6",
            "gridcolor": "white",
            "gridwidth": 2,
            "linecolor": "white",
            "showbackground": true,
            "ticks": "",
            "zerolinecolor": "white"
           }
          },
          "shapedefaults": {
           "line": {
            "color": "#2a3f5f"
           }
          },
          "ternary": {
           "aaxis": {
            "gridcolor": "white",
            "linecolor": "white",
            "ticks": ""
           },
           "baxis": {
            "gridcolor": "white",
            "linecolor": "white",
            "ticks": ""
           },
           "bgcolor": "#E5ECF6",
           "caxis": {
            "gridcolor": "white",
            "linecolor": "white",
            "ticks": ""
           }
          },
          "title": {
           "x": 0.05
          },
          "xaxis": {
           "automargin": true,
           "gridcolor": "white",
           "linecolor": "white",
           "ticks": "",
           "title": {
            "standoff": 15
           },
           "zerolinecolor": "white",
           "zerolinewidth": 2
          },
          "yaxis": {
           "automargin": true,
           "gridcolor": "white",
           "linecolor": "white",
           "ticks": "",
           "title": {
            "standoff": 15
           },
           "zerolinecolor": "white",
           "zerolinewidth": 2
          }
         }
        },
        "title": {
         "text": "Compare last 15 days vs next 10 days"
        },
        "xaxis": {
         "anchor": "y",
         "domain": [
          0,
          1
         ],
         "showgrid": false,
         "title": {
          "text": "Timestamp"
         }
        },
        "yaxis": {
         "anchor": "x",
         "domain": [
          0,
          1
         ],
         "showgrid": false,
         "title": {
          "text": "Close price"
         }
        }
       }
      },
      "text/html": [
       "<div>                            <div id=\"e9e602d2-b572-47ef-b5c3-d46037a21812\" class=\"plotly-graph-div\" style=\"height:525px; width:100%;\"></div>            <script type=\"text/javascript\">                require([\"plotly\"], function(Plotly) {                    window.PLOTLYENV=window.PLOTLYENV || {};                                    if (document.getElementById(\"e9e602d2-b572-47ef-b5c3-d46037a21812\")) {                    Plotly.newPlot(                        \"e9e602d2-b572-47ef-b5c3-d46037a21812\",                        [{\"hovertemplate\":\"variable=last_original_days_value<br>Timestamp=%{x}<br>Close price=%{y}<extra></extra>\",\"legendgroup\":\"last_original_days_value\",\"line\":{\"color\":\"#636efa\",\"dash\":\"solid\"},\"marker\":{\"symbol\":\"circle\"},\"mode\":\"lines\",\"name\":\"Last 15 days close price\",\"orientation\":\"v\",\"showlegend\":true,\"x\":[0,1,2,3,4,5,6,7,8,9,10,11,12,13,14,15,16,17,18,19,20,21,22,23,24,25],\"xaxis\":\"x\",\"y\":[39521.90234374999,40127.18359375,41166.73046875001,39935.515625,40553.46484375,40424.484375,39716.953125,40826.21484375,41502.75,41374.37890625,40527.36328125001,39740.3203125,39486.73046875,39469.29296875,40458.30859374999,null,41240.251016499824,41947.80285053502,42171.822595404345,42942.54540475493,42896.794386292226,42873.373096758965,42299.206592549686,42724.09149364487,42764.875348700094,43192.20444529166],\"yaxis\":\"y\",\"type\":\"scatter\"},{\"hovertemplate\":\"variable=next_predicted_days_value<br>Timestamp=%{x}<br>Close price=%{y}<extra></extra>\",\"legendgroup\":\"next_predicted_days_value\",\"line\":{\"color\":\"#EF553B\",\"dash\":\"solid\"},\"marker\":{\"symbol\":\"circle\"},\"mode\":\"lines\",\"name\":\"Predicted next 10 days close price\",\"orientation\":\"v\",\"showlegend\":true,\"x\":[0,1,2,3,4,5,6,7,8,9,10,11,12,13,14,15,16,17,18,19,20,21,22,23,24,25],\"xaxis\":\"x\",\"y\":[39521.90234374999,40127.18359375,41166.73046875001,39935.515625,40553.46484375,40424.484375,39716.953125,40826.21484375,41502.75,41374.37890625,40527.36328125001,39740.3203125,39486.73046875,39469.29296875,40458.30859374999,null,41240.251016499824,41947.80285053502,42171.822595404345,42942.54540475493,42896.794386292226,42873.373096758965,42299.206592549686,42724.09149364487,42764.875348700094,43192.20444529166],\"yaxis\":\"y\",\"type\":\"scatter\"}],                        {\"template\":{\"data\":{\"bar\":[{\"error_x\":{\"color\":\"#2a3f5f\"},\"error_y\":{\"color\":\"#2a3f5f\"},\"marker\":{\"line\":{\"color\":\"#E5ECF6\",\"width\":0.5},\"pattern\":{\"fillmode\":\"overlay\",\"size\":10,\"solidity\":0.2}},\"type\":\"bar\"}],\"barpolar\":[{\"marker\":{\"line\":{\"color\":\"#E5ECF6\",\"width\":0.5},\"pattern\":{\"fillmode\":\"overlay\",\"size\":10,\"solidity\":0.2}},\"type\":\"barpolar\"}],\"carpet\":[{\"aaxis\":{\"endlinecolor\":\"#2a3f5f\",\"gridcolor\":\"white\",\"linecolor\":\"white\",\"minorgridcolor\":\"white\",\"startlinecolor\":\"#2a3f5f\"},\"baxis\":{\"endlinecolor\":\"#2a3f5f\",\"gridcolor\":\"white\",\"linecolor\":\"white\",\"minorgridcolor\":\"white\",\"startlinecolor\":\"#2a3f5f\"},\"type\":\"carpet\"}],\"choropleth\":[{\"colorbar\":{\"outlinewidth\":0,\"ticks\":\"\"},\"type\":\"choropleth\"}],\"contour\":[{\"colorbar\":{\"outlinewidth\":0,\"ticks\":\"\"},\"colorscale\":[[0.0,\"#0d0887\"],[0.1111111111111111,\"#46039f\"],[0.2222222222222222,\"#7201a8\"],[0.3333333333333333,\"#9c179e\"],[0.4444444444444444,\"#bd3786\"],[0.5555555555555556,\"#d8576b\"],[0.6666666666666666,\"#ed7953\"],[0.7777777777777778,\"#fb9f3a\"],[0.8888888888888888,\"#fdca26\"],[1.0,\"#f0f921\"]],\"type\":\"contour\"}],\"contourcarpet\":[{\"colorbar\":{\"outlinewidth\":0,\"ticks\":\"\"},\"type\":\"contourcarpet\"}],\"heatmap\":[{\"colorbar\":{\"outlinewidth\":0,\"ticks\":\"\"},\"colorscale\":[[0.0,\"#0d0887\"],[0.1111111111111111,\"#46039f\"],[0.2222222222222222,\"#7201a8\"],[0.3333333333333333,\"#9c179e\"],[0.4444444444444444,\"#bd3786\"],[0.5555555555555556,\"#d8576b\"],[0.6666666666666666,\"#ed7953\"],[0.7777777777777778,\"#fb9f3a\"],[0.8888888888888888,\"#fdca26\"],[1.0,\"#f0f921\"]],\"type\":\"heatmap\"}],\"heatmapgl\":[{\"colorbar\":{\"outlinewidth\":0,\"ticks\":\"\"},\"colorscale\":[[0.0,\"#0d0887\"],[0.1111111111111111,\"#46039f\"],[0.2222222222222222,\"#7201a8\"],[0.3333333333333333,\"#9c179e\"],[0.4444444444444444,\"#bd3786\"],[0.5555555555555556,\"#d8576b\"],[0.6666666666666666,\"#ed7953\"],[0.7777777777777778,\"#fb9f3a\"],[0.8888888888888888,\"#fdca26\"],[1.0,\"#f0f921\"]],\"type\":\"heatmapgl\"}],\"histogram\":[{\"marker\":{\"pattern\":{\"fillmode\":\"overlay\",\"size\":10,\"solidity\":0.2}},\"type\":\"histogram\"}],\"histogram2d\":[{\"colorbar\":{\"outlinewidth\":0,\"ticks\":\"\"},\"colorscale\":[[0.0,\"#0d0887\"],[0.1111111111111111,\"#46039f\"],[0.2222222222222222,\"#7201a8\"],[0.3333333333333333,\"#9c179e\"],[0.4444444444444444,\"#bd3786\"],[0.5555555555555556,\"#d8576b\"],[0.6666666666666666,\"#ed7953\"],[0.7777777777777778,\"#fb9f3a\"],[0.8888888888888888,\"#fdca26\"],[1.0,\"#f0f921\"]],\"type\":\"histogram2d\"}],\"histogram2dcontour\":[{\"colorbar\":{\"outlinewidth\":0,\"ticks\":\"\"},\"colorscale\":[[0.0,\"#0d0887\"],[0.1111111111111111,\"#46039f\"],[0.2222222222222222,\"#7201a8\"],[0.3333333333333333,\"#9c179e\"],[0.4444444444444444,\"#bd3786\"],[0.5555555555555556,\"#d8576b\"],[0.6666666666666666,\"#ed7953\"],[0.7777777777777778,\"#fb9f3a\"],[0.8888888888888888,\"#fdca26\"],[1.0,\"#f0f921\"]],\"type\":\"histogram2dcontour\"}],\"mesh3d\":[{\"colorbar\":{\"outlinewidth\":0,\"ticks\":\"\"},\"type\":\"mesh3d\"}],\"parcoords\":[{\"line\":{\"colorbar\":{\"outlinewidth\":0,\"ticks\":\"\"}},\"type\":\"parcoords\"}],\"pie\":[{\"automargin\":true,\"type\":\"pie\"}],\"scatter\":[{\"marker\":{\"colorbar\":{\"outlinewidth\":0,\"ticks\":\"\"}},\"type\":\"scatter\"}],\"scatter3d\":[{\"line\":{\"colorbar\":{\"outlinewidth\":0,\"ticks\":\"\"}},\"marker\":{\"colorbar\":{\"outlinewidth\":0,\"ticks\":\"\"}},\"type\":\"scatter3d\"}],\"scattercarpet\":[{\"marker\":{\"colorbar\":{\"outlinewidth\":0,\"ticks\":\"\"}},\"type\":\"scattercarpet\"}],\"scattergeo\":[{\"marker\":{\"colorbar\":{\"outlinewidth\":0,\"ticks\":\"\"}},\"type\":\"scattergeo\"}],\"scattergl\":[{\"marker\":{\"colorbar\":{\"outlinewidth\":0,\"ticks\":\"\"}},\"type\":\"scattergl\"}],\"scattermapbox\":[{\"marker\":{\"colorbar\":{\"outlinewidth\":0,\"ticks\":\"\"}},\"type\":\"scattermapbox\"}],\"scatterpolar\":[{\"marker\":{\"colorbar\":{\"outlinewidth\":0,\"ticks\":\"\"}},\"type\":\"scatterpolar\"}],\"scatterpolargl\":[{\"marker\":{\"colorbar\":{\"outlinewidth\":0,\"ticks\":\"\"}},\"type\":\"scatterpolargl\"}],\"scatterternary\":[{\"marker\":{\"colorbar\":{\"outlinewidth\":0,\"ticks\":\"\"}},\"type\":\"scatterternary\"}],\"surface\":[{\"colorbar\":{\"outlinewidth\":0,\"ticks\":\"\"},\"colorscale\":[[0.0,\"#0d0887\"],[0.1111111111111111,\"#46039f\"],[0.2222222222222222,\"#7201a8\"],[0.3333333333333333,\"#9c179e\"],[0.4444444444444444,\"#bd3786\"],[0.5555555555555556,\"#d8576b\"],[0.6666666666666666,\"#ed7953\"],[0.7777777777777778,\"#fb9f3a\"],[0.8888888888888888,\"#fdca26\"],[1.0,\"#f0f921\"]],\"type\":\"surface\"}],\"table\":[{\"cells\":{\"fill\":{\"color\":\"#EBF0F8\"},\"line\":{\"color\":\"white\"}},\"header\":{\"fill\":{\"color\":\"#C8D4E3\"},\"line\":{\"color\":\"white\"}},\"type\":\"table\"}]},\"layout\":{\"annotationdefaults\":{\"arrowcolor\":\"#2a3f5f\",\"arrowhead\":0,\"arrowwidth\":1},\"autotypenumbers\":\"strict\",\"coloraxis\":{\"colorbar\":{\"outlinewidth\":0,\"ticks\":\"\"}},\"colorscale\":{\"diverging\":[[0,\"#8e0152\"],[0.1,\"#c51b7d\"],[0.2,\"#de77ae\"],[0.3,\"#f1b6da\"],[0.4,\"#fde0ef\"],[0.5,\"#f7f7f7\"],[0.6,\"#e6f5d0\"],[0.7,\"#b8e186\"],[0.8,\"#7fbc41\"],[0.9,\"#4d9221\"],[1,\"#276419\"]],\"sequential\":[[0.0,\"#0d0887\"],[0.1111111111111111,\"#46039f\"],[0.2222222222222222,\"#7201a8\"],[0.3333333333333333,\"#9c179e\"],[0.4444444444444444,\"#bd3786\"],[0.5555555555555556,\"#d8576b\"],[0.6666666666666666,\"#ed7953\"],[0.7777777777777778,\"#fb9f3a\"],[0.8888888888888888,\"#fdca26\"],[1.0,\"#f0f921\"]],\"sequentialminus\":[[0.0,\"#0d0887\"],[0.1111111111111111,\"#46039f\"],[0.2222222222222222,\"#7201a8\"],[0.3333333333333333,\"#9c179e\"],[0.4444444444444444,\"#bd3786\"],[0.5555555555555556,\"#d8576b\"],[0.6666666666666666,\"#ed7953\"],[0.7777777777777778,\"#fb9f3a\"],[0.8888888888888888,\"#fdca26\"],[1.0,\"#f0f921\"]]},\"colorway\":[\"#636efa\",\"#EF553B\",\"#00cc96\",\"#ab63fa\",\"#FFA15A\",\"#19d3f3\",\"#FF6692\",\"#B6E880\",\"#FF97FF\",\"#FECB52\"],\"font\":{\"color\":\"#2a3f5f\"},\"geo\":{\"bgcolor\":\"white\",\"lakecolor\":\"white\",\"landcolor\":\"#E5ECF6\",\"showlakes\":true,\"showland\":true,\"subunitcolor\":\"white\"},\"hoverlabel\":{\"align\":\"left\"},\"hovermode\":\"closest\",\"mapbox\":{\"style\":\"light\"},\"paper_bgcolor\":\"white\",\"plot_bgcolor\":\"#E5ECF6\",\"polar\":{\"angularaxis\":{\"gridcolor\":\"white\",\"linecolor\":\"white\",\"ticks\":\"\"},\"bgcolor\":\"#E5ECF6\",\"radialaxis\":{\"gridcolor\":\"white\",\"linecolor\":\"white\",\"ticks\":\"\"}},\"scene\":{\"xaxis\":{\"backgroundcolor\":\"#E5ECF6\",\"gridcolor\":\"white\",\"gridwidth\":2,\"linecolor\":\"white\",\"showbackground\":true,\"ticks\":\"\",\"zerolinecolor\":\"white\"},\"yaxis\":{\"backgroundcolor\":\"#E5ECF6\",\"gridcolor\":\"white\",\"gridwidth\":2,\"linecolor\":\"white\",\"showbackground\":true,\"ticks\":\"\",\"zerolinecolor\":\"white\"},\"zaxis\":{\"backgroundcolor\":\"#E5ECF6\",\"gridcolor\":\"white\",\"gridwidth\":2,\"linecolor\":\"white\",\"showbackground\":true,\"ticks\":\"\",\"zerolinecolor\":\"white\"}},\"shapedefaults\":{\"line\":{\"color\":\"#2a3f5f\"}},\"ternary\":{\"aaxis\":{\"gridcolor\":\"white\",\"linecolor\":\"white\",\"ticks\":\"\"},\"baxis\":{\"gridcolor\":\"white\",\"linecolor\":\"white\",\"ticks\":\"\"},\"bgcolor\":\"#E5ECF6\",\"caxis\":{\"gridcolor\":\"white\",\"linecolor\":\"white\",\"ticks\":\"\"}},\"title\":{\"x\":0.05},\"xaxis\":{\"automargin\":true,\"gridcolor\":\"white\",\"linecolor\":\"white\",\"ticks\":\"\",\"title\":{\"standoff\":15},\"zerolinecolor\":\"white\",\"zerolinewidth\":2},\"yaxis\":{\"automargin\":true,\"gridcolor\":\"white\",\"linecolor\":\"white\",\"ticks\":\"\",\"title\":{\"standoff\":15},\"zerolinecolor\":\"white\",\"zerolinewidth\":2}}},\"xaxis\":{\"anchor\":\"y\",\"domain\":[0.0,1.0],\"title\":{\"text\":\"Timestamp\"},\"showgrid\":false},\"yaxis\":{\"anchor\":\"x\",\"domain\":[0.0,1.0],\"title\":{\"text\":\"Close price\"},\"showgrid\":false},\"legend\":{\"title\":{\"text\":\"Close Price\"},\"tracegroupgap\":0},\"margin\":{\"t\":60},\"title\":{\"text\":\"Compare last 15 days vs next 10 days\"},\"font\":{\"size\":15,\"color\":\"black\"},\"plot_bgcolor\":\"white\"},                        {\"responsive\": true}                    ).then(function(){\n",
       "                            \n",
       "var gd = document.getElementById('e9e602d2-b572-47ef-b5c3-d46037a21812');\n",
       "var x = new MutationObserver(function (mutations, observer) {{\n",
       "        var display = window.getComputedStyle(gd).display;\n",
       "        if (!display || display === 'none') {{\n",
       "            console.log([gd, 'removed!']);\n",
       "            Plotly.purge(gd);\n",
       "            observer.disconnect();\n",
       "        }}\n",
       "}});\n",
       "\n",
       "// Listen for the removal of the full notebook cells\n",
       "var notebookContainer = gd.closest('#notebook-container');\n",
       "if (notebookContainer) {{\n",
       "    x.observe(notebookContainer, {childList: true});\n",
       "}}\n",
       "\n",
       "// Listen for the clearing of the current output cell\n",
       "var outputEl = gd.closest('.output');\n",
       "if (outputEl) {{\n",
       "    x.observe(outputEl, {childList: true});\n",
       "}}\n",
       "\n",
       "                        })                };                });            </script>        </div>"
      ]
     },
     "metadata": {},
     "output_type": "display_data"
    }
   ],
   "source": [
    "temp_mat = np.empty((len(last_days)+pred_days+1,1))\n",
    "temp_mat[:] = np.nan\n",
    "temp_mat = temp_mat.reshape(1,-1).tolist()[0]\n",
    "\n",
    "last_original_days_value = temp_mat\n",
    "next_predicted_days_value = temp_mat\n",
    "\n",
    "last_original_days_value[0:time_step+1] = scaler.inverse_transform(closedf[len(closedf)-time_step:]).reshape(1,-1).tolist()[0]\n",
    "next_predicted_days_value[time_step+1:] = scaler.inverse_transform(np.array(lst_output).reshape(-1,1)).reshape(1,-1).tolist()[0]\n",
    "\n",
    "new_pred_plot = pd.DataFrame({\n",
    "    'last_original_days_value':last_original_days_value,\n",
    "    'next_predicted_days_value':next_predicted_days_value\n",
    "})\n",
    "\n",
    "names = cycle(['Last 15 days close price','Predicted next 10 days close price'])\n",
    "\n",
    "fig = px.line(new_pred_plot,x=new_pred_plot.index, y=[new_pred_plot['last_original_days_value'],\n",
    "                                                      new_pred_plot['next_predicted_days_value']],\n",
    "              labels={'value': 'Close price','index': 'Timestamp'})\n",
    "fig.update_layout(title_text='Compare last 15 days vs next 10 days',\n",
    "                  plot_bgcolor='white', font_size=15, font_color='black',legend_title_text='Close Price')\n",
    "fig.for_each_trace(lambda t:  t.update(name = next(names)))\n",
    "fig.update_xaxes(showgrid=False)\n",
    "fig.update_yaxes(showgrid=False)\n",
    "fig.show()"
   ]
  },
  {
   "cell_type": "code",
   "execution_count": 36,
   "id": "09ca7b3c",
   "metadata": {
    "execution": {
     "iopub.execute_input": "2021-09-14T16:04:32.395024Z",
     "iopub.status.busy": "2021-09-14T16:04:32.394509Z",
     "iopub.status.idle": "2021-09-14T16:04:32.490426Z",
     "shell.execute_reply": "2021-09-14T16:04:32.489401Z",
     "shell.execute_reply.started": "2021-09-14T16:04:32.394960Z"
    }
   },
   "outputs": [
    {
     "data": {
      "application/vnd.plotly.v1+json": {
       "config": {
        "plotlyServerURL": "https://plot.ly"
       },
       "data": [
        {
         "hovertemplate": "variable=0<br>Timestamp=%{x}<br>Close price=%{y}<extra></extra>",
         "legendgroup": "0",
         "line": {
          "color": "#636efa",
          "dash": "solid"
         },
         "marker": {
          "symbol": "circle"
         },
         "mode": "lines",
         "name": "Close Price",
         "orientation": "v",
         "showlegend": true,
         "type": "scatter",
         "x": [
          0,
          1,
          2,
          3,
          4,
          5,
          6,
          7,
          8,
          9,
          10,
          11,
          12,
          13,
          14,
          15,
          16,
          17,
          18,
          19,
          20,
          21,
          22,
          23,
          24,
          25,
          26,
          27,
          28,
          29,
          30,
          31,
          32,
          33,
          34,
          35,
          36,
          37,
          38,
          39,
          40,
          41,
          42,
          43,
          44,
          45,
          46,
          47,
          48,
          49,
          50,
          51,
          52,
          53,
          54,
          55,
          56,
          57,
          58,
          59,
          60,
          61,
          62,
          63,
          64,
          65,
          66,
          67,
          68,
          69,
          70,
          71,
          72,
          73,
          74,
          75,
          76,
          77,
          78,
          79,
          80,
          81,
          82,
          83,
          84,
          85,
          86,
          87,
          88,
          89,
          90,
          91,
          92,
          93,
          94,
          95,
          96,
          97,
          98,
          99,
          100,
          101,
          102,
          103,
          104,
          105,
          106,
          107,
          108,
          109,
          110,
          111,
          112,
          113,
          114,
          115,
          116,
          117,
          118,
          119,
          120,
          121,
          122,
          123,
          124,
          125,
          126,
          127,
          128,
          129,
          130,
          131,
          132,
          133,
          134,
          135,
          136,
          137,
          138,
          139,
          140,
          141,
          142,
          143,
          144,
          145,
          146,
          147,
          148,
          149,
          150,
          151,
          152,
          153,
          154,
          155,
          156,
          157,
          158,
          159,
          160,
          161,
          162,
          163,
          164,
          165,
          166,
          167,
          168,
          169,
          170,
          171,
          172,
          173,
          174,
          175,
          176,
          177,
          178,
          179,
          180,
          181,
          182,
          183,
          184,
          185,
          186,
          187,
          188,
          189,
          190,
          191,
          192,
          193,
          194,
          195,
          196,
          197,
          198,
          199,
          200,
          201,
          202,
          203,
          204,
          205,
          206,
          207,
          208,
          209,
          210,
          211,
          212,
          213,
          214,
          215,
          216,
          217,
          218,
          219,
          220,
          221,
          222,
          223,
          224,
          225,
          226,
          227,
          228,
          229,
          230,
          231,
          232,
          233,
          234,
          235,
          236,
          237,
          238,
          239,
          240,
          241,
          242,
          243,
          244,
          245,
          246,
          247,
          248,
          249,
          250,
          251,
          252,
          253,
          254,
          255,
          256,
          257,
          258,
          259,
          260,
          261,
          262,
          263,
          264,
          265,
          266,
          267,
          268,
          269,
          270,
          271,
          272,
          273,
          274,
          275,
          276,
          277,
          278,
          279,
          280,
          281,
          282,
          283,
          284,
          285,
          286,
          287,
          288,
          289,
          290,
          291,
          292,
          293,
          294,
          295,
          296,
          297,
          298,
          299,
          300,
          301,
          302,
          303,
          304,
          305,
          306,
          307,
          308,
          309,
          310,
          311,
          312,
          313,
          314,
          315,
          316,
          317,
          318,
          319,
          320,
          321,
          322,
          323,
          324,
          325,
          326,
          327,
          328,
          329,
          330,
          331,
          332,
          333,
          334,
          335,
          336,
          337,
          338,
          339,
          340,
          341,
          342,
          343,
          344,
          345,
          346,
          347,
          348,
          349,
          350,
          351,
          352,
          353,
          354,
          355,
          356,
          357,
          358,
          359,
          360,
          361,
          362,
          363,
          364,
          365,
          366,
          367,
          368,
          369,
          370,
          371,
          372,
          373,
          374,
          375,
          376,
          377,
          378,
          379,
          380,
          381,
          382,
          383,
          384,
          385,
          386
         ],
         "xaxis": "x",
         "y": [
          63109.6953125,
          63314.01171875,
          61572.7890625,
          60683.8203125,
          56216.18359375,
          55724.265625,
          56473.03125,
          53906.08984375,
          51762.2734375,
          51093.65234375,
          50050.8671875,
          49004.25390625001,
          54021.75390625,
          55033.1171875,
          54824.703125,
          53555.109375,
          57750.17578125,
          57828.05078125,
          56631.078125,
          57200.29296875001,
          53333.5390625,
          57424.0078125,
          56396.515625,
          57356.40234374999,
          58803.77734375,
          58232.31640625,
          55859.796875,
          56704.57421875,
          49150.53515625,
          49716.19140625,
          49880.53515625,
          46760.1875,
          46456.05859375,
          43537.51171875,
          42909.40234375,
          37002.44140625,
          40782.73828125,
          37304.69140625,
          37536.6328125,
          34770.58203125,
          38705.98046875,
          38402.22265625,
          39294.19921875,
          38436.96875,
          35697.60546875,
          34616.06640625,
          35678.12890625,
          37332.85546875,
          36684.92578125,
          37575.1796875,
          39208.765625,
          36894.40625,
          35551.95703125,
          35862.37890625,
          33560.70703125,
          33472.6328125,
          37345.12109375,
          36702.59765625,
          37334.3984375,
          35552.515625,
          39097.859375,
          40218.4765625,
          40406.26953125,
          38347.0625,
          38053.50390625,
          35787.24609375,
          35615.87109375,
          35698.296875,
          31676.693359375,
          32505.66015625,
          33723.02734375,
          34662.4375,
          31637.779296875,
          32186.27734375,
          34649.64453125,
          34434.3359375,
          35867.77734375,
          35040.8359375,
          33572.1171875,
          33897.046875,
          34668.546875,
          35287.78125,
          33746.00390625,
          34235.1953125,
          33855.328125,
          32877.37109375,
          33798.01171875,
          33520.51953125,
          34240.1875,
          33155.84765625,
          32702.025390625,
          32822.34765625,
          31780.73046875,
          31421.5390625,
          31533.068359375,
          31796.810546875,
          30817.83203125,
          29807.34765625,
          32110.693359375,
          32313.10546875,
          33581.55078125,
          34292.4453125,
          35350.1875,
          37337.53515625,
          39406.94140625,
          39995.90625,
          40008.421875,
          42235.546875,
          41626.1953125,
          39974.89453125,
          39201.9453125,
          38152.98046875,
          39747.50390625,
          40869.5546875,
          42816.5,
          44555.80078125,
          43798.1171875,
          46365.40234375,
          45585.03125,
          45593.63671874999,
          44428.2890625,
          47793.32031250001,
          47096.94531250001,
          47047.00390625,
          46004.484375,
          44695.35937500001,
          44801.1875,
          46717.578125,
          49339.17578125,
          48905.4921875,
          49321.65234375,
          49546.1484375,
          47706.1171875,
          48960.7890625,
          46942.21875,
          49058.66796875,
          48902.40234375,
          48829.83203125,
          47054.98437500001,
          47166.68749999999,
          48847.02734375,
          49327.72265625,
          50025.375,
          49944.625,
          51753.41015625,
          52633.53515625,
          46811.12890625,
          46091.390625,
          46391.421875,
          44883.91015624999,
          45201.45703125001,
          46063.26953125,
          44963.07421875,
          47092.4921875,
          48176.34765625,
          47783.359375,
          47267.51953125,
          48278.36328125,
          47260.21875,
          42843.80078125,
          40693.67578125,
          43574.5078125,
          44895.09765625,
          42839.75,
          42716.59375,
          43208.5390625,
          42235.73046875,
          41034.54296875,
          41564.36328125,
          43790.89453125,
          48116.94140625,
          47711.48828125,
          48199.953125,
          49112.90234375,
          51514.8125,
          55361.44921875,
          53805.984375,
          53967.84765625,
          54968.22265625,
          54771.578125,
          57484.7890625,
          56041.05859375,
          57401.09765625,
          57321.5234375,
          61593.94921875,
          60892.1796875,
          61553.6171875,
          62026.07812499999,
          64261.9921875,
          65992.8359375,
          62210.171875,
          60692.265625,
          61393.6171875,
          60930.8359375,
          63039.82421875,
          60363.79296875,
          58482.38671875,
          60622.13671875,
          62227.96484375,
          61888.83203125,
          61318.95703125,
          61004.40625,
          63226.40234375,
          62970.046875,
          61452.23046875,
          61125.67578125,
          61527.48046875,
          63326.98828125,
          67566.828125,
          66971.828125,
          64995.23046875,
          64949.9609375,
          64155.94140624999,
          64469.52734375001,
          65466.83984375,
          63557.87109375,
          60161.24609375,
          60368.01171874999,
          56942.13671875,
          58119.578125,
          59697.1953125,
          58730.4765625,
          56289.2890625,
          57569.07421875,
          56280.42578125,
          57274.67968749999,
          53569.765625,
          54815.078125,
          57248.45703125,
          57806.56640625001,
          57005.42578125,
          57229.828125,
          56477.81640625,
          53598.24609375,
          49200.703125,
          49368.84765625,
          50582.625,
          50700.0859375,
          50504.796875,
          47672.12109375,
          47243.3046875,
          49362.50781250001,
          50098.3359375,
          46737.48046875,
          46612.6328125,
          48896.72265625,
          47665.42578125,
          46202.14453125,
          46848.77734375,
          46707.015625,
          46880.27734375,
          48936.61328125,
          48628.51171875,
          50784.5390625,
          50822.19531249999,
          50429.859375,
          50809.515625,
          50640.41796875,
          47588.85546875,
          46444.7109375,
          47178.125,
          46306.4453125,
          47686.8125,
          47345.21875,
          46458.11718750001,
          45897.57421875,
          43569.00390625,
          43160.9296875,
          41557.90234375,
          41733.94140625,
          41911.6015625,
          41821.26171875,
          42735.85546875,
          43949.1015625,
          42591.5703125,
          43099.69921875,
          43177.3984375,
          43113.87890625,
          42250.55078125,
          42375.6328125,
          41744.32812500001,
          40680.41796875,
          36457.31640625,
          35030.25,
          36276.8046875,
          36654.328125,
          36954.00390625,
          36852.12109375,
          37138.234375,
          37784.33203125,
          38138.1796875,
          37917.6015625,
          38483.125,
          38743.2734375,
          36952.984375,
          37154.6015625,
          41500.875,
          41441.1640625,
          42412.43359375,
          43840.28515624999,
          44118.44531250001,
          44338.796875,
          43565.11328125,
          42407.93749999999,
          42244.46875,
          42197.515625,
          42586.91796875,
          44575.203125,
          43961.859375,
          40538.01171875,
          40030.9765625,
          40122.15625,
          38431.37890625,
          37075.28125,
          38286.02734374999,
          37296.5703125,
          38332.609375,
          39214.21875,
          39105.1484375,
          37709.78515625,
          43193.234375,
          44354.63671875,
          43924.1171875,
          42451.78906250001,
          39137.60546875,
          39400.5859375,
          38419.984375,
          38062.0390625,
          38737.26953125,
          41982.92578124999,
          39437.4609375,
          38794.97265625,
          38904.01171875,
          37849.6640625,
          39666.75390625,
          39338.78515625,
          41143.9296875,
          40951.37890625,
          41801.15625,
          42190.65234375,
          41247.82421875,
          41077.99609375,
          42358.80859375,
          42892.95703125,
          43960.93359375,
          44348.73046875,
          44500.82812499999,
          46820.4921875,
          47128.00390625,
          47465.73046875001,
          47062.66406249999,
          45538.67578125,
          46281.64453125,
          45868.94921875,
          46453.56640625,
          46622.67578125,
          45555.9921875,
          43206.73828124999,
          43503.84765625,
          42287.6640625,
          42782.13671875,
          42207.671875,
          39521.90234374999,
          40127.18359375,
          41166.73046875001,
          39935.515625,
          40553.46484375,
          40424.484375,
          39716.953125,
          40826.21484375,
          41502.75,
          41374.37890625,
          40527.36328125001,
          39740.3203125,
          39486.73046875,
          39469.29296875,
          40458.30859374999,
          41240.251016499824,
          41947.80285053502,
          42171.822595404345,
          42942.54540475493,
          42896.794386292226,
          42873.373096758965,
          42299.206592549686,
          42724.09149364487,
          42764.875348700094,
          43192.20444529166
         ],
         "yaxis": "y"
        }
       ],
       "layout": {
        "font": {
         "color": "black",
         "size": 15
        },
        "legend": {
         "title": {
          "text": "Stock"
         },
         "tracegroupgap": 0
        },
        "margin": {
         "t": 60
        },
        "plot_bgcolor": "white",
        "template": {
         "data": {
          "bar": [
           {
            "error_x": {
             "color": "#2a3f5f"
            },
            "error_y": {
             "color": "#2a3f5f"
            },
            "marker": {
             "line": {
              "color": "#E5ECF6",
              "width": 0.5
             },
             "pattern": {
              "fillmode": "overlay",
              "size": 10,
              "solidity": 0.2
             }
            },
            "type": "bar"
           }
          ],
          "barpolar": [
           {
            "marker": {
             "line": {
              "color": "#E5ECF6",
              "width": 0.5
             },
             "pattern": {
              "fillmode": "overlay",
              "size": 10,
              "solidity": 0.2
             }
            },
            "type": "barpolar"
           }
          ],
          "carpet": [
           {
            "aaxis": {
             "endlinecolor": "#2a3f5f",
             "gridcolor": "white",
             "linecolor": "white",
             "minorgridcolor": "white",
             "startlinecolor": "#2a3f5f"
            },
            "baxis": {
             "endlinecolor": "#2a3f5f",
             "gridcolor": "white",
             "linecolor": "white",
             "minorgridcolor": "white",
             "startlinecolor": "#2a3f5f"
            },
            "type": "carpet"
           }
          ],
          "choropleth": [
           {
            "colorbar": {
             "outlinewidth": 0,
             "ticks": ""
            },
            "type": "choropleth"
           }
          ],
          "contour": [
           {
            "colorbar": {
             "outlinewidth": 0,
             "ticks": ""
            },
            "colorscale": [
             [
              0,
              "#0d0887"
             ],
             [
              0.1111111111111111,
              "#46039f"
             ],
             [
              0.2222222222222222,
              "#7201a8"
             ],
             [
              0.3333333333333333,
              "#9c179e"
             ],
             [
              0.4444444444444444,
              "#bd3786"
             ],
             [
              0.5555555555555556,
              "#d8576b"
             ],
             [
              0.6666666666666666,
              "#ed7953"
             ],
             [
              0.7777777777777778,
              "#fb9f3a"
             ],
             [
              0.8888888888888888,
              "#fdca26"
             ],
             [
              1,
              "#f0f921"
             ]
            ],
            "type": "contour"
           }
          ],
          "contourcarpet": [
           {
            "colorbar": {
             "outlinewidth": 0,
             "ticks": ""
            },
            "type": "contourcarpet"
           }
          ],
          "heatmap": [
           {
            "colorbar": {
             "outlinewidth": 0,
             "ticks": ""
            },
            "colorscale": [
             [
              0,
              "#0d0887"
             ],
             [
              0.1111111111111111,
              "#46039f"
             ],
             [
              0.2222222222222222,
              "#7201a8"
             ],
             [
              0.3333333333333333,
              "#9c179e"
             ],
             [
              0.4444444444444444,
              "#bd3786"
             ],
             [
              0.5555555555555556,
              "#d8576b"
             ],
             [
              0.6666666666666666,
              "#ed7953"
             ],
             [
              0.7777777777777778,
              "#fb9f3a"
             ],
             [
              0.8888888888888888,
              "#fdca26"
             ],
             [
              1,
              "#f0f921"
             ]
            ],
            "type": "heatmap"
           }
          ],
          "heatmapgl": [
           {
            "colorbar": {
             "outlinewidth": 0,
             "ticks": ""
            },
            "colorscale": [
             [
              0,
              "#0d0887"
             ],
             [
              0.1111111111111111,
              "#46039f"
             ],
             [
              0.2222222222222222,
              "#7201a8"
             ],
             [
              0.3333333333333333,
              "#9c179e"
             ],
             [
              0.4444444444444444,
              "#bd3786"
             ],
             [
              0.5555555555555556,
              "#d8576b"
             ],
             [
              0.6666666666666666,
              "#ed7953"
             ],
             [
              0.7777777777777778,
              "#fb9f3a"
             ],
             [
              0.8888888888888888,
              "#fdca26"
             ],
             [
              1,
              "#f0f921"
             ]
            ],
            "type": "heatmapgl"
           }
          ],
          "histogram": [
           {
            "marker": {
             "pattern": {
              "fillmode": "overlay",
              "size": 10,
              "solidity": 0.2
             }
            },
            "type": "histogram"
           }
          ],
          "histogram2d": [
           {
            "colorbar": {
             "outlinewidth": 0,
             "ticks": ""
            },
            "colorscale": [
             [
              0,
              "#0d0887"
             ],
             [
              0.1111111111111111,
              "#46039f"
             ],
             [
              0.2222222222222222,
              "#7201a8"
             ],
             [
              0.3333333333333333,
              "#9c179e"
             ],
             [
              0.4444444444444444,
              "#bd3786"
             ],
             [
              0.5555555555555556,
              "#d8576b"
             ],
             [
              0.6666666666666666,
              "#ed7953"
             ],
             [
              0.7777777777777778,
              "#fb9f3a"
             ],
             [
              0.8888888888888888,
              "#fdca26"
             ],
             [
              1,
              "#f0f921"
             ]
            ],
            "type": "histogram2d"
           }
          ],
          "histogram2dcontour": [
           {
            "colorbar": {
             "outlinewidth": 0,
             "ticks": ""
            },
            "colorscale": [
             [
              0,
              "#0d0887"
             ],
             [
              0.1111111111111111,
              "#46039f"
             ],
             [
              0.2222222222222222,
              "#7201a8"
             ],
             [
              0.3333333333333333,
              "#9c179e"
             ],
             [
              0.4444444444444444,
              "#bd3786"
             ],
             [
              0.5555555555555556,
              "#d8576b"
             ],
             [
              0.6666666666666666,
              "#ed7953"
             ],
             [
              0.7777777777777778,
              "#fb9f3a"
             ],
             [
              0.8888888888888888,
              "#fdca26"
             ],
             [
              1,
              "#f0f921"
             ]
            ],
            "type": "histogram2dcontour"
           }
          ],
          "mesh3d": [
           {
            "colorbar": {
             "outlinewidth": 0,
             "ticks": ""
            },
            "type": "mesh3d"
           }
          ],
          "parcoords": [
           {
            "line": {
             "colorbar": {
              "outlinewidth": 0,
              "ticks": ""
             }
            },
            "type": "parcoords"
           }
          ],
          "pie": [
           {
            "automargin": true,
            "type": "pie"
           }
          ],
          "scatter": [
           {
            "marker": {
             "colorbar": {
              "outlinewidth": 0,
              "ticks": ""
             }
            },
            "type": "scatter"
           }
          ],
          "scatter3d": [
           {
            "line": {
             "colorbar": {
              "outlinewidth": 0,
              "ticks": ""
             }
            },
            "marker": {
             "colorbar": {
              "outlinewidth": 0,
              "ticks": ""
             }
            },
            "type": "scatter3d"
           }
          ],
          "scattercarpet": [
           {
            "marker": {
             "colorbar": {
              "outlinewidth": 0,
              "ticks": ""
             }
            },
            "type": "scattercarpet"
           }
          ],
          "scattergeo": [
           {
            "marker": {
             "colorbar": {
              "outlinewidth": 0,
              "ticks": ""
             }
            },
            "type": "scattergeo"
           }
          ],
          "scattergl": [
           {
            "marker": {
             "colorbar": {
              "outlinewidth": 0,
              "ticks": ""
             }
            },
            "type": "scattergl"
           }
          ],
          "scattermapbox": [
           {
            "marker": {
             "colorbar": {
              "outlinewidth": 0,
              "ticks": ""
             }
            },
            "type": "scattermapbox"
           }
          ],
          "scatterpolar": [
           {
            "marker": {
             "colorbar": {
              "outlinewidth": 0,
              "ticks": ""
             }
            },
            "type": "scatterpolar"
           }
          ],
          "scatterpolargl": [
           {
            "marker": {
             "colorbar": {
              "outlinewidth": 0,
              "ticks": ""
             }
            },
            "type": "scatterpolargl"
           }
          ],
          "scatterternary": [
           {
            "marker": {
             "colorbar": {
              "outlinewidth": 0,
              "ticks": ""
             }
            },
            "type": "scatterternary"
           }
          ],
          "surface": [
           {
            "colorbar": {
             "outlinewidth": 0,
             "ticks": ""
            },
            "colorscale": [
             [
              0,
              "#0d0887"
             ],
             [
              0.1111111111111111,
              "#46039f"
             ],
             [
              0.2222222222222222,
              "#7201a8"
             ],
             [
              0.3333333333333333,
              "#9c179e"
             ],
             [
              0.4444444444444444,
              "#bd3786"
             ],
             [
              0.5555555555555556,
              "#d8576b"
             ],
             [
              0.6666666666666666,
              "#ed7953"
             ],
             [
              0.7777777777777778,
              "#fb9f3a"
             ],
             [
              0.8888888888888888,
              "#fdca26"
             ],
             [
              1,
              "#f0f921"
             ]
            ],
            "type": "surface"
           }
          ],
          "table": [
           {
            "cells": {
             "fill": {
              "color": "#EBF0F8"
             },
             "line": {
              "color": "white"
             }
            },
            "header": {
             "fill": {
              "color": "#C8D4E3"
             },
             "line": {
              "color": "white"
             }
            },
            "type": "table"
           }
          ]
         },
         "layout": {
          "annotationdefaults": {
           "arrowcolor": "#2a3f5f",
           "arrowhead": 0,
           "arrowwidth": 1
          },
          "autotypenumbers": "strict",
          "coloraxis": {
           "colorbar": {
            "outlinewidth": 0,
            "ticks": ""
           }
          },
          "colorscale": {
           "diverging": [
            [
             0,
             "#8e0152"
            ],
            [
             0.1,
             "#c51b7d"
            ],
            [
             0.2,
             "#de77ae"
            ],
            [
             0.3,
             "#f1b6da"
            ],
            [
             0.4,
             "#fde0ef"
            ],
            [
             0.5,
             "#f7f7f7"
            ],
            [
             0.6,
             "#e6f5d0"
            ],
            [
             0.7,
             "#b8e186"
            ],
            [
             0.8,
             "#7fbc41"
            ],
            [
             0.9,
             "#4d9221"
            ],
            [
             1,
             "#276419"
            ]
           ],
           "sequential": [
            [
             0,
             "#0d0887"
            ],
            [
             0.1111111111111111,
             "#46039f"
            ],
            [
             0.2222222222222222,
             "#7201a8"
            ],
            [
             0.3333333333333333,
             "#9c179e"
            ],
            [
             0.4444444444444444,
             "#bd3786"
            ],
            [
             0.5555555555555556,
             "#d8576b"
            ],
            [
             0.6666666666666666,
             "#ed7953"
            ],
            [
             0.7777777777777778,
             "#fb9f3a"
            ],
            [
             0.8888888888888888,
             "#fdca26"
            ],
            [
             1,
             "#f0f921"
            ]
           ],
           "sequentialminus": [
            [
             0,
             "#0d0887"
            ],
            [
             0.1111111111111111,
             "#46039f"
            ],
            [
             0.2222222222222222,
             "#7201a8"
            ],
            [
             0.3333333333333333,
             "#9c179e"
            ],
            [
             0.4444444444444444,
             "#bd3786"
            ],
            [
             0.5555555555555556,
             "#d8576b"
            ],
            [
             0.6666666666666666,
             "#ed7953"
            ],
            [
             0.7777777777777778,
             "#fb9f3a"
            ],
            [
             0.8888888888888888,
             "#fdca26"
            ],
            [
             1,
             "#f0f921"
            ]
           ]
          },
          "colorway": [
           "#636efa",
           "#EF553B",
           "#00cc96",
           "#ab63fa",
           "#FFA15A",
           "#19d3f3",
           "#FF6692",
           "#B6E880",
           "#FF97FF",
           "#FECB52"
          ],
          "font": {
           "color": "#2a3f5f"
          },
          "geo": {
           "bgcolor": "white",
           "lakecolor": "white",
           "landcolor": "#E5ECF6",
           "showlakes": true,
           "showland": true,
           "subunitcolor": "white"
          },
          "hoverlabel": {
           "align": "left"
          },
          "hovermode": "closest",
          "mapbox": {
           "style": "light"
          },
          "paper_bgcolor": "white",
          "plot_bgcolor": "#E5ECF6",
          "polar": {
           "angularaxis": {
            "gridcolor": "white",
            "linecolor": "white",
            "ticks": ""
           },
           "bgcolor": "#E5ECF6",
           "radialaxis": {
            "gridcolor": "white",
            "linecolor": "white",
            "ticks": ""
           }
          },
          "scene": {
           "xaxis": {
            "backgroundcolor": "#E5ECF6",
            "gridcolor": "white",
            "gridwidth": 2,
            "linecolor": "white",
            "showbackground": true,
            "ticks": "",
            "zerolinecolor": "white"
           },
           "yaxis": {
            "backgroundcolor": "#E5ECF6",
            "gridcolor": "white",
            "gridwidth": 2,
            "linecolor": "white",
            "showbackground": true,
            "ticks": "",
            "zerolinecolor": "white"
           },
           "zaxis": {
            "backgroundcolor": "#E5ECF6",
            "gridcolor": "white",
            "gridwidth": 2,
            "linecolor": "white",
            "showbackground": true,
            "ticks": "",
            "zerolinecolor": "white"
           }
          },
          "shapedefaults": {
           "line": {
            "color": "#2a3f5f"
           }
          },
          "ternary": {
           "aaxis": {
            "gridcolor": "white",
            "linecolor": "white",
            "ticks": ""
           },
           "baxis": {
            "gridcolor": "white",
            "linecolor": "white",
            "ticks": ""
           },
           "bgcolor": "#E5ECF6",
           "caxis": {
            "gridcolor": "white",
            "linecolor": "white",
            "ticks": ""
           }
          },
          "title": {
           "x": 0.05
          },
          "xaxis": {
           "automargin": true,
           "gridcolor": "white",
           "linecolor": "white",
           "ticks": "",
           "title": {
            "standoff": 15
           },
           "zerolinecolor": "white",
           "zerolinewidth": 2
          },
          "yaxis": {
           "automargin": true,
           "gridcolor": "white",
           "linecolor": "white",
           "ticks": "",
           "title": {
            "standoff": 15
           },
           "zerolinecolor": "white",
           "zerolinewidth": 2
          }
         }
        },
        "title": {
         "text": "Plotting whole closing price with prediction"
        },
        "xaxis": {
         "anchor": "y",
         "domain": [
          0,
          1
         ],
         "showgrid": false,
         "title": {
          "text": "Timestamp"
         }
        },
        "yaxis": {
         "anchor": "x",
         "domain": [
          0,
          1
         ],
         "showgrid": false,
         "title": {
          "text": "Close price"
         }
        }
       }
      },
      "text/html": [
       "<div>                            <div id=\"5850da96-e961-401a-b602-d3169b2c8e72\" class=\"plotly-graph-div\" style=\"height:525px; width:100%;\"></div>            <script type=\"text/javascript\">                require([\"plotly\"], function(Plotly) {                    window.PLOTLYENV=window.PLOTLYENV || {};                                    if (document.getElementById(\"5850da96-e961-401a-b602-d3169b2c8e72\")) {                    Plotly.newPlot(                        \"5850da96-e961-401a-b602-d3169b2c8e72\",                        [{\"hovertemplate\":\"variable=0<br>Timestamp=%{x}<br>Close price=%{y}<extra></extra>\",\"legendgroup\":\"0\",\"line\":{\"color\":\"#636efa\",\"dash\":\"solid\"},\"marker\":{\"symbol\":\"circle\"},\"mode\":\"lines\",\"name\":\"Close Price\",\"orientation\":\"v\",\"showlegend\":true,\"x\":[0,1,2,3,4,5,6,7,8,9,10,11,12,13,14,15,16,17,18,19,20,21,22,23,24,25,26,27,28,29,30,31,32,33,34,35,36,37,38,39,40,41,42,43,44,45,46,47,48,49,50,51,52,53,54,55,56,57,58,59,60,61,62,63,64,65,66,67,68,69,70,71,72,73,74,75,76,77,78,79,80,81,82,83,84,85,86,87,88,89,90,91,92,93,94,95,96,97,98,99,100,101,102,103,104,105,106,107,108,109,110,111,112,113,114,115,116,117,118,119,120,121,122,123,124,125,126,127,128,129,130,131,132,133,134,135,136,137,138,139,140,141,142,143,144,145,146,147,148,149,150,151,152,153,154,155,156,157,158,159,160,161,162,163,164,165,166,167,168,169,170,171,172,173,174,175,176,177,178,179,180,181,182,183,184,185,186,187,188,189,190,191,192,193,194,195,196,197,198,199,200,201,202,203,204,205,206,207,208,209,210,211,212,213,214,215,216,217,218,219,220,221,222,223,224,225,226,227,228,229,230,231,232,233,234,235,236,237,238,239,240,241,242,243,244,245,246,247,248,249,250,251,252,253,254,255,256,257,258,259,260,261,262,263,264,265,266,267,268,269,270,271,272,273,274,275,276,277,278,279,280,281,282,283,284,285,286,287,288,289,290,291,292,293,294,295,296,297,298,299,300,301,302,303,304,305,306,307,308,309,310,311,312,313,314,315,316,317,318,319,320,321,322,323,324,325,326,327,328,329,330,331,332,333,334,335,336,337,338,339,340,341,342,343,344,345,346,347,348,349,350,351,352,353,354,355,356,357,358,359,360,361,362,363,364,365,366,367,368,369,370,371,372,373,374,375,376,377,378,379,380,381,382,383,384,385,386],\"xaxis\":\"x\",\"y\":[63109.6953125,63314.01171875,61572.7890625,60683.8203125,56216.18359375,55724.265625,56473.03125,53906.08984375,51762.2734375,51093.65234375,50050.8671875,49004.25390625001,54021.75390625,55033.1171875,54824.703125,53555.109375,57750.17578125,57828.05078125,56631.078125,57200.29296875001,53333.5390625,57424.0078125,56396.515625,57356.40234374999,58803.77734375,58232.31640625,55859.796875,56704.57421875,49150.53515625,49716.19140625,49880.53515625,46760.1875,46456.05859375,43537.51171875,42909.40234375,37002.44140625,40782.73828125,37304.69140625,37536.6328125,34770.58203125,38705.98046875,38402.22265625,39294.19921875,38436.96875,35697.60546875,34616.06640625,35678.12890625,37332.85546875,36684.92578125,37575.1796875,39208.765625,36894.40625,35551.95703125,35862.37890625,33560.70703125,33472.6328125,37345.12109375,36702.59765625,37334.3984375,35552.515625,39097.859375,40218.4765625,40406.26953125,38347.0625,38053.50390625,35787.24609375,35615.87109375,35698.296875,31676.693359375,32505.66015625,33723.02734375,34662.4375,31637.779296875,32186.27734375,34649.64453125,34434.3359375,35867.77734375,35040.8359375,33572.1171875,33897.046875,34668.546875,35287.78125,33746.00390625,34235.1953125,33855.328125,32877.37109375,33798.01171875,33520.51953125,34240.1875,33155.84765625,32702.025390625,32822.34765625,31780.73046875,31421.5390625,31533.068359375,31796.810546875,30817.83203125,29807.34765625,32110.693359375,32313.10546875,33581.55078125,34292.4453125,35350.1875,37337.53515625,39406.94140625,39995.90625,40008.421875,42235.546875,41626.1953125,39974.89453125,39201.9453125,38152.98046875,39747.50390625,40869.5546875,42816.5,44555.80078125,43798.1171875,46365.40234375,45585.03125,45593.63671874999,44428.2890625,47793.32031250001,47096.94531250001,47047.00390625,46004.484375,44695.35937500001,44801.1875,46717.578125,49339.17578125,48905.4921875,49321.65234375,49546.1484375,47706.1171875,48960.7890625,46942.21875,49058.66796875,48902.40234375,48829.83203125,47054.98437500001,47166.68749999999,48847.02734375,49327.72265625,50025.375,49944.625,51753.41015625,52633.53515625,46811.12890625,46091.390625,46391.421875,44883.91015624999,45201.45703125001,46063.26953125,44963.07421875,47092.4921875,48176.34765625,47783.359375,47267.51953125,48278.36328125,47260.21875,42843.80078125,40693.67578125,43574.5078125,44895.09765625,42839.75,42716.59375,43208.5390625,42235.73046875,41034.54296875,41564.36328125,43790.89453125,48116.94140625,47711.48828125,48199.953125,49112.90234375,51514.8125,55361.44921875,53805.984375,53967.84765625,54968.22265625,54771.578125,57484.7890625,56041.05859375,57401.09765625,57321.5234375,61593.94921875,60892.1796875,61553.6171875,62026.07812499999,64261.9921875,65992.8359375,62210.171875,60692.265625,61393.6171875,60930.8359375,63039.82421875,60363.79296875,58482.38671875,60622.13671875,62227.96484375,61888.83203125,61318.95703125,61004.40625,63226.40234375,62970.046875,61452.23046875,61125.67578125,61527.48046875,63326.98828125,67566.828125,66971.828125,64995.23046875,64949.9609375,64155.94140624999,64469.52734375001,65466.83984375,63557.87109375,60161.24609375,60368.01171874999,56942.13671875,58119.578125,59697.1953125,58730.4765625,56289.2890625,57569.07421875,56280.42578125,57274.67968749999,53569.765625,54815.078125,57248.45703125,57806.56640625001,57005.42578125,57229.828125,56477.81640625,53598.24609375,49200.703125,49368.84765625,50582.625,50700.0859375,50504.796875,47672.12109375,47243.3046875,49362.50781250001,50098.3359375,46737.48046875,46612.6328125,48896.72265625,47665.42578125,46202.14453125,46848.77734375,46707.015625,46880.27734375,48936.61328125,48628.51171875,50784.5390625,50822.19531249999,50429.859375,50809.515625,50640.41796875,47588.85546875,46444.7109375,47178.125,46306.4453125,47686.8125,47345.21875,46458.11718750001,45897.57421875,43569.00390625,43160.9296875,41557.90234375,41733.94140625,41911.6015625,41821.26171875,42735.85546875,43949.1015625,42591.5703125,43099.69921875,43177.3984375,43113.87890625,42250.55078125,42375.6328125,41744.32812500001,40680.41796875,36457.31640625,35030.25,36276.8046875,36654.328125,36954.00390625,36852.12109375,37138.234375,37784.33203125,38138.1796875,37917.6015625,38483.125,38743.2734375,36952.984375,37154.6015625,41500.875,41441.1640625,42412.43359375,43840.28515624999,44118.44531250001,44338.796875,43565.11328125,42407.93749999999,42244.46875,42197.515625,42586.91796875,44575.203125,43961.859375,40538.01171875,40030.9765625,40122.15625,38431.37890625,37075.28125,38286.02734374999,37296.5703125,38332.609375,39214.21875,39105.1484375,37709.78515625,43193.234375,44354.63671875,43924.1171875,42451.78906250001,39137.60546875,39400.5859375,38419.984375,38062.0390625,38737.26953125,41982.92578124999,39437.4609375,38794.97265625,38904.01171875,37849.6640625,39666.75390625,39338.78515625,41143.9296875,40951.37890625,41801.15625,42190.65234375,41247.82421875,41077.99609375,42358.80859375,42892.95703125,43960.93359375,44348.73046875,44500.82812499999,46820.4921875,47128.00390625,47465.73046875001,47062.66406249999,45538.67578125,46281.64453125,45868.94921875,46453.56640625,46622.67578125,45555.9921875,43206.73828124999,43503.84765625,42287.6640625,42782.13671875,42207.671875,39521.90234374999,40127.18359375,41166.73046875001,39935.515625,40553.46484375,40424.484375,39716.953125,40826.21484375,41502.75,41374.37890625,40527.36328125001,39740.3203125,39486.73046875,39469.29296875,40458.30859374999,41240.251016499824,41947.80285053502,42171.822595404345,42942.54540475493,42896.794386292226,42873.373096758965,42299.206592549686,42724.09149364487,42764.875348700094,43192.20444529166],\"yaxis\":\"y\",\"type\":\"scatter\"}],                        {\"template\":{\"data\":{\"bar\":[{\"error_x\":{\"color\":\"#2a3f5f\"},\"error_y\":{\"color\":\"#2a3f5f\"},\"marker\":{\"line\":{\"color\":\"#E5ECF6\",\"width\":0.5},\"pattern\":{\"fillmode\":\"overlay\",\"size\":10,\"solidity\":0.2}},\"type\":\"bar\"}],\"barpolar\":[{\"marker\":{\"line\":{\"color\":\"#E5ECF6\",\"width\":0.5},\"pattern\":{\"fillmode\":\"overlay\",\"size\":10,\"solidity\":0.2}},\"type\":\"barpolar\"}],\"carpet\":[{\"aaxis\":{\"endlinecolor\":\"#2a3f5f\",\"gridcolor\":\"white\",\"linecolor\":\"white\",\"minorgridcolor\":\"white\",\"startlinecolor\":\"#2a3f5f\"},\"baxis\":{\"endlinecolor\":\"#2a3f5f\",\"gridcolor\":\"white\",\"linecolor\":\"white\",\"minorgridcolor\":\"white\",\"startlinecolor\":\"#2a3f5f\"},\"type\":\"carpet\"}],\"choropleth\":[{\"colorbar\":{\"outlinewidth\":0,\"ticks\":\"\"},\"type\":\"choropleth\"}],\"contour\":[{\"colorbar\":{\"outlinewidth\":0,\"ticks\":\"\"},\"colorscale\":[[0.0,\"#0d0887\"],[0.1111111111111111,\"#46039f\"],[0.2222222222222222,\"#7201a8\"],[0.3333333333333333,\"#9c179e\"],[0.4444444444444444,\"#bd3786\"],[0.5555555555555556,\"#d8576b\"],[0.6666666666666666,\"#ed7953\"],[0.7777777777777778,\"#fb9f3a\"],[0.8888888888888888,\"#fdca26\"],[1.0,\"#f0f921\"]],\"type\":\"contour\"}],\"contourcarpet\":[{\"colorbar\":{\"outlinewidth\":0,\"ticks\":\"\"},\"type\":\"contourcarpet\"}],\"heatmap\":[{\"colorbar\":{\"outlinewidth\":0,\"ticks\":\"\"},\"colorscale\":[[0.0,\"#0d0887\"],[0.1111111111111111,\"#46039f\"],[0.2222222222222222,\"#7201a8\"],[0.3333333333333333,\"#9c179e\"],[0.4444444444444444,\"#bd3786\"],[0.5555555555555556,\"#d8576b\"],[0.6666666666666666,\"#ed7953\"],[0.7777777777777778,\"#fb9f3a\"],[0.8888888888888888,\"#fdca26\"],[1.0,\"#f0f921\"]],\"type\":\"heatmap\"}],\"heatmapgl\":[{\"colorbar\":{\"outlinewidth\":0,\"ticks\":\"\"},\"colorscale\":[[0.0,\"#0d0887\"],[0.1111111111111111,\"#46039f\"],[0.2222222222222222,\"#7201a8\"],[0.3333333333333333,\"#9c179e\"],[0.4444444444444444,\"#bd3786\"],[0.5555555555555556,\"#d8576b\"],[0.6666666666666666,\"#ed7953\"],[0.7777777777777778,\"#fb9f3a\"],[0.8888888888888888,\"#fdca26\"],[1.0,\"#f0f921\"]],\"type\":\"heatmapgl\"}],\"histogram\":[{\"marker\":{\"pattern\":{\"fillmode\":\"overlay\",\"size\":10,\"solidity\":0.2}},\"type\":\"histogram\"}],\"histogram2d\":[{\"colorbar\":{\"outlinewidth\":0,\"ticks\":\"\"},\"colorscale\":[[0.0,\"#0d0887\"],[0.1111111111111111,\"#46039f\"],[0.2222222222222222,\"#7201a8\"],[0.3333333333333333,\"#9c179e\"],[0.4444444444444444,\"#bd3786\"],[0.5555555555555556,\"#d8576b\"],[0.6666666666666666,\"#ed7953\"],[0.7777777777777778,\"#fb9f3a\"],[0.8888888888888888,\"#fdca26\"],[1.0,\"#f0f921\"]],\"type\":\"histogram2d\"}],\"histogram2dcontour\":[{\"colorbar\":{\"outlinewidth\":0,\"ticks\":\"\"},\"colorscale\":[[0.0,\"#0d0887\"],[0.1111111111111111,\"#46039f\"],[0.2222222222222222,\"#7201a8\"],[0.3333333333333333,\"#9c179e\"],[0.4444444444444444,\"#bd3786\"],[0.5555555555555556,\"#d8576b\"],[0.6666666666666666,\"#ed7953\"],[0.7777777777777778,\"#fb9f3a\"],[0.8888888888888888,\"#fdca26\"],[1.0,\"#f0f921\"]],\"type\":\"histogram2dcontour\"}],\"mesh3d\":[{\"colorbar\":{\"outlinewidth\":0,\"ticks\":\"\"},\"type\":\"mesh3d\"}],\"parcoords\":[{\"line\":{\"colorbar\":{\"outlinewidth\":0,\"ticks\":\"\"}},\"type\":\"parcoords\"}],\"pie\":[{\"automargin\":true,\"type\":\"pie\"}],\"scatter\":[{\"marker\":{\"colorbar\":{\"outlinewidth\":0,\"ticks\":\"\"}},\"type\":\"scatter\"}],\"scatter3d\":[{\"line\":{\"colorbar\":{\"outlinewidth\":0,\"ticks\":\"\"}},\"marker\":{\"colorbar\":{\"outlinewidth\":0,\"ticks\":\"\"}},\"type\":\"scatter3d\"}],\"scattercarpet\":[{\"marker\":{\"colorbar\":{\"outlinewidth\":0,\"ticks\":\"\"}},\"type\":\"scattercarpet\"}],\"scattergeo\":[{\"marker\":{\"colorbar\":{\"outlinewidth\":0,\"ticks\":\"\"}},\"type\":\"scattergeo\"}],\"scattergl\":[{\"marker\":{\"colorbar\":{\"outlinewidth\":0,\"ticks\":\"\"}},\"type\":\"scattergl\"}],\"scattermapbox\":[{\"marker\":{\"colorbar\":{\"outlinewidth\":0,\"ticks\":\"\"}},\"type\":\"scattermapbox\"}],\"scatterpolar\":[{\"marker\":{\"colorbar\":{\"outlinewidth\":0,\"ticks\":\"\"}},\"type\":\"scatterpolar\"}],\"scatterpolargl\":[{\"marker\":{\"colorbar\":{\"outlinewidth\":0,\"ticks\":\"\"}},\"type\":\"scatterpolargl\"}],\"scatterternary\":[{\"marker\":{\"colorbar\":{\"outlinewidth\":0,\"ticks\":\"\"}},\"type\":\"scatterternary\"}],\"surface\":[{\"colorbar\":{\"outlinewidth\":0,\"ticks\":\"\"},\"colorscale\":[[0.0,\"#0d0887\"],[0.1111111111111111,\"#46039f\"],[0.2222222222222222,\"#7201a8\"],[0.3333333333333333,\"#9c179e\"],[0.4444444444444444,\"#bd3786\"],[0.5555555555555556,\"#d8576b\"],[0.6666666666666666,\"#ed7953\"],[0.7777777777777778,\"#fb9f3a\"],[0.8888888888888888,\"#fdca26\"],[1.0,\"#f0f921\"]],\"type\":\"surface\"}],\"table\":[{\"cells\":{\"fill\":{\"color\":\"#EBF0F8\"},\"line\":{\"color\":\"white\"}},\"header\":{\"fill\":{\"color\":\"#C8D4E3\"},\"line\":{\"color\":\"white\"}},\"type\":\"table\"}]},\"layout\":{\"annotationdefaults\":{\"arrowcolor\":\"#2a3f5f\",\"arrowhead\":0,\"arrowwidth\":1},\"autotypenumbers\":\"strict\",\"coloraxis\":{\"colorbar\":{\"outlinewidth\":0,\"ticks\":\"\"}},\"colorscale\":{\"diverging\":[[0,\"#8e0152\"],[0.1,\"#c51b7d\"],[0.2,\"#de77ae\"],[0.3,\"#f1b6da\"],[0.4,\"#fde0ef\"],[0.5,\"#f7f7f7\"],[0.6,\"#e6f5d0\"],[0.7,\"#b8e186\"],[0.8,\"#7fbc41\"],[0.9,\"#4d9221\"],[1,\"#276419\"]],\"sequential\":[[0.0,\"#0d0887\"],[0.1111111111111111,\"#46039f\"],[0.2222222222222222,\"#7201a8\"],[0.3333333333333333,\"#9c179e\"],[0.4444444444444444,\"#bd3786\"],[0.5555555555555556,\"#d8576b\"],[0.6666666666666666,\"#ed7953\"],[0.7777777777777778,\"#fb9f3a\"],[0.8888888888888888,\"#fdca26\"],[1.0,\"#f0f921\"]],\"sequentialminus\":[[0.0,\"#0d0887\"],[0.1111111111111111,\"#46039f\"],[0.2222222222222222,\"#7201a8\"],[0.3333333333333333,\"#9c179e\"],[0.4444444444444444,\"#bd3786\"],[0.5555555555555556,\"#d8576b\"],[0.6666666666666666,\"#ed7953\"],[0.7777777777777778,\"#fb9f3a\"],[0.8888888888888888,\"#fdca26\"],[1.0,\"#f0f921\"]]},\"colorway\":[\"#636efa\",\"#EF553B\",\"#00cc96\",\"#ab63fa\",\"#FFA15A\",\"#19d3f3\",\"#FF6692\",\"#B6E880\",\"#FF97FF\",\"#FECB52\"],\"font\":{\"color\":\"#2a3f5f\"},\"geo\":{\"bgcolor\":\"white\",\"lakecolor\":\"white\",\"landcolor\":\"#E5ECF6\",\"showlakes\":true,\"showland\":true,\"subunitcolor\":\"white\"},\"hoverlabel\":{\"align\":\"left\"},\"hovermode\":\"closest\",\"mapbox\":{\"style\":\"light\"},\"paper_bgcolor\":\"white\",\"plot_bgcolor\":\"#E5ECF6\",\"polar\":{\"angularaxis\":{\"gridcolor\":\"white\",\"linecolor\":\"white\",\"ticks\":\"\"},\"bgcolor\":\"#E5ECF6\",\"radialaxis\":{\"gridcolor\":\"white\",\"linecolor\":\"white\",\"ticks\":\"\"}},\"scene\":{\"xaxis\":{\"backgroundcolor\":\"#E5ECF6\",\"gridcolor\":\"white\",\"gridwidth\":2,\"linecolor\":\"white\",\"showbackground\":true,\"ticks\":\"\",\"zerolinecolor\":\"white\"},\"yaxis\":{\"backgroundcolor\":\"#E5ECF6\",\"gridcolor\":\"white\",\"gridwidth\":2,\"linecolor\":\"white\",\"showbackground\":true,\"ticks\":\"\",\"zerolinecolor\":\"white\"},\"zaxis\":{\"backgroundcolor\":\"#E5ECF6\",\"gridcolor\":\"white\",\"gridwidth\":2,\"linecolor\":\"white\",\"showbackground\":true,\"ticks\":\"\",\"zerolinecolor\":\"white\"}},\"shapedefaults\":{\"line\":{\"color\":\"#2a3f5f\"}},\"ternary\":{\"aaxis\":{\"gridcolor\":\"white\",\"linecolor\":\"white\",\"ticks\":\"\"},\"baxis\":{\"gridcolor\":\"white\",\"linecolor\":\"white\",\"ticks\":\"\"},\"bgcolor\":\"#E5ECF6\",\"caxis\":{\"gridcolor\":\"white\",\"linecolor\":\"white\",\"ticks\":\"\"}},\"title\":{\"x\":0.05},\"xaxis\":{\"automargin\":true,\"gridcolor\":\"white\",\"linecolor\":\"white\",\"ticks\":\"\",\"title\":{\"standoff\":15},\"zerolinecolor\":\"white\",\"zerolinewidth\":2},\"yaxis\":{\"automargin\":true,\"gridcolor\":\"white\",\"linecolor\":\"white\",\"ticks\":\"\",\"title\":{\"standoff\":15},\"zerolinecolor\":\"white\",\"zerolinewidth\":2}}},\"xaxis\":{\"anchor\":\"y\",\"domain\":[0.0,1.0],\"title\":{\"text\":\"Timestamp\"},\"showgrid\":false},\"yaxis\":{\"anchor\":\"x\",\"domain\":[0.0,1.0],\"title\":{\"text\":\"Close price\"},\"showgrid\":false},\"legend\":{\"title\":{\"text\":\"Stock\"},\"tracegroupgap\":0},\"margin\":{\"t\":60},\"title\":{\"text\":\"Plotting whole closing price with prediction\"},\"font\":{\"size\":15,\"color\":\"black\"},\"plot_bgcolor\":\"white\"},                        {\"responsive\": true}                    ).then(function(){\n",
       "                            \n",
       "var gd = document.getElementById('5850da96-e961-401a-b602-d3169b2c8e72');\n",
       "var x = new MutationObserver(function (mutations, observer) {{\n",
       "        var display = window.getComputedStyle(gd).display;\n",
       "        if (!display || display === 'none') {{\n",
       "            console.log([gd, 'removed!']);\n",
       "            Plotly.purge(gd);\n",
       "            observer.disconnect();\n",
       "        }}\n",
       "}});\n",
       "\n",
       "// Listen for the removal of the full notebook cells\n",
       "var notebookContainer = gd.closest('#notebook-container');\n",
       "if (notebookContainer) {{\n",
       "    x.observe(notebookContainer, {childList: true});\n",
       "}}\n",
       "\n",
       "// Listen for the clearing of the current output cell\n",
       "var outputEl = gd.closest('.output');\n",
       "if (outputEl) {{\n",
       "    x.observe(outputEl, {childList: true});\n",
       "}}\n",
       "\n",
       "                        })                };                });            </script>        </div>"
      ]
     },
     "metadata": {},
     "output_type": "display_data"
    }
   ],
   "source": [
    "my_model=closedf.tolist()\n",
    "my_model.extend((np.array(lst_output).reshape(-1,1)).tolist())\n",
    "my_model=scaler.inverse_transform(my_model).reshape(1,-1).tolist()[0]\n",
    "\n",
    "names = cycle(['Close Price'])\n",
    "\n",
    "fig = px.line(my_model,labels={'value': 'Close price','index': 'Timestamp'})\n",
    "fig.update_layout(title_text='Plotting whole closing price with prediction',\n",
    "                  plot_bgcolor='white', font_size=15, font_color='black',legend_title_text='Stock')\n",
    "fig.for_each_trace(lambda t:  t.update(name = next(names)))\n",
    "fig.update_xaxes(showgrid=False)\n",
    "fig.update_yaxes(showgrid=False)\n",
    "fig.show()"
   ]
  },
  {
   "cell_type": "code",
   "execution_count": null,
   "id": "99af94d8",
   "metadata": {},
   "outputs": [],
   "source": []
  },
  {
   "cell_type": "code",
   "execution_count": null,
   "id": "b328f7b5",
   "metadata": {},
   "outputs": [],
   "source": []
  },
  {
   "cell_type": "code",
   "execution_count": null,
   "id": "6324148a",
   "metadata": {},
   "outputs": [],
   "source": []
  },
  {
   "cell_type": "code",
   "execution_count": null,
   "id": "4288fb5d",
   "metadata": {},
   "outputs": [],
   "source": []
  },
  {
   "cell_type": "code",
   "execution_count": null,
   "id": "0b76972d",
   "metadata": {},
   "outputs": [],
   "source": []
  }
 ],
 "metadata": {
  "kernelspec": {
   "display_name": "Python 3",
   "language": "python",
   "name": "python3"
  },
  "language_info": {
   "codemirror_mode": {
    "name": "ipython",
    "version": 3
   },
   "file_extension": ".py",
   "mimetype": "text/x-python",
   "name": "python",
   "nbconvert_exporter": "python",
   "pygments_lexer": "ipython3",
   "version": "3.8.8"
  }
 },
 "nbformat": 4,
 "nbformat_minor": 5
}
