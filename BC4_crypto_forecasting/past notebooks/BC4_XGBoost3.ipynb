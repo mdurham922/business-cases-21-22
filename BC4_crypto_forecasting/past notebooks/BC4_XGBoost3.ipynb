{
 "cells": [
  {
   "cell_type": "code",
   "execution_count": 59,
   "id": "f7c16037",
   "metadata": {},
   "outputs": [
    {
     "name": "stdout",
     "output_type": "stream",
     "text": [
      "Collecting xgboost\n",
      "  Downloading xgboost-1.6.0-py3-none-win_amd64.whl (126.1 MB)\n",
      "Requirement already satisfied: numpy in c:\\users\\mdurh\\anaconda3\\lib\\site-packages (from xgboost) (1.22.2)\n",
      "Requirement already satisfied: scipy in c:\\users\\mdurh\\anaconda3\\lib\\site-packages (from xgboost) (1.6.2)\n",
      "Installing collected packages: xgboost\n",
      "Successfully installed xgboost-1.6.0\n",
      "Note: you may need to restart the kernel to use updated packages.\n"
     ]
    },
    {
     "name": "stderr",
     "output_type": "stream",
     "text": [
      "WARNING: You are using pip version 21.3.1; however, version 22.0.4 is available.\n",
      "You should consider upgrading via the 'C:\\Users\\mdurh\\anaconda3\\python.exe -m pip install --upgrade pip' command.\n"
     ]
    }
   ],
   "source": [
    "pip install xgboost"
   ]
  },
  {
   "cell_type": "code",
   "execution_count": null,
   "id": "38d1d18f",
   "metadata": {},
   "outputs": [],
   "source": [
    "#source: https://www.kaggle.com/code/ysthehurricane/bitcoin-dogecoin-etc-price-prediction-xgboost/comments"
   ]
  },
  {
   "cell_type": "code",
   "execution_count": 1,
   "id": "856b8846",
   "metadata": {},
   "outputs": [],
   "source": [
    "import pandas as pd\n",
    "import numpy as np\n",
    "import matplotlib.pyplot as plt\n",
    "import plotly.graph_objects as go \n",
    "import plotly.express as px\n",
    "import ta\n",
    "\n",
    "import math\n",
    "import datetime as dt\n",
    "\n",
    "from sklearn.metrics import mean_squared_error, mean_absolute_error, explained_variance_score, r2_score \n",
    "from sklearn.metrics import mean_poisson_deviance, mean_gamma_deviance, accuracy_score\n",
    "from sklearn.preprocessing import MinMaxScaler\n",
    "\n",
    "from itertools import cycle\n",
    "import plotly.graph_objects as go\n",
    "import plotly.express as px\n",
    "from plotly.subplots import make_subplots\n",
    "\n",
    "import seaborn as sns \n",
    "import matplotlib.pyplot as plt \n",
    "from colorama import Fore"
   ]
  },
  {
   "cell_type": "code",
   "execution_count": 2,
   "id": "e63d7d5f",
   "metadata": {},
   "outputs": [],
   "source": [
    "close=pd.read_csv('data/close.csv')\n",
    "adj_close=pd.read_csv('data/adj_close.csv')\n",
    "open=pd.read_csv('data/open.csv')\n",
    "high=pd.read_csv('data/open.csv')\n",
    "low=pd.read_csv('data/low.csv')\n",
    "volume=pd.read_csv('data/volume.csv')"
   ]
  },
  {
   "cell_type": "code",
   "execution_count": 3,
   "id": "661cccef",
   "metadata": {},
   "outputs": [],
   "source": [
    "from functools import reduce\n",
    "dataframes = [close, adj_close, open, high, low, volume]\n",
    "df_merged = reduce(lambda  left,right: pd.merge(left,right,on=['Date'], how='outer'), dataframes)"
   ]
  },
  {
   "cell_type": "code",
   "execution_count": 4,
   "id": "803f845d",
   "metadata": {},
   "outputs": [],
   "source": [
    "def currency(curr): \n",
    "    df=df_merged[['Date',curr+'_x', curr+'_y']]\n",
    "    df.columns = ['Date','Close', 'Adj_Close','Open','High', 'Low', 'Volume']\n",
    "    df = ta.utils.dropna(df)\n",
    "    return df"
   ]
  },
  {
   "cell_type": "code",
   "execution_count": 5,
   "id": "19f26b4f",
   "metadata": {},
   "outputs": [],
   "source": [
    "ada=currency('ADA-USD')\n",
    "atom=currency('ATOM-USD')\n",
    "avax=currency('AVAX-USD')\n",
    "axs=currency('AXS-USD')\n",
    "btc=currency('BTC-USD')\n",
    "eth=currency('ETH-USD')\n",
    "link=currency('LINK-USD')\n",
    "luna1=currency('LUNA1-USD')\n",
    "matic=currency('MATIC-USD')\n",
    "sol=currency('SOL-USD')\n",
    "\n",
    "#Dictionary with crypto names and datasets\n",
    "crypto_names = {'ADA-USD':ada, \n",
    "               'ATOM-USD':atom,\n",
    "               'AVAX-USD':avax,\n",
    "               'AXS-USD':axs,\n",
    "               'BTC-USD':btc,\n",
    "               'ETH-USD':eth,\n",
    "               'LINK-USD':link,\n",
    "               'LUNA1-USD':luna1,\n",
    "               'MATIC-USD':matic,\n",
    "               'SOL-USD':sol}"
   ]
  },
  {
   "cell_type": "code",
   "execution_count": 6,
   "id": "e5cca8fd",
   "metadata": {},
   "outputs": [
    {
     "data": {
      "text/html": [
       "<div>\n",
       "<style scoped>\n",
       "    .dataframe tbody tr th:only-of-type {\n",
       "        vertical-align: middle;\n",
       "    }\n",
       "\n",
       "    .dataframe tbody tr th {\n",
       "        vertical-align: top;\n",
       "    }\n",
       "\n",
       "    .dataframe thead th {\n",
       "        text-align: right;\n",
       "    }\n",
       "</style>\n",
       "<table border=\"1\" class=\"dataframe\">\n",
       "  <thead>\n",
       "    <tr style=\"text-align: right;\">\n",
       "      <th></th>\n",
       "      <th>Date</th>\n",
       "      <th>Close</th>\n",
       "      <th>Adj_Close</th>\n",
       "      <th>Open</th>\n",
       "      <th>High</th>\n",
       "      <th>Low</th>\n",
       "      <th>Volume</th>\n",
       "    </tr>\n",
       "  </thead>\n",
       "  <tbody>\n",
       "    <tr>\n",
       "      <th>0</th>\n",
       "      <td>2017-04-26</td>\n",
       "      <td>1281.079956</td>\n",
       "      <td>1265.989990</td>\n",
       "      <td>1265.930054</td>\n",
       "      <td>1281.079956</td>\n",
       "      <td>1265.989990</td>\n",
       "      <td>329631008</td>\n",
       "    </tr>\n",
       "    <tr>\n",
       "      <th>1</th>\n",
       "      <td>2017-04-27</td>\n",
       "      <td>1317.729980</td>\n",
       "      <td>1281.880005</td>\n",
       "      <td>1281.300049</td>\n",
       "      <td>1317.729980</td>\n",
       "      <td>1281.880005</td>\n",
       "      <td>449196992</td>\n",
       "    </tr>\n",
       "    <tr>\n",
       "      <th>2</th>\n",
       "      <td>2017-04-28</td>\n",
       "      <td>1316.479980</td>\n",
       "      <td>1317.739990</td>\n",
       "      <td>1292.369995</td>\n",
       "      <td>1316.479980</td>\n",
       "      <td>1317.739990</td>\n",
       "      <td>527488992</td>\n",
       "    </tr>\n",
       "    <tr>\n",
       "      <th>3</th>\n",
       "      <td>2017-04-29</td>\n",
       "      <td>1321.790039</td>\n",
       "      <td>1317.839966</td>\n",
       "      <td>1315.209961</td>\n",
       "      <td>1321.790039</td>\n",
       "      <td>1317.839966</td>\n",
       "      <td>422705984</td>\n",
       "    </tr>\n",
       "    <tr>\n",
       "      <th>4</th>\n",
       "      <td>2017-04-30</td>\n",
       "      <td>1347.890015</td>\n",
       "      <td>1321.869995</td>\n",
       "      <td>1314.920044</td>\n",
       "      <td>1347.890015</td>\n",
       "      <td>1321.869995</td>\n",
       "      <td>413115008</td>\n",
       "    </tr>\n",
       "    <tr>\n",
       "      <th>...</th>\n",
       "      <td>...</td>\n",
       "      <td>...</td>\n",
       "      <td>...</td>\n",
       "      <td>...</td>\n",
       "      <td>...</td>\n",
       "      <td>...</td>\n",
       "      <td>...</td>\n",
       "    </tr>\n",
       "    <tr>\n",
       "      <th>1821</th>\n",
       "      <td>2022-04-21</td>\n",
       "      <td>40527.363281</td>\n",
       "      <td>41371.515625</td>\n",
       "      <td>40063.828125</td>\n",
       "      <td>40527.363281</td>\n",
       "      <td>41371.515625</td>\n",
       "      <td>35372786395</td>\n",
       "    </tr>\n",
       "    <tr>\n",
       "      <th>1822</th>\n",
       "      <td>2022-04-22</td>\n",
       "      <td>39740.320312</td>\n",
       "      <td>40525.863281</td>\n",
       "      <td>39315.417969</td>\n",
       "      <td>39740.320312</td>\n",
       "      <td>40525.863281</td>\n",
       "      <td>28011716745</td>\n",
       "    </tr>\n",
       "    <tr>\n",
       "      <th>1823</th>\n",
       "      <td>2022-04-23</td>\n",
       "      <td>39486.730469</td>\n",
       "      <td>39738.722656</td>\n",
       "      <td>39352.203125</td>\n",
       "      <td>39486.730469</td>\n",
       "      <td>39738.722656</td>\n",
       "      <td>16138021249</td>\n",
       "    </tr>\n",
       "    <tr>\n",
       "      <th>1824</th>\n",
       "      <td>2022-04-24</td>\n",
       "      <td>39469.292969</td>\n",
       "      <td>39478.375000</td>\n",
       "      <td>39233.539062</td>\n",
       "      <td>39469.292969</td>\n",
       "      <td>39478.375000</td>\n",
       "      <td>17964398167</td>\n",
       "    </tr>\n",
       "    <tr>\n",
       "      <th>1825</th>\n",
       "      <td>2022-04-25</td>\n",
       "      <td>40458.308594</td>\n",
       "      <td>39472.605469</td>\n",
       "      <td>38338.378906</td>\n",
       "      <td>40458.308594</td>\n",
       "      <td>39472.605469</td>\n",
       "      <td>35445730570</td>\n",
       "    </tr>\n",
       "  </tbody>\n",
       "</table>\n",
       "<p>1826 rows × 7 columns</p>\n",
       "</div>"
      ],
      "text/plain": [
       "            Date         Close     Adj_Close          Open          High  \\\n",
       "0     2017-04-26   1281.079956   1265.989990   1265.930054   1281.079956   \n",
       "1     2017-04-27   1317.729980   1281.880005   1281.300049   1317.729980   \n",
       "2     2017-04-28   1316.479980   1317.739990   1292.369995   1316.479980   \n",
       "3     2017-04-29   1321.790039   1317.839966   1315.209961   1321.790039   \n",
       "4     2017-04-30   1347.890015   1321.869995   1314.920044   1347.890015   \n",
       "...          ...           ...           ...           ...           ...   \n",
       "1821  2022-04-21  40527.363281  41371.515625  40063.828125  40527.363281   \n",
       "1822  2022-04-22  39740.320312  40525.863281  39315.417969  39740.320312   \n",
       "1823  2022-04-23  39486.730469  39738.722656  39352.203125  39486.730469   \n",
       "1824  2022-04-24  39469.292969  39478.375000  39233.539062  39469.292969   \n",
       "1825  2022-04-25  40458.308594  39472.605469  38338.378906  40458.308594   \n",
       "\n",
       "               Low       Volume  \n",
       "0      1265.989990    329631008  \n",
       "1      1281.880005    449196992  \n",
       "2      1317.739990    527488992  \n",
       "3      1317.839966    422705984  \n",
       "4      1321.869995    413115008  \n",
       "...            ...          ...  \n",
       "1821  41371.515625  35372786395  \n",
       "1822  40525.863281  28011716745  \n",
       "1823  39738.722656  16138021249  \n",
       "1824  39478.375000  17964398167  \n",
       "1825  39472.605469  35445730570  \n",
       "\n",
       "[1826 rows x 7 columns]"
      ]
     },
     "execution_count": 6,
     "metadata": {},
     "output_type": "execute_result"
    }
   ],
   "source": [
    "btc"
   ]
  },
  {
   "cell_type": "code",
   "execution_count": 6,
   "id": "23217228",
   "metadata": {},
   "outputs": [
    {
     "name": "stdout",
     "output_type": "stream",
     "text": [
      "Scaled Root Mean squared Error - RMSE : 0.047279502040918533\n",
      "Root Mean squared Error - RMSE : 1785.2494338862894\n"
     ]
    }
   ],
   "source": [
    "#baseline for a currency\n",
    "curr = btc[btc['Date'] > '2021-01-01']\n",
    "curr = curr['Close']\n",
    "curr_scale = pd.DataFrame(MinMaxScaler().fit_transform(np.array(curr).reshape(-1,1)))\n",
    "\n",
    "#scaled data\n",
    "baseline_ytest_scale = curr_scale[1:]\n",
    "baseline_predictions_scale = curr_scale[:-1]\n",
    "print(\"Scaled Root Mean squared Error - RMSE : \" + str(math.sqrt(mean_squared_error(baseline_ytest_scale, baseline_predictions_scale))))\n",
    "\n",
    "#unscaled data\n",
    "baseline_ytest = curr[1:]\n",
    "baseline_predictions = curr[:-1]\n",
    "\n",
    "print(\"Root Mean squared Error - RMSE : \" + str(math.sqrt(mean_squared_error(baseline_ytest, baseline_predictions))))"
   ]
  },
  {
   "cell_type": "code",
   "execution_count": 7,
   "id": "29ed3cd4",
   "metadata": {},
   "outputs": [
    {
     "name": "stderr",
     "output_type": "stream",
     "text": [
      "C:\\Users\\mdurh\\anaconda3\\lib\\site-packages\\ta\\trend.py:769: RuntimeWarning: invalid value encountered in double_scalars\n",
      "  dip[idx] = 100 * (self._dip[idx] / value)\n",
      "C:\\Users\\mdurh\\anaconda3\\lib\\site-packages\\ta\\trend.py:774: RuntimeWarning: invalid value encountered in double_scalars\n",
      "  din[idx] = 100 * (self._din[idx] / value)\n"
     ]
    }
   ],
   "source": [
    "# Add all ta features filling nans values\n",
    "df = ta.add_all_ta_features(btc, \"Open\", \"High\", \"Low\", \"Close\", \"Volume\", fillna=True)"
   ]
  },
  {
   "cell_type": "code",
   "execution_count": 8,
   "id": "63c1ee9f",
   "metadata": {},
   "outputs": [
    {
     "data": {
      "text/plain": [
       "Index(['Date', 'Close', 'Adj_Close', 'Open', 'High', 'Low', 'Volume',\n",
       "       'volume_adi', 'volume_obv', 'volume_cmf', 'volume_fi', 'volume_em',\n",
       "       'volume_sma_em', 'volume_vpt', 'volume_vwap', 'volume_mfi',\n",
       "       'volume_nvi', 'volatility_bbm', 'volatility_bbh', 'volatility_bbl',\n",
       "       'volatility_bbw', 'volatility_bbp', 'volatility_bbhi',\n",
       "       'volatility_bbli', 'volatility_kcc', 'volatility_kch', 'volatility_kcl',\n",
       "       'volatility_kcw', 'volatility_kcp', 'volatility_kchi',\n",
       "       'volatility_kcli', 'volatility_dcl', 'volatility_dch', 'volatility_dcm',\n",
       "       'volatility_dcw', 'volatility_dcp', 'volatility_atr', 'volatility_ui',\n",
       "       'trend_macd', 'trend_macd_signal', 'trend_macd_diff', 'trend_sma_fast',\n",
       "       'trend_sma_slow', 'trend_ema_fast', 'trend_ema_slow',\n",
       "       'trend_vortex_ind_pos', 'trend_vortex_ind_neg', 'trend_vortex_ind_diff',\n",
       "       'trend_trix', 'trend_mass_index', 'trend_dpo', 'trend_kst',\n",
       "       'trend_kst_sig', 'trend_kst_diff', 'trend_ichimoku_conv',\n",
       "       'trend_ichimoku_base', 'trend_ichimoku_a', 'trend_ichimoku_b',\n",
       "       'trend_stc', 'trend_adx', 'trend_adx_pos', 'trend_adx_neg', 'trend_cci',\n",
       "       'trend_visual_ichimoku_a', 'trend_visual_ichimoku_b', 'trend_aroon_up',\n",
       "       'trend_aroon_down', 'trend_aroon_ind', 'trend_psar_up',\n",
       "       'trend_psar_down', 'trend_psar_up_indicator',\n",
       "       'trend_psar_down_indicator', 'momentum_rsi', 'momentum_stoch_rsi',\n",
       "       'momentum_stoch_rsi_k', 'momentum_stoch_rsi_d', 'momentum_tsi',\n",
       "       'momentum_uo', 'momentum_stoch', 'momentum_stoch_signal', 'momentum_wr',\n",
       "       'momentum_ao', 'momentum_roc', 'momentum_ppo', 'momentum_ppo_signal',\n",
       "       'momentum_ppo_hist', 'momentum_pvo', 'momentum_pvo_signal',\n",
       "       'momentum_pvo_hist', 'momentum_kama', 'others_dr', 'others_dlr',\n",
       "       'others_cr'],\n",
       "      dtype='object')"
      ]
     },
     "execution_count": 8,
     "metadata": {},
     "output_type": "execute_result"
    }
   ],
   "source": [
    "df.columns"
   ]
  },
  {
   "cell_type": "code",
   "execution_count": 12,
   "id": "82be9b21",
   "metadata": {},
   "outputs": [
    {
     "data": {
      "text/plain": [
       "[<matplotlib.lines.Line2D at 0x2d2659eae20>]"
      ]
     },
     "execution_count": 12,
     "metadata": {},
     "output_type": "execute_result"
    },
    {
     "data": {
      "image/png": "[encoded data removed]",
      "text/plain": [
       "<Figure size 432x288 with 1 Axes>"
      ]
     },
     "metadata": {
      "needs_background": "light"
     },
     "output_type": "display_data"
    }
   ],
   "source": [
    "plt.plot(luna1.Close)"
   ]
  },
  {
   "cell_type": "code",
   "execution_count": 53,
   "id": "5b8b1623",
   "metadata": {},
   "outputs": [
    {
     "data": {
      "image/png": "[encoded data removed]",
      "text/plain": [
       "<Figure size 432x288 with 1 Axes>"
      ]
     },
     "metadata": {
      "needs_background": "light"
     },
     "output_type": "display_data"
    }
   ],
   "source": [
    "### Bollinger Bands\n",
    "\n",
    "plt.plot(df[1750:1825].Close)\n",
    "plt.plot(df[1750:1825].volatility_bbh, label='High BB')\n",
    "plt.plot(df[1750:1825].volatility_bbl, label='Low BB')\n",
    "plt.plot(df[1750:1825].volatility_bbm, label='EMA BB')\n",
    "plt.title('Bollinger Bands')\n",
    "plt.legend()\n",
    "plt.show()"
   ]
  },
  {
   "cell_type": "code",
   "execution_count": 55,
   "id": "bc67fcc8",
   "metadata": {},
   "outputs": [
    {
     "data": {
      "image/png": "[encoded data removed]",
      "text/plain": [
       "<Figure size 432x288 with 1 Axes>"
      ]
     },
     "metadata": {
      "needs_background": "light"
     },
     "output_type": "display_data"
    }
   ],
   "source": [
    "### MACD\n",
    "\n",
    "plt.plot(df[1750:1825].trend_macd, label='MACD')\n",
    "plt.plot(df[1750:1825].trend_macd_signal, label='MACD Signal')\n",
    "plt.plot(df[1750:1825].trend_macd_diff, label='MACD Difference')\n",
    "plt.title('MACD, MACD Signal and MACD Difference')\n",
    "plt.legend()\n",
    "plt.show()"
   ]
  },
  {
   "cell_type": "markdown",
   "id": "0af6a81d",
   "metadata": {},
   "source": [
    "### Preprocessing"
   ]
  },
  {
   "cell_type": "code",
   "execution_count": 15,
   "id": "f89e221c",
   "metadata": {},
   "outputs": [],
   "source": [
    "bitcoindf = btc.copy()\n",
    "bitcoindf = bitcoindf.rename(columns={'Date': 'date','Open':'open','High':'high','Low':'low','Close':'close',\n",
    "                                'Adj Close':'adj_close','Volume':'volume'})"
   ]
  },
  {
   "cell_type": "code",
   "execution_count": 16,
   "id": "716d590c",
   "metadata": {},
   "outputs": [
    {
     "data": {
      "text/html": [
       "<style  type=\"text/css\" >\n",
       "#T_9a8cb_row0_col0,#T_9a8cb_row0_col1,#T_9a8cb_row1_col0,#T_9a8cb_row1_col1,#T_9a8cb_row2_col0,#T_9a8cb_row2_col1,#T_9a8cb_row3_col0,#T_9a8cb_row3_col1,#T_9a8cb_row4_col0,#T_9a8cb_row4_col1{\n",
       "            background-color:  skyblue;\n",
       "        }</style><table id=\"T_9a8cb_\" ><thead>    <tr>        <th class=\"blank level0\" ></th>        <th class=\"col_heading level0 col0\" >date</th>        <th class=\"col_heading level0 col1\" >close</th>        <th class=\"col_heading level0 col2\" >Adj_Close</th>        <th class=\"col_heading level0 col3\" >open</th>        <th class=\"col_heading level0 col4\" >high</th>        <th class=\"col_heading level0 col5\" >low</th>        <th class=\"col_heading level0 col6\" >volume</th>        <th class=\"col_heading level0 col7\" >volume_adi</th>        <th class=\"col_heading level0 col8\" >volume_obv</th>        <th class=\"col_heading level0 col9\" >volume_cmf</th>        <th class=\"col_heading level0 col10\" >volume_fi</th>        <th class=\"col_heading level0 col11\" >volume_em</th>        <th class=\"col_heading level0 col12\" >volume_sma_em</th>        <th class=\"col_heading level0 col13\" >volume_vpt</th>        <th class=\"col_heading level0 col14\" >volume_vwap</th>        <th class=\"col_heading level0 col15\" >volume_mfi</th>        <th class=\"col_heading level0 col16\" >volume_nvi</th>        <th class=\"col_heading level0 col17\" >volatility_bbm</th>        <th class=\"col_heading level0 col18\" >volatility_bbh</th>        <th class=\"col_heading level0 col19\" >volatility_bbl</th>        <th class=\"col_heading level0 col20\" >volatility_bbw</th>        <th class=\"col_heading level0 col21\" >volatility_bbp</th>        <th class=\"col_heading level0 col22\" >volatility_bbhi</th>        <th class=\"col_heading level0 col23\" >volatility_bbli</th>        <th class=\"col_heading level0 col24\" >volatility_kcc</th>        <th class=\"col_heading level0 col25\" >volatility_kch</th>        <th class=\"col_heading level0 col26\" >volatility_kcl</th>        <th class=\"col_heading level0 col27\" >volatility_kcw</th>        <th class=\"col_heading level0 col28\" >volatility_kcp</th>        <th class=\"col_heading level0 col29\" >volatility_kchi</th>        <th class=\"col_heading level0 col30\" >volatility_kcli</th>        <th class=\"col_heading level0 col31\" >volatility_dcl</th>        <th class=\"col_heading level0 col32\" >volatility_dch</th>        <th class=\"col_heading level0 col33\" >volatility_dcm</th>        <th class=\"col_heading level0 col34\" >volatility_dcw</th>        <th class=\"col_heading level0 col35\" >volatility_dcp</th>        <th class=\"col_heading level0 col36\" >volatility_atr</th>        <th class=\"col_heading level0 col37\" >volatility_ui</th>        <th class=\"col_heading level0 col38\" >trend_macd</th>        <th class=\"col_heading level0 col39\" >trend_macd_signal</th>        <th class=\"col_heading level0 col40\" >trend_macd_diff</th>        <th class=\"col_heading level0 col41\" >trend_sma_fast</th>        <th class=\"col_heading level0 col42\" >trend_sma_slow</th>        <th class=\"col_heading level0 col43\" >trend_ema_fast</th>        <th class=\"col_heading level0 col44\" >trend_ema_slow</th>        <th class=\"col_heading level0 col45\" >trend_vortex_ind_pos</th>        <th class=\"col_heading level0 col46\" >trend_vortex_ind_neg</th>        <th class=\"col_heading level0 col47\" >trend_vortex_ind_diff</th>        <th class=\"col_heading level0 col48\" >trend_trix</th>        <th class=\"col_heading level0 col49\" >trend_mass_index</th>        <th class=\"col_heading level0 col50\" >trend_dpo</th>        <th class=\"col_heading level0 col51\" >trend_kst</th>        <th class=\"col_heading level0 col52\" >trend_kst_sig</th>        <th class=\"col_heading level0 col53\" >trend_kst_diff</th>        <th class=\"col_heading level0 col54\" >trend_ichimoku_conv</th>        <th class=\"col_heading level0 col55\" >trend_ichimoku_base</th>        <th class=\"col_heading level0 col56\" >trend_ichimoku_a</th>        <th class=\"col_heading level0 col57\" >trend_ichimoku_b</th>        <th class=\"col_heading level0 col58\" >trend_stc</th>        <th class=\"col_heading level0 col59\" >trend_adx</th>        <th class=\"col_heading level0 col60\" >trend_adx_pos</th>        <th class=\"col_heading level0 col61\" >trend_adx_neg</th>        <th class=\"col_heading level0 col62\" >trend_cci</th>        <th class=\"col_heading level0 col63\" >trend_visual_ichimoku_a</th>        <th class=\"col_heading level0 col64\" >trend_visual_ichimoku_b</th>        <th class=\"col_heading level0 col65\" >trend_aroon_up</th>        <th class=\"col_heading level0 col66\" >trend_aroon_down</th>        <th class=\"col_heading level0 col67\" >trend_aroon_ind</th>        <th class=\"col_heading level0 col68\" >trend_psar_up</th>        <th class=\"col_heading level0 col69\" >trend_psar_down</th>        <th class=\"col_heading level0 col70\" >trend_psar_up_indicator</th>        <th class=\"col_heading level0 col71\" >trend_psar_down_indicator</th>        <th class=\"col_heading level0 col72\" >momentum_rsi</th>        <th class=\"col_heading level0 col73\" >momentum_stoch_rsi</th>        <th class=\"col_heading level0 col74\" >momentum_stoch_rsi_k</th>        <th class=\"col_heading level0 col75\" >momentum_stoch_rsi_d</th>        <th class=\"col_heading level0 col76\" >momentum_tsi</th>        <th class=\"col_heading level0 col77\" >momentum_uo</th>        <th class=\"col_heading level0 col78\" >momentum_stoch</th>        <th class=\"col_heading level0 col79\" >momentum_stoch_signal</th>        <th class=\"col_heading level0 col80\" >momentum_wr</th>        <th class=\"col_heading level0 col81\" >momentum_ao</th>        <th class=\"col_heading level0 col82\" >momentum_roc</th>        <th class=\"col_heading level0 col83\" >momentum_ppo</th>        <th class=\"col_heading level0 col84\" >momentum_ppo_signal</th>        <th class=\"col_heading level0 col85\" >momentum_ppo_hist</th>        <th class=\"col_heading level0 col86\" >momentum_pvo</th>        <th class=\"col_heading level0 col87\" >momentum_pvo_signal</th>        <th class=\"col_heading level0 col88\" >momentum_pvo_hist</th>        <th class=\"col_heading level0 col89\" >momentum_kama</th>        <th class=\"col_heading level0 col90\" >others_dr</th>        <th class=\"col_heading level0 col91\" >others_dlr</th>        <th class=\"col_heading level0 col92\" >others_cr</th>    </tr></thead><tbody>\n",
       "                <tr>\n",
       "                        <th id=\"T_9a8cb_level0_row0\" class=\"row_heading level0 row0\" >0</th>\n",
       "                        <td id=\"T_9a8cb_row0_col0\" class=\"data row0 col0\" >2017-04-26 00:00:00</td>\n",
       "                        <td id=\"T_9a8cb_row0_col1\" class=\"data row0 col1\" >1281.079956</td>\n",
       "                        <td id=\"T_9a8cb_row0_col2\" class=\"data row0 col2\" >1265.989990</td>\n",
       "                        <td id=\"T_9a8cb_row0_col3\" class=\"data row0 col3\" >1265.930054</td>\n",
       "                        <td id=\"T_9a8cb_row0_col4\" class=\"data row0 col4\" >1281.079956</td>\n",
       "                        <td id=\"T_9a8cb_row0_col5\" class=\"data row0 col5\" >1265.989990</td>\n",
       "                        <td id=\"T_9a8cb_row0_col6\" class=\"data row0 col6\" >329631008</td>\n",
       "                        <td id=\"T_9a8cb_row0_col7\" class=\"data row0 col7\" >329631008.000000</td>\n",
       "                        <td id=\"T_9a8cb_row0_col8\" class=\"data row0 col8\" >329631008</td>\n",
       "                        <td id=\"T_9a8cb_row0_col9\" class=\"data row0 col9\" >1.000000</td>\n",
       "                        <td id=\"T_9a8cb_row0_col10\" class=\"data row0 col10\" >0.000000</td>\n",
       "                        <td id=\"T_9a8cb_row0_col11\" class=\"data row0 col11\" >0.000000</td>\n",
       "                        <td id=\"T_9a8cb_row0_col12\" class=\"data row0 col12\" >0.000000</td>\n",
       "                        <td id=\"T_9a8cb_row0_col13\" class=\"data row0 col13\" >-249484793.277680</td>\n",
       "                        <td id=\"T_9a8cb_row0_col14\" class=\"data row0 col14\" >1276.049967</td>\n",
       "                        <td id=\"T_9a8cb_row0_col15\" class=\"data row0 col15\" >50.000000</td>\n",
       "                        <td id=\"T_9a8cb_row0_col16\" class=\"data row0 col16\" >1000.000000</td>\n",
       "                        <td id=\"T_9a8cb_row0_col17\" class=\"data row0 col17\" >1281.079956</td>\n",
       "                        <td id=\"T_9a8cb_row0_col18\" class=\"data row0 col18\" >1281.079956</td>\n",
       "                        <td id=\"T_9a8cb_row0_col19\" class=\"data row0 col19\" >1281.079956</td>\n",
       "                        <td id=\"T_9a8cb_row0_col20\" class=\"data row0 col20\" >0.000000</td>\n",
       "                        <td id=\"T_9a8cb_row0_col21\" class=\"data row0 col21\" >0.000000</td>\n",
       "                        <td id=\"T_9a8cb_row0_col22\" class=\"data row0 col22\" >0.000000</td>\n",
       "                        <td id=\"T_9a8cb_row0_col23\" class=\"data row0 col23\" >0.000000</td>\n",
       "                        <td id=\"T_9a8cb_row0_col24\" class=\"data row0 col24\" >1276.049967</td>\n",
       "                        <td id=\"T_9a8cb_row0_col25\" class=\"data row0 col25\" >1291.139933</td>\n",
       "                        <td id=\"T_9a8cb_row0_col26\" class=\"data row0 col26\" >1260.960002</td>\n",
       "                        <td id=\"T_9a8cb_row0_col27\" class=\"data row0 col27\" >2.365106</td>\n",
       "                        <td id=\"T_9a8cb_row0_col28\" class=\"data row0 col28\" >0.666667</td>\n",
       "                        <td id=\"T_9a8cb_row0_col29\" class=\"data row0 col29\" >0.000000</td>\n",
       "                        <td id=\"T_9a8cb_row0_col30\" class=\"data row0 col30\" >0.000000</td>\n",
       "                        <td id=\"T_9a8cb_row0_col31\" class=\"data row0 col31\" >1265.989990</td>\n",
       "                        <td id=\"T_9a8cb_row0_col32\" class=\"data row0 col32\" >1281.079956</td>\n",
       "                        <td id=\"T_9a8cb_row0_col33\" class=\"data row0 col33\" >1273.534973</td>\n",
       "                        <td id=\"T_9a8cb_row0_col34\" class=\"data row0 col34\" >1.177910</td>\n",
       "                        <td id=\"T_9a8cb_row0_col35\" class=\"data row0 col35\" >1.000000</td>\n",
       "                        <td id=\"T_9a8cb_row0_col36\" class=\"data row0 col36\" >0.000000</td>\n",
       "                        <td id=\"T_9a8cb_row0_col37\" class=\"data row0 col37\" >0.000000</td>\n",
       "                        <td id=\"T_9a8cb_row0_col38\" class=\"data row0 col38\" >0.000000</td>\n",
       "                        <td id=\"T_9a8cb_row0_col39\" class=\"data row0 col39\" >0.000000</td>\n",
       "                        <td id=\"T_9a8cb_row0_col40\" class=\"data row0 col40\" >0.000000</td>\n",
       "                        <td id=\"T_9a8cb_row0_col41\" class=\"data row0 col41\" >1281.079956</td>\n",
       "                        <td id=\"T_9a8cb_row0_col42\" class=\"data row0 col42\" >1281.079956</td>\n",
       "                        <td id=\"T_9a8cb_row0_col43\" class=\"data row0 col43\" >1281.079956</td>\n",
       "                        <td id=\"T_9a8cb_row0_col44\" class=\"data row0 col44\" >1281.079956</td>\n",
       "                        <td id=\"T_9a8cb_row0_col45\" class=\"data row0 col45\" >0.000000</td>\n",
       "                        <td id=\"T_9a8cb_row0_col46\" class=\"data row0 col46\" >0.000000</td>\n",
       "                        <td id=\"T_9a8cb_row0_col47\" class=\"data row0 col47\" >0.000000</td>\n",
       "                        <td id=\"T_9a8cb_row0_col48\" class=\"data row0 col48\" >-92.713349</td>\n",
       "                        <td id=\"T_9a8cb_row0_col49\" class=\"data row0 col49\" >1.000000</td>\n",
       "                        <td id=\"T_9a8cb_row0_col50\" class=\"data row0 col50\" >16765.017052</td>\n",
       "                        <td id=\"T_9a8cb_row0_col51\" class=\"data row0 col51\" >-929.010691</td>\n",
       "                        <td id=\"T_9a8cb_row0_col52\" class=\"data row0 col52\" >-929.010691</td>\n",
       "                        <td id=\"T_9a8cb_row0_col53\" class=\"data row0 col53\" >0.000000</td>\n",
       "                        <td id=\"T_9a8cb_row0_col54\" class=\"data row0 col54\" >1273.534973</td>\n",
       "                        <td id=\"T_9a8cb_row0_col55\" class=\"data row0 col55\" >1273.534973</td>\n",
       "                        <td id=\"T_9a8cb_row0_col56\" class=\"data row0 col56\" >1273.534973</td>\n",
       "                        <td id=\"T_9a8cb_row0_col57\" class=\"data row0 col57\" >1273.534973</td>\n",
       "                        <td id=\"T_9a8cb_row0_col58\" class=\"data row0 col58\" >0.000000</td>\n",
       "                        <td id=\"T_9a8cb_row0_col59\" class=\"data row0 col59\" >0.000000</td>\n",
       "                        <td id=\"T_9a8cb_row0_col60\" class=\"data row0 col60\" >0.000000</td>\n",
       "                        <td id=\"T_9a8cb_row0_col61\" class=\"data row0 col61\" >0.000000</td>\n",
       "                        <td id=\"T_9a8cb_row0_col62\" class=\"data row0 col62\" >0.000000</td>\n",
       "                        <td id=\"T_9a8cb_row0_col63\" class=\"data row0 col63\" >17896.031352</td>\n",
       "                        <td id=\"T_9a8cb_row0_col64\" class=\"data row0 col64\" >17654.510580</td>\n",
       "                        <td id=\"T_9a8cb_row0_col65\" class=\"data row0 col65\" >4.000000</td>\n",
       "                        <td id=\"T_9a8cb_row0_col66\" class=\"data row0 col66\" >4.000000</td>\n",
       "                        <td id=\"T_9a8cb_row0_col67\" class=\"data row0 col67\" >0.000000</td>\n",
       "                        <td id=\"T_9a8cb_row0_col68\" class=\"data row0 col68\" >1265.989990</td>\n",
       "                        <td id=\"T_9a8cb_row0_col69\" class=\"data row0 col69\" >1848.569946</td>\n",
       "                        <td id=\"T_9a8cb_row0_col70\" class=\"data row0 col70\" >0.000000</td>\n",
       "                        <td id=\"T_9a8cb_row0_col71\" class=\"data row0 col71\" >0.000000</td>\n",
       "                        <td id=\"T_9a8cb_row0_col72\" class=\"data row0 col72\" >100.000000</td>\n",
       "                        <td id=\"T_9a8cb_row0_col73\" class=\"data row0 col73\" >0.000000</td>\n",
       "                        <td id=\"T_9a8cb_row0_col74\" class=\"data row0 col74\" >0.000000</td>\n",
       "                        <td id=\"T_9a8cb_row0_col75\" class=\"data row0 col75\" >0.000000</td>\n",
       "                        <td id=\"T_9a8cb_row0_col76\" class=\"data row0 col76\" >0.000000</td>\n",
       "                        <td id=\"T_9a8cb_row0_col77\" class=\"data row0 col77\" >0.000000</td>\n",
       "                        <td id=\"T_9a8cb_row0_col78\" class=\"data row0 col78\" >100.000000</td>\n",
       "                        <td id=\"T_9a8cb_row0_col79\" class=\"data row0 col79\" >100.000000</td>\n",
       "                        <td id=\"T_9a8cb_row0_col80\" class=\"data row0 col80\" >-0.000000</td>\n",
       "                        <td id=\"T_9a8cb_row0_col81\" class=\"data row0 col81\" >0.000000</td>\n",
       "                        <td id=\"T_9a8cb_row0_col82\" class=\"data row0 col82\" >0.000000</td>\n",
       "                        <td id=\"T_9a8cb_row0_col83\" class=\"data row0 col83\" >0.000000</td>\n",
       "                        <td id=\"T_9a8cb_row0_col84\" class=\"data row0 col84\" >0.000000</td>\n",
       "                        <td id=\"T_9a8cb_row0_col85\" class=\"data row0 col85\" >0.000000</td>\n",
       "                        <td id=\"T_9a8cb_row0_col86\" class=\"data row0 col86\" >0.000000</td>\n",
       "                        <td id=\"T_9a8cb_row0_col87\" class=\"data row0 col87\" >0.000000</td>\n",
       "                        <td id=\"T_9a8cb_row0_col88\" class=\"data row0 col88\" >0.000000</td>\n",
       "                        <td id=\"T_9a8cb_row0_col89\" class=\"data row0 col89\" >1281.079956</td>\n",
       "                        <td id=\"T_9a8cb_row0_col90\" class=\"data row0 col90\" >-92.901069</td>\n",
       "                        <td id=\"T_9a8cb_row0_col91\" class=\"data row0 col91\" >0.000000</td>\n",
       "                        <td id=\"T_9a8cb_row0_col92\" class=\"data row0 col92\" >0.000000</td>\n",
       "            </tr>\n",
       "            <tr>\n",
       "                        <th id=\"T_9a8cb_level0_row1\" class=\"row_heading level0 row1\" >1</th>\n",
       "                        <td id=\"T_9a8cb_row1_col0\" class=\"data row1 col0\" >2017-04-27 00:00:00</td>\n",
       "                        <td id=\"T_9a8cb_row1_col1\" class=\"data row1 col1\" >1317.729980</td>\n",
       "                        <td id=\"T_9a8cb_row1_col2\" class=\"data row1 col2\" >1281.880005</td>\n",
       "                        <td id=\"T_9a8cb_row1_col3\" class=\"data row1 col3\" >1281.300049</td>\n",
       "                        <td id=\"T_9a8cb_row1_col4\" class=\"data row1 col4\" >1317.729980</td>\n",
       "                        <td id=\"T_9a8cb_row1_col5\" class=\"data row1 col5\" >1281.880005</td>\n",
       "                        <td id=\"T_9a8cb_row1_col6\" class=\"data row1 col6\" >449196992</td>\n",
       "                        <td id=\"T_9a8cb_row1_col7\" class=\"data row1 col7\" >778828000.000000</td>\n",
       "                        <td id=\"T_9a8cb_row1_col8\" class=\"data row1 col8\" >778828000</td>\n",
       "                        <td id=\"T_9a8cb_row1_col9\" class=\"data row1 col9\" >1.000000</td>\n",
       "                        <td id=\"T_9a8cb_row1_col10\" class=\"data row1 col10\" >16463080723.523438</td>\n",
       "                        <td id=\"T_9a8cb_row1_col11\" class=\"data row1 col11\" >209.658474</td>\n",
       "                        <td id=\"T_9a8cb_row1_col12\" class=\"data row1 col12\" >209.658474</td>\n",
       "                        <td id=\"T_9a8cb_row1_col13\" class=\"data row1 col13\" >-293379791.253526</td>\n",
       "                        <td id=\"T_9a8cb_row1_col14\" class=\"data row1 col14\" >1293.197060</td>\n",
       "                        <td id=\"T_9a8cb_row1_col15\" class=\"data row1 col15\" >100.000000</td>\n",
       "                        <td id=\"T_9a8cb_row1_col16\" class=\"data row1 col16\" >1000.000000</td>\n",
       "                        <td id=\"T_9a8cb_row1_col17\" class=\"data row1 col17\" >1299.404968</td>\n",
       "                        <td id=\"T_9a8cb_row1_col18\" class=\"data row1 col18\" >1336.054993</td>\n",
       "                        <td id=\"T_9a8cb_row1_col19\" class=\"data row1 col19\" >1262.754944</td>\n",
       "                        <td id=\"T_9a8cb_row1_col20\" class=\"data row1 col20\" >5.641047</td>\n",
       "                        <td id=\"T_9a8cb_row1_col21\" class=\"data row1 col21\" >0.750000</td>\n",
       "                        <td id=\"T_9a8cb_row1_col22\" class=\"data row1 col22\" >0.000000</td>\n",
       "                        <td id=\"T_9a8cb_row1_col23\" class=\"data row1 col23\" >0.000000</td>\n",
       "                        <td id=\"T_9a8cb_row1_col24\" class=\"data row1 col24\" >1290.914978</td>\n",
       "                        <td id=\"T_9a8cb_row1_col25\" class=\"data row1 col25\" >1316.384949</td>\n",
       "                        <td id=\"T_9a8cb_row1_col26\" class=\"data row1 col26\" >1265.445007</td>\n",
       "                        <td id=\"T_9a8cb_row1_col27\" class=\"data row1 col27\" >3.946034</td>\n",
       "                        <td id=\"T_9a8cb_row1_col28\" class=\"data row1 col28\" >1.026404</td>\n",
       "                        <td id=\"T_9a8cb_row1_col29\" class=\"data row1 col29\" >1.000000</td>\n",
       "                        <td id=\"T_9a8cb_row1_col30\" class=\"data row1 col30\" >0.000000</td>\n",
       "                        <td id=\"T_9a8cb_row1_col31\" class=\"data row1 col31\" >1265.989990</td>\n",
       "                        <td id=\"T_9a8cb_row1_col32\" class=\"data row1 col32\" >1317.729980</td>\n",
       "                        <td id=\"T_9a8cb_row1_col33\" class=\"data row1 col33\" >1291.859985</td>\n",
       "                        <td id=\"T_9a8cb_row1_col34\" class=\"data row1 col34\" >3.981822</td>\n",
       "                        <td id=\"T_9a8cb_row1_col35\" class=\"data row1 col35\" >1.000000</td>\n",
       "                        <td id=\"T_9a8cb_row1_col36\" class=\"data row1 col36\" >0.000000</td>\n",
       "                        <td id=\"T_9a8cb_row1_col37\" class=\"data row1 col37\" >0.000000</td>\n",
       "                        <td id=\"T_9a8cb_row1_col38\" class=\"data row1 col38\" >2.923649</td>\n",
       "                        <td id=\"T_9a8cb_row1_col39\" class=\"data row1 col39\" >0.584730</td>\n",
       "                        <td id=\"T_9a8cb_row1_col40\" class=\"data row1 col40\" >2.338919</td>\n",
       "                        <td id=\"T_9a8cb_row1_col41\" class=\"data row1 col41\" >1299.404968</td>\n",
       "                        <td id=\"T_9a8cb_row1_col42\" class=\"data row1 col42\" >1299.404968</td>\n",
       "                        <td id=\"T_9a8cb_row1_col43\" class=\"data row1 col43\" >1286.718421</td>\n",
       "                        <td id=\"T_9a8cb_row1_col44\" class=\"data row1 col44\" >1283.794773</td>\n",
       "                        <td id=\"T_9a8cb_row1_col45\" class=\"data row1 col45\" >0.003077</td>\n",
       "                        <td id=\"T_9a8cb_row1_col46\" class=\"data row1 col46\" >0.000048</td>\n",
       "                        <td id=\"T_9a8cb_row1_col47\" class=\"data row1 col47\" >0.003029</td>\n",
       "                        <td id=\"T_9a8cb_row1_col48\" class=\"data row1 col48\" >0.005588</td>\n",
       "                        <td id=\"T_9a8cb_row1_col49\" class=\"data row1 col49\" >2.208639</td>\n",
       "                        <td id=\"T_9a8cb_row1_col50\" class=\"data row1 col50\" >16746.692040</td>\n",
       "                        <td id=\"T_9a8cb_row1_col51\" class=\"data row1 col51\" >-927.995235</td>\n",
       "                        <td id=\"T_9a8cb_row1_col52\" class=\"data row1 col52\" >-928.502963</td>\n",
       "                        <td id=\"T_9a8cb_row1_col53\" class=\"data row1 col53\" >0.507728</td>\n",
       "                        <td id=\"T_9a8cb_row1_col54\" class=\"data row1 col54\" >1291.859985</td>\n",
       "                        <td id=\"T_9a8cb_row1_col55\" class=\"data row1 col55\" >1291.859985</td>\n",
       "                        <td id=\"T_9a8cb_row1_col56\" class=\"data row1 col56\" >1291.859985</td>\n",
       "                        <td id=\"T_9a8cb_row1_col57\" class=\"data row1 col57\" >1291.859985</td>\n",
       "                        <td id=\"T_9a8cb_row1_col58\" class=\"data row1 col58\" >0.000000</td>\n",
       "                        <td id=\"T_9a8cb_row1_col59\" class=\"data row1 col59\" >0.000000</td>\n",
       "                        <td id=\"T_9a8cb_row1_col60\" class=\"data row1 col60\" >0.000000</td>\n",
       "                        <td id=\"T_9a8cb_row1_col61\" class=\"data row1 col61\" >0.000000</td>\n",
       "                        <td id=\"T_9a8cb_row1_col62\" class=\"data row1 col62\" >66.666667</td>\n",
       "                        <td id=\"T_9a8cb_row1_col63\" class=\"data row1 col63\" >17896.031352</td>\n",
       "                        <td id=\"T_9a8cb_row1_col64\" class=\"data row1 col64\" >17654.510580</td>\n",
       "                        <td id=\"T_9a8cb_row1_col65\" class=\"data row1 col65\" >8.000000</td>\n",
       "                        <td id=\"T_9a8cb_row1_col66\" class=\"data row1 col66\" >4.000000</td>\n",
       "                        <td id=\"T_9a8cb_row1_col67\" class=\"data row1 col67\" >4.000000</td>\n",
       "                        <td id=\"T_9a8cb_row1_col68\" class=\"data row1 col68\" >1265.989990</td>\n",
       "                        <td id=\"T_9a8cb_row1_col69\" class=\"data row1 col69\" >1848.569946</td>\n",
       "                        <td id=\"T_9a8cb_row1_col70\" class=\"data row1 col70\" >0.000000</td>\n",
       "                        <td id=\"T_9a8cb_row1_col71\" class=\"data row1 col71\" >0.000000</td>\n",
       "                        <td id=\"T_9a8cb_row1_col72\" class=\"data row1 col72\" >100.000000</td>\n",
       "                        <td id=\"T_9a8cb_row1_col73\" class=\"data row1 col73\" >0.000000</td>\n",
       "                        <td id=\"T_9a8cb_row1_col74\" class=\"data row1 col74\" >0.000000</td>\n",
       "                        <td id=\"T_9a8cb_row1_col75\" class=\"data row1 col75\" >0.000000</td>\n",
       "                        <td id=\"T_9a8cb_row1_col76\" class=\"data row1 col76\" >100.000000</td>\n",
       "                        <td id=\"T_9a8cb_row1_col77\" class=\"data row1 col77\" >70.835005</td>\n",
       "                        <td id=\"T_9a8cb_row1_col78\" class=\"data row1 col78\" >100.000000</td>\n",
       "                        <td id=\"T_9a8cb_row1_col79\" class=\"data row1 col79\" >100.000000</td>\n",
       "                        <td id=\"T_9a8cb_row1_col80\" class=\"data row1 col80\" >-0.000000</td>\n",
       "                        <td id=\"T_9a8cb_row1_col81\" class=\"data row1 col81\" >0.000000</td>\n",
       "                        <td id=\"T_9a8cb_row1_col82\" class=\"data row1 col82\" >0.000000</td>\n",
       "                        <td id=\"T_9a8cb_row1_col83\" class=\"data row1 col83\" >0.227735</td>\n",
       "                        <td id=\"T_9a8cb_row1_col84\" class=\"data row1 col84\" >0.045547</td>\n",
       "                        <td id=\"T_9a8cb_row1_col85\" class=\"data row1 col85\" >0.182188</td>\n",
       "                        <td id=\"T_9a8cb_row1_col86\" class=\"data row1 col86\" >2.817835</td>\n",
       "                        <td id=\"T_9a8cb_row1_col87\" class=\"data row1 col87\" >0.563567</td>\n",
       "                        <td id=\"T_9a8cb_row1_col88\" class=\"data row1 col88\" >2.254268</td>\n",
       "                        <td id=\"T_9a8cb_row1_col89\" class=\"data row1 col89\" >1296.763294</td>\n",
       "                        <td id=\"T_9a8cb_row1_col90\" class=\"data row1 col90\" >2.860869</td>\n",
       "                        <td id=\"T_9a8cb_row1_col91\" class=\"data row1 col91\" >2.820711</td>\n",
       "                        <td id=\"T_9a8cb_row1_col92\" class=\"data row1 col92\" >2.860869</td>\n",
       "            </tr>\n",
       "            <tr>\n",
       "                        <th id=\"T_9a8cb_level0_row2\" class=\"row_heading level0 row2\" >2</th>\n",
       "                        <td id=\"T_9a8cb_row2_col0\" class=\"data row2 col0\" >2017-04-28 00:00:00</td>\n",
       "                        <td id=\"T_9a8cb_row2_col1\" class=\"data row2 col1\" >1316.479980</td>\n",
       "                        <td id=\"T_9a8cb_row2_col2\" class=\"data row2 col2\" >1317.739990</td>\n",
       "                        <td id=\"T_9a8cb_row2_col3\" class=\"data row2 col3\" >1292.369995</td>\n",
       "                        <td id=\"T_9a8cb_row2_col4\" class=\"data row2 col4\" >1316.479980</td>\n",
       "                        <td id=\"T_9a8cb_row2_col5\" class=\"data row2 col5\" >1317.739990</td>\n",
       "                        <td id=\"T_9a8cb_row2_col6\" class=\"data row2 col6\" >527488992</td>\n",
       "                        <td id=\"T_9a8cb_row2_col7\" class=\"data row2 col7\" >1306316992.000000</td>\n",
       "                        <td id=\"T_9a8cb_row2_col8\" class=\"data row2 col8\" >251339008</td>\n",
       "                        <td id=\"T_9a8cb_row2_col9\" class=\"data row2 col9\" >1.000000</td>\n",
       "                        <td id=\"T_9a8cb_row2_col10\" class=\"data row2 col10\" >14017017585.877234</td>\n",
       "                        <td id=\"T_9a8cb_row2_col11\" class=\"data row2 col11\" >-4.133633</td>\n",
       "                        <td id=\"T_9a8cb_row2_col12\" class=\"data row2 col12\" >102.762420</td>\n",
       "                        <td id=\"T_9a8cb_row2_col13\" class=\"data row2 col13\" >12350562.682014</td>\n",
       "                        <td id=\"T_9a8cb_row2_col14\" class=\"data row2 col14\" >1302.768268</td>\n",
       "                        <td id=\"T_9a8cb_row2_col15\" class=\"data row2 col15\" >100.000000</td>\n",
       "                        <td id=\"T_9a8cb_row2_col16\" class=\"data row2 col16\" >1000.000000</td>\n",
       "                        <td id=\"T_9a8cb_row2_col17\" class=\"data row2 col17\" >1305.096639</td>\n",
       "                        <td id=\"T_9a8cb_row2_col18\" class=\"data row2 col18\" >1339.076689</td>\n",
       "                        <td id=\"T_9a8cb_row2_col19\" class=\"data row2 col19\" >1271.116589</td>\n",
       "                        <td id=\"T_9a8cb_row2_col20\" class=\"data row2 col20\" >5.207285</td>\n",
       "                        <td id=\"T_9a8cb_row2_col21\" class=\"data row2 col21\" >0.667500</td>\n",
       "                        <td id=\"T_9a8cb_row2_col22\" class=\"data row2 col22\" >0.000000</td>\n",
       "                        <td id=\"T_9a8cb_row2_col23\" class=\"data row2 col23\" >0.000000</td>\n",
       "                        <td id=\"T_9a8cb_row2_col24\" class=\"data row2 col24\" >1299.576647</td>\n",
       "                        <td id=\"T_9a8cb_row2_col25\" class=\"data row2 col25\" >1316.136624</td>\n",
       "                        <td id=\"T_9a8cb_row2_col26\" class=\"data row2 col26\" >1283.016669</td>\n",
       "                        <td id=\"T_9a8cb_row2_col27\" class=\"data row2 col27\" >2.548519</td>\n",
       "                        <td id=\"T_9a8cb_row2_col28\" class=\"data row2 col28\" >1.010367</td>\n",
       "                        <td id=\"T_9a8cb_row2_col29\" class=\"data row2 col29\" >1.000000</td>\n",
       "                        <td id=\"T_9a8cb_row2_col30\" class=\"data row2 col30\" >0.000000</td>\n",
       "                        <td id=\"T_9a8cb_row2_col31\" class=\"data row2 col31\" >1265.989990</td>\n",
       "                        <td id=\"T_9a8cb_row2_col32\" class=\"data row2 col32\" >1317.729980</td>\n",
       "                        <td id=\"T_9a8cb_row2_col33\" class=\"data row2 col33\" >1291.859985</td>\n",
       "                        <td id=\"T_9a8cb_row2_col34\" class=\"data row2 col34\" >3.964457</td>\n",
       "                        <td id=\"T_9a8cb_row2_col35\" class=\"data row2 col35\" >0.975841</td>\n",
       "                        <td id=\"T_9a8cb_row2_col36\" class=\"data row2 col36\" >0.000000</td>\n",
       "                        <td id=\"T_9a8cb_row2_col37\" class=\"data row2 col37\" >0.000000</td>\n",
       "                        <td id=\"T_9a8cb_row2_col38\" class=\"data row2 col38\" >5.081224</td>\n",
       "                        <td id=\"T_9a8cb_row2_col39\" class=\"data row2 col39\" >1.484029</td>\n",
       "                        <td id=\"T_9a8cb_row2_col40\" class=\"data row2 col40\" >3.597195</td>\n",
       "                        <td id=\"T_9a8cb_row2_col41\" class=\"data row2 col41\" >1305.096639</td>\n",
       "                        <td id=\"T_9a8cb_row2_col42\" class=\"data row2 col42\" >1305.096639</td>\n",
       "                        <td id=\"T_9a8cb_row2_col43\" class=\"data row2 col43\" >1291.297123</td>\n",
       "                        <td id=\"T_9a8cb_row2_col44\" class=\"data row2 col44\" >1286.215899</td>\n",
       "                        <td id=\"T_9a8cb_row2_col45\" class=\"data row2 col45\" >0.005134</td>\n",
       "                        <td id=\"T_9a8cb_row2_col46\" class=\"data row2 col46\" >0.000048</td>\n",
       "                        <td id=\"T_9a8cb_row2_col47\" class=\"data row2 col47\" >0.005086</td>\n",
       "                        <td id=\"T_9a8cb_row2_col48\" class=\"data row2 col48\" >0.014476</td>\n",
       "                        <td id=\"T_9a8cb_row2_col49\" class=\"data row2 col49\" >3.169117</td>\n",
       "                        <td id=\"T_9a8cb_row2_col50\" class=\"data row2 col50\" >16741.000369</td>\n",
       "                        <td id=\"T_9a8cb_row2_col51\" class=\"data row2 col51\" >-927.679839</td>\n",
       "                        <td id=\"T_9a8cb_row2_col52\" class=\"data row2 col52\" >-928.228588</td>\n",
       "                        <td id=\"T_9a8cb_row2_col53\" class=\"data row2 col53\" >0.548749</td>\n",
       "                        <td id=\"T_9a8cb_row2_col54\" class=\"data row2 col54\" >1291.859985</td>\n",
       "                        <td id=\"T_9a8cb_row2_col55\" class=\"data row2 col55\" >1291.859985</td>\n",
       "                        <td id=\"T_9a8cb_row2_col56\" class=\"data row2 col56\" >1291.859985</td>\n",
       "                        <td id=\"T_9a8cb_row2_col57\" class=\"data row2 col57\" >1291.859985</td>\n",
       "                        <td id=\"T_9a8cb_row2_col58\" class=\"data row2 col58\" >0.000000</td>\n",
       "                        <td id=\"T_9a8cb_row2_col59\" class=\"data row2 col59\" >0.000000</td>\n",
       "                        <td id=\"T_9a8cb_row2_col60\" class=\"data row2 col60\" >0.000000</td>\n",
       "                        <td id=\"T_9a8cb_row2_col61\" class=\"data row2 col61\" >0.000000</td>\n",
       "                        <td id=\"T_9a8cb_row2_col62\" class=\"data row2 col62\" >73.632734</td>\n",
       "                        <td id=\"T_9a8cb_row2_col63\" class=\"data row2 col63\" >17896.031352</td>\n",
       "                        <td id=\"T_9a8cb_row2_col64\" class=\"data row2 col64\" >17654.510580</td>\n",
       "                        <td id=\"T_9a8cb_row2_col65\" class=\"data row2 col65\" >8.000000</td>\n",
       "                        <td id=\"T_9a8cb_row2_col66\" class=\"data row2 col66\" >4.000000</td>\n",
       "                        <td id=\"T_9a8cb_row2_col67\" class=\"data row2 col67\" >4.000000</td>\n",
       "                        <td id=\"T_9a8cb_row2_col68\" class=\"data row2 col68\" >1265.989990</td>\n",
       "                        <td id=\"T_9a8cb_row2_col69\" class=\"data row2 col69\" >1848.569946</td>\n",
       "                        <td id=\"T_9a8cb_row2_col70\" class=\"data row2 col70\" >1.000000</td>\n",
       "                        <td id=\"T_9a8cb_row2_col71\" class=\"data row2 col71\" >0.000000</td>\n",
       "                        <td id=\"T_9a8cb_row2_col72\" class=\"data row2 col72\" >96.457134</td>\n",
       "                        <td id=\"T_9a8cb_row2_col73\" class=\"data row2 col73\" >0.000000</td>\n",
       "                        <td id=\"T_9a8cb_row2_col74\" class=\"data row2 col74\" >0.000000</td>\n",
       "                        <td id=\"T_9a8cb_row2_col75\" class=\"data row2 col75\" >0.000000</td>\n",
       "                        <td id=\"T_9a8cb_row2_col76\" class=\"data row2 col76\" >99.924237</td>\n",
       "                        <td id=\"T_9a8cb_row2_col77\" class=\"data row2 col77\" >66.805116</td>\n",
       "                        <td id=\"T_9a8cb_row2_col78\" class=\"data row2 col78\" >97.584074</td>\n",
       "                        <td id=\"T_9a8cb_row2_col79\" class=\"data row2 col79\" >99.194691</td>\n",
       "                        <td id=\"T_9a8cb_row2_col80\" class=\"data row2 col80\" >-2.415926</td>\n",
       "                        <td id=\"T_9a8cb_row2_col81\" class=\"data row2 col81\" >0.000000</td>\n",
       "                        <td id=\"T_9a8cb_row2_col82\" class=\"data row2 col82\" >0.000000</td>\n",
       "                        <td id=\"T_9a8cb_row2_col83\" class=\"data row2 col83\" >0.395052</td>\n",
       "                        <td id=\"T_9a8cb_row2_col84\" class=\"data row2 col84\" >0.115448</td>\n",
       "                        <td id=\"T_9a8cb_row2_col85\" class=\"data row2 col85\" >0.279604</td>\n",
       "                        <td id=\"T_9a8cb_row2_col86\" class=\"data row2 col86\" >6.566939</td>\n",
       "                        <td id=\"T_9a8cb_row2_col87\" class=\"data row2 col87\" >1.764241</td>\n",
       "                        <td id=\"T_9a8cb_row2_col88\" class=\"data row2 col88\" >4.802697</td>\n",
       "                        <td id=\"T_9a8cb_row2_col89\" class=\"data row2 col89\" >1305.645592</td>\n",
       "                        <td id=\"T_9a8cb_row2_col90\" class=\"data row2 col90\" >-0.094860</td>\n",
       "                        <td id=\"T_9a8cb_row2_col91\" class=\"data row2 col91\" >-0.094905</td>\n",
       "                        <td id=\"T_9a8cb_row2_col92\" class=\"data row2 col92\" >2.763295</td>\n",
       "            </tr>\n",
       "            <tr>\n",
       "                        <th id=\"T_9a8cb_level0_row3\" class=\"row_heading level0 row3\" >3</th>\n",
       "                        <td id=\"T_9a8cb_row3_col0\" class=\"data row3 col0\" >2017-04-29 00:00:00</td>\n",
       "                        <td id=\"T_9a8cb_row3_col1\" class=\"data row3 col1\" >1321.790039</td>\n",
       "                        <td id=\"T_9a8cb_row3_col2\" class=\"data row3 col2\" >1317.839966</td>\n",
       "                        <td id=\"T_9a8cb_row3_col3\" class=\"data row3 col3\" >1315.209961</td>\n",
       "                        <td id=\"T_9a8cb_row3_col4\" class=\"data row3 col4\" >1321.790039</td>\n",
       "                        <td id=\"T_9a8cb_row3_col5\" class=\"data row3 col5\" >1317.839966</td>\n",
       "                        <td id=\"T_9a8cb_row3_col6\" class=\"data row3 col6\" >422705984</td>\n",
       "                        <td id=\"T_9a8cb_row3_col7\" class=\"data row3 col7\" >1729022976.000000</td>\n",
       "                        <td id=\"T_9a8cb_row3_col8\" class=\"data row3 col8\" >674044992</td>\n",
       "                        <td id=\"T_9a8cb_row3_col9\" class=\"data row3 col9\" >1.000000</td>\n",
       "                        <td id=\"T_9a8cb_row3_col10\" class=\"data row3 col10\" >12335242722.604593</td>\n",
       "                        <td id=\"T_9a8cb_row3_col11\" class=\"data row3 col11\" >2.527765</td>\n",
       "                        <td id=\"T_9a8cb_row3_col12\" class=\"data row3 col12\" >69.350869</td>\n",
       "                        <td id=\"T_9a8cb_row3_col13\" class=\"data row3 col13\" >1204619.741462</td>\n",
       "                        <td id=\"T_9a8cb_row3_col14\" class=\"data row3 col14\" >1307.096749</td>\n",
       "                        <td id=\"T_9a8cb_row3_col15\" class=\"data row3 col15\" >100.000000</td>\n",
       "                        <td id=\"T_9a8cb_row3_col16\" class=\"data row3 col16\" >1004.033528</td>\n",
       "                        <td id=\"T_9a8cb_row3_col17\" class=\"data row3 col17\" >1309.269989</td>\n",
       "                        <td id=\"T_9a8cb_row3_col18\" class=\"data row3 col18\" >1342.056954</td>\n",
       "                        <td id=\"T_9a8cb_row3_col19\" class=\"data row3 col19\" >1276.483024</td>\n",
       "                        <td id=\"T_9a8cb_row3_col20\" class=\"data row3 col20\" >5.008434</td>\n",
       "                        <td id=\"T_9a8cb_row3_col21\" class=\"data row3 col21\" >0.690930</td>\n",
       "                        <td id=\"T_9a8cb_row3_col22\" class=\"data row3 col22\" >0.000000</td>\n",
       "                        <td id=\"T_9a8cb_row3_col23\" class=\"data row3 col23\" >0.000000</td>\n",
       "                        <td id=\"T_9a8cb_row3_col24\" class=\"data row3 col24\" >1304.800822</td>\n",
       "                        <td id=\"T_9a8cb_row3_col25\" class=\"data row3 col25\" >1318.208323</td>\n",
       "                        <td id=\"T_9a8cb_row3_col26\" class=\"data row3 col26\" >1291.393321</td>\n",
       "                        <td id=\"T_9a8cb_row3_col27\" class=\"data row3 col27\" >2.055103</td>\n",
       "                        <td id=\"T_9a8cb_row3_col28\" class=\"data row3 col28\" >1.133571</td>\n",
       "                        <td id=\"T_9a8cb_row3_col29\" class=\"data row3 col29\" >1.000000</td>\n",
       "                        <td id=\"T_9a8cb_row3_col30\" class=\"data row3 col30\" >0.000000</td>\n",
       "                        <td id=\"T_9a8cb_row3_col31\" class=\"data row3 col31\" >1265.989990</td>\n",
       "                        <td id=\"T_9a8cb_row3_col32\" class=\"data row3 col32\" >1321.790039</td>\n",
       "                        <td id=\"T_9a8cb_row3_col33\" class=\"data row3 col33\" >1293.890015</td>\n",
       "                        <td id=\"T_9a8cb_row3_col34\" class=\"data row3 col34\" >4.261921</td>\n",
       "                        <td id=\"T_9a8cb_row3_col35\" class=\"data row3 col35\" >1.000000</td>\n",
       "                        <td id=\"T_9a8cb_row3_col36\" class=\"data row3 col36\" >0.000000</td>\n",
       "                        <td id=\"T_9a8cb_row3_col37\" class=\"data row3 col37\" >0.000000</td>\n",
       "                        <td id=\"T_9a8cb_row3_col38\" class=\"data row3 col38\" >7.137320</td>\n",
       "                        <td id=\"T_9a8cb_row3_col39\" class=\"data row3 col39\" >2.614687</td>\n",
       "                        <td id=\"T_9a8cb_row3_col40\" class=\"data row3 col40\" >4.522633</td>\n",
       "                        <td id=\"T_9a8cb_row3_col41\" class=\"data row3 col41\" >1309.269989</td>\n",
       "                        <td id=\"T_9a8cb_row3_col42\" class=\"data row3 col42\" >1309.269989</td>\n",
       "                        <td id=\"T_9a8cb_row3_col43\" class=\"data row3 col43\" >1295.988341</td>\n",
       "                        <td id=\"T_9a8cb_row3_col44\" class=\"data row3 col44\" >1288.851021</td>\n",
       "                        <td id=\"T_9a8cb_row3_col45\" class=\"data row3 col45\" >0.005373</td>\n",
       "                        <td id=\"T_9a8cb_row3_col46\" class=\"data row3 col46\" >0.000129</td>\n",
       "                        <td id=\"T_9a8cb_row3_col47\" class=\"data row3 col47\" >0.005244</td>\n",
       "                        <td id=\"T_9a8cb_row3_col48\" class=\"data row3 col48\" >0.025972</td>\n",
       "                        <td id=\"T_9a8cb_row3_col49\" class=\"data row3 col49\" >4.018445</td>\n",
       "                        <td id=\"T_9a8cb_row3_col50\" class=\"data row3 col50\" >16736.827019</td>\n",
       "                        <td id=\"T_9a8cb_row3_col51\" class=\"data row3 col51\" >-927.448579</td>\n",
       "                        <td id=\"T_9a8cb_row3_col52\" class=\"data row3 col52\" >-928.033586</td>\n",
       "                        <td id=\"T_9a8cb_row3_col53\" class=\"data row3 col53\" >0.585007</td>\n",
       "                        <td id=\"T_9a8cb_row3_col54\" class=\"data row3 col54\" >1293.890015</td>\n",
       "                        <td id=\"T_9a8cb_row3_col55\" class=\"data row3 col55\" >1293.890015</td>\n",
       "                        <td id=\"T_9a8cb_row3_col56\" class=\"data row3 col56\" >1293.890015</td>\n",
       "                        <td id=\"T_9a8cb_row3_col57\" class=\"data row3 col57\" >1293.890015</td>\n",
       "                        <td id=\"T_9a8cb_row3_col58\" class=\"data row3 col58\" >0.000000</td>\n",
       "                        <td id=\"T_9a8cb_row3_col59\" class=\"data row3 col59\" >0.000000</td>\n",
       "                        <td id=\"T_9a8cb_row3_col60\" class=\"data row3 col60\" >0.000000</td>\n",
       "                        <td id=\"T_9a8cb_row3_col61\" class=\"data row3 col61\" >0.000000</td>\n",
       "                        <td id=\"T_9a8cb_row3_col62\" class=\"data row3 col62\" >72.682019</td>\n",
       "                        <td id=\"T_9a8cb_row3_col63\" class=\"data row3 col63\" >17896.031352</td>\n",
       "                        <td id=\"T_9a8cb_row3_col64\" class=\"data row3 col64\" >17654.510580</td>\n",
       "                        <td id=\"T_9a8cb_row3_col65\" class=\"data row3 col65\" >16.000000</td>\n",
       "                        <td id=\"T_9a8cb_row3_col66\" class=\"data row3 col66\" >4.000000</td>\n",
       "                        <td id=\"T_9a8cb_row3_col67\" class=\"data row3 col67\" >12.000000</td>\n",
       "                        <td id=\"T_9a8cb_row3_col68\" class=\"data row3 col68\" >1268.009590</td>\n",
       "                        <td id=\"T_9a8cb_row3_col69\" class=\"data row3 col69\" >1848.569946</td>\n",
       "                        <td id=\"T_9a8cb_row3_col70\" class=\"data row3 col70\" >0.000000</td>\n",
       "                        <td id=\"T_9a8cb_row3_col71\" class=\"data row3 col71\" >0.000000</td>\n",
       "                        <td id=\"T_9a8cb_row3_col72\" class=\"data row3 col72\" >96.951271</td>\n",
       "                        <td id=\"T_9a8cb_row3_col73\" class=\"data row3 col73\" >0.000000</td>\n",
       "                        <td id=\"T_9a8cb_row3_col74\" class=\"data row3 col74\" >0.000000</td>\n",
       "                        <td id=\"T_9a8cb_row3_col75\" class=\"data row3 col75\" >0.000000</td>\n",
       "                        <td id=\"T_9a8cb_row3_col76\" class=\"data row3 col76\" >99.862671</td>\n",
       "                        <td id=\"T_9a8cb_row3_col77\" class=\"data row3 col77\" >69.828557</td>\n",
       "                        <td id=\"T_9a8cb_row3_col78\" class=\"data row3 col78\" >100.000000</td>\n",
       "                        <td id=\"T_9a8cb_row3_col79\" class=\"data row3 col79\" >99.194691</td>\n",
       "                        <td id=\"T_9a8cb_row3_col80\" class=\"data row3 col80\" >-0.000000</td>\n",
       "                        <td id=\"T_9a8cb_row3_col81\" class=\"data row3 col81\" >0.000000</td>\n",
       "                        <td id=\"T_9a8cb_row3_col82\" class=\"data row3 col82\" >0.000000</td>\n",
       "                        <td id=\"T_9a8cb_row3_col83\" class=\"data row3 col83\" >0.553774</td>\n",
       "                        <td id=\"T_9a8cb_row3_col84\" class=\"data row3 col84\" >0.203113</td>\n",
       "                        <td id=\"T_9a8cb_row3_col85\" class=\"data row3 col85\" >0.350661</td>\n",
       "                        <td id=\"T_9a8cb_row3_col86\" class=\"data row3 col86\" >7.041848</td>\n",
       "                        <td id=\"T_9a8cb_row3_col87\" class=\"data row3 col87\" >2.819763</td>\n",
       "                        <td id=\"T_9a8cb_row3_col88\" class=\"data row3 col88\" >4.222085</td>\n",
       "                        <td id=\"T_9a8cb_row3_col89\" class=\"data row3 col89\" >1313.141853</td>\n",
       "                        <td id=\"T_9a8cb_row3_col90\" class=\"data row3 col90\" >0.403353</td>\n",
       "                        <td id=\"T_9a8cb_row3_col91\" class=\"data row3 col91\" >0.402541</td>\n",
       "                        <td id=\"T_9a8cb_row3_col92\" class=\"data row3 col92\" >3.177794</td>\n",
       "            </tr>\n",
       "            <tr>\n",
       "                        <th id=\"T_9a8cb_level0_row4\" class=\"row_heading level0 row4\" >4</th>\n",
       "                        <td id=\"T_9a8cb_row4_col0\" class=\"data row4 col0\" >2017-04-30 00:00:00</td>\n",
       "                        <td id=\"T_9a8cb_row4_col1\" class=\"data row4 col1\" >1347.890015</td>\n",
       "                        <td id=\"T_9a8cb_row4_col2\" class=\"data row4 col2\" >1321.869995</td>\n",
       "                        <td id=\"T_9a8cb_row4_col3\" class=\"data row4 col3\" >1314.920044</td>\n",
       "                        <td id=\"T_9a8cb_row4_col4\" class=\"data row4 col4\" >1347.890015</td>\n",
       "                        <td id=\"T_9a8cb_row4_col5\" class=\"data row4 col5\" >1321.869995</td>\n",
       "                        <td id=\"T_9a8cb_row4_col6\" class=\"data row4 col6\" >413115008</td>\n",
       "                        <td id=\"T_9a8cb_row4_col7\" class=\"data row4 col7\" >2142137984.000000</td>\n",
       "                        <td id=\"T_9a8cb_row4_col8\" class=\"data row4 col8\" >1087160000</td>\n",
       "                        <td id=\"T_9a8cb_row4_col9\" class=\"data row4 col9\" >1.000000</td>\n",
       "                        <td id=\"T_9a8cb_row4_col10\" class=\"data row4 col10\" >12113392565.515991</td>\n",
       "                        <td id=\"T_9a8cb_row4_col11\" class=\"data row4 col11\" >94.886811</td>\n",
       "                        <td id=\"T_9a8cb_row4_col12\" class=\"data row4 col12\" >75.734854</td>\n",
       "                        <td id=\"T_9a8cb_row4_col13\" class=\"data row4 col13\" >9862336.990862</td>\n",
       "                        <td id=\"T_9a8cb_row4_col14\" class=\"data row4 col14\" >1313.291132</td>\n",
       "                        <td id=\"T_9a8cb_row4_col15\" class=\"data row4 col15\" >100.000000</td>\n",
       "                        <td id=\"T_9a8cb_row4_col16\" class=\"data row4 col16\" >1023.859105</td>\n",
       "                        <td id=\"T_9a8cb_row4_col17\" class=\"data row4 col17\" >1316.993994</td>\n",
       "                        <td id=\"T_9a8cb_row4_col18\" class=\"data row4 col18\" >1359.591554</td>\n",
       "                        <td id=\"T_9a8cb_row4_col19\" class=\"data row4 col19\" >1274.396434</td>\n",
       "                        <td id=\"T_9a8cb_row4_col20\" class=\"data row4 col20\" >6.468907</td>\n",
       "                        <td id=\"T_9a8cb_row4_col21\" class=\"data row4 col21\" >0.862650</td>\n",
       "                        <td id=\"T_9a8cb_row4_col22\" class=\"data row4 col22\" >0.000000</td>\n",
       "                        <td id=\"T_9a8cb_row4_col23\" class=\"data row4 col23\" >0.000000</td>\n",
       "                        <td id=\"T_9a8cb_row4_col24\" class=\"data row4 col24\" >1311.683993</td>\n",
       "                        <td id=\"T_9a8cb_row4_col25\" class=\"data row4 col25\" >1327.613997</td>\n",
       "                        <td id=\"T_9a8cb_row4_col26\" class=\"data row4 col26\" >1295.753988</td>\n",
       "                        <td id=\"T_9a8cb_row4_col27\" class=\"data row4 col27\" >2.428939</td>\n",
       "                        <td id=\"T_9a8cb_row4_col28\" class=\"data row4 col28\" >1.636410</td>\n",
       "                        <td id=\"T_9a8cb_row4_col29\" class=\"data row4 col29\" >1.000000</td>\n",
       "                        <td id=\"T_9a8cb_row4_col30\" class=\"data row4 col30\" >0.000000</td>\n",
       "                        <td id=\"T_9a8cb_row4_col31\" class=\"data row4 col31\" >1265.989990</td>\n",
       "                        <td id=\"T_9a8cb_row4_col32\" class=\"data row4 col32\" >1347.890015</td>\n",
       "                        <td id=\"T_9a8cb_row4_col33\" class=\"data row4 col33\" >1306.940002</td>\n",
       "                        <td id=\"T_9a8cb_row4_col34\" class=\"data row4 col34\" >6.218709</td>\n",
       "                        <td id=\"T_9a8cb_row4_col35\" class=\"data row4 col35\" >1.000000</td>\n",
       "                        <td id=\"T_9a8cb_row4_col36\" class=\"data row4 col36\" >0.000000</td>\n",
       "                        <td id=\"T_9a8cb_row4_col37\" class=\"data row4 col37\" >0.000000</td>\n",
       "                        <td id=\"T_9a8cb_row4_col38\" class=\"data row4 col38\" >10.748934</td>\n",
       "                        <td id=\"T_9a8cb_row4_col39\" class=\"data row4 col39\" >4.241536</td>\n",
       "                        <td id=\"T_9a8cb_row4_col40\" class=\"data row4 col40\" >6.507398</td>\n",
       "                        <td id=\"T_9a8cb_row4_col41\" class=\"data row4 col41\" >1316.993994</td>\n",
       "                        <td id=\"T_9a8cb_row4_col42\" class=\"data row4 col42\" >1316.993994</td>\n",
       "                        <td id=\"T_9a8cb_row4_col43\" class=\"data row4 col43\" >1303.973214</td>\n",
       "                        <td id=\"T_9a8cb_row4_col44\" class=\"data row4 col44\" >1293.224279</td>\n",
       "                        <td id=\"T_9a8cb_row4_col45\" class=\"data row4 col45\" >0.007148</td>\n",
       "                        <td id=\"T_9a8cb_row4_col46\" class=\"data row4 col46\" >0.000134</td>\n",
       "                        <td id=\"T_9a8cb_row4_col47\" class=\"data row4 col47\" >0.007014</td>\n",
       "                        <td id=\"T_9a8cb_row4_col48\" class=\"data row4 col48\" >0.042642</td>\n",
       "                        <td id=\"T_9a8cb_row4_col49\" class=\"data row4 col49\" >5.035970</td>\n",
       "                        <td id=\"T_9a8cb_row4_col50\" class=\"data row4 col50\" >16729.103014</td>\n",
       "                        <td id=\"T_9a8cb_row4_col51\" class=\"data row4 col51\" >-927.020563</td>\n",
       "                        <td id=\"T_9a8cb_row4_col52\" class=\"data row4 col52\" >-927.830981</td>\n",
       "                        <td id=\"T_9a8cb_row4_col53\" class=\"data row4 col53\" >0.810418</td>\n",
       "                        <td id=\"T_9a8cb_row4_col54\" class=\"data row4 col54\" >1306.940002</td>\n",
       "                        <td id=\"T_9a8cb_row4_col55\" class=\"data row4 col55\" >1306.940002</td>\n",
       "                        <td id=\"T_9a8cb_row4_col56\" class=\"data row4 col56\" >1306.940002</td>\n",
       "                        <td id=\"T_9a8cb_row4_col57\" class=\"data row4 col57\" >1306.940002</td>\n",
       "                        <td id=\"T_9a8cb_row4_col58\" class=\"data row4 col58\" >0.000000</td>\n",
       "                        <td id=\"T_9a8cb_row4_col59\" class=\"data row4 col59\" >0.000000</td>\n",
       "                        <td id=\"T_9a8cb_row4_col60\" class=\"data row4 col60\" >0.000000</td>\n",
       "                        <td id=\"T_9a8cb_row4_col61\" class=\"data row4 col61\" >0.000000</td>\n",
       "                        <td id=\"T_9a8cb_row4_col62\" class=\"data row4 col62\" >110.471789</td>\n",
       "                        <td id=\"T_9a8cb_row4_col63\" class=\"data row4 col63\" >17896.031352</td>\n",
       "                        <td id=\"T_9a8cb_row4_col64\" class=\"data row4 col64\" >17654.510580</td>\n",
       "                        <td id=\"T_9a8cb_row4_col65\" class=\"data row4 col65\" >20.000000</td>\n",
       "                        <td id=\"T_9a8cb_row4_col66\" class=\"data row4 col66\" >4.000000</td>\n",
       "                        <td id=\"T_9a8cb_row4_col67\" class=\"data row4 col67\" >16.000000</td>\n",
       "                        <td id=\"T_9a8cb_row4_col68\" class=\"data row4 col68\" >1271.236417</td>\n",
       "                        <td id=\"T_9a8cb_row4_col69\" class=\"data row4 col69\" >1848.569946</td>\n",
       "                        <td id=\"T_9a8cb_row4_col70\" class=\"data row4 col70\" >0.000000</td>\n",
       "                        <td id=\"T_9a8cb_row4_col71\" class=\"data row4 col71\" >0.000000</td>\n",
       "                        <td id=\"T_9a8cb_row4_col72\" class=\"data row4 col72\" >98.246118</td>\n",
       "                        <td id=\"T_9a8cb_row4_col73\" class=\"data row4 col73\" >0.000000</td>\n",
       "                        <td id=\"T_9a8cb_row4_col74\" class=\"data row4 col74\" >0.000000</td>\n",
       "                        <td id=\"T_9a8cb_row4_col75\" class=\"data row4 col75\" >0.000000</td>\n",
       "                        <td id=\"T_9a8cb_row4_col76\" class=\"data row4 col76\" >99.813324</td>\n",
       "                        <td id=\"T_9a8cb_row4_col77\" class=\"data row4 col77\" >79.158814</td>\n",
       "                        <td id=\"T_9a8cb_row4_col78\" class=\"data row4 col78\" >100.000000</td>\n",
       "                        <td id=\"T_9a8cb_row4_col79\" class=\"data row4 col79\" >99.194691</td>\n",
       "                        <td id=\"T_9a8cb_row4_col80\" class=\"data row4 col80\" >-0.000000</td>\n",
       "                        <td id=\"T_9a8cb_row4_col81\" class=\"data row4 col81\" >0.000000</td>\n",
       "                        <td id=\"T_9a8cb_row4_col82\" class=\"data row4 col82\" >0.000000</td>\n",
       "                        <td id=\"T_9a8cb_row4_col83\" class=\"data row4 col83\" >0.831173</td>\n",
       "                        <td id=\"T_9a8cb_row4_col84\" class=\"data row4 col84\" >0.328725</td>\n",
       "                        <td id=\"T_9a8cb_row4_col85\" class=\"data row4 col85\" >0.502448</td>\n",
       "                        <td id=\"T_9a8cb_row4_col86\" class=\"data row4 col86\" >7.112954</td>\n",
       "                        <td id=\"T_9a8cb_row4_col87\" class=\"data row4 col87\" >3.678401</td>\n",
       "                        <td id=\"T_9a8cb_row4_col88\" class=\"data row4 col88\" >3.434553</td>\n",
       "                        <td id=\"T_9a8cb_row4_col89\" class=\"data row4 col89\" >1329.144879</td>\n",
       "                        <td id=\"T_9a8cb_row4_col90\" class=\"data row4 col90\" >1.974593</td>\n",
       "                        <td id=\"T_9a8cb_row4_col91\" class=\"data row4 col91\" >1.955351</td>\n",
       "                        <td id=\"T_9a8cb_row4_col92\" class=\"data row4 col92\" >5.215136</td>\n",
       "            </tr>\n",
       "    </tbody></table>"
      ],
      "text/plain": [
       "<pandas.io.formats.style.Styler at 0x1f0e1d1adf0>"
      ]
     },
     "execution_count": 16,
     "metadata": {},
     "output_type": "execute_result"
    }
   ],
   "source": [
    "bitcoindf['date'] = pd.to_datetime(bitcoindf.date)\n",
    "bitcoindf.head().style.set_properties(subset=['date','close'], **{'background-color': 'skyblue'})"
   ]
  },
  {
   "cell_type": "code",
   "execution_count": 15,
   "id": "9cca4be2",
   "metadata": {},
   "outputs": [
    {
     "data": {
      "text/plain": [
       "Text(0.5, 1.0, 'Bitcoin Close Price')"
      ]
     },
     "execution_count": 15,
     "metadata": {},
     "output_type": "execute_result"
    },
    {
     "data": {
      "image/png": "[encoded data removed]",
      "text/plain": [
       "<Figure size 1080x720 with 1 Axes>"
      ]
     },
     "metadata": {
      "needs_background": "light"
     },
     "output_type": "display_data"
    }
   ],
   "source": [
    "fig = plt.figure(figsize = (15,10))\n",
    "\n",
    "plt.subplot(2, 2, 1)\n",
    "plt.plot(bitcoindf['date'], bitcoindf['close'], color=\"red\")\n",
    "plt.title('Bitcoin Close Price')"
   ]
  },
  {
   "cell_type": "code",
   "execution_count": 15,
   "id": "9182626f",
   "metadata": {},
   "outputs": [
    {
     "data": {
      "image/png": "[encoded data removed]",
      "text/plain": [
       "<Figure size 1080x504 with 1 Axes>"
      ]
     },
     "metadata": {
      "needs_background": "light"
     },
     "output_type": "display_data"
    }
   ],
   "source": [
    "fig = plt.figure(figsize = (15,7))\n",
    "\n",
    "plt.plot(last1year_bitcoindf['date'] , last1year_bitcoindf['volume'])\n",
    "plt.title('Volume of Bitcoin')\n",
    "plt.legend(['Bitcoin'])\n",
    "\n",
    "\n",
    "plt.show()"
   ]
  },
  {
   "cell_type": "code",
   "execution_count": 80,
   "id": "7cd7d1a6",
   "metadata": {
    "execution": {
     "iopub.execute_input": "2021-09-14T16:04:30.932847Z",
     "iopub.status.busy": "2021-09-14T16:04:30.931960Z",
     "iopub.status.idle": "2021-09-14T16:04:30.939563Z",
     "shell.execute_reply": "2021-09-14T16:04:30.938813Z",
     "shell.execute_reply.started": "2021-09-14T16:04:30.932794Z"
    }
   },
   "outputs": [],
   "source": [
    "# convert an array of values into a dataset matrix\n",
    "def create_dataset(dataset, time_step=1):\n",
    "    dataX, dataY = [], []\n",
    "    for i in range(len(dataset)-time_step-1):\n",
    "        a = dataset.iloc[i:(i+time_step), 0]   ###i=0, 0,1,2,3-----99   100 \n",
    "        dataX.append(a)\n",
    "        dataY.append(dataset.iloc[i + time_step, 0])\n",
    "    return np.array(dataX), np.array(dataY)"
   ]
  },
  {
   "cell_type": "markdown",
   "id": "42d0ddfb",
   "metadata": {},
   "source": [
    "#  Bitcoin Close Price Prediction using XGBoost"
   ]
  },
  {
   "cell_type": "markdown",
   "id": "2b530feb",
   "metadata": {},
   "source": [
    "#### Dataframe of bitcoin close price"
   ]
  },
  {
   "cell_type": "code",
   "execution_count": 104,
   "id": "7b975ee5",
   "metadata": {
    "execution": {
     "iopub.execute_input": "2021-09-14T16:04:30.443478Z",
     "iopub.status.busy": "2021-09-14T16:04:30.443136Z",
     "iopub.status.idle": "2021-09-14T16:04:30.453894Z",
     "shell.execute_reply": "2021-09-14T16:04:30.452917Z",
     "shell.execute_reply.started": "2021-09-14T16:04:30.443431Z"
    }
   },
   "outputs": [
    {
     "name": "stdout",
     "output_type": "stream",
     "text": [
      "Shape of close dataframe: (1826, 2)\n"
     ]
    }
   ],
   "source": [
    "closedf = bitcoindf[['date','close']]\n",
    "print(\"Shape of close dataframe:\", closedf.shape)\n",
    "#'date','close',\"trend_macd\", \"volume\" "
   ]
  },
  {
   "cell_type": "code",
   "execution_count": 105,
   "id": "8f182dae",
   "metadata": {
    "execution": {
     "iopub.execute_input": "2021-09-14T16:04:30.457035Z",
     "iopub.status.busy": "2021-09-14T16:04:30.456723Z",
     "iopub.status.idle": "2021-09-14T16:04:30.471809Z",
     "shell.execute_reply": "2021-09-14T16:04:30.470680Z",
     "shell.execute_reply.started": "2021-09-14T16:04:30.457003Z"
    }
   },
   "outputs": [
    {
     "name": "stdout",
     "output_type": "stream",
     "text": [
      "Total data for prediction:  298\n"
     ]
    }
   ],
   "source": [
    "closedf = closedf[closedf['date'] > '2021-07-01']\n",
    "close_stock = closedf.copy()\n",
    "print(\"Total data for prediction: \",closedf.shape[0])"
   ]
  },
  {
   "cell_type": "code",
   "execution_count": 106,
   "id": "d71aa9bf",
   "metadata": {},
   "outputs": [
    {
     "data": {
      "text/html": [
       "<div>\n",
       "<style scoped>\n",
       "    .dataframe tbody tr th:only-of-type {\n",
       "        vertical-align: middle;\n",
       "    }\n",
       "\n",
       "    .dataframe tbody tr th {\n",
       "        vertical-align: top;\n",
       "    }\n",
       "\n",
       "    .dataframe thead th {\n",
       "        text-align: right;\n",
       "    }\n",
       "</style>\n",
       "<table border=\"1\" class=\"dataframe\">\n",
       "  <thead>\n",
       "    <tr style=\"text-align: right;\">\n",
       "      <th></th>\n",
       "      <th>date</th>\n",
       "      <th>close</th>\n",
       "    </tr>\n",
       "  </thead>\n",
       "  <tbody>\n",
       "    <tr>\n",
       "      <th>1528</th>\n",
       "      <td>2021-07-02</td>\n",
       "      <td>33897.046875</td>\n",
       "    </tr>\n",
       "    <tr>\n",
       "      <th>1529</th>\n",
       "      <td>2021-07-03</td>\n",
       "      <td>34668.546875</td>\n",
       "    </tr>\n",
       "    <tr>\n",
       "      <th>1530</th>\n",
       "      <td>2021-07-04</td>\n",
       "      <td>35287.781250</td>\n",
       "    </tr>\n",
       "    <tr>\n",
       "      <th>1531</th>\n",
       "      <td>2021-07-05</td>\n",
       "      <td>33746.003906</td>\n",
       "    </tr>\n",
       "    <tr>\n",
       "      <th>1532</th>\n",
       "      <td>2021-07-06</td>\n",
       "      <td>34235.195312</td>\n",
       "    </tr>\n",
       "    <tr>\n",
       "      <th>...</th>\n",
       "      <td>...</td>\n",
       "      <td>...</td>\n",
       "    </tr>\n",
       "    <tr>\n",
       "      <th>1821</th>\n",
       "      <td>2022-04-21</td>\n",
       "      <td>40527.363281</td>\n",
       "    </tr>\n",
       "    <tr>\n",
       "      <th>1822</th>\n",
       "      <td>2022-04-22</td>\n",
       "      <td>39740.320312</td>\n",
       "    </tr>\n",
       "    <tr>\n",
       "      <th>1823</th>\n",
       "      <td>2022-04-23</td>\n",
       "      <td>39486.730469</td>\n",
       "    </tr>\n",
       "    <tr>\n",
       "      <th>1824</th>\n",
       "      <td>2022-04-24</td>\n",
       "      <td>39469.292969</td>\n",
       "    </tr>\n",
       "    <tr>\n",
       "      <th>1825</th>\n",
       "      <td>2022-04-25</td>\n",
       "      <td>40458.308594</td>\n",
       "    </tr>\n",
       "  </tbody>\n",
       "</table>\n",
       "<p>298 rows × 2 columns</p>\n",
       "</div>"
      ],
      "text/plain": [
       "           date         close\n",
       "1528 2021-07-02  33897.046875\n",
       "1529 2021-07-03  34668.546875\n",
       "1530 2021-07-04  35287.781250\n",
       "1531 2021-07-05  33746.003906\n",
       "1532 2021-07-06  34235.195312\n",
       "...         ...           ...\n",
       "1821 2022-04-21  40527.363281\n",
       "1822 2022-04-22  39740.320312\n",
       "1823 2022-04-23  39486.730469\n",
       "1824 2022-04-24  39469.292969\n",
       "1825 2022-04-25  40458.308594\n",
       "\n",
       "[298 rows x 2 columns]"
      ]
     },
     "execution_count": 106,
     "metadata": {},
     "output_type": "execute_result"
    }
   ],
   "source": [
    "close_stock"
   ]
  },
  {
   "cell_type": "markdown",
   "id": "e231ef4e",
   "metadata": {},
   "source": [
    "#### Separate data for Train and Test"
   ]
  },
  {
   "cell_type": "code",
   "execution_count": 107,
   "id": "63b00299",
   "metadata": {
    "execution": {
     "iopub.execute_input": "2021-09-14T16:04:30.487196Z",
     "iopub.status.busy": "2021-09-14T16:04:30.486914Z",
     "iopub.status.idle": "2021-09-14T16:04:30.498259Z",
     "shell.execute_reply": "2021-09-14T16:04:30.497207Z",
     "shell.execute_reply.started": "2021-09-14T16:04:30.487165Z"
    }
   },
   "outputs": [
    {
     "name": "stdout",
     "output_type": "stream",
     "text": [
      "train_data:  (238, 2)\n",
      "test_data:  (60, 2)\n"
     ]
    }
   ],
   "source": [
    "training_size=int(len(closedf)*0.80)\n",
    "test_size=len(closedf)-training_size\n",
    "train_data,test_data=closedf.iloc[0:training_size,:],closedf.iloc[training_size:len(closedf),:]\n",
    "print(\"train_data: \", train_data.shape)\n",
    "print(\"test_data: \", test_data.shape)"
   ]
  },
  {
   "cell_type": "code",
   "execution_count": 108,
   "id": "2f923acc",
   "metadata": {
    "execution": {
     "iopub.execute_input": "2021-09-14T16:04:30.503292Z",
     "iopub.status.busy": "2021-09-14T16:04:30.502953Z",
     "iopub.status.idle": "2021-09-14T16:04:30.930481Z",
     "shell.execute_reply": "2021-09-14T16:04:30.929496Z",
     "shell.execute_reply.started": "2021-09-14T16:04:30.503255Z"
    }
   },
   "outputs": [
    {
     "data": {
      "text/plain": [
       "<matplotlib.legend.Legend at 0x1f0e61c0fd0>"
      ]
     },
     "execution_count": 108,
     "metadata": {},
     "output_type": "execute_result"
    },
    {
     "data": {
      "image/png": "[encoded data removed]",
      "text/plain": [
       "<Figure size 1080x432 with 1 Axes>"
      ]
     },
     "metadata": {
      "needs_background": "light"
     },
     "output_type": "display_data"
    }
   ],
   "source": [
    "fig, ax = plt.subplots(figsize=(15, 6))\n",
    "sns.lineplot(x = close_stock['date'][:training_size], y = close_stock['close'][:training_size], color = 'black')\n",
    "sns.lineplot(x = close_stock['date'][training_size:], y = close_stock['close'][training_size:], color = 'red')\n",
    "\n",
    "# Formatting\n",
    "ax.set_title('Train & Test data', fontsize = 20, loc='center', fontdict=dict(weight='bold'))\n",
    "ax.set_xlabel('Date', fontsize = 16, fontdict=dict(weight='bold'))\n",
    "ax.set_ylabel('Weekly Sales', fontsize = 16, fontdict=dict(weight='bold'))\n",
    "plt.tick_params(axis='y', which='major', labelsize=16)\n",
    "plt.tick_params(axis='x', which='major', labelsize=16)\n",
    "plt.legend(loc='upper right' ,labels = ('train', 'test'))"
   ]
  },
  {
   "cell_type": "markdown",
   "id": "559ca072",
   "metadata": {},
   "source": [
    "#### Normalizing close price value"
   ]
  },
  {
   "cell_type": "code",
   "execution_count": 109,
   "id": "70081c05",
   "metadata": {
    "execution": {
     "iopub.execute_input": "2021-09-14T16:04:30.475658Z",
     "iopub.status.busy": "2021-09-14T16:04:30.475271Z",
     "iopub.status.idle": "2021-09-14T16:04:30.485370Z",
     "shell.execute_reply": "2021-09-14T16:04:30.484160Z",
     "shell.execute_reply.started": "2021-09-14T16:04:30.475625Z"
    }
   },
   "outputs": [],
   "source": [
    "del train_data['date']\n",
    "del test_data['date']\n",
    "scaler = MinMaxScaler()\n",
    "scaler_y = MinMaxScaler().fit(np.array(train_data['close']).reshape(-1,1)) \n",
    "scaler.fit(train_data)\n",
    "X_train_scaled = pd.DataFrame(scaler.transform(train_data)) \n",
    "X_test_scaled = pd.DataFrame(scaler.transform(test_data))"
   ]
  },
  {
   "cell_type": "markdown",
   "id": "bebc858b",
   "metadata": {},
   "source": [
    "#### Prepare train data for time series analysis"
   ]
  },
  {
   "cell_type": "code",
   "execution_count": 143,
   "id": "22ae1f60",
   "metadata": {
    "execution": {
     "iopub.execute_input": "2021-09-14T16:04:30.940790Z",
     "iopub.status.busy": "2021-09-14T16:04:30.940524Z",
     "iopub.status.idle": "2021-09-14T16:04:30.961427Z",
     "shell.execute_reply": "2021-09-14T16:04:30.959745Z",
     "shell.execute_reply.started": "2021-09-14T16:04:30.940761Z"
    }
   },
   "outputs": [
    {
     "name": "stdout",
     "output_type": "stream",
     "text": [
      "X_train:  (220, 17)\n",
      "y_train:  (220,)\n",
      "X_test:  (42, 17)\n",
      "y_test (42,)\n"
     ]
    }
   ],
   "source": [
    "time_step = 17\n",
    "X_train, y_train = create_dataset(X_train_scaled, time_step)\n",
    "X_test, y_test = create_dataset(X_test_scaled, time_step)\n",
    "\n",
    "print(\"X_train: \", X_train.shape)\n",
    "print(\"y_train: \", y_train.shape)\n",
    "print(\"X_test: \", X_test.shape)\n",
    "print(\"y_test\", y_test.shape)"
   ]
  },
  {
   "cell_type": "markdown",
   "id": "f7ff1486",
   "metadata": {},
   "source": [
    "#### Import XGBRegressor module and Fit X_train and y_train for training model"
   ]
  },
  {
   "cell_type": "code",
   "execution_count": 144,
   "id": "da7f75fe",
   "metadata": {
    "execution": {
     "iopub.execute_input": "2021-09-14T16:04:30.962802Z",
     "iopub.status.busy": "2021-09-14T16:04:30.962501Z",
     "iopub.status.idle": "2021-09-14T16:04:31.293664Z",
     "shell.execute_reply": "2021-09-14T16:04:31.292962Z",
     "shell.execute_reply.started": "2021-09-14T16:04:30.962771Z"
    }
   },
   "outputs": [
    {
     "data": {
      "text/plain": [
       "XGBRegressor(base_score=0.5, booster='gbtree', callbacks=None,\n",
       "             colsample_bylevel=1, colsample_bynode=1, colsample_bytree=1,\n",
       "             early_stopping_rounds=None, enable_categorical=False,\n",
       "             eval_metric=None, gamma=0, gpu_id=-1, grow_policy='depthwise',\n",
       "             importance_type=None, interaction_constraints='',\n",
       "             learning_rate=0.300000012, max_bin=256, max_cat_to_onehot=4,\n",
       "             max_delta_step=0, max_depth=6, max_leaves=0, min_child_weight=1,\n",
       "             missing=nan, monotone_constraints='()', n_estimators=1000,\n",
       "             n_jobs=0, num_parallel_tree=1, predictor='auto', random_state=0,\n",
       "             reg_alpha=0, reg_lambda=1, ...)"
      ]
     },
     "execution_count": 144,
     "metadata": {},
     "output_type": "execute_result"
    }
   ],
   "source": [
    "from xgboost import XGBRegressor\n",
    "my_model2 = XGBRegressor(n_estimators=1000)\n",
    "my_model2.fit(X_train, y_train, verbose=False)"
   ]
  },
  {
   "cell_type": "markdown",
   "id": "20037f23",
   "metadata": {},
   "source": [
    "#### Model testing and evaluation"
   ]
  },
  {
   "cell_type": "code",
   "execution_count": 145,
   "id": "c8b1be68",
   "metadata": {},
   "outputs": [
    {
     "name": "stdout",
     "output_type": "stream",
     "text": [
      "Root Mean squared Error - RMSE : 0.02826373712271116\n"
     ]
    }
   ],
   "source": [
    "#second run with \"close\", 17 days\n",
    "predictions = my_model2.predict(X_test)\n",
    "print(\"Root Mean squared Error - RMSE : \" + str(math.sqrt(mean_squared_error(y_test, predictions))))"
   ]
  },
  {
   "cell_type": "code",
   "execution_count": 135,
   "id": "a2539fa9",
   "metadata": {},
   "outputs": [
    {
     "name": "stdout",
     "output_type": "stream",
     "text": [
      "Root Mean squared Error - RMSE : 0.02826373712271116\n"
     ]
    }
   ],
   "source": [
    "#second run with \"close\", 17 days\n",
    "predictions = my_model2.predict(X_test)\n",
    "print(\"Root Mean squared Error - RMSE : \" + str(math.sqrt(mean_squared_error(y_test, predictions))))"
   ]
  },
  {
   "cell_type": "code",
   "execution_count": 112,
   "id": "a8e0ffd0",
   "metadata": {},
   "outputs": [
    {
     "name": "stdout",
     "output_type": "stream",
     "text": [
      "Root Mean squared Error - RMSE : 0.030854679339866742\n"
     ]
    }
   ],
   "source": [
    "#second run with \"close\", 15 days\n",
    "predictions = my_model2.predict(X_test)\n",
    "print(\"Root Mean squared Error - RMSE : \" + str(math.sqrt(mean_squared_error(y_test, predictions))))"
   ]
  },
  {
   "cell_type": "code",
   "execution_count": 63,
   "id": "67c3b7b8",
   "metadata": {},
   "outputs": [
    {
     "name": "stdout",
     "output_type": "stream",
     "text": [
      "Root Mean squared Error - RMSE : 0.03868122390703764\n"
     ]
    }
   ],
   "source": [
    "#second run with \"close\", 10 days, july\n",
    "predictions = my_model2.predict(X_test)\n",
    "print(\"Root Mean squared Error - RMSE : \" + str(math.sqrt(mean_squared_error(y_test, predictions))))"
   ]
  },
  {
   "cell_type": "code",
   "execution_count": 125,
   "id": "a66ab546",
   "metadata": {},
   "outputs": [
    {
     "name": "stdout",
     "output_type": "stream",
     "text": [
      "Mean Absolute Error - MAE : 0.03600010983476512\n",
      "Root Mean squared Error - RMSE : 0.04745400373034746\n"
     ]
    }
   ],
   "source": [
    "#second run with \"close\" and 15 days\n",
    "predictions = my_model2.predict(X_test)\n",
    "print(\"Mean Absolute Error - MAE : \" + str(mean_absolute_error(y_test, predictions)))\n",
    "print(\"Root Mean squared Error - RMSE : \" + str(math.sqrt(mean_squared_error(y_test, predictions))))"
   ]
  },
  {
   "cell_type": "code",
   "execution_count": 94,
   "id": "7488b1b2",
   "metadata": {},
   "outputs": [
    {
     "name": "stdout",
     "output_type": "stream",
     "text": [
      "Mean Absolute Error - MAE : 0.03600010983476512\n",
      "Root Mean squared Error - RMSE : 0.04745400373034746\n"
     ]
    }
   ],
   "source": [
    "#second run with \"close\", \"trend_macd\", \"volume\"\n",
    "predictions = my_model1.predict(X_test)\n",
    "print(\"Mean Absolute Error - MAE : \" + str(mean_absolute_error(y_test, predictions)))\n",
    "print(\"Root Mean squared Error - RMSE : \" + str(math.sqrt(mean_squared_error(y_test, predictions))))"
   ]
  },
  {
   "cell_type": "code",
   "execution_count": 24,
   "id": "aed3d260",
   "metadata": {
    "execution": {
     "iopub.execute_input": "2021-09-14T16:04:31.295531Z",
     "iopub.status.busy": "2021-09-14T16:04:31.294705Z",
     "iopub.status.idle": "2021-09-14T16:04:31.311224Z",
     "shell.execute_reply": "2021-09-14T16:04:31.309959Z",
     "shell.execute_reply.started": "2021-09-14T16:04:31.295452Z"
    }
   },
   "outputs": [
    {
     "name": "stdout",
     "output_type": "stream",
     "text": [
      "Mean Absolute Error - MAE : 0.03586139649678331\n",
      "Root Mean squared Error - RMSE : 0.04974812278025246\n"
     ]
    }
   ],
   "source": [
    "#first run - just with close data\n",
    "predictions = my_model.predict(X_test)\n",
    "print(\"Mean Absolute Error - MAE : \" + str(mean_absolute_error(y_test, predictions)))\n",
    "print(\"Root Mean squared Error - RMSE : \" + str(math.sqrt(mean_squared_error(y_test, predictions))))"
   ]
  },
  {
   "cell_type": "code",
   "execution_count": 113,
   "id": "a0fbe546",
   "metadata": {
    "execution": {
     "iopub.execute_input": "2021-09-14T16:04:31.316623Z",
     "iopub.status.busy": "2021-09-14T16:04:31.315926Z",
     "iopub.status.idle": "2021-09-14T16:04:31.337743Z",
     "shell.execute_reply": "2021-09-14T16:04:31.336728Z",
     "shell.execute_reply.started": "2021-09-14T16:04:31.316565Z"
    }
   },
   "outputs": [
    {
     "name": "stdout",
     "output_type": "stream",
     "text": [
      "Train data prediction: (222, 1)\n",
      "Test data prediction: (44, 1)\n"
     ]
    }
   ],
   "source": [
    "train_predict=my_model2.predict(X_train)\n",
    "test_predict=my_model2.predict(X_test)\n",
    "\n",
    "train_predict = train_predict.reshape(-1,1)\n",
    "test_predict = test_predict.reshape(-1,1)\n",
    "\n",
    "print(\"Train data prediction:\", train_predict.shape)\n",
    "print(\"Test data prediction:\", test_predict.shape)"
   ]
  },
  {
   "cell_type": "code",
   "execution_count": 114,
   "id": "0adf9e62",
   "metadata": {
    "execution": {
     "iopub.execute_input": "2021-09-14T16:04:31.343040Z",
     "iopub.status.busy": "2021-09-14T16:04:31.342326Z",
     "iopub.status.idle": "2021-09-14T16:04:31.351197Z",
     "shell.execute_reply": "2021-09-14T16:04:31.350212Z",
     "shell.execute_reply.started": "2021-09-14T16:04:31.342995Z"
    }
   },
   "outputs": [],
   "source": [
    "# Transform back to original form\n",
    "\n",
    "train_predict = scaler_y.inverse_transform(train_predict)\n",
    "test_predict = scaler_y.inverse_transform(test_predict)\n",
    "original_ytrain = scaler_y.inverse_transform(y_train.reshape(-1,1)) \n",
    "original_ytest = scaler_y.inverse_transform(y_test.reshape(-1,1)) "
   ]
  },
  {
   "cell_type": "code",
   "execution_count": 115,
   "id": "c1b212f8",
   "metadata": {},
   "outputs": [
    {
     "name": "stdout",
     "output_type": "stream",
     "text": [
      "Root Mean squared Error - RMSE : 1165.056596436195\n"
     ]
    }
   ],
   "source": [
    "#unscaled datasets\n",
    "print(\"Root Mean squared Error - RMSE : \" + str(math.sqrt(mean_squared_error(original_ytest, test_predict))))"
   ]
  },
  {
   "cell_type": "code",
   "execution_count": 116,
   "id": "1e482195",
   "metadata": {
    "execution": {
     "iopub.execute_input": "2021-09-14T16:04:31.353556Z",
     "iopub.status.busy": "2021-09-14T16:04:31.352673Z",
     "iopub.status.idle": "2021-09-14T16:04:32.221030Z",
     "shell.execute_reply": "2021-09-14T16:04:32.219980Z",
     "shell.execute_reply.started": "2021-09-14T16:04:31.353510Z"
    },
    "scrolled": true
   },
   "outputs": [
    {
     "name": "stdout",
     "output_type": "stream",
     "text": [
      "Train predicted data:  (298, 1)\n",
      "Test predicted data:  (298, 1)\n"
     ]
    },
    {
     "data": {
      "application/vnd.plotly.v1+json": {
       "config": {
        "plotlyServerURL": "https://plot.ly"
       },
       "data": [
        {
         "hovertemplate": "variable=original_close<br>Date=%{x}<br>Close price=%{y}<extra></extra>",
         "legendgroup": "original_close",
         "line": {
          "color": "#636efa",
          "dash": "solid"
         },
         "marker": {
          "symbol": "circle"
         },
         "mode": "lines",
         "name": "Original close price",
         "orientation": "v",
         "showlegend": true,
         "type": "scatter",
         "x": [
          "2021-07-02T00:00:00",
          "2021-07-03T00:00:00",
          "2021-07-04T00:00:00",
          "2021-07-05T00:00:00",
          "2021-07-06T00:00:00",
          "2021-07-07T00:00:00",
          "2021-07-08T00:00:00",
          "2021-07-09T00:00:00",
          "2021-07-10T00:00:00",
          "2021-07-11T00:00:00",
          "2021-07-12T00:00:00",
          "2021-07-13T00:00:00",
          "2021-07-14T00:00:00",
          "2021-07-15T00:00:00",
          "2021-07-16T00:00:00",
          "2021-07-17T00:00:00",
          "2021-07-18T00:00:00",
          "2021-07-19T00:00:00",
          "2021-07-20T00:00:00",
          "2021-07-21T00:00:00",
          "2021-07-22T00:00:00",
          "2021-07-23T00:00:00",
          "2021-07-24T00:00:00",
          "2021-07-25T00:00:00",
          "2021-07-26T00:00:00",
          "2021-07-27T00:00:00",
          "2021-07-28T00:00:00",
          "2021-07-29T00:00:00",
          "2021-07-30T00:00:00",
          "2021-07-31T00:00:00",
          "2021-08-01T00:00:00",
          "2021-08-02T00:00:00",
          "2021-08-03T00:00:00",
          "2021-08-04T00:00:00",
          "2021-08-05T00:00:00",
          "2021-08-06T00:00:00",
          "2021-08-07T00:00:00",
          "2021-08-08T00:00:00",
          "2021-08-09T00:00:00",
          "2021-08-10T00:00:00",
          "2021-08-11T00:00:00",
          "2021-08-12T00:00:00",
          "2021-08-13T00:00:00",
          "2021-08-14T00:00:00",
          "2021-08-15T00:00:00",
          "2021-08-16T00:00:00",
          "2021-08-17T00:00:00",
          "2021-08-18T00:00:00",
          "2021-08-19T00:00:00",
          "2021-08-20T00:00:00",
          "2021-08-21T00:00:00",
          "2021-08-22T00:00:00",
          "2021-08-23T00:00:00",
          "2021-08-24T00:00:00",
          "2021-08-25T00:00:00",
          "2021-08-26T00:00:00",
          "2021-08-27T00:00:00",
          "2021-08-28T00:00:00",
          "2021-08-29T00:00:00",
          "2021-08-30T00:00:00",
          "2021-08-31T00:00:00",
          "2021-09-01T00:00:00",
          "2021-09-02T00:00:00",
          "2021-09-03T00:00:00",
          "2021-09-04T00:00:00",
          "2021-09-05T00:00:00",
          "2021-09-06T00:00:00",
          "2021-09-07T00:00:00",
          "2021-09-08T00:00:00",
          "2021-09-09T00:00:00",
          "2021-09-10T00:00:00",
          "2021-09-11T00:00:00",
          "2021-09-12T00:00:00",
          "2021-09-13T00:00:00",
          "2021-09-14T00:00:00",
          "2021-09-15T00:00:00",
          "2021-09-16T00:00:00",
          "2021-09-17T00:00:00",
          "2021-09-18T00:00:00",
          "2021-09-19T00:00:00",
          "2021-09-20T00:00:00",
          "2021-09-21T00:00:00",
          "2021-09-22T00:00:00",
          "2021-09-23T00:00:00",
          "2021-09-24T00:00:00",
          "2021-09-25T00:00:00",
          "2021-09-26T00:00:00",
          "2021-09-27T00:00:00",
          "2021-09-28T00:00:00",
          "2021-09-29T00:00:00",
          "2021-09-30T00:00:00",
          "2021-10-01T00:00:00",
          "2021-10-02T00:00:00",
          "2021-10-03T00:00:00",
          "2021-10-04T00:00:00",
          "2021-10-05T00:00:00",
          "2021-10-06T00:00:00",
          "2021-10-07T00:00:00",
          "2021-10-08T00:00:00",
          "2021-10-09T00:00:00",
          "2021-10-10T00:00:00",
          "2021-10-11T00:00:00",
          "2021-10-12T00:00:00",
          "2021-10-13T00:00:00",
          "2021-10-14T00:00:00",
          "2021-10-15T00:00:00",
          "2021-10-16T00:00:00",
          "2021-10-17T00:00:00",
          "2021-10-18T00:00:00",
          "2021-10-19T00:00:00",
          "2021-10-20T00:00:00",
          "2021-10-21T00:00:00",
          "2021-10-22T00:00:00",
          "2021-10-23T00:00:00",
          "2021-10-24T00:00:00",
          "2021-10-25T00:00:00",
          "2021-10-26T00:00:00",
          "2021-10-27T00:00:00",
          "2021-10-28T00:00:00",
          "2021-10-29T00:00:00",
          "2021-10-30T00:00:00",
          "2021-10-31T00:00:00",
          "2021-11-01T00:00:00",
          "2021-11-02T00:00:00",
          "2021-11-03T00:00:00",
          "2021-11-04T00:00:00",
          "2021-11-05T00:00:00",
          "2021-11-06T00:00:00",
          "2021-11-07T00:00:00",
          "2021-11-08T00:00:00",
          "2021-11-09T00:00:00",
          "2021-11-10T00:00:00",
          "2021-11-11T00:00:00",
          "2021-11-12T00:00:00",
          "2021-11-13T00:00:00",
          "2021-11-14T00:00:00",
          "2021-11-15T00:00:00",
          "2021-11-16T00:00:00",
          "2021-11-17T00:00:00",
          "2021-11-18T00:00:00",
          "2021-11-19T00:00:00",
          "2021-11-20T00:00:00",
          "2021-11-21T00:00:00",
          "2021-11-22T00:00:00",
          "2021-11-23T00:00:00",
          "2021-11-24T00:00:00",
          "2021-11-25T00:00:00",
          "2021-11-26T00:00:00",
          "2021-11-27T00:00:00",
          "2021-11-28T00:00:00",
          "2021-11-29T00:00:00",
          "2021-11-30T00:00:00",
          "2021-12-01T00:00:00",
          "2021-12-02T00:00:00",
          "2021-12-03T00:00:00",
          "2021-12-04T00:00:00",
          "2021-12-05T00:00:00",
          "2021-12-06T00:00:00",
          "2021-12-07T00:00:00",
          "2021-12-08T00:00:00",
          "2021-12-09T00:00:00",
          "2021-12-10T00:00:00",
          "2021-12-11T00:00:00",
          "2021-12-12T00:00:00",
          "2021-12-13T00:00:00",
          "2021-12-14T00:00:00",
          "2021-12-15T00:00:00",
          "2021-12-16T00:00:00",
          "2021-12-17T00:00:00",
          "2021-12-18T00:00:00",
          "2021-12-19T00:00:00",
          "2021-12-20T00:00:00",
          "2021-12-21T00:00:00",
          "2021-12-22T00:00:00",
          "2021-12-23T00:00:00",
          "2021-12-24T00:00:00",
          "2021-12-25T00:00:00",
          "2021-12-26T00:00:00",
          "2021-12-27T00:00:00",
          "2021-12-28T00:00:00",
          "2021-12-29T00:00:00",
          "2021-12-30T00:00:00",
          "2021-12-31T00:00:00",
          "2022-01-01T00:00:00",
          "2022-01-02T00:00:00",
          "2022-01-03T00:00:00",
          "2022-01-04T00:00:00",
          "2022-01-05T00:00:00",
          "2022-01-06T00:00:00",
          "2022-01-07T00:00:00",
          "2022-01-08T00:00:00",
          "2022-01-09T00:00:00",
          "2022-01-10T00:00:00",
          "2022-01-11T00:00:00",
          "2022-01-12T00:00:00",
          "2022-01-13T00:00:00",
          "2022-01-14T00:00:00",
          "2022-01-15T00:00:00",
          "2022-01-16T00:00:00",
          "2022-01-17T00:00:00",
          "2022-01-18T00:00:00",
          "2022-01-19T00:00:00",
          "2022-01-20T00:00:00",
          "2022-01-21T00:00:00",
          "2022-01-22T00:00:00",
          "2022-01-23T00:00:00",
          "2022-01-24T00:00:00",
          "2022-01-25T00:00:00",
          "2022-01-26T00:00:00",
          "2022-01-27T00:00:00",
          "2022-01-28T00:00:00",
          "2022-01-29T00:00:00",
          "2022-01-30T00:00:00",
          "2022-01-31T00:00:00",
          "2022-02-01T00:00:00",
          "2022-02-02T00:00:00",
          "2022-02-03T00:00:00",
          "2022-02-04T00:00:00",
          "2022-02-05T00:00:00",
          "2022-02-06T00:00:00",
          "2022-02-07T00:00:00",
          "2022-02-08T00:00:00",
          "2022-02-09T00:00:00",
          "2022-02-10T00:00:00",
          "2022-02-11T00:00:00",
          "2022-02-12T00:00:00",
          "2022-02-13T00:00:00",
          "2022-02-14T00:00:00",
          "2022-02-15T00:00:00",
          "2022-02-16T00:00:00",
          "2022-02-17T00:00:00",
          "2022-02-18T00:00:00",
          "2022-02-19T00:00:00",
          "2022-02-20T00:00:00",
          "2022-02-21T00:00:00",
          "2022-02-22T00:00:00",
          "2022-02-23T00:00:00",
          "2022-02-24T00:00:00",
          "2022-02-25T00:00:00",
          "2022-02-26T00:00:00",
          "2022-02-27T00:00:00",
          "2022-02-28T00:00:00",
          "2022-03-01T00:00:00",
          "2022-03-02T00:00:00",
          "2022-03-03T00:00:00",
          "2022-03-04T00:00:00",
          "2022-03-05T00:00:00",
          "2022-03-06T00:00:00",
          "2022-03-07T00:00:00",
          "2022-03-08T00:00:00",
          "2022-03-09T00:00:00",
          "2022-03-10T00:00:00",
          "2022-03-11T00:00:00",
          "2022-03-12T00:00:00",
          "2022-03-13T00:00:00",
          "2022-03-14T00:00:00",
          "2022-03-15T00:00:00",
          "2022-03-16T00:00:00",
          "2022-03-17T00:00:00",
          "2022-03-18T00:00:00",
          "2022-03-19T00:00:00",
          "2022-03-20T00:00:00",
          "2022-03-21T00:00:00",
          "2022-03-22T00:00:00",
          "2022-03-23T00:00:00",
          "2022-03-24T00:00:00",
          "2022-03-25T00:00:00",
          "2022-03-26T00:00:00",
          "2022-03-27T00:00:00",
          "2022-03-28T00:00:00",
          "2022-03-29T00:00:00",
          "2022-03-30T00:00:00",
          "2022-03-31T00:00:00",
          "2022-04-01T00:00:00",
          "2022-04-02T00:00:00",
          "2022-04-03T00:00:00",
          "2022-04-04T00:00:00",
          "2022-04-05T00:00:00",
          "2022-04-06T00:00:00",
          "2022-04-07T00:00:00",
          "2022-04-08T00:00:00",
          "2022-04-09T00:00:00",
          "2022-04-10T00:00:00",
          "2022-04-11T00:00:00",
          "2022-04-12T00:00:00",
          "2022-04-13T00:00:00",
          "2022-04-14T00:00:00",
          "2022-04-15T00:00:00",
          "2022-04-16T00:00:00",
          "2022-04-17T00:00:00",
          "2022-04-18T00:00:00",
          "2022-04-19T00:00:00",
          "2022-04-20T00:00:00",
          "2022-04-21T00:00:00",
          "2022-04-22T00:00:00",
          "2022-04-23T00:00:00",
          "2022-04-24T00:00:00",
          "2022-04-25T00:00:00"
         ],
         "xaxis": "x",
         "y": [
          33897.046875,
          34668.546875,
          35287.78125,
          33746.00390625,
          34235.1953125,
          33855.328125,
          32877.37109375,
          33798.01171875,
          33520.51953125,
          34240.1875,
          33155.84765625,
          32702.025390625,
          32822.34765625,
          31780.73046875,
          31421.5390625,
          31533.068359375,
          31796.810546875,
          30817.83203125,
          29807.34765625,
          32110.693359375,
          32313.10546875,
          33581.55078125,
          34292.4453125,
          35350.1875,
          37337.53515625,
          39406.94140625,
          39995.90625,
          40008.421875,
          42235.546875,
          41626.1953125,
          39974.89453125,
          39201.9453125,
          38152.98046875,
          39747.50390625,
          40869.5546875,
          42816.5,
          44555.80078125,
          43798.1171875,
          46365.40234375,
          45585.03125,
          45593.63671875,
          44428.2890625,
          47793.3203125,
          47096.9453125,
          47047.00390625,
          46004.484375,
          44695.359375,
          44801.1875,
          46717.578125,
          49339.17578125,
          48905.4921875,
          49321.65234375,
          49546.1484375,
          47706.1171875,
          48960.7890625,
          46942.21875,
          49058.66796875,
          48902.40234375,
          48829.83203125,
          47054.984375,
          47166.6875,
          48847.02734375,
          49327.72265625,
          50025.375,
          49944.625,
          51753.41015625,
          52633.53515625,
          46811.12890625,
          46091.390625,
          46391.421875,
          44883.91015625,
          45201.45703125,
          46063.26953125,
          44963.07421875,
          47092.4921875,
          48176.34765625,
          47783.359375,
          47267.51953125,
          48278.36328125,
          47260.21875,
          42843.80078125,
          40693.67578125,
          43574.5078125,
          44895.09765625,
          42839.75,
          42716.59375,
          43208.5390625,
          42235.73046875,
          41034.54296875,
          41564.36328125,
          43790.89453125,
          48116.94140625,
          47711.48828125,
          48199.953125,
          49112.90234375,
          51514.8125,
          55361.44921875,
          53805.984375,
          53967.84765625,
          54968.22265625,
          54771.578125,
          57484.7890625,
          56041.05859375,
          57401.09765625,
          57321.5234375,
          61593.94921875,
          60892.1796875,
          61553.6171875,
          62026.078125,
          64261.9921875,
          65992.8359375,
          62210.171875,
          60692.265625,
          61393.6171875,
          60930.8359375,
          63039.82421875,
          60363.79296875,
          58482.38671875,
          60622.13671875,
          62227.96484375,
          61888.83203125,
          61318.95703125,
          61004.40625,
          63226.40234375,
          62970.046875,
          61452.23046875,
          61125.67578125,
          61527.48046875,
          63326.98828125,
          67566.828125,
          66971.828125,
          64995.23046875,
          64949.9609375,
          64155.94140625,
          64469.52734375,
          65466.83984375,
          63557.87109375,
          60161.24609375,
          60368.01171875,
          56942.13671875,
          58119.578125,
          59697.1953125,
          58730.4765625,
          56289.2890625,
          57569.07421875,
          56280.42578125,
          57274.6796875,
          53569.765625,
          54815.078125,
          57248.45703125,
          57806.56640625,
          57005.42578125,
          57229.828125,
          56477.81640625,
          53598.24609375,
          49200.703125,
          49368.84765625,
          50582.625,
          50700.0859375,
          50504.796875,
          47672.12109375,
          47243.3046875,
          49362.5078125,
          50098.3359375,
          46737.48046875,
          46612.6328125,
          48896.72265625,
          47665.42578125,
          46202.14453125,
          46848.77734375,
          46707.015625,
          46880.27734375,
          48936.61328125,
          48628.51171875,
          50784.5390625,
          50822.1953125,
          50429.859375,
          50809.515625,
          50640.41796875,
          47588.85546875,
          46444.7109375,
          47178.125,
          46306.4453125,
          47686.8125,
          47345.21875,
          46458.1171875,
          45897.57421875,
          43569.00390625,
          43160.9296875,
          41557.90234375,
          41733.94140625,
          41911.6015625,
          41821.26171875,
          42735.85546875,
          43949.1015625,
          42591.5703125,
          43099.69921875,
          43177.3984375,
          43113.87890625,
          42250.55078125,
          42375.6328125,
          41744.328125,
          40680.41796875,
          36457.31640625,
          35030.25,
          36276.8046875,
          36654.328125,
          36954.00390625,
          36852.12109375,
          37138.234375,
          37784.33203125,
          38138.1796875,
          37917.6015625,
          38483.125,
          38743.2734375,
          36952.984375,
          37154.6015625,
          41500.875,
          41441.1640625,
          42412.43359375,
          43840.28515625,
          44118.4453125,
          44338.796875,
          43565.11328125,
          42407.9375,
          42244.46875,
          42197.515625,
          42586.91796875,
          44575.203125,
          43961.859375,
          40538.01171875,
          40030.9765625,
          40122.15625,
          38431.37890625,
          37075.28125,
          38286.02734375,
          37296.5703125,
          38332.609375,
          39214.21875,
          39105.1484375,
          37709.78515625,
          43193.234375,
          44354.63671875,
          43924.1171875,
          42451.7890625,
          39137.60546875,
          39400.5859375,
          38419.984375,
          38062.0390625,
          38737.26953125,
          41982.92578125,
          39437.4609375,
          38794.97265625,
          38904.01171875,
          37849.6640625,
          39666.75390625,
          39338.78515625,
          41143.9296875,
          40951.37890625,
          41801.15625,
          42190.65234375,
          41247.82421875,
          41077.99609375,
          42358.80859375,
          42892.95703125,
          43960.93359375,
          44348.73046875,
          44500.828125,
          46820.4921875,
          47128.00390625,
          47465.73046875,
          47062.6640625,
          45538.67578125,
          46281.64453125,
          45868.94921875,
          46453.56640625,
          46622.67578125,
          45555.9921875,
          43206.73828125,
          43503.84765625,
          42287.6640625,
          42782.13671875,
          42207.671875,
          39521.90234375,
          40127.18359375,
          41166.73046875,
          39935.515625,
          40553.46484375,
          40424.484375,
          39716.953125,
          40826.21484375,
          41502.75,
          41374.37890625,
          40527.36328125,
          39740.3203125,
          39486.73046875,
          39469.29296875,
          40458.30859375
         ],
         "yaxis": "y"
        },
        {
         "hovertemplate": "variable=train_predicted_close<br>Date=%{x}<br>Close price=%{y}<extra></extra>",
         "legendgroup": "train_predicted_close",
         "line": {
          "color": "#EF553B",
          "dash": "solid"
         },
         "marker": {
          "symbol": "circle"
         },
         "mode": "lines",
         "name": "Train predicted close price",
         "orientation": "v",
         "showlegend": true,
         "type": "scatter",
         "x": [
          "2021-07-02T00:00:00",
          "2021-07-03T00:00:00",
          "2021-07-04T00:00:00",
          "2021-07-05T00:00:00",
          "2021-07-06T00:00:00",
          "2021-07-07T00:00:00",
          "2021-07-08T00:00:00",
          "2021-07-09T00:00:00",
          "2021-07-10T00:00:00",
          "2021-07-11T00:00:00",
          "2021-07-12T00:00:00",
          "2021-07-13T00:00:00",
          "2021-07-14T00:00:00",
          "2021-07-15T00:00:00",
          "2021-07-16T00:00:00",
          "2021-07-17T00:00:00",
          "2021-07-18T00:00:00",
          "2021-07-19T00:00:00",
          "2021-07-20T00:00:00",
          "2021-07-21T00:00:00",
          "2021-07-22T00:00:00",
          "2021-07-23T00:00:00",
          "2021-07-24T00:00:00",
          "2021-07-25T00:00:00",
          "2021-07-26T00:00:00",
          "2021-07-27T00:00:00",
          "2021-07-28T00:00:00",
          "2021-07-29T00:00:00",
          "2021-07-30T00:00:00",
          "2021-07-31T00:00:00",
          "2021-08-01T00:00:00",
          "2021-08-02T00:00:00",
          "2021-08-03T00:00:00",
          "2021-08-04T00:00:00",
          "2021-08-05T00:00:00",
          "2021-08-06T00:00:00",
          "2021-08-07T00:00:00",
          "2021-08-08T00:00:00",
          "2021-08-09T00:00:00",
          "2021-08-10T00:00:00",
          "2021-08-11T00:00:00",
          "2021-08-12T00:00:00",
          "2021-08-13T00:00:00",
          "2021-08-14T00:00:00",
          "2021-08-15T00:00:00",
          "2021-08-16T00:00:00",
          "2021-08-17T00:00:00",
          "2021-08-18T00:00:00",
          "2021-08-19T00:00:00",
          "2021-08-20T00:00:00",
          "2021-08-21T00:00:00",
          "2021-08-22T00:00:00",
          "2021-08-23T00:00:00",
          "2021-08-24T00:00:00",
          "2021-08-25T00:00:00",
          "2021-08-26T00:00:00",
          "2021-08-27T00:00:00",
          "2021-08-28T00:00:00",
          "2021-08-29T00:00:00",
          "2021-08-30T00:00:00",
          "2021-08-31T00:00:00",
          "2021-09-01T00:00:00",
          "2021-09-02T00:00:00",
          "2021-09-03T00:00:00",
          "2021-09-04T00:00:00",
          "2021-09-05T00:00:00",
          "2021-09-06T00:00:00",
          "2021-09-07T00:00:00",
          "2021-09-08T00:00:00",
          "2021-09-09T00:00:00",
          "2021-09-10T00:00:00",
          "2021-09-11T00:00:00",
          "2021-09-12T00:00:00",
          "2021-09-13T00:00:00",
          "2021-09-14T00:00:00",
          "2021-09-15T00:00:00",
          "2021-09-16T00:00:00",
          "2021-09-17T00:00:00",
          "2021-09-18T00:00:00",
          "2021-09-19T00:00:00",
          "2021-09-20T00:00:00",
          "2021-09-21T00:00:00",
          "2021-09-22T00:00:00",
          "2021-09-23T00:00:00",
          "2021-09-24T00:00:00",
          "2021-09-25T00:00:00",
          "2021-09-26T00:00:00",
          "2021-09-27T00:00:00",
          "2021-09-28T00:00:00",
          "2021-09-29T00:00:00",
          "2021-09-30T00:00:00",
          "2021-10-01T00:00:00",
          "2021-10-02T00:00:00",
          "2021-10-03T00:00:00",
          "2021-10-04T00:00:00",
          "2021-10-05T00:00:00",
          "2021-10-06T00:00:00",
          "2021-10-07T00:00:00",
          "2021-10-08T00:00:00",
          "2021-10-09T00:00:00",
          "2021-10-10T00:00:00",
          "2021-10-11T00:00:00",
          "2021-10-12T00:00:00",
          "2021-10-13T00:00:00",
          "2021-10-14T00:00:00",
          "2021-10-15T00:00:00",
          "2021-10-16T00:00:00",
          "2021-10-17T00:00:00",
          "2021-10-18T00:00:00",
          "2021-10-19T00:00:00",
          "2021-10-20T00:00:00",
          "2021-10-21T00:00:00",
          "2021-10-22T00:00:00",
          "2021-10-23T00:00:00",
          "2021-10-24T00:00:00",
          "2021-10-25T00:00:00",
          "2021-10-26T00:00:00",
          "2021-10-27T00:00:00",
          "2021-10-28T00:00:00",
          "2021-10-29T00:00:00",
          "2021-10-30T00:00:00",
          "2021-10-31T00:00:00",
          "2021-11-01T00:00:00",
          "2021-11-02T00:00:00",
          "2021-11-03T00:00:00",
          "2021-11-04T00:00:00",
          "2021-11-05T00:00:00",
          "2021-11-06T00:00:00",
          "2021-11-07T00:00:00",
          "2021-11-08T00:00:00",
          "2021-11-09T00:00:00",
          "2021-11-10T00:00:00",
          "2021-11-11T00:00:00",
          "2021-11-12T00:00:00",
          "2021-11-13T00:00:00",
          "2021-11-14T00:00:00",
          "2021-11-15T00:00:00",
          "2021-11-16T00:00:00",
          "2021-11-17T00:00:00",
          "2021-11-18T00:00:00",
          "2021-11-19T00:00:00",
          "2021-11-20T00:00:00",
          "2021-11-21T00:00:00",
          "2021-11-22T00:00:00",
          "2021-11-23T00:00:00",
          "2021-11-24T00:00:00",
          "2021-11-25T00:00:00",
          "2021-11-26T00:00:00",
          "2021-11-27T00:00:00",
          "2021-11-28T00:00:00",
          "2021-11-29T00:00:00",
          "2021-11-30T00:00:00",
          "2021-12-01T00:00:00",
          "2021-12-02T00:00:00",
          "2021-12-03T00:00:00",
          "2021-12-04T00:00:00",
          "2021-12-05T00:00:00",
          "2021-12-06T00:00:00",
          "2021-12-07T00:00:00",
          "2021-12-08T00:00:00",
          "2021-12-09T00:00:00",
          "2021-12-10T00:00:00",
          "2021-12-11T00:00:00",
          "2021-12-12T00:00:00",
          "2021-12-13T00:00:00",
          "2021-12-14T00:00:00",
          "2021-12-15T00:00:00",
          "2021-12-16T00:00:00",
          "2021-12-17T00:00:00",
          "2021-12-18T00:00:00",
          "2021-12-19T00:00:00",
          "2021-12-20T00:00:00",
          "2021-12-21T00:00:00",
          "2021-12-22T00:00:00",
          "2021-12-23T00:00:00",
          "2021-12-24T00:00:00",
          "2021-12-25T00:00:00",
          "2021-12-26T00:00:00",
          "2021-12-27T00:00:00",
          "2021-12-28T00:00:00",
          "2021-12-29T00:00:00",
          "2021-12-30T00:00:00",
          "2021-12-31T00:00:00",
          "2022-01-01T00:00:00",
          "2022-01-02T00:00:00",
          "2022-01-03T00:00:00",
          "2022-01-04T00:00:00",
          "2022-01-05T00:00:00",
          "2022-01-06T00:00:00",
          "2022-01-07T00:00:00",
          "2022-01-08T00:00:00",
          "2022-01-09T00:00:00",
          "2022-01-10T00:00:00",
          "2022-01-11T00:00:00",
          "2022-01-12T00:00:00",
          "2022-01-13T00:00:00",
          "2022-01-14T00:00:00",
          "2022-01-15T00:00:00",
          "2022-01-16T00:00:00",
          "2022-01-17T00:00:00",
          "2022-01-18T00:00:00",
          "2022-01-19T00:00:00",
          "2022-01-20T00:00:00",
          "2022-01-21T00:00:00",
          "2022-01-22T00:00:00",
          "2022-01-23T00:00:00",
          "2022-01-24T00:00:00",
          "2022-01-25T00:00:00",
          "2022-01-26T00:00:00",
          "2022-01-27T00:00:00",
          "2022-01-28T00:00:00",
          "2022-01-29T00:00:00",
          "2022-01-30T00:00:00",
          "2022-01-31T00:00:00",
          "2022-02-01T00:00:00",
          "2022-02-02T00:00:00",
          "2022-02-03T00:00:00",
          "2022-02-04T00:00:00",
          "2022-02-05T00:00:00",
          "2022-02-06T00:00:00",
          "2022-02-07T00:00:00",
          "2022-02-08T00:00:00",
          "2022-02-09T00:00:00",
          "2022-02-10T00:00:00",
          "2022-02-11T00:00:00",
          "2022-02-12T00:00:00",
          "2022-02-13T00:00:00",
          "2022-02-14T00:00:00",
          "2022-02-15T00:00:00",
          "2022-02-16T00:00:00",
          "2022-02-17T00:00:00",
          "2022-02-18T00:00:00",
          "2022-02-19T00:00:00",
          "2022-02-20T00:00:00",
          "2022-02-21T00:00:00",
          "2022-02-22T00:00:00",
          "2022-02-23T00:00:00",
          "2022-02-24T00:00:00",
          "2022-02-25T00:00:00",
          "2022-02-26T00:00:00",
          "2022-02-27T00:00:00",
          "2022-02-28T00:00:00",
          "2022-03-01T00:00:00",
          "2022-03-02T00:00:00",
          "2022-03-03T00:00:00",
          "2022-03-04T00:00:00",
          "2022-03-05T00:00:00",
          "2022-03-06T00:00:00",
          "2022-03-07T00:00:00",
          "2022-03-08T00:00:00",
          "2022-03-09T00:00:00",
          "2022-03-10T00:00:00",
          "2022-03-11T00:00:00",
          "2022-03-12T00:00:00",
          "2022-03-13T00:00:00",
          "2022-03-14T00:00:00",
          "2022-03-15T00:00:00",
          "2022-03-16T00:00:00",
          "2022-03-17T00:00:00",
          "2022-03-18T00:00:00",
          "2022-03-19T00:00:00",
          "2022-03-20T00:00:00",
          "2022-03-21T00:00:00",
          "2022-03-22T00:00:00",
          "2022-03-23T00:00:00",
          "2022-03-24T00:00:00",
          "2022-03-25T00:00:00",
          "2022-03-26T00:00:00",
          "2022-03-27T00:00:00",
          "2022-03-28T00:00:00",
          "2022-03-29T00:00:00",
          "2022-03-30T00:00:00",
          "2022-03-31T00:00:00",
          "2022-04-01T00:00:00",
          "2022-04-02T00:00:00",
          "2022-04-03T00:00:00",
          "2022-04-04T00:00:00",
          "2022-04-05T00:00:00",
          "2022-04-06T00:00:00",
          "2022-04-07T00:00:00",
          "2022-04-08T00:00:00",
          "2022-04-09T00:00:00",
          "2022-04-10T00:00:00",
          "2022-04-11T00:00:00",
          "2022-04-12T00:00:00",
          "2022-04-13T00:00:00",
          "2022-04-14T00:00:00",
          "2022-04-15T00:00:00",
          "2022-04-16T00:00:00",
          "2022-04-17T00:00:00",
          "2022-04-18T00:00:00",
          "2022-04-19T00:00:00",
          "2022-04-20T00:00:00",
          "2022-04-21T00:00:00",
          "2022-04-22T00:00:00",
          "2022-04-23T00:00:00",
          "2022-04-24T00:00:00",
          "2022-04-25T00:00:00"
         ],
         "xaxis": "x",
         "y": [
          null,
          null,
          null,
          null,
          null,
          null,
          null,
          null,
          null,
          null,
          null,
          null,
          null,
          null,
          null,
          31537.80859375,
          31788.748046875,
          30828.47265625,
          29876.078125,
          32099.28125,
          32316.3203125,
          33575.8046875,
          34274.390625,
          35367.96484375,
          37325.70703125,
          39411.41015625,
          40001.58203125,
          40015.2109375,
          42201.3203125,
          41632.1875,
          40026.67578125,
          39189.42578125,
          38169.71875,
          39712.4921875,
          40888.1796875,
          42764.5390625,
          44547.93359375,
          43859.02734375,
          46257.828125,
          45608.26171875,
          45596.37890625,
          44466.82421875,
          47754.8984375,
          47105.51953125,
          47049.84375,
          45993.87109375,
          44687.45703125,
          44853.94140625,
          46677.85546875,
          49295.25390625,
          48924.99609375,
          49351.9921875,
          49544.4375,
          47737.375,
          48958.3359375,
          46963.37890625,
          49051.30859375,
          48875.75,
          48834.45703125,
          47093.43359375,
          47147.64453125,
          48844.03125,
          49311.2109375,
          50019.203125,
          49981.11328125,
          51700.52734375,
          52620.65234375,
          46850.9765625,
          46120.58203125,
          46395.3359375,
          44886.66796875,
          45205.71875,
          46063.0546875,
          44966.79296875,
          47058.6953125,
          48164.109375,
          47779.06640625,
          47287.671875,
          48249.99609375,
          47296.25390625,
          42917.47265625,
          40716.5546875,
          43552.86328125,
          44881.5546875,
          42852.10546875,
          42731.84765625,
          43200.65234375,
          42251.640625,
          41039.88671875,
          41562.3203125,
          43748.76171875,
          48073.74609375,
          47705.22265625,
          48192.08984375,
          49067.21875,
          51469.47265625,
          55332.2421875,
          53810.71875,
          53958.76171875,
          54978.0078125,
          54764.67578125,
          57471.10546875,
          56054.37109375,
          57401.6328125,
          57341.87109375,
          61528.3046875,
          60885.3203125,
          61556.0546875,
          62039.25390625,
          64220.87109375,
          65995.546875,
          62205.13671875,
          60697.9765625,
          61391.5234375,
          60970.0234375,
          63036.1484375,
          60379.98828125,
          58492.43359375,
          60584.93359375,
          62215.3671875,
          61864.05078125,
          61323.0859375,
          60994.19921875,
          63195.1640625,
          62990.55078125,
          61461.87890625,
          61137.8671875,
          61576,
          63344.80078125,
          67474.125,
          66971.625,
          64985.359375,
          64921.32421875,
          64171.4921875,
          64471.0390625,
          65450.35546875,
          63578.54296875,
          60174.625,
          60330.59765625,
          56959.0859375,
          58127.67578125,
          59653.703125,
          58748.765625,
          56296.63671875,
          57568.17578125,
          56328.15234375,
          57282.74609375,
          53563.84375,
          54801.12890625,
          57217.25390625,
          57797.8671875,
          56994.33203125,
          57229.75,
          56470.69140625,
          53634.27734375,
          49243.2734375,
          49383.27734375,
          50579.10546875,
          50669.69140625,
          50504.05859375,
          47718.67578125,
          47250.0234375,
          49317.83203125,
          50087.9140625,
          46760.4140625,
          46620.7421875,
          48861.359375,
          47676.5234375,
          46208.9609375,
          46827.29296875,
          46721.27734375,
          46918.26953125,
          48839.98046875,
          48654.03515625,
          50726.72265625,
          50809.90625,
          50428.7890625,
          50795.94140625,
          50620.12109375,
          47614.9140625,
          46448.90625,
          47152.828125,
          46335.05078125,
          47667.578125,
          47342.8828125,
          46476.17578125,
          45923.6640625,
          43645.61328125,
          43158.8046875,
          41575.77734375,
          41734.4609375,
          41924.73046875,
          41821.77734375,
          42728.9609375,
          43910.64453125,
          42617.76953125,
          43096.484375,
          43162.91796875,
          43116.921875,
          42338.3671875,
          42365.5859375,
          41775.875,
          40685.625,
          36580.50390625,
          35061.046875,
          36250.9296875,
          36652.9609375,
          36962.44921875,
          36871.3203125,
          37135.80859375,
          37807.1953125,
          38106.25,
          37943.1640625,
          38475.44140625,
          38682.96484375,
          37003.33203125,
          37161.3671875,
          41412.69140625,
          41459.30078125,
          42412.1015625,
          43856.5703125,
          44110.81640625,
          44315.609375,
          43563.1953125,
          42479.3203125,
          42238.48828125,
          42204.1796875,
          42548.5703125,
          44541.80078125,
          43953.58984375,
          40570.01171875,
          40018.28515625,
          40073.015625,
          38452.39453125,
          37086.31640625,
          38271.47265625,
          37312.58203125,
          null,
          null,
          null,
          null,
          null,
          null,
          null,
          null,
          null,
          null,
          null,
          null,
          null,
          null,
          null,
          null,
          null,
          null,
          null,
          null,
          null,
          null,
          null,
          null,
          null,
          null,
          null,
          null,
          null,
          null,
          null,
          null,
          null,
          null,
          null,
          null,
          null,
          null,
          null,
          null,
          null,
          null,
          null,
          null,
          null,
          null,
          null,
          null,
          null,
          null,
          null,
          null,
          null,
          null,
          null,
          null,
          null,
          null,
          null,
          null,
          null
         ],
         "yaxis": "y"
        },
        {
         "hovertemplate": "variable=test_predicted_close<br>Date=%{x}<br>Close price=%{y}<extra></extra>",
         "legendgroup": "test_predicted_close",
         "line": {
          "color": "#00cc96",
          "dash": "solid"
         },
         "marker": {
          "symbol": "circle"
         },
         "mode": "lines",
         "name": "Test predicted close price",
         "orientation": "v",
         "showlegend": true,
         "type": "scatter",
         "x": [
          "2021-07-02T00:00:00",
          "2021-07-03T00:00:00",
          "2021-07-04T00:00:00",
          "2021-07-05T00:00:00",
          "2021-07-06T00:00:00",
          "2021-07-07T00:00:00",
          "2021-07-08T00:00:00",
          "2021-07-09T00:00:00",
          "2021-07-10T00:00:00",
          "2021-07-11T00:00:00",
          "2021-07-12T00:00:00",
          "2021-07-13T00:00:00",
          "2021-07-14T00:00:00",
          "2021-07-15T00:00:00",
          "2021-07-16T00:00:00",
          "2021-07-17T00:00:00",
          "2021-07-18T00:00:00",
          "2021-07-19T00:00:00",
          "2021-07-20T00:00:00",
          "2021-07-21T00:00:00",
          "2021-07-22T00:00:00",
          "2021-07-23T00:00:00",
          "2021-07-24T00:00:00",
          "2021-07-25T00:00:00",
          "2021-07-26T00:00:00",
          "2021-07-27T00:00:00",
          "2021-07-28T00:00:00",
          "2021-07-29T00:00:00",
          "2021-07-30T00:00:00",
          "2021-07-31T00:00:00",
          "2021-08-01T00:00:00",
          "2021-08-02T00:00:00",
          "2021-08-03T00:00:00",
          "2021-08-04T00:00:00",
          "2021-08-05T00:00:00",
          "2021-08-06T00:00:00",
          "2021-08-07T00:00:00",
          "2021-08-08T00:00:00",
          "2021-08-09T00:00:00",
          "2021-08-10T00:00:00",
          "2021-08-11T00:00:00",
          "2021-08-12T00:00:00",
          "2021-08-13T00:00:00",
          "2021-08-14T00:00:00",
          "2021-08-15T00:00:00",
          "2021-08-16T00:00:00",
          "2021-08-17T00:00:00",
          "2021-08-18T00:00:00",
          "2021-08-19T00:00:00",
          "2021-08-20T00:00:00",
          "2021-08-21T00:00:00",
          "2021-08-22T00:00:00",
          "2021-08-23T00:00:00",
          "2021-08-24T00:00:00",
          "2021-08-25T00:00:00",
          "2021-08-26T00:00:00",
          "2021-08-27T00:00:00",
          "2021-08-28T00:00:00",
          "2021-08-29T00:00:00",
          "2021-08-30T00:00:00",
          "2021-08-31T00:00:00",
          "2021-09-01T00:00:00",
          "2021-09-02T00:00:00",
          "2021-09-03T00:00:00",
          "2021-09-04T00:00:00",
          "2021-09-05T00:00:00",
          "2021-09-06T00:00:00",
          "2021-09-07T00:00:00",
          "2021-09-08T00:00:00",
          "2021-09-09T00:00:00",
          "2021-09-10T00:00:00",
          "2021-09-11T00:00:00",
          "2021-09-12T00:00:00",
          "2021-09-13T00:00:00",
          "2021-09-14T00:00:00",
          "2021-09-15T00:00:00",
          "2021-09-16T00:00:00",
          "2021-09-17T00:00:00",
          "2021-09-18T00:00:00",
          "2021-09-19T00:00:00",
          "2021-09-20T00:00:00",
          "2021-09-21T00:00:00",
          "2021-09-22T00:00:00",
          "2021-09-23T00:00:00",
          "2021-09-24T00:00:00",
          "2021-09-25T00:00:00",
          "2021-09-26T00:00:00",
          "2021-09-27T00:00:00",
          "2021-09-28T00:00:00",
          "2021-09-29T00:00:00",
          "2021-09-30T00:00:00",
          "2021-10-01T00:00:00",
          "2021-10-02T00:00:00",
          "2021-10-03T00:00:00",
          "2021-10-04T00:00:00",
          "2021-10-05T00:00:00",
          "2021-10-06T00:00:00",
          "2021-10-07T00:00:00",
          "2021-10-08T00:00:00",
          "2021-10-09T00:00:00",
          "2021-10-10T00:00:00",
          "2021-10-11T00:00:00",
          "2021-10-12T00:00:00",
          "2021-10-13T00:00:00",
          "2021-10-14T00:00:00",
          "2021-10-15T00:00:00",
          "2021-10-16T00:00:00",
          "2021-10-17T00:00:00",
          "2021-10-18T00:00:00",
          "2021-10-19T00:00:00",
          "2021-10-20T00:00:00",
          "2021-10-21T00:00:00",
          "2021-10-22T00:00:00",
          "2021-10-23T00:00:00",
          "2021-10-24T00:00:00",
          "2021-10-25T00:00:00",
          "2021-10-26T00:00:00",
          "2021-10-27T00:00:00",
          "2021-10-28T00:00:00",
          "2021-10-29T00:00:00",
          "2021-10-30T00:00:00",
          "2021-10-31T00:00:00",
          "2021-11-01T00:00:00",
          "2021-11-02T00:00:00",
          "2021-11-03T00:00:00",
          "2021-11-04T00:00:00",
          "2021-11-05T00:00:00",
          "2021-11-06T00:00:00",
          "2021-11-07T00:00:00",
          "2021-11-08T00:00:00",
          "2021-11-09T00:00:00",
          "2021-11-10T00:00:00",
          "2021-11-11T00:00:00",
          "2021-11-12T00:00:00",
          "2021-11-13T00:00:00",
          "2021-11-14T00:00:00",
          "2021-11-15T00:00:00",
          "2021-11-16T00:00:00",
          "2021-11-17T00:00:00",
          "2021-11-18T00:00:00",
          "2021-11-19T00:00:00",
          "2021-11-20T00:00:00",
          "2021-11-21T00:00:00",
          "2021-11-22T00:00:00",
          "2021-11-23T00:00:00",
          "2021-11-24T00:00:00",
          "2021-11-25T00:00:00",
          "2021-11-26T00:00:00",
          "2021-11-27T00:00:00",
          "2021-11-28T00:00:00",
          "2021-11-29T00:00:00",
          "2021-11-30T00:00:00",
          "2021-12-01T00:00:00",
          "2021-12-02T00:00:00",
          "2021-12-03T00:00:00",
          "2021-12-04T00:00:00",
          "2021-12-05T00:00:00",
          "2021-12-06T00:00:00",
          "2021-12-07T00:00:00",
          "2021-12-08T00:00:00",
          "2021-12-09T00:00:00",
          "2021-12-10T00:00:00",
          "2021-12-11T00:00:00",
          "2021-12-12T00:00:00",
          "2021-12-13T00:00:00",
          "2021-12-14T00:00:00",
          "2021-12-15T00:00:00",
          "2021-12-16T00:00:00",
          "2021-12-17T00:00:00",
          "2021-12-18T00:00:00",
          "2021-12-19T00:00:00",
          "2021-12-20T00:00:00",
          "2021-12-21T00:00:00",
          "2021-12-22T00:00:00",
          "2021-12-23T00:00:00",
          "2021-12-24T00:00:00",
          "2021-12-25T00:00:00",
          "2021-12-26T00:00:00",
          "2021-12-27T00:00:00",
          "2021-12-28T00:00:00",
          "2021-12-29T00:00:00",
          "2021-12-30T00:00:00",
          "2021-12-31T00:00:00",
          "2022-01-01T00:00:00",
          "2022-01-02T00:00:00",
          "2022-01-03T00:00:00",
          "2022-01-04T00:00:00",
          "2022-01-05T00:00:00",
          "2022-01-06T00:00:00",
          "2022-01-07T00:00:00",
          "2022-01-08T00:00:00",
          "2022-01-09T00:00:00",
          "2022-01-10T00:00:00",
          "2022-01-11T00:00:00",
          "2022-01-12T00:00:00",
          "2022-01-13T00:00:00",
          "2022-01-14T00:00:00",
          "2022-01-15T00:00:00",
          "2022-01-16T00:00:00",
          "2022-01-17T00:00:00",
          "2022-01-18T00:00:00",
          "2022-01-19T00:00:00",
          "2022-01-20T00:00:00",
          "2022-01-21T00:00:00",
          "2022-01-22T00:00:00",
          "2022-01-23T00:00:00",
          "2022-01-24T00:00:00",
          "2022-01-25T00:00:00",
          "2022-01-26T00:00:00",
          "2022-01-27T00:00:00",
          "2022-01-28T00:00:00",
          "2022-01-29T00:00:00",
          "2022-01-30T00:00:00",
          "2022-01-31T00:00:00",
          "2022-02-01T00:00:00",
          "2022-02-02T00:00:00",
          "2022-02-03T00:00:00",
          "2022-02-04T00:00:00",
          "2022-02-05T00:00:00",
          "2022-02-06T00:00:00",
          "2022-02-07T00:00:00",
          "2022-02-08T00:00:00",
          "2022-02-09T00:00:00",
          "2022-02-10T00:00:00",
          "2022-02-11T00:00:00",
          "2022-02-12T00:00:00",
          "2022-02-13T00:00:00",
          "2022-02-14T00:00:00",
          "2022-02-15T00:00:00",
          "2022-02-16T00:00:00",
          "2022-02-17T00:00:00",
          "2022-02-18T00:00:00",
          "2022-02-19T00:00:00",
          "2022-02-20T00:00:00",
          "2022-02-21T00:00:00",
          "2022-02-22T00:00:00",
          "2022-02-23T00:00:00",
          "2022-02-24T00:00:00",
          "2022-02-25T00:00:00",
          "2022-02-26T00:00:00",
          "2022-02-27T00:00:00",
          "2022-02-28T00:00:00",
          "2022-03-01T00:00:00",
          "2022-03-02T00:00:00",
          "2022-03-03T00:00:00",
          "2022-03-04T00:00:00",
          "2022-03-05T00:00:00",
          "2022-03-06T00:00:00",
          "2022-03-07T00:00:00",
          "2022-03-08T00:00:00",
          "2022-03-09T00:00:00",
          "2022-03-10T00:00:00",
          "2022-03-11T00:00:00",
          "2022-03-12T00:00:00",
          "2022-03-13T00:00:00",
          "2022-03-14T00:00:00",
          "2022-03-15T00:00:00",
          "2022-03-16T00:00:00",
          "2022-03-17T00:00:00",
          "2022-03-18T00:00:00",
          "2022-03-19T00:00:00",
          "2022-03-20T00:00:00",
          "2022-03-21T00:00:00",
          "2022-03-22T00:00:00",
          "2022-03-23T00:00:00",
          "2022-03-24T00:00:00",
          "2022-03-25T00:00:00",
          "2022-03-26T00:00:00",
          "2022-03-27T00:00:00",
          "2022-03-28T00:00:00",
          "2022-03-29T00:00:00",
          "2022-03-30T00:00:00",
          "2022-03-31T00:00:00",
          "2022-04-01T00:00:00",
          "2022-04-02T00:00:00",
          "2022-04-03T00:00:00",
          "2022-04-04T00:00:00",
          "2022-04-05T00:00:00",
          "2022-04-06T00:00:00",
          "2022-04-07T00:00:00",
          "2022-04-08T00:00:00",
          "2022-04-09T00:00:00",
          "2022-04-10T00:00:00",
          "2022-04-11T00:00:00",
          "2022-04-12T00:00:00",
          "2022-04-13T00:00:00",
          "2022-04-14T00:00:00",
          "2022-04-15T00:00:00",
          "2022-04-16T00:00:00",
          "2022-04-17T00:00:00",
          "2022-04-18T00:00:00",
          "2022-04-19T00:00:00",
          "2022-04-20T00:00:00",
          "2022-04-21T00:00:00",
          "2022-04-22T00:00:00",
          "2022-04-23T00:00:00",
          "2022-04-24T00:00:00",
          "2022-04-25T00:00:00"
         ],
         "xaxis": "x",
         "y": [
          null,
          null,
          null,
          null,
          null,
          null,
          null,
          null,
          null,
          null,
          null,
          null,
          null,
          null,
          null,
          null,
          null,
          null,
          null,
          null,
          null,
          null,
          null,
          null,
          null,
          null,
          null,
          null,
          null,
          null,
          null,
          null,
          null,
          null,
          null,
          null,
          null,
          null,
          null,
          null,
          null,
          null,
          null,
          null,
          null,
          null,
          null,
          null,
          null,
          null,
          null,
          null,
          null,
          null,
          null,
          null,
          null,
          null,
          null,
          null,
          null,
          null,
          null,
          null,
          null,
          null,
          null,
          null,
          null,
          null,
          null,
          null,
          null,
          null,
          null,
          null,
          null,
          null,
          null,
          null,
          null,
          null,
          null,
          null,
          null,
          null,
          null,
          null,
          null,
          null,
          null,
          null,
          null,
          null,
          null,
          null,
          null,
          null,
          null,
          null,
          null,
          null,
          null,
          null,
          null,
          null,
          null,
          null,
          null,
          null,
          null,
          null,
          null,
          null,
          null,
          null,
          null,
          null,
          null,
          null,
          null,
          null,
          null,
          null,
          null,
          null,
          null,
          null,
          null,
          null,
          null,
          null,
          null,
          null,
          null,
          null,
          null,
          null,
          null,
          null,
          null,
          null,
          null,
          null,
          null,
          null,
          null,
          null,
          null,
          null,
          null,
          null,
          null,
          null,
          null,
          null,
          null,
          null,
          null,
          null,
          null,
          null,
          null,
          null,
          null,
          null,
          null,
          null,
          null,
          null,
          null,
          null,
          null,
          null,
          null,
          null,
          null,
          null,
          null,
          null,
          null,
          null,
          null,
          null,
          null,
          null,
          null,
          null,
          null,
          null,
          null,
          null,
          null,
          null,
          null,
          null,
          null,
          null,
          null,
          null,
          null,
          null,
          null,
          null,
          null,
          null,
          null,
          null,
          null,
          null,
          null,
          null,
          null,
          null,
          null,
          null,
          null,
          null,
          null,
          null,
          null,
          null,
          null,
          null,
          null,
          null,
          null,
          null,
          null,
          null,
          null,
          null,
          null,
          null,
          null,
          null,
          null,
          null,
          null,
          null,
          null,
          null,
          null,
          null,
          null,
          null,
          null,
          null,
          null,
          null,
          null,
          null,
          null,
          39599.640625,
          40215.38671875,
          38861.46875,
          39737.12109375,
          39797.8046875,
          41679.40234375,
          42292.44140625,
          42547.6875,
          42514.7578125,
          42069.3046875,
          42409.2265625,
          42742.49609375,
          43875.796875,
          43898.94921875,
          43806.421875,
          44351.82421875,
          47492.20703125,
          47159.41796875,
          46948.62890625,
          46759.5546875,
          45109.35546875,
          45222.19140625,
          45222.234375,
          46495.8046875,
          47884.4375,
          44843.48828125,
          42734.16015625,
          43211.3046875,
          41844.99609375,
          42757.26953125,
          42250.6171875,
          39918.046875,
          38811.29296875,
          40821.125,
          38764.109375,
          38861.03515625,
          38991.50390625,
          38961.53125,
          41473.078125,
          41640.40234375,
          41652.51171875,
          39859.57421875,
          39825.23046875,
          39551.9765625,
          null
         ],
         "yaxis": "y"
        }
       ],
       "layout": {
        "font": {
         "color": "black",
         "size": 15
        },
        "legend": {
         "title": {
          "text": "Close Price"
         },
         "tracegroupgap": 0
        },
        "margin": {
         "t": 60
        },
        "plot_bgcolor": "white",
        "template": {
         "data": {
          "bar": [
           {
            "error_x": {
             "color": "#2a3f5f"
            },
            "error_y": {
             "color": "#2a3f5f"
            },
            "marker": {
             "line": {
              "color": "#E5ECF6",
              "width": 0.5
             },
             "pattern": {
              "fillmode": "overlay",
              "size": 10,
              "solidity": 0.2
             }
            },
            "type": "bar"
           }
          ],
          "barpolar": [
           {
            "marker": {
             "line": {
              "color": "#E5ECF6",
              "width": 0.5
             },
             "pattern": {
              "fillmode": "overlay",
              "size": 10,
              "solidity": 0.2
             }
            },
            "type": "barpolar"
           }
          ],
          "carpet": [
           {
            "aaxis": {
             "endlinecolor": "#2a3f5f",
             "gridcolor": "white",
             "linecolor": "white",
             "minorgridcolor": "white",
             "startlinecolor": "#2a3f5f"
            },
            "baxis": {
             "endlinecolor": "#2a3f5f",
             "gridcolor": "white",
             "linecolor": "white",
             "minorgridcolor": "white",
             "startlinecolor": "#2a3f5f"
            },
            "type": "carpet"
           }
          ],
          "choropleth": [
           {
            "colorbar": {
             "outlinewidth": 0,
             "ticks": ""
            },
            "type": "choropleth"
           }
          ],
          "contour": [
           {
            "colorbar": {
             "outlinewidth": 0,
             "ticks": ""
            },
            "colorscale": [
             [
              0,
              "#0d0887"
             ],
             [
              0.1111111111111111,
              "#46039f"
             ],
             [
              0.2222222222222222,
              "#7201a8"
             ],
             [
              0.3333333333333333,
              "#9c179e"
             ],
             [
              0.4444444444444444,
              "#bd3786"
             ],
             [
              0.5555555555555556,
              "#d8576b"
             ],
             [
              0.6666666666666666,
              "#ed7953"
             ],
             [
              0.7777777777777778,
              "#fb9f3a"
             ],
             [
              0.8888888888888888,
              "#fdca26"
             ],
             [
              1,
              "#f0f921"
             ]
            ],
            "type": "contour"
           }
          ],
          "contourcarpet": [
           {
            "colorbar": {
             "outlinewidth": 0,
             "ticks": ""
            },
            "type": "contourcarpet"
           }
          ],
          "heatmap": [
           {
            "colorbar": {
             "outlinewidth": 0,
             "ticks": ""
            },
            "colorscale": [
             [
              0,
              "#0d0887"
             ],
             [
              0.1111111111111111,
              "#46039f"
             ],
             [
              0.2222222222222222,
              "#7201a8"
             ],
             [
              0.3333333333333333,
              "#9c179e"
             ],
             [
              0.4444444444444444,
              "#bd3786"
             ],
             [
              0.5555555555555556,
              "#d8576b"
             ],
             [
              0.6666666666666666,
              "#ed7953"
             ],
             [
              0.7777777777777778,
              "#fb9f3a"
             ],
             [
              0.8888888888888888,
              "#fdca26"
             ],
             [
              1,
              "#f0f921"
             ]
            ],
            "type": "heatmap"
           }
          ],
          "heatmapgl": [
           {
            "colorbar": {
             "outlinewidth": 0,
             "ticks": ""
            },
            "colorscale": [
             [
              0,
              "#0d0887"
             ],
             [
              0.1111111111111111,
              "#46039f"
             ],
             [
              0.2222222222222222,
              "#7201a8"
             ],
             [
              0.3333333333333333,
              "#9c179e"
             ],
             [
              0.4444444444444444,
              "#bd3786"
             ],
             [
              0.5555555555555556,
              "#d8576b"
             ],
             [
              0.6666666666666666,
              "#ed7953"
             ],
             [
              0.7777777777777778,
              "#fb9f3a"
             ],
             [
              0.8888888888888888,
              "#fdca26"
             ],
             [
              1,
              "#f0f921"
             ]
            ],
            "type": "heatmapgl"
           }
          ],
          "histogram": [
           {
            "marker": {
             "pattern": {
              "fillmode": "overlay",
              "size": 10,
              "solidity": 0.2
             }
            },
            "type": "histogram"
           }
          ],
          "histogram2d": [
           {
            "colorbar": {
             "outlinewidth": 0,
             "ticks": ""
            },
            "colorscale": [
             [
              0,
              "#0d0887"
             ],
             [
              0.1111111111111111,
              "#46039f"
             ],
             [
              0.2222222222222222,
              "#7201a8"
             ],
             [
              0.3333333333333333,
              "#9c179e"
             ],
             [
              0.4444444444444444,
              "#bd3786"
             ],
             [
              0.5555555555555556,
              "#d8576b"
             ],
             [
              0.6666666666666666,
              "#ed7953"
             ],
             [
              0.7777777777777778,
              "#fb9f3a"
             ],
             [
              0.8888888888888888,
              "#fdca26"
             ],
             [
              1,
              "#f0f921"
             ]
            ],
            "type": "histogram2d"
           }
          ],
          "histogram2dcontour": [
           {
            "colorbar": {
             "outlinewidth": 0,
             "ticks": ""
            },
            "colorscale": [
             [
              0,
              "#0d0887"
             ],
             [
              0.1111111111111111,
              "#46039f"
             ],
             [
              0.2222222222222222,
              "#7201a8"
             ],
             [
              0.3333333333333333,
              "#9c179e"
             ],
             [
              0.4444444444444444,
              "#bd3786"
             ],
             [
              0.5555555555555556,
              "#d8576b"
             ],
             [
              0.6666666666666666,
              "#ed7953"
             ],
             [
              0.7777777777777778,
              "#fb9f3a"
             ],
             [
              0.8888888888888888,
              "#fdca26"
             ],
             [
              1,
              "#f0f921"
             ]
            ],
            "type": "histogram2dcontour"
           }
          ],
          "mesh3d": [
           {
            "colorbar": {
             "outlinewidth": 0,
             "ticks": ""
            },
            "type": "mesh3d"
           }
          ],
          "parcoords": [
           {
            "line": {
             "colorbar": {
              "outlinewidth": 0,
              "ticks": ""
             }
            },
            "type": "parcoords"
           }
          ],
          "pie": [
           {
            "automargin": true,
            "type": "pie"
           }
          ],
          "scatter": [
           {
            "marker": {
             "colorbar": {
              "outlinewidth": 0,
              "ticks": ""
             }
            },
            "type": "scatter"
           }
          ],
          "scatter3d": [
           {
            "line": {
             "colorbar": {
              "outlinewidth": 0,
              "ticks": ""
             }
            },
            "marker": {
             "colorbar": {
              "outlinewidth": 0,
              "ticks": ""
             }
            },
            "type": "scatter3d"
           }
          ],
          "scattercarpet": [
           {
            "marker": {
             "colorbar": {
              "outlinewidth": 0,
              "ticks": ""
             }
            },
            "type": "scattercarpet"
           }
          ],
          "scattergeo": [
           {
            "marker": {
             "colorbar": {
              "outlinewidth": 0,
              "ticks": ""
             }
            },
            "type": "scattergeo"
           }
          ],
          "scattergl": [
           {
            "marker": {
             "colorbar": {
              "outlinewidth": 0,
              "ticks": ""
             }
            },
            "type": "scattergl"
           }
          ],
          "scattermapbox": [
           {
            "marker": {
             "colorbar": {
              "outlinewidth": 0,
              "ticks": ""
             }
            },
            "type": "scattermapbox"
           }
          ],
          "scatterpolar": [
           {
            "marker": {
             "colorbar": {
              "outlinewidth": 0,
              "ticks": ""
             }
            },
            "type": "scatterpolar"
           }
          ],
          "scatterpolargl": [
           {
            "marker": {
             "colorbar": {
              "outlinewidth": 0,
              "ticks": ""
             }
            },
            "type": "scatterpolargl"
           }
          ],
          "scatterternary": [
           {
            "marker": {
             "colorbar": {
              "outlinewidth": 0,
              "ticks": ""
             }
            },
            "type": "scatterternary"
           }
          ],
          "surface": [
           {
            "colorbar": {
             "outlinewidth": 0,
             "ticks": ""
            },
            "colorscale": [
             [
              0,
              "#0d0887"
             ],
             [
              0.1111111111111111,
              "#46039f"
             ],
             [
              0.2222222222222222,
              "#7201a8"
             ],
             [
              0.3333333333333333,
              "#9c179e"
             ],
             [
              0.4444444444444444,
              "#bd3786"
             ],
             [
              0.5555555555555556,
              "#d8576b"
             ],
             [
              0.6666666666666666,
              "#ed7953"
             ],
             [
              0.7777777777777778,
              "#fb9f3a"
             ],
             [
              0.8888888888888888,
              "#fdca26"
             ],
             [
              1,
              "#f0f921"
             ]
            ],
            "type": "surface"
           }
          ],
          "table": [
           {
            "cells": {
             "fill": {
              "color": "#EBF0F8"
             },
             "line": {
              "color": "white"
             }
            },
            "header": {
             "fill": {
              "color": "#C8D4E3"
             },
             "line": {
              "color": "white"
             }
            },
            "type": "table"
           }
          ]
         },
         "layout": {
          "annotationdefaults": {
           "arrowcolor": "#2a3f5f",
           "arrowhead": 0,
           "arrowwidth": 1
          },
          "autotypenumbers": "strict",
          "coloraxis": {
           "colorbar": {
            "outlinewidth": 0,
            "ticks": ""
           }
          },
          "colorscale": {
           "diverging": [
            [
             0,
             "#8e0152"
            ],
            [
             0.1,
             "#c51b7d"
            ],
            [
             0.2,
             "#de77ae"
            ],
            [
             0.3,
             "#f1b6da"
            ],
            [
             0.4,
             "#fde0ef"
            ],
            [
             0.5,
             "#f7f7f7"
            ],
            [
             0.6,
             "#e6f5d0"
            ],
            [
             0.7,
             "#b8e186"
            ],
            [
             0.8,
             "#7fbc41"
            ],
            [
             0.9,
             "#4d9221"
            ],
            [
             1,
             "#276419"
            ]
           ],
           "sequential": [
            [
             0,
             "#0d0887"
            ],
            [
             0.1111111111111111,
             "#46039f"
            ],
            [
             0.2222222222222222,
             "#7201a8"
            ],
            [
             0.3333333333333333,
             "#9c179e"
            ],
            [
             0.4444444444444444,
             "#bd3786"
            ],
            [
             0.5555555555555556,
             "#d8576b"
            ],
            [
             0.6666666666666666,
             "#ed7953"
            ],
            [
             0.7777777777777778,
             "#fb9f3a"
            ],
            [
             0.8888888888888888,
             "#fdca26"
            ],
            [
             1,
             "#f0f921"
            ]
           ],
           "sequentialminus": [
            [
             0,
             "#0d0887"
            ],
            [
             0.1111111111111111,
             "#46039f"
            ],
            [
             0.2222222222222222,
             "#7201a8"
            ],
            [
             0.3333333333333333,
             "#9c179e"
            ],
            [
             0.4444444444444444,
             "#bd3786"
            ],
            [
             0.5555555555555556,
             "#d8576b"
            ],
            [
             0.6666666666666666,
             "#ed7953"
            ],
            [
             0.7777777777777778,
             "#fb9f3a"
            ],
            [
             0.8888888888888888,
             "#fdca26"
            ],
            [
             1,
             "#f0f921"
            ]
           ]
          },
          "colorway": [
           "#636efa",
           "#EF553B",
           "#00cc96",
           "#ab63fa",
           "#FFA15A",
           "#19d3f3",
           "#FF6692",
           "#B6E880",
           "#FF97FF",
           "#FECB52"
          ],
          "font": {
           "color": "#2a3f5f"
          },
          "geo": {
           "bgcolor": "white",
           "lakecolor": "white",
           "landcolor": "#E5ECF6",
           "showlakes": true,
           "showland": true,
           "subunitcolor": "white"
          },
          "hoverlabel": {
           "align": "left"
          },
          "hovermode": "closest",
          "mapbox": {
           "style": "light"
          },
          "paper_bgcolor": "white",
          "plot_bgcolor": "#E5ECF6",
          "polar": {
           "angularaxis": {
            "gridcolor": "white",
            "linecolor": "white",
            "ticks": ""
           },
           "bgcolor": "#E5ECF6",
           "radialaxis": {
            "gridcolor": "white",
            "linecolor": "white",
            "ticks": ""
           }
          },
          "scene": {
           "xaxis": {
            "backgroundcolor": "#E5ECF6",
            "gridcolor": "white",
            "gridwidth": 2,
            "linecolor": "white",
            "showbackground": true,
            "ticks": "",
            "zerolinecolor": "white"
           },
           "yaxis": {
            "backgroundcolor": "#E5ECF6",
            "gridcolor": "white",
            "gridwidth": 2,
            "linecolor": "white",
            "showbackground": true,
            "ticks": "",
            "zerolinecolor": "white"
           },
           "zaxis": {
            "backgroundcolor": "#E5ECF6",
            "gridcolor": "white",
            "gridwidth": 2,
            "linecolor": "white",
            "showbackground": true,
            "ticks": "",
            "zerolinecolor": "white"
           }
          },
          "shapedefaults": {
           "line": {
            "color": "#2a3f5f"
           }
          },
          "ternary": {
           "aaxis": {
            "gridcolor": "white",
            "linecolor": "white",
            "ticks": ""
           },
           "baxis": {
            "gridcolor": "white",
            "linecolor": "white",
            "ticks": ""
           },
           "bgcolor": "#E5ECF6",
           "caxis": {
            "gridcolor": "white",
            "linecolor": "white",
            "ticks": ""
           }
          },
          "title": {
           "x": 0.05
          },
          "xaxis": {
           "automargin": true,
           "gridcolor": "white",
           "linecolor": "white",
           "ticks": "",
           "title": {
            "standoff": 15
           },
           "zerolinecolor": "white",
           "zerolinewidth": 2
          },
          "yaxis": {
           "automargin": true,
           "gridcolor": "white",
           "linecolor": "white",
           "ticks": "",
           "title": {
            "standoff": 15
           },
           "zerolinecolor": "white",
           "zerolinewidth": 2
          }
         }
        },
        "title": {
         "text": "Comparision between original close price vs predicted close price"
        },
        "xaxis": {
         "anchor": "y",
         "domain": [
          0,
          1
         ],
         "showgrid": false,
         "title": {
          "text": "Date"
         }
        },
        "yaxis": {
         "anchor": "x",
         "domain": [
          0,
          1
         ],
         "showgrid": false,
         "title": {
          "text": "Close price"
         }
        }
       }
      },
      "text/html": [
       "<div>                            <div id=\"5a2271fc-d44a-4015-af12-c5ba8209ac58\" class=\"plotly-graph-div\" style=\"height:525px; width:100%;\"></div>            <script type=\"text/javascript\">                require([\"plotly\"], function(Plotly) {                    window.PLOTLYENV=window.PLOTLYENV || {};                                    if (document.getElementById(\"5a2271fc-d44a-4015-af12-c5ba8209ac58\")) {                    Plotly.newPlot(                        \"5a2271fc-d44a-4015-af12-c5ba8209ac58\",                        [{\"hovertemplate\":\"variable=original_close<br>Date=%{x}<br>Close price=%{y}<extra></extra>\",\"legendgroup\":\"original_close\",\"line\":{\"color\":\"#636efa\",\"dash\":\"solid\"},\"marker\":{\"symbol\":\"circle\"},\"mode\":\"lines\",\"name\":\"Original close price\",\"orientation\":\"v\",\"showlegend\":true,\"x\":[\"2021-07-02T00:00:00\",\"2021-07-03T00:00:00\",\"2021-07-04T00:00:00\",\"2021-07-05T00:00:00\",\"2021-07-06T00:00:00\",\"2021-07-07T00:00:00\",\"2021-07-08T00:00:00\",\"2021-07-09T00:00:00\",\"2021-07-10T00:00:00\",\"2021-07-11T00:00:00\",\"2021-07-12T00:00:00\",\"2021-07-13T00:00:00\",\"2021-07-14T00:00:00\",\"2021-07-15T00:00:00\",\"2021-07-16T00:00:00\",\"2021-07-17T00:00:00\",\"2021-07-18T00:00:00\",\"2021-07-19T00:00:00\",\"2021-07-20T00:00:00\",\"2021-07-21T00:00:00\",\"2021-07-22T00:00:00\",\"2021-07-23T00:00:00\",\"2021-07-24T00:00:00\",\"2021-07-25T00:00:00\",\"2021-07-26T00:00:00\",\"2021-07-27T00:00:00\",\"2021-07-28T00:00:00\",\"2021-07-29T00:00:00\",\"2021-07-30T00:00:00\",\"2021-07-31T00:00:00\",\"2021-08-01T00:00:00\",\"2021-08-02T00:00:00\",\"2021-08-03T00:00:00\",\"2021-08-04T00:00:00\",\"2021-08-05T00:00:00\",\"2021-08-06T00:00:00\",\"2021-08-07T00:00:00\",\"2021-08-08T00:00:00\",\"2021-08-09T00:00:00\",\"2021-08-10T00:00:00\",\"2021-08-11T00:00:00\",\"2021-08-12T00:00:00\",\"2021-08-13T00:00:00\",\"2021-08-14T00:00:00\",\"2021-08-15T00:00:00\",\"2021-08-16T00:00:00\",\"2021-08-17T00:00:00\",\"2021-08-18T00:00:00\",\"2021-08-19T00:00:00\",\"2021-08-20T00:00:00\",\"2021-08-21T00:00:00\",\"2021-08-22T00:00:00\",\"2021-08-23T00:00:00\",\"2021-08-24T00:00:00\",\"2021-08-25T00:00:00\",\"2021-08-26T00:00:00\",\"2021-08-27T00:00:00\",\"2021-08-28T00:00:00\",\"2021-08-29T00:00:00\",\"2021-08-30T00:00:00\",\"2021-08-31T00:00:00\",\"2021-09-01T00:00:00\",\"2021-09-02T00:00:00\",\"2021-09-03T00:00:00\",\"2021-09-04T00:00:00\",\"2021-09-05T00:00:00\",\"2021-09-06T00:00:00\",\"2021-09-07T00:00:00\",\"2021-09-08T00:00:00\",\"2021-09-09T00:00:00\",\"2021-09-10T00:00:00\",\"2021-09-11T00:00:00\",\"2021-09-12T00:00:00\",\"2021-09-13T00:00:00\",\"2021-09-14T00:00:00\",\"2021-09-15T00:00:00\",\"2021-09-16T00:00:00\",\"2021-09-17T00:00:00\",\"2021-09-18T00:00:00\",\"2021-09-19T00:00:00\",\"2021-09-20T00:00:00\",\"2021-09-21T00:00:00\",\"2021-09-22T00:00:00\",\"2021-09-23T00:00:00\",\"2021-09-24T00:00:00\",\"2021-09-25T00:00:00\",\"2021-09-26T00:00:00\",\"2021-09-27T00:00:00\",\"2021-09-28T00:00:00\",\"2021-09-29T00:00:00\",\"2021-09-30T00:00:00\",\"2021-10-01T00:00:00\",\"2021-10-02T00:00:00\",\"2021-10-03T00:00:00\",\"2021-10-04T00:00:00\",\"2021-10-05T00:00:00\",\"2021-10-06T00:00:00\",\"2021-10-07T00:00:00\",\"2021-10-08T00:00:00\",\"2021-10-09T00:00:00\",\"2021-10-10T00:00:00\",\"2021-10-11T00:00:00\",\"2021-10-12T00:00:00\",\"2021-10-13T00:00:00\",\"2021-10-14T00:00:00\",\"2021-10-15T00:00:00\",\"2021-10-16T00:00:00\",\"2021-10-17T00:00:00\",\"2021-10-18T00:00:00\",\"2021-10-19T00:00:00\",\"2021-10-20T00:00:00\",\"2021-10-21T00:00:00\",\"2021-10-22T00:00:00\",\"2021-10-23T00:00:00\",\"2021-10-24T00:00:00\",\"2021-10-25T00:00:00\",\"2021-10-26T00:00:00\",\"2021-10-27T00:00:00\",\"2021-10-28T00:00:00\",\"2021-10-29T00:00:00\",\"2021-10-30T00:00:00\",\"2021-10-31T00:00:00\",\"2021-11-01T00:00:00\",\"2021-11-02T00:00:00\",\"2021-11-03T00:00:00\",\"2021-11-04T00:00:00\",\"2021-11-05T00:00:00\",\"2021-11-06T00:00:00\",\"2021-11-07T00:00:00\",\"2021-11-08T00:00:00\",\"2021-11-09T00:00:00\",\"2021-11-10T00:00:00\",\"2021-11-11T00:00:00\",\"2021-11-12T00:00:00\",\"2021-11-13T00:00:00\",\"2021-11-14T00:00:00\",\"2021-11-15T00:00:00\",\"2021-11-16T00:00:00\",\"2021-11-17T00:00:00\",\"2021-11-18T00:00:00\",\"2021-11-19T00:00:00\",\"2021-11-20T00:00:00\",\"2021-11-21T00:00:00\",\"2021-11-22T00:00:00\",\"2021-11-23T00:00:00\",\"2021-11-24T00:00:00\",\"2021-11-25T00:00:00\",\"2021-11-26T00:00:00\",\"2021-11-27T00:00:00\",\"2021-11-28T00:00:00\",\"2021-11-29T00:00:00\",\"2021-11-30T00:00:00\",\"2021-12-01T00:00:00\",\"2021-12-02T00:00:00\",\"2021-12-03T00:00:00\",\"2021-12-04T00:00:00\",\"2021-12-05T00:00:00\",\"2021-12-06T00:00:00\",\"2021-12-07T00:00:00\",\"2021-12-08T00:00:00\",\"2021-12-09T00:00:00\",\"2021-12-10T00:00:00\",\"2021-12-11T00:00:00\",\"2021-12-12T00:00:00\",\"2021-12-13T00:00:00\",\"2021-12-14T00:00:00\",\"2021-12-15T00:00:00\",\"2021-12-16T00:00:00\",\"2021-12-17T00:00:00\",\"2021-12-18T00:00:00\",\"2021-12-19T00:00:00\",\"2021-12-20T00:00:00\",\"2021-12-21T00:00:00\",\"2021-12-22T00:00:00\",\"2021-12-23T00:00:00\",\"2021-12-24T00:00:00\",\"2021-12-25T00:00:00\",\"2021-12-26T00:00:00\",\"2021-12-27T00:00:00\",\"2021-12-28T00:00:00\",\"2021-12-29T00:00:00\",\"2021-12-30T00:00:00\",\"2021-12-31T00:00:00\",\"2022-01-01T00:00:00\",\"2022-01-02T00:00:00\",\"2022-01-03T00:00:00\",\"2022-01-04T00:00:00\",\"2022-01-05T00:00:00\",\"2022-01-06T00:00:00\",\"2022-01-07T00:00:00\",\"2022-01-08T00:00:00\",\"2022-01-09T00:00:00\",\"2022-01-10T00:00:00\",\"2022-01-11T00:00:00\",\"2022-01-12T00:00:00\",\"2022-01-13T00:00:00\",\"2022-01-14T00:00:00\",\"2022-01-15T00:00:00\",\"2022-01-16T00:00:00\",\"2022-01-17T00:00:00\",\"2022-01-18T00:00:00\",\"2022-01-19T00:00:00\",\"2022-01-20T00:00:00\",\"2022-01-21T00:00:00\",\"2022-01-22T00:00:00\",\"2022-01-23T00:00:00\",\"2022-01-24T00:00:00\",\"2022-01-25T00:00:00\",\"2022-01-26T00:00:00\",\"2022-01-27T00:00:00\",\"2022-01-28T00:00:00\",\"2022-01-29T00:00:00\",\"2022-01-30T00:00:00\",\"2022-01-31T00:00:00\",\"2022-02-01T00:00:00\",\"2022-02-02T00:00:00\",\"2022-02-03T00:00:00\",\"2022-02-04T00:00:00\",\"2022-02-05T00:00:00\",\"2022-02-06T00:00:00\",\"2022-02-07T00:00:00\",\"2022-02-08T00:00:00\",\"2022-02-09T00:00:00\",\"2022-02-10T00:00:00\",\"2022-02-11T00:00:00\",\"2022-02-12T00:00:00\",\"2022-02-13T00:00:00\",\"2022-02-14T00:00:00\",\"2022-02-15T00:00:00\",\"2022-02-16T00:00:00\",\"2022-02-17T00:00:00\",\"2022-02-18T00:00:00\",\"2022-02-19T00:00:00\",\"2022-02-20T00:00:00\",\"2022-02-21T00:00:00\",\"2022-02-22T00:00:00\",\"2022-02-23T00:00:00\",\"2022-02-24T00:00:00\",\"2022-02-25T00:00:00\",\"2022-02-26T00:00:00\",\"2022-02-27T00:00:00\",\"2022-02-28T00:00:00\",\"2022-03-01T00:00:00\",\"2022-03-02T00:00:00\",\"2022-03-03T00:00:00\",\"2022-03-04T00:00:00\",\"2022-03-05T00:00:00\",\"2022-03-06T00:00:00\",\"2022-03-07T00:00:00\",\"2022-03-08T00:00:00\",\"2022-03-09T00:00:00\",\"2022-03-10T00:00:00\",\"2022-03-11T00:00:00\",\"2022-03-12T00:00:00\",\"2022-03-13T00:00:00\",\"2022-03-14T00:00:00\",\"2022-03-15T00:00:00\",\"2022-03-16T00:00:00\",\"2022-03-17T00:00:00\",\"2022-03-18T00:00:00\",\"2022-03-19T00:00:00\",\"2022-03-20T00:00:00\",\"2022-03-21T00:00:00\",\"2022-03-22T00:00:00\",\"2022-03-23T00:00:00\",\"2022-03-24T00:00:00\",\"2022-03-25T00:00:00\",\"2022-03-26T00:00:00\",\"2022-03-27T00:00:00\",\"2022-03-28T00:00:00\",\"2022-03-29T00:00:00\",\"2022-03-30T00:00:00\",\"2022-03-31T00:00:00\",\"2022-04-01T00:00:00\",\"2022-04-02T00:00:00\",\"2022-04-03T00:00:00\",\"2022-04-04T00:00:00\",\"2022-04-05T00:00:00\",\"2022-04-06T00:00:00\",\"2022-04-07T00:00:00\",\"2022-04-08T00:00:00\",\"2022-04-09T00:00:00\",\"2022-04-10T00:00:00\",\"2022-04-11T00:00:00\",\"2022-04-12T00:00:00\",\"2022-04-13T00:00:00\",\"2022-04-14T00:00:00\",\"2022-04-15T00:00:00\",\"2022-04-16T00:00:00\",\"2022-04-17T00:00:00\",\"2022-04-18T00:00:00\",\"2022-04-19T00:00:00\",\"2022-04-20T00:00:00\",\"2022-04-21T00:00:00\",\"2022-04-22T00:00:00\",\"2022-04-23T00:00:00\",\"2022-04-24T00:00:00\",\"2022-04-25T00:00:00\"],\"xaxis\":\"x\",\"y\":[33897.046875,34668.546875,35287.78125,33746.00390625,34235.1953125,33855.328125,32877.37109375,33798.01171875,33520.51953125,34240.1875,33155.84765625,32702.025390625,32822.34765625,31780.73046875,31421.5390625,31533.068359375,31796.810546875,30817.83203125,29807.34765625,32110.693359375,32313.10546875,33581.55078125,34292.4453125,35350.1875,37337.53515625,39406.94140625,39995.90625,40008.421875,42235.546875,41626.1953125,39974.89453125,39201.9453125,38152.98046875,39747.50390625,40869.5546875,42816.5,44555.80078125,43798.1171875,46365.40234375,45585.03125,45593.63671875,44428.2890625,47793.3203125,47096.9453125,47047.00390625,46004.484375,44695.359375,44801.1875,46717.578125,49339.17578125,48905.4921875,49321.65234375,49546.1484375,47706.1171875,48960.7890625,46942.21875,49058.66796875,48902.40234375,48829.83203125,47054.984375,47166.6875,48847.02734375,49327.72265625,50025.375,49944.625,51753.41015625,52633.53515625,46811.12890625,46091.390625,46391.421875,44883.91015625,45201.45703125,46063.26953125,44963.07421875,47092.4921875,48176.34765625,47783.359375,47267.51953125,48278.36328125,47260.21875,42843.80078125,40693.67578125,43574.5078125,44895.09765625,42839.75,42716.59375,43208.5390625,42235.73046875,41034.54296875,41564.36328125,43790.89453125,48116.94140625,47711.48828125,48199.953125,49112.90234375,51514.8125,55361.44921875,53805.984375,53967.84765625,54968.22265625,54771.578125,57484.7890625,56041.05859375,57401.09765625,57321.5234375,61593.94921875,60892.1796875,61553.6171875,62026.078125,64261.9921875,65992.8359375,62210.171875,60692.265625,61393.6171875,60930.8359375,63039.82421875,60363.79296875,58482.38671875,60622.13671875,62227.96484375,61888.83203125,61318.95703125,61004.40625,63226.40234375,62970.046875,61452.23046875,61125.67578125,61527.48046875,63326.98828125,67566.828125,66971.828125,64995.23046875,64949.9609375,64155.94140625,64469.52734375,65466.83984375,63557.87109375,60161.24609375,60368.01171875,56942.13671875,58119.578125,59697.1953125,58730.4765625,56289.2890625,57569.07421875,56280.42578125,57274.6796875,53569.765625,54815.078125,57248.45703125,57806.56640625,57005.42578125,57229.828125,56477.81640625,53598.24609375,49200.703125,49368.84765625,50582.625,50700.0859375,50504.796875,47672.12109375,47243.3046875,49362.5078125,50098.3359375,46737.48046875,46612.6328125,48896.72265625,47665.42578125,46202.14453125,46848.77734375,46707.015625,46880.27734375,48936.61328125,48628.51171875,50784.5390625,50822.1953125,50429.859375,50809.515625,50640.41796875,47588.85546875,46444.7109375,47178.125,46306.4453125,47686.8125,47345.21875,46458.1171875,45897.57421875,43569.00390625,43160.9296875,41557.90234375,41733.94140625,41911.6015625,41821.26171875,42735.85546875,43949.1015625,42591.5703125,43099.69921875,43177.3984375,43113.87890625,42250.55078125,42375.6328125,41744.328125,40680.41796875,36457.31640625,35030.25,36276.8046875,36654.328125,36954.00390625,36852.12109375,37138.234375,37784.33203125,38138.1796875,37917.6015625,38483.125,38743.2734375,36952.984375,37154.6015625,41500.875,41441.1640625,42412.43359375,43840.28515625,44118.4453125,44338.796875,43565.11328125,42407.9375,42244.46875,42197.515625,42586.91796875,44575.203125,43961.859375,40538.01171875,40030.9765625,40122.15625,38431.37890625,37075.28125,38286.02734375,37296.5703125,38332.609375,39214.21875,39105.1484375,37709.78515625,43193.234375,44354.63671875,43924.1171875,42451.7890625,39137.60546875,39400.5859375,38419.984375,38062.0390625,38737.26953125,41982.92578125,39437.4609375,38794.97265625,38904.01171875,37849.6640625,39666.75390625,39338.78515625,41143.9296875,40951.37890625,41801.15625,42190.65234375,41247.82421875,41077.99609375,42358.80859375,42892.95703125,43960.93359375,44348.73046875,44500.828125,46820.4921875,47128.00390625,47465.73046875,47062.6640625,45538.67578125,46281.64453125,45868.94921875,46453.56640625,46622.67578125,45555.9921875,43206.73828125,43503.84765625,42287.6640625,42782.13671875,42207.671875,39521.90234375,40127.18359375,41166.73046875,39935.515625,40553.46484375,40424.484375,39716.953125,40826.21484375,41502.75,41374.37890625,40527.36328125,39740.3203125,39486.73046875,39469.29296875,40458.30859375],\"yaxis\":\"y\",\"type\":\"scatter\"},{\"hovertemplate\":\"variable=train_predicted_close<br>Date=%{x}<br>Close price=%{y}<extra></extra>\",\"legendgroup\":\"train_predicted_close\",\"line\":{\"color\":\"#EF553B\",\"dash\":\"solid\"},\"marker\":{\"symbol\":\"circle\"},\"mode\":\"lines\",\"name\":\"Train predicted close price\",\"orientation\":\"v\",\"showlegend\":true,\"x\":[\"2021-07-02T00:00:00\",\"2021-07-03T00:00:00\",\"2021-07-04T00:00:00\",\"2021-07-05T00:00:00\",\"2021-07-06T00:00:00\",\"2021-07-07T00:00:00\",\"2021-07-08T00:00:00\",\"2021-07-09T00:00:00\",\"2021-07-10T00:00:00\",\"2021-07-11T00:00:00\",\"2021-07-12T00:00:00\",\"2021-07-13T00:00:00\",\"2021-07-14T00:00:00\",\"2021-07-15T00:00:00\",\"2021-07-16T00:00:00\",\"2021-07-17T00:00:00\",\"2021-07-18T00:00:00\",\"2021-07-19T00:00:00\",\"2021-07-20T00:00:00\",\"2021-07-21T00:00:00\",\"2021-07-22T00:00:00\",\"2021-07-23T00:00:00\",\"2021-07-24T00:00:00\",\"2021-07-25T00:00:00\",\"2021-07-26T00:00:00\",\"2021-07-27T00:00:00\",\"2021-07-28T00:00:00\",\"2021-07-29T00:00:00\",\"2021-07-30T00:00:00\",\"2021-07-31T00:00:00\",\"2021-08-01T00:00:00\",\"2021-08-02T00:00:00\",\"2021-08-03T00:00:00\",\"2021-08-04T00:00:00\",\"2021-08-05T00:00:00\",\"2021-08-06T00:00:00\",\"2021-08-07T00:00:00\",\"2021-08-08T00:00:00\",\"2021-08-09T00:00:00\",\"2021-08-10T00:00:00\",\"2021-08-11T00:00:00\",\"2021-08-12T00:00:00\",\"2021-08-13T00:00:00\",\"2021-08-14T00:00:00\",\"2021-08-15T00:00:00\",\"2021-08-16T00:00:00\",\"2021-08-17T00:00:00\",\"2021-08-18T00:00:00\",\"2021-08-19T00:00:00\",\"2021-08-20T00:00:00\",\"2021-08-21T00:00:00\",\"2021-08-22T00:00:00\",\"2021-08-23T00:00:00\",\"2021-08-24T00:00:00\",\"2021-08-25T00:00:00\",\"2021-08-26T00:00:00\",\"2021-08-27T00:00:00\",\"2021-08-28T00:00:00\",\"2021-08-29T00:00:00\",\"2021-08-30T00:00:00\",\"2021-08-31T00:00:00\",\"2021-09-01T00:00:00\",\"2021-09-02T00:00:00\",\"2021-09-03T00:00:00\",\"2021-09-04T00:00:00\",\"2021-09-05T00:00:00\",\"2021-09-06T00:00:00\",\"2021-09-07T00:00:00\",\"2021-09-08T00:00:00\",\"2021-09-09T00:00:00\",\"2021-09-10T00:00:00\",\"2021-09-11T00:00:00\",\"2021-09-12T00:00:00\",\"2021-09-13T00:00:00\",\"2021-09-14T00:00:00\",\"2021-09-15T00:00:00\",\"2021-09-16T00:00:00\",\"2021-09-17T00:00:00\",\"2021-09-18T00:00:00\",\"2021-09-19T00:00:00\",\"2021-09-20T00:00:00\",\"2021-09-21T00:00:00\",\"2021-09-22T00:00:00\",\"2021-09-23T00:00:00\",\"2021-09-24T00:00:00\",\"2021-09-25T00:00:00\",\"2021-09-26T00:00:00\",\"2021-09-27T00:00:00\",\"2021-09-28T00:00:00\",\"2021-09-29T00:00:00\",\"2021-09-30T00:00:00\",\"2021-10-01T00:00:00\",\"2021-10-02T00:00:00\",\"2021-10-03T00:00:00\",\"2021-10-04T00:00:00\",\"2021-10-05T00:00:00\",\"2021-10-06T00:00:00\",\"2021-10-07T00:00:00\",\"2021-10-08T00:00:00\",\"2021-10-09T00:00:00\",\"2021-10-10T00:00:00\",\"2021-10-11T00:00:00\",\"2021-10-12T00:00:00\",\"2021-10-13T00:00:00\",\"2021-10-14T00:00:00\",\"2021-10-15T00:00:00\",\"2021-10-16T00:00:00\",\"2021-10-17T00:00:00\",\"2021-10-18T00:00:00\",\"2021-10-19T00:00:00\",\"2021-10-20T00:00:00\",\"2021-10-21T00:00:00\",\"2021-10-22T00:00:00\",\"2021-10-23T00:00:00\",\"2021-10-24T00:00:00\",\"2021-10-25T00:00:00\",\"2021-10-26T00:00:00\",\"2021-10-27T00:00:00\",\"2021-10-28T00:00:00\",\"2021-10-29T00:00:00\",\"2021-10-30T00:00:00\",\"2021-10-31T00:00:00\",\"2021-11-01T00:00:00\",\"2021-11-02T00:00:00\",\"2021-11-03T00:00:00\",\"2021-11-04T00:00:00\",\"2021-11-05T00:00:00\",\"2021-11-06T00:00:00\",\"2021-11-07T00:00:00\",\"2021-11-08T00:00:00\",\"2021-11-09T00:00:00\",\"2021-11-10T00:00:00\",\"2021-11-11T00:00:00\",\"2021-11-12T00:00:00\",\"2021-11-13T00:00:00\",\"2021-11-14T00:00:00\",\"2021-11-15T00:00:00\",\"2021-11-16T00:00:00\",\"2021-11-17T00:00:00\",\"2021-11-18T00:00:00\",\"2021-11-19T00:00:00\",\"2021-11-20T00:00:00\",\"2021-11-21T00:00:00\",\"2021-11-22T00:00:00\",\"2021-11-23T00:00:00\",\"2021-11-24T00:00:00\",\"2021-11-25T00:00:00\",\"2021-11-26T00:00:00\",\"2021-11-27T00:00:00\",\"2021-11-28T00:00:00\",\"2021-11-29T00:00:00\",\"2021-11-30T00:00:00\",\"2021-12-01T00:00:00\",\"2021-12-02T00:00:00\",\"2021-12-03T00:00:00\",\"2021-12-04T00:00:00\",\"2021-12-05T00:00:00\",\"2021-12-06T00:00:00\",\"2021-12-07T00:00:00\",\"2021-12-08T00:00:00\",\"2021-12-09T00:00:00\",\"2021-12-10T00:00:00\",\"2021-12-11T00:00:00\",\"2021-12-12T00:00:00\",\"2021-12-13T00:00:00\",\"2021-12-14T00:00:00\",\"2021-12-15T00:00:00\",\"2021-12-16T00:00:00\",\"2021-12-17T00:00:00\",\"2021-12-18T00:00:00\",\"2021-12-19T00:00:00\",\"2021-12-20T00:00:00\",\"2021-12-21T00:00:00\",\"2021-12-22T00:00:00\",\"2021-12-23T00:00:00\",\"2021-12-24T00:00:00\",\"2021-12-25T00:00:00\",\"2021-12-26T00:00:00\",\"2021-12-27T00:00:00\",\"2021-12-28T00:00:00\",\"2021-12-29T00:00:00\",\"2021-12-30T00:00:00\",\"2021-12-31T00:00:00\",\"2022-01-01T00:00:00\",\"2022-01-02T00:00:00\",\"2022-01-03T00:00:00\",\"2022-01-04T00:00:00\",\"2022-01-05T00:00:00\",\"2022-01-06T00:00:00\",\"2022-01-07T00:00:00\",\"2022-01-08T00:00:00\",\"2022-01-09T00:00:00\",\"2022-01-10T00:00:00\",\"2022-01-11T00:00:00\",\"2022-01-12T00:00:00\",\"2022-01-13T00:00:00\",\"2022-01-14T00:00:00\",\"2022-01-15T00:00:00\",\"2022-01-16T00:00:00\",\"2022-01-17T00:00:00\",\"2022-01-18T00:00:00\",\"2022-01-19T00:00:00\",\"2022-01-20T00:00:00\",\"2022-01-21T00:00:00\",\"2022-01-22T00:00:00\",\"2022-01-23T00:00:00\",\"2022-01-24T00:00:00\",\"2022-01-25T00:00:00\",\"2022-01-26T00:00:00\",\"2022-01-27T00:00:00\",\"2022-01-28T00:00:00\",\"2022-01-29T00:00:00\",\"2022-01-30T00:00:00\",\"2022-01-31T00:00:00\",\"2022-02-01T00:00:00\",\"2022-02-02T00:00:00\",\"2022-02-03T00:00:00\",\"2022-02-04T00:00:00\",\"2022-02-05T00:00:00\",\"2022-02-06T00:00:00\",\"2022-02-07T00:00:00\",\"2022-02-08T00:00:00\",\"2022-02-09T00:00:00\",\"2022-02-10T00:00:00\",\"2022-02-11T00:00:00\",\"2022-02-12T00:00:00\",\"2022-02-13T00:00:00\",\"2022-02-14T00:00:00\",\"2022-02-15T00:00:00\",\"2022-02-16T00:00:00\",\"2022-02-17T00:00:00\",\"2022-02-18T00:00:00\",\"2022-02-19T00:00:00\",\"2022-02-20T00:00:00\",\"2022-02-21T00:00:00\",\"2022-02-22T00:00:00\",\"2022-02-23T00:00:00\",\"2022-02-24T00:00:00\",\"2022-02-25T00:00:00\",\"2022-02-26T00:00:00\",\"2022-02-27T00:00:00\",\"2022-02-28T00:00:00\",\"2022-03-01T00:00:00\",\"2022-03-02T00:00:00\",\"2022-03-03T00:00:00\",\"2022-03-04T00:00:00\",\"2022-03-05T00:00:00\",\"2022-03-06T00:00:00\",\"2022-03-07T00:00:00\",\"2022-03-08T00:00:00\",\"2022-03-09T00:00:00\",\"2022-03-10T00:00:00\",\"2022-03-11T00:00:00\",\"2022-03-12T00:00:00\",\"2022-03-13T00:00:00\",\"2022-03-14T00:00:00\",\"2022-03-15T00:00:00\",\"2022-03-16T00:00:00\",\"2022-03-17T00:00:00\",\"2022-03-18T00:00:00\",\"2022-03-19T00:00:00\",\"2022-03-20T00:00:00\",\"2022-03-21T00:00:00\",\"2022-03-22T00:00:00\",\"2022-03-23T00:00:00\",\"2022-03-24T00:00:00\",\"2022-03-25T00:00:00\",\"2022-03-26T00:00:00\",\"2022-03-27T00:00:00\",\"2022-03-28T00:00:00\",\"2022-03-29T00:00:00\",\"2022-03-30T00:00:00\",\"2022-03-31T00:00:00\",\"2022-04-01T00:00:00\",\"2022-04-02T00:00:00\",\"2022-04-03T00:00:00\",\"2022-04-04T00:00:00\",\"2022-04-05T00:00:00\",\"2022-04-06T00:00:00\",\"2022-04-07T00:00:00\",\"2022-04-08T00:00:00\",\"2022-04-09T00:00:00\",\"2022-04-10T00:00:00\",\"2022-04-11T00:00:00\",\"2022-04-12T00:00:00\",\"2022-04-13T00:00:00\",\"2022-04-14T00:00:00\",\"2022-04-15T00:00:00\",\"2022-04-16T00:00:00\",\"2022-04-17T00:00:00\",\"2022-04-18T00:00:00\",\"2022-04-19T00:00:00\",\"2022-04-20T00:00:00\",\"2022-04-21T00:00:00\",\"2022-04-22T00:00:00\",\"2022-04-23T00:00:00\",\"2022-04-24T00:00:00\",\"2022-04-25T00:00:00\"],\"xaxis\":\"x\",\"y\":[null,null,null,null,null,null,null,null,null,null,null,null,null,null,null,31537.80859375,31788.748046875,30828.47265625,29876.078125,32099.28125,32316.3203125,33575.8046875,34274.390625,35367.96484375,37325.70703125,39411.41015625,40001.58203125,40015.2109375,42201.3203125,41632.1875,40026.67578125,39189.42578125,38169.71875,39712.4921875,40888.1796875,42764.5390625,44547.93359375,43859.02734375,46257.828125,45608.26171875,45596.37890625,44466.82421875,47754.8984375,47105.51953125,47049.84375,45993.87109375,44687.45703125,44853.94140625,46677.85546875,49295.25390625,48924.99609375,49351.9921875,49544.4375,47737.375,48958.3359375,46963.37890625,49051.30859375,48875.75,48834.45703125,47093.43359375,47147.64453125,48844.03125,49311.2109375,50019.203125,49981.11328125,51700.52734375,52620.65234375,46850.9765625,46120.58203125,46395.3359375,44886.66796875,45205.71875,46063.0546875,44966.79296875,47058.6953125,48164.109375,47779.06640625,47287.671875,48249.99609375,47296.25390625,42917.47265625,40716.5546875,43552.86328125,44881.5546875,42852.10546875,42731.84765625,43200.65234375,42251.640625,41039.88671875,41562.3203125,43748.76171875,48073.74609375,47705.22265625,48192.08984375,49067.21875,51469.47265625,55332.2421875,53810.71875,53958.76171875,54978.0078125,54764.67578125,57471.10546875,56054.37109375,57401.6328125,57341.87109375,61528.3046875,60885.3203125,61556.0546875,62039.25390625,64220.87109375,65995.546875,62205.13671875,60697.9765625,61391.5234375,60970.0234375,63036.1484375,60379.98828125,58492.43359375,60584.93359375,62215.3671875,61864.05078125,61323.0859375,60994.19921875,63195.1640625,62990.55078125,61461.87890625,61137.8671875,61576.0,63344.80078125,67474.125,66971.625,64985.359375,64921.32421875,64171.4921875,64471.0390625,65450.35546875,63578.54296875,60174.625,60330.59765625,56959.0859375,58127.67578125,59653.703125,58748.765625,56296.63671875,57568.17578125,56328.15234375,57282.74609375,53563.84375,54801.12890625,57217.25390625,57797.8671875,56994.33203125,57229.75,56470.69140625,53634.27734375,49243.2734375,49383.27734375,50579.10546875,50669.69140625,50504.05859375,47718.67578125,47250.0234375,49317.83203125,50087.9140625,46760.4140625,46620.7421875,48861.359375,47676.5234375,46208.9609375,46827.29296875,46721.27734375,46918.26953125,48839.98046875,48654.03515625,50726.72265625,50809.90625,50428.7890625,50795.94140625,50620.12109375,47614.9140625,46448.90625,47152.828125,46335.05078125,47667.578125,47342.8828125,46476.17578125,45923.6640625,43645.61328125,43158.8046875,41575.77734375,41734.4609375,41924.73046875,41821.77734375,42728.9609375,43910.64453125,42617.76953125,43096.484375,43162.91796875,43116.921875,42338.3671875,42365.5859375,41775.875,40685.625,36580.50390625,35061.046875,36250.9296875,36652.9609375,36962.44921875,36871.3203125,37135.80859375,37807.1953125,38106.25,37943.1640625,38475.44140625,38682.96484375,37003.33203125,37161.3671875,41412.69140625,41459.30078125,42412.1015625,43856.5703125,44110.81640625,44315.609375,43563.1953125,42479.3203125,42238.48828125,42204.1796875,42548.5703125,44541.80078125,43953.58984375,40570.01171875,40018.28515625,40073.015625,38452.39453125,37086.31640625,38271.47265625,37312.58203125,null,null,null,null,null,null,null,null,null,null,null,null,null,null,null,null,null,null,null,null,null,null,null,null,null,null,null,null,null,null,null,null,null,null,null,null,null,null,null,null,null,null,null,null,null,null,null,null,null,null,null,null,null,null,null,null,null,null,null,null,null],\"yaxis\":\"y\",\"type\":\"scatter\"},{\"hovertemplate\":\"variable=test_predicted_close<br>Date=%{x}<br>Close price=%{y}<extra></extra>\",\"legendgroup\":\"test_predicted_close\",\"line\":{\"color\":\"#00cc96\",\"dash\":\"solid\"},\"marker\":{\"symbol\":\"circle\"},\"mode\":\"lines\",\"name\":\"Test predicted close price\",\"orientation\":\"v\",\"showlegend\":true,\"x\":[\"2021-07-02T00:00:00\",\"2021-07-03T00:00:00\",\"2021-07-04T00:00:00\",\"2021-07-05T00:00:00\",\"2021-07-06T00:00:00\",\"2021-07-07T00:00:00\",\"2021-07-08T00:00:00\",\"2021-07-09T00:00:00\",\"2021-07-10T00:00:00\",\"2021-07-11T00:00:00\",\"2021-07-12T00:00:00\",\"2021-07-13T00:00:00\",\"2021-07-14T00:00:00\",\"2021-07-15T00:00:00\",\"2021-07-16T00:00:00\",\"2021-07-17T00:00:00\",\"2021-07-18T00:00:00\",\"2021-07-19T00:00:00\",\"2021-07-20T00:00:00\",\"2021-07-21T00:00:00\",\"2021-07-22T00:00:00\",\"2021-07-23T00:00:00\",\"2021-07-24T00:00:00\",\"2021-07-25T00:00:00\",\"2021-07-26T00:00:00\",\"2021-07-27T00:00:00\",\"2021-07-28T00:00:00\",\"2021-07-29T00:00:00\",\"2021-07-30T00:00:00\",\"2021-07-31T00:00:00\",\"2021-08-01T00:00:00\",\"2021-08-02T00:00:00\",\"2021-08-03T00:00:00\",\"2021-08-04T00:00:00\",\"2021-08-05T00:00:00\",\"2021-08-06T00:00:00\",\"2021-08-07T00:00:00\",\"2021-08-08T00:00:00\",\"2021-08-09T00:00:00\",\"2021-08-10T00:00:00\",\"2021-08-11T00:00:00\",\"2021-08-12T00:00:00\",\"2021-08-13T00:00:00\",\"2021-08-14T00:00:00\",\"2021-08-15T00:00:00\",\"2021-08-16T00:00:00\",\"2021-08-17T00:00:00\",\"2021-08-18T00:00:00\",\"2021-08-19T00:00:00\",\"2021-08-20T00:00:00\",\"2021-08-21T00:00:00\",\"2021-08-22T00:00:00\",\"2021-08-23T00:00:00\",\"2021-08-24T00:00:00\",\"2021-08-25T00:00:00\",\"2021-08-26T00:00:00\",\"2021-08-27T00:00:00\",\"2021-08-28T00:00:00\",\"2021-08-29T00:00:00\",\"2021-08-30T00:00:00\",\"2021-08-31T00:00:00\",\"2021-09-01T00:00:00\",\"2021-09-02T00:00:00\",\"2021-09-03T00:00:00\",\"2021-09-04T00:00:00\",\"2021-09-05T00:00:00\",\"2021-09-06T00:00:00\",\"2021-09-07T00:00:00\",\"2021-09-08T00:00:00\",\"2021-09-09T00:00:00\",\"2021-09-10T00:00:00\",\"2021-09-11T00:00:00\",\"2021-09-12T00:00:00\",\"2021-09-13T00:00:00\",\"2021-09-14T00:00:00\",\"2021-09-15T00:00:00\",\"2021-09-16T00:00:00\",\"2021-09-17T00:00:00\",\"2021-09-18T00:00:00\",\"2021-09-19T00:00:00\",\"2021-09-20T00:00:00\",\"2021-09-21T00:00:00\",\"2021-09-22T00:00:00\",\"2021-09-23T00:00:00\",\"2021-09-24T00:00:00\",\"2021-09-25T00:00:00\",\"2021-09-26T00:00:00\",\"2021-09-27T00:00:00\",\"2021-09-28T00:00:00\",\"2021-09-29T00:00:00\",\"2021-09-30T00:00:00\",\"2021-10-01T00:00:00\",\"2021-10-02T00:00:00\",\"2021-10-03T00:00:00\",\"2021-10-04T00:00:00\",\"2021-10-05T00:00:00\",\"2021-10-06T00:00:00\",\"2021-10-07T00:00:00\",\"2021-10-08T00:00:00\",\"2021-10-09T00:00:00\",\"2021-10-10T00:00:00\",\"2021-10-11T00:00:00\",\"2021-10-12T00:00:00\",\"2021-10-13T00:00:00\",\"2021-10-14T00:00:00\",\"2021-10-15T00:00:00\",\"2021-10-16T00:00:00\",\"2021-10-17T00:00:00\",\"2021-10-18T00:00:00\",\"2021-10-19T00:00:00\",\"2021-10-20T00:00:00\",\"2021-10-21T00:00:00\",\"2021-10-22T00:00:00\",\"2021-10-23T00:00:00\",\"2021-10-24T00:00:00\",\"2021-10-25T00:00:00\",\"2021-10-26T00:00:00\",\"2021-10-27T00:00:00\",\"2021-10-28T00:00:00\",\"2021-10-29T00:00:00\",\"2021-10-30T00:00:00\",\"2021-10-31T00:00:00\",\"2021-11-01T00:00:00\",\"2021-11-02T00:00:00\",\"2021-11-03T00:00:00\",\"2021-11-04T00:00:00\",\"2021-11-05T00:00:00\",\"2021-11-06T00:00:00\",\"2021-11-07T00:00:00\",\"2021-11-08T00:00:00\",\"2021-11-09T00:00:00\",\"2021-11-10T00:00:00\",\"2021-11-11T00:00:00\",\"2021-11-12T00:00:00\",\"2021-11-13T00:00:00\",\"2021-11-14T00:00:00\",\"2021-11-15T00:00:00\",\"2021-11-16T00:00:00\",\"2021-11-17T00:00:00\",\"2021-11-18T00:00:00\",\"2021-11-19T00:00:00\",\"2021-11-20T00:00:00\",\"2021-11-21T00:00:00\",\"2021-11-22T00:00:00\",\"2021-11-23T00:00:00\",\"2021-11-24T00:00:00\",\"2021-11-25T00:00:00\",\"2021-11-26T00:00:00\",\"2021-11-27T00:00:00\",\"2021-11-28T00:00:00\",\"2021-11-29T00:00:00\",\"2021-11-30T00:00:00\",\"2021-12-01T00:00:00\",\"2021-12-02T00:00:00\",\"2021-12-03T00:00:00\",\"2021-12-04T00:00:00\",\"2021-12-05T00:00:00\",\"2021-12-06T00:00:00\",\"2021-12-07T00:00:00\",\"2021-12-08T00:00:00\",\"2021-12-09T00:00:00\",\"2021-12-10T00:00:00\",\"2021-12-11T00:00:00\",\"2021-12-12T00:00:00\",\"2021-12-13T00:00:00\",\"2021-12-14T00:00:00\",\"2021-12-15T00:00:00\",\"2021-12-16T00:00:00\",\"2021-12-17T00:00:00\",\"2021-12-18T00:00:00\",\"2021-12-19T00:00:00\",\"2021-12-20T00:00:00\",\"2021-12-21T00:00:00\",\"2021-12-22T00:00:00\",\"2021-12-23T00:00:00\",\"2021-12-24T00:00:00\",\"2021-12-25T00:00:00\",\"2021-12-26T00:00:00\",\"2021-12-27T00:00:00\",\"2021-12-28T00:00:00\",\"2021-12-29T00:00:00\",\"2021-12-30T00:00:00\",\"2021-12-31T00:00:00\",\"2022-01-01T00:00:00\",\"2022-01-02T00:00:00\",\"2022-01-03T00:00:00\",\"2022-01-04T00:00:00\",\"2022-01-05T00:00:00\",\"2022-01-06T00:00:00\",\"2022-01-07T00:00:00\",\"2022-01-08T00:00:00\",\"2022-01-09T00:00:00\",\"2022-01-10T00:00:00\",\"2022-01-11T00:00:00\",\"2022-01-12T00:00:00\",\"2022-01-13T00:00:00\",\"2022-01-14T00:00:00\",\"2022-01-15T00:00:00\",\"2022-01-16T00:00:00\",\"2022-01-17T00:00:00\",\"2022-01-18T00:00:00\",\"2022-01-19T00:00:00\",\"2022-01-20T00:00:00\",\"2022-01-21T00:00:00\",\"2022-01-22T00:00:00\",\"2022-01-23T00:00:00\",\"2022-01-24T00:00:00\",\"2022-01-25T00:00:00\",\"2022-01-26T00:00:00\",\"2022-01-27T00:00:00\",\"2022-01-28T00:00:00\",\"2022-01-29T00:00:00\",\"2022-01-30T00:00:00\",\"2022-01-31T00:00:00\",\"2022-02-01T00:00:00\",\"2022-02-02T00:00:00\",\"2022-02-03T00:00:00\",\"2022-02-04T00:00:00\",\"2022-02-05T00:00:00\",\"2022-02-06T00:00:00\",\"2022-02-07T00:00:00\",\"2022-02-08T00:00:00\",\"2022-02-09T00:00:00\",\"2022-02-10T00:00:00\",\"2022-02-11T00:00:00\",\"2022-02-12T00:00:00\",\"2022-02-13T00:00:00\",\"2022-02-14T00:00:00\",\"2022-02-15T00:00:00\",\"2022-02-16T00:00:00\",\"2022-02-17T00:00:00\",\"2022-02-18T00:00:00\",\"2022-02-19T00:00:00\",\"2022-02-20T00:00:00\",\"2022-02-21T00:00:00\",\"2022-02-22T00:00:00\",\"2022-02-23T00:00:00\",\"2022-02-24T00:00:00\",\"2022-02-25T00:00:00\",\"2022-02-26T00:00:00\",\"2022-02-27T00:00:00\",\"2022-02-28T00:00:00\",\"2022-03-01T00:00:00\",\"2022-03-02T00:00:00\",\"2022-03-03T00:00:00\",\"2022-03-04T00:00:00\",\"2022-03-05T00:00:00\",\"2022-03-06T00:00:00\",\"2022-03-07T00:00:00\",\"2022-03-08T00:00:00\",\"2022-03-09T00:00:00\",\"2022-03-10T00:00:00\",\"2022-03-11T00:00:00\",\"2022-03-12T00:00:00\",\"2022-03-13T00:00:00\",\"2022-03-14T00:00:00\",\"2022-03-15T00:00:00\",\"2022-03-16T00:00:00\",\"2022-03-17T00:00:00\",\"2022-03-18T00:00:00\",\"2022-03-19T00:00:00\",\"2022-03-20T00:00:00\",\"2022-03-21T00:00:00\",\"2022-03-22T00:00:00\",\"2022-03-23T00:00:00\",\"2022-03-24T00:00:00\",\"2022-03-25T00:00:00\",\"2022-03-26T00:00:00\",\"2022-03-27T00:00:00\",\"2022-03-28T00:00:00\",\"2022-03-29T00:00:00\",\"2022-03-30T00:00:00\",\"2022-03-31T00:00:00\",\"2022-04-01T00:00:00\",\"2022-04-02T00:00:00\",\"2022-04-03T00:00:00\",\"2022-04-04T00:00:00\",\"2022-04-05T00:00:00\",\"2022-04-06T00:00:00\",\"2022-04-07T00:00:00\",\"2022-04-08T00:00:00\",\"2022-04-09T00:00:00\",\"2022-04-10T00:00:00\",\"2022-04-11T00:00:00\",\"2022-04-12T00:00:00\",\"2022-04-13T00:00:00\",\"2022-04-14T00:00:00\",\"2022-04-15T00:00:00\",\"2022-04-16T00:00:00\",\"2022-04-17T00:00:00\",\"2022-04-18T00:00:00\",\"2022-04-19T00:00:00\",\"2022-04-20T00:00:00\",\"2022-04-21T00:00:00\",\"2022-04-22T00:00:00\",\"2022-04-23T00:00:00\",\"2022-04-24T00:00:00\",\"2022-04-25T00:00:00\"],\"xaxis\":\"x\",\"y\":[null,null,null,null,null,null,null,null,null,null,null,null,null,null,null,null,null,null,null,null,null,null,null,null,null,null,null,null,null,null,null,null,null,null,null,null,null,null,null,null,null,null,null,null,null,null,null,null,null,null,null,null,null,null,null,null,null,null,null,null,null,null,null,null,null,null,null,null,null,null,null,null,null,null,null,null,null,null,null,null,null,null,null,null,null,null,null,null,null,null,null,null,null,null,null,null,null,null,null,null,null,null,null,null,null,null,null,null,null,null,null,null,null,null,null,null,null,null,null,null,null,null,null,null,null,null,null,null,null,null,null,null,null,null,null,null,null,null,null,null,null,null,null,null,null,null,null,null,null,null,null,null,null,null,null,null,null,null,null,null,null,null,null,null,null,null,null,null,null,null,null,null,null,null,null,null,null,null,null,null,null,null,null,null,null,null,null,null,null,null,null,null,null,null,null,null,null,null,null,null,null,null,null,null,null,null,null,null,null,null,null,null,null,null,null,null,null,null,null,null,null,null,null,null,null,null,null,null,null,null,null,null,null,null,null,null,null,null,null,null,null,null,null,null,null,null,null,null,null,null,null,null,null,39599.640625,40215.38671875,38861.46875,39737.12109375,39797.8046875,41679.40234375,42292.44140625,42547.6875,42514.7578125,42069.3046875,42409.2265625,42742.49609375,43875.796875,43898.94921875,43806.421875,44351.82421875,47492.20703125,47159.41796875,46948.62890625,46759.5546875,45109.35546875,45222.19140625,45222.234375,46495.8046875,47884.4375,44843.48828125,42734.16015625,43211.3046875,41844.99609375,42757.26953125,42250.6171875,39918.046875,38811.29296875,40821.125,38764.109375,38861.03515625,38991.50390625,38961.53125,41473.078125,41640.40234375,41652.51171875,39859.57421875,39825.23046875,39551.9765625,null],\"yaxis\":\"y\",\"type\":\"scatter\"}],                        {\"template\":{\"data\":{\"bar\":[{\"error_x\":{\"color\":\"#2a3f5f\"},\"error_y\":{\"color\":\"#2a3f5f\"},\"marker\":{\"line\":{\"color\":\"#E5ECF6\",\"width\":0.5},\"pattern\":{\"fillmode\":\"overlay\",\"size\":10,\"solidity\":0.2}},\"type\":\"bar\"}],\"barpolar\":[{\"marker\":{\"line\":{\"color\":\"#E5ECF6\",\"width\":0.5},\"pattern\":{\"fillmode\":\"overlay\",\"size\":10,\"solidity\":0.2}},\"type\":\"barpolar\"}],\"carpet\":[{\"aaxis\":{\"endlinecolor\":\"#2a3f5f\",\"gridcolor\":\"white\",\"linecolor\":\"white\",\"minorgridcolor\":\"white\",\"startlinecolor\":\"#2a3f5f\"},\"baxis\":{\"endlinecolor\":\"#2a3f5f\",\"gridcolor\":\"white\",\"linecolor\":\"white\",\"minorgridcolor\":\"white\",\"startlinecolor\":\"#2a3f5f\"},\"type\":\"carpet\"}],\"choropleth\":[{\"colorbar\":{\"outlinewidth\":0,\"ticks\":\"\"},\"type\":\"choropleth\"}],\"contour\":[{\"colorbar\":{\"outlinewidth\":0,\"ticks\":\"\"},\"colorscale\":[[0.0,\"#0d0887\"],[0.1111111111111111,\"#46039f\"],[0.2222222222222222,\"#7201a8\"],[0.3333333333333333,\"#9c179e\"],[0.4444444444444444,\"#bd3786\"],[0.5555555555555556,\"#d8576b\"],[0.6666666666666666,\"#ed7953\"],[0.7777777777777778,\"#fb9f3a\"],[0.8888888888888888,\"#fdca26\"],[1.0,\"#f0f921\"]],\"type\":\"contour\"}],\"contourcarpet\":[{\"colorbar\":{\"outlinewidth\":0,\"ticks\":\"\"},\"type\":\"contourcarpet\"}],\"heatmap\":[{\"colorbar\":{\"outlinewidth\":0,\"ticks\":\"\"},\"colorscale\":[[0.0,\"#0d0887\"],[0.1111111111111111,\"#46039f\"],[0.2222222222222222,\"#7201a8\"],[0.3333333333333333,\"#9c179e\"],[0.4444444444444444,\"#bd3786\"],[0.5555555555555556,\"#d8576b\"],[0.6666666666666666,\"#ed7953\"],[0.7777777777777778,\"#fb9f3a\"],[0.8888888888888888,\"#fdca26\"],[1.0,\"#f0f921\"]],\"type\":\"heatmap\"}],\"heatmapgl\":[{\"colorbar\":{\"outlinewidth\":0,\"ticks\":\"\"},\"colorscale\":[[0.0,\"#0d0887\"],[0.1111111111111111,\"#46039f\"],[0.2222222222222222,\"#7201a8\"],[0.3333333333333333,\"#9c179e\"],[0.4444444444444444,\"#bd3786\"],[0.5555555555555556,\"#d8576b\"],[0.6666666666666666,\"#ed7953\"],[0.7777777777777778,\"#fb9f3a\"],[0.8888888888888888,\"#fdca26\"],[1.0,\"#f0f921\"]],\"type\":\"heatmapgl\"}],\"histogram\":[{\"marker\":{\"pattern\":{\"fillmode\":\"overlay\",\"size\":10,\"solidity\":0.2}},\"type\":\"histogram\"}],\"histogram2d\":[{\"colorbar\":{\"outlinewidth\":0,\"ticks\":\"\"},\"colorscale\":[[0.0,\"#0d0887\"],[0.1111111111111111,\"#46039f\"],[0.2222222222222222,\"#7201a8\"],[0.3333333333333333,\"#9c179e\"],[0.4444444444444444,\"#bd3786\"],[0.5555555555555556,\"#d8576b\"],[0.6666666666666666,\"#ed7953\"],[0.7777777777777778,\"#fb9f3a\"],[0.8888888888888888,\"#fdca26\"],[1.0,\"#f0f921\"]],\"type\":\"histogram2d\"}],\"histogram2dcontour\":[{\"colorbar\":{\"outlinewidth\":0,\"ticks\":\"\"},\"colorscale\":[[0.0,\"#0d0887\"],[0.1111111111111111,\"#46039f\"],[0.2222222222222222,\"#7201a8\"],[0.3333333333333333,\"#9c179e\"],[0.4444444444444444,\"#bd3786\"],[0.5555555555555556,\"#d8576b\"],[0.6666666666666666,\"#ed7953\"],[0.7777777777777778,\"#fb9f3a\"],[0.8888888888888888,\"#fdca26\"],[1.0,\"#f0f921\"]],\"type\":\"histogram2dcontour\"}],\"mesh3d\":[{\"colorbar\":{\"outlinewidth\":0,\"ticks\":\"\"},\"type\":\"mesh3d\"}],\"parcoords\":[{\"line\":{\"colorbar\":{\"outlinewidth\":0,\"ticks\":\"\"}},\"type\":\"parcoords\"}],\"pie\":[{\"automargin\":true,\"type\":\"pie\"}],\"scatter\":[{\"marker\":{\"colorbar\":{\"outlinewidth\":0,\"ticks\":\"\"}},\"type\":\"scatter\"}],\"scatter3d\":[{\"line\":{\"colorbar\":{\"outlinewidth\":0,\"ticks\":\"\"}},\"marker\":{\"colorbar\":{\"outlinewidth\":0,\"ticks\":\"\"}},\"type\":\"scatter3d\"}],\"scattercarpet\":[{\"marker\":{\"colorbar\":{\"outlinewidth\":0,\"ticks\":\"\"}},\"type\":\"scattercarpet\"}],\"scattergeo\":[{\"marker\":{\"colorbar\":{\"outlinewidth\":0,\"ticks\":\"\"}},\"type\":\"scattergeo\"}],\"scattergl\":[{\"marker\":{\"colorbar\":{\"outlinewidth\":0,\"ticks\":\"\"}},\"type\":\"scattergl\"}],\"scattermapbox\":[{\"marker\":{\"colorbar\":{\"outlinewidth\":0,\"ticks\":\"\"}},\"type\":\"scattermapbox\"}],\"scatterpolar\":[{\"marker\":{\"colorbar\":{\"outlinewidth\":0,\"ticks\":\"\"}},\"type\":\"scatterpolar\"}],\"scatterpolargl\":[{\"marker\":{\"colorbar\":{\"outlinewidth\":0,\"ticks\":\"\"}},\"type\":\"scatterpolargl\"}],\"scatterternary\":[{\"marker\":{\"colorbar\":{\"outlinewidth\":0,\"ticks\":\"\"}},\"type\":\"scatterternary\"}],\"surface\":[{\"colorbar\":{\"outlinewidth\":0,\"ticks\":\"\"},\"colorscale\":[[0.0,\"#0d0887\"],[0.1111111111111111,\"#46039f\"],[0.2222222222222222,\"#7201a8\"],[0.3333333333333333,\"#9c179e\"],[0.4444444444444444,\"#bd3786\"],[0.5555555555555556,\"#d8576b\"],[0.6666666666666666,\"#ed7953\"],[0.7777777777777778,\"#fb9f3a\"],[0.8888888888888888,\"#fdca26\"],[1.0,\"#f0f921\"]],\"type\":\"surface\"}],\"table\":[{\"cells\":{\"fill\":{\"color\":\"#EBF0F8\"},\"line\":{\"color\":\"white\"}},\"header\":{\"fill\":{\"color\":\"#C8D4E3\"},\"line\":{\"color\":\"white\"}},\"type\":\"table\"}]},\"layout\":{\"annotationdefaults\":{\"arrowcolor\":\"#2a3f5f\",\"arrowhead\":0,\"arrowwidth\":1},\"autotypenumbers\":\"strict\",\"coloraxis\":{\"colorbar\":{\"outlinewidth\":0,\"ticks\":\"\"}},\"colorscale\":{\"diverging\":[[0,\"#8e0152\"],[0.1,\"#c51b7d\"],[0.2,\"#de77ae\"],[0.3,\"#f1b6da\"],[0.4,\"#fde0ef\"],[0.5,\"#f7f7f7\"],[0.6,\"#e6f5d0\"],[0.7,\"#b8e186\"],[0.8,\"#7fbc41\"],[0.9,\"#4d9221\"],[1,\"#276419\"]],\"sequential\":[[0.0,\"#0d0887\"],[0.1111111111111111,\"#46039f\"],[0.2222222222222222,\"#7201a8\"],[0.3333333333333333,\"#9c179e\"],[0.4444444444444444,\"#bd3786\"],[0.5555555555555556,\"#d8576b\"],[0.6666666666666666,\"#ed7953\"],[0.7777777777777778,\"#fb9f3a\"],[0.8888888888888888,\"#fdca26\"],[1.0,\"#f0f921\"]],\"sequentialminus\":[[0.0,\"#0d0887\"],[0.1111111111111111,\"#46039f\"],[0.2222222222222222,\"#7201a8\"],[0.3333333333333333,\"#9c179e\"],[0.4444444444444444,\"#bd3786\"],[0.5555555555555556,\"#d8576b\"],[0.6666666666666666,\"#ed7953\"],[0.7777777777777778,\"#fb9f3a\"],[0.8888888888888888,\"#fdca26\"],[1.0,\"#f0f921\"]]},\"colorway\":[\"#636efa\",\"#EF553B\",\"#00cc96\",\"#ab63fa\",\"#FFA15A\",\"#19d3f3\",\"#FF6692\",\"#B6E880\",\"#FF97FF\",\"#FECB52\"],\"font\":{\"color\":\"#2a3f5f\"},\"geo\":{\"bgcolor\":\"white\",\"lakecolor\":\"white\",\"landcolor\":\"#E5ECF6\",\"showlakes\":true,\"showland\":true,\"subunitcolor\":\"white\"},\"hoverlabel\":{\"align\":\"left\"},\"hovermode\":\"closest\",\"mapbox\":{\"style\":\"light\"},\"paper_bgcolor\":\"white\",\"plot_bgcolor\":\"#E5ECF6\",\"polar\":{\"angularaxis\":{\"gridcolor\":\"white\",\"linecolor\":\"white\",\"ticks\":\"\"},\"bgcolor\":\"#E5ECF6\",\"radialaxis\":{\"gridcolor\":\"white\",\"linecolor\":\"white\",\"ticks\":\"\"}},\"scene\":{\"xaxis\":{\"backgroundcolor\":\"#E5ECF6\",\"gridcolor\":\"white\",\"gridwidth\":2,\"linecolor\":\"white\",\"showbackground\":true,\"ticks\":\"\",\"zerolinecolor\":\"white\"},\"yaxis\":{\"backgroundcolor\":\"#E5ECF6\",\"gridcolor\":\"white\",\"gridwidth\":2,\"linecolor\":\"white\",\"showbackground\":true,\"ticks\":\"\",\"zerolinecolor\":\"white\"},\"zaxis\":{\"backgroundcolor\":\"#E5ECF6\",\"gridcolor\":\"white\",\"gridwidth\":2,\"linecolor\":\"white\",\"showbackground\":true,\"ticks\":\"\",\"zerolinecolor\":\"white\"}},\"shapedefaults\":{\"line\":{\"color\":\"#2a3f5f\"}},\"ternary\":{\"aaxis\":{\"gridcolor\":\"white\",\"linecolor\":\"white\",\"ticks\":\"\"},\"baxis\":{\"gridcolor\":\"white\",\"linecolor\":\"white\",\"ticks\":\"\"},\"bgcolor\":\"#E5ECF6\",\"caxis\":{\"gridcolor\":\"white\",\"linecolor\":\"white\",\"ticks\":\"\"}},\"title\":{\"x\":0.05},\"xaxis\":{\"automargin\":true,\"gridcolor\":\"white\",\"linecolor\":\"white\",\"ticks\":\"\",\"title\":{\"standoff\":15},\"zerolinecolor\":\"white\",\"zerolinewidth\":2},\"yaxis\":{\"automargin\":true,\"gridcolor\":\"white\",\"linecolor\":\"white\",\"ticks\":\"\",\"title\":{\"standoff\":15},\"zerolinecolor\":\"white\",\"zerolinewidth\":2}}},\"xaxis\":{\"anchor\":\"y\",\"domain\":[0.0,1.0],\"title\":{\"text\":\"Date\"},\"showgrid\":false},\"yaxis\":{\"anchor\":\"x\",\"domain\":[0.0,1.0],\"title\":{\"text\":\"Close price\"},\"showgrid\":false},\"legend\":{\"title\":{\"text\":\"Close Price\"},\"tracegroupgap\":0},\"margin\":{\"t\":60},\"title\":{\"text\":\"Comparision between original close price vs predicted close price\"},\"font\":{\"size\":15,\"color\":\"black\"},\"plot_bgcolor\":\"white\"},                        {\"responsive\": true}                    ).then(function(){\n",
       "                            \n",
       "var gd = document.getElementById('5a2271fc-d44a-4015-af12-c5ba8209ac58');\n",
       "var x = new MutationObserver(function (mutations, observer) {{\n",
       "        var display = window.getComputedStyle(gd).display;\n",
       "        if (!display || display === 'none') {{\n",
       "            console.log([gd, 'removed!']);\n",
       "            Plotly.purge(gd);\n",
       "            observer.disconnect();\n",
       "        }}\n",
       "}});\n",
       "\n",
       "// Listen for the removal of the full notebook cells\n",
       "var notebookContainer = gd.closest('#notebook-container');\n",
       "if (notebookContainer) {{\n",
       "    x.observe(notebookContainer, {childList: true});\n",
       "}}\n",
       "\n",
       "// Listen for the clearing of the current output cell\n",
       "var outputEl = gd.closest('.output');\n",
       "if (outputEl) {{\n",
       "    x.observe(outputEl, {childList: true});\n",
       "}}\n",
       "\n",
       "                        })                };                });            </script>        </div>"
      ]
     },
     "metadata": {},
     "output_type": "display_data"
    }
   ],
   "source": [
    "# shift train predictions for plotting\n",
    "\n",
    "look_back=time_step\n",
    "trainPredictPlot = np.empty_like(closedf[['close']])\n",
    "trainPredictPlot[:] = np.nan\n",
    "trainPredictPlot[look_back:len(train_predict)+look_back, :] = train_predict\n",
    "print(\"Train predicted data: \", trainPredictPlot.shape)\n",
    "\n",
    "# shift test predictions for plotting\n",
    "testPredictPlot = np.empty_like(closedf[['close']])\n",
    "testPredictPlot[:] = np.nan\n",
    "testPredictPlot[len(train_predict)+(look_back*2)+1:len(closedf)-1, :] = test_predict\n",
    "print(\"Test predicted data: \", testPredictPlot.shape)\n",
    "\n",
    "names = cycle(['Original close price','Train predicted close price','Test predicted close price'])\n",
    "\n",
    "plotdf = pd.DataFrame({'date': close_stock['date'],\n",
    "                       'original_close': close_stock['close'],\n",
    "                      'train_predicted_close': trainPredictPlot.reshape(1,-1)[0].tolist(),\n",
    "                      'test_predicted_close': testPredictPlot.reshape(1,-1)[0].tolist()})\n",
    "\n",
    "fig = px.line(plotdf,x=plotdf['date'], y=[plotdf['original_close'],plotdf['train_predicted_close'],\n",
    "                                          plotdf['test_predicted_close']],\n",
    "              labels={'value':'Close price','date': 'Date'})\n",
    "fig.update_layout(title_text='Comparision between original close price vs predicted close price',\n",
    "                  plot_bgcolor='white', font_size=15, font_color='black',legend_title_text='Close Price')\n",
    "fig.for_each_trace(lambda t:  t.update(name = next(names)))\n",
    "\n",
    "fig.update_xaxes(showgrid=False)\n",
    "fig.update_yaxes(showgrid=False)\n",
    "fig.show()\n"
   ]
  },
  {
   "cell_type": "code",
   "execution_count": 117,
   "id": "e36dd8b0",
   "metadata": {},
   "outputs": [
    {
     "data": {
      "text/plain": [
       "array([[39551.977]], dtype=float32)"
      ]
     },
     "execution_count": 117,
     "metadata": {},
     "output_type": "execute_result"
    }
   ],
   "source": [
    "#Predicting tomorrow\n",
    "\n",
    "tomorrow_scaled = my_model2.predict(X_test)[-1]\n",
    "tomorrow = scaler_y.inverse_transform(tomorrow_scaled.reshape(-1,1)) \n",
    "tomorrow"
   ]
  },
  {
   "cell_type": "code",
   "execution_count": 118,
   "id": "02b36fd5",
   "metadata": {},
   "outputs": [],
   "source": [
    "appended_X_test_scaled = X_test_scaled.append([float(tomorrow_scaled)], ignore_index = True)"
   ]
  },
  {
   "cell_type": "code",
   "execution_count": 119,
   "id": "6d5cadd4",
   "metadata": {},
   "outputs": [],
   "source": [
    "#Predicting day after tomorrow\n",
    "X_test_append, y_test_append = create_dataset(appended_X_test_scaled, time_step)"
   ]
  },
  {
   "cell_type": "code",
   "execution_count": 120,
   "id": "b328f7b5",
   "metadata": {},
   "outputs": [
    {
     "data": {
      "text/plain": [
       "array([[40190.69]], dtype=float32)"
      ]
     },
     "execution_count": 120,
     "metadata": {},
     "output_type": "execute_result"
    }
   ],
   "source": [
    "tomorrow_tomorrow_scaled = my_model2.predict(X_test_append)[-1]\n",
    "tomorrow_tomorrow = scaler_y.inverse_transform(tomorrow_tomorrow_scaled.reshape(-1,1)) \n",
    "tomorrow_tomorrow"
   ]
  },
  {
   "cell_type": "code",
   "execution_count": null,
   "id": "6324148a",
   "metadata": {},
   "outputs": [],
   "source": [
    "pd.concat()"
   ]
  },
  {
   "cell_type": "code",
   "execution_count": null,
   "id": "ed0b7d0b",
   "metadata": {},
   "outputs": [],
   "source": []
  },
  {
   "cell_type": "code",
   "execution_count": null,
   "id": "4288fb5d",
   "metadata": {},
   "outputs": [],
   "source": []
  },
  {
   "cell_type": "code",
   "execution_count": null,
   "id": "0b76972d",
   "metadata": {},
   "outputs": [],
   "source": []
  }
 ],
 "metadata": {
  "kernelspec": {
   "display_name": "Python 3",
   "language": "python",
   "name": "python3"
  },
  "language_info": {
   "codemirror_mode": {
    "name": "ipython",
    "version": 3
   },
   "file_extension": ".py",
   "mimetype": "text/x-python",
   "name": "python",
   "nbconvert_exporter": "python",
   "pygments_lexer": "ipython3",
   "version": "3.8.8"
  }
 },
 "nbformat": 4,
 "nbformat_minor": 5
}
