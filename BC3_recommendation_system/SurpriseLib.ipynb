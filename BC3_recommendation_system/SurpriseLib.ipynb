{
  "nbformat": 4,
  "nbformat_minor": 0,
  "metadata": {
    "colab": {
      "name": "SurpriseLib.ipynb",
      "provenance": [],
      "collapsed_sections": [],
      "history_visible": true
    },
    "kernelspec": {
      "name": "python3",
      "display_name": "Python 3"
    }
  },
  "cells": [
    {
      "cell_type": "code",
      "metadata": {
        "id": "9X--xSiDNYhz",
        "colab": {
          "base_uri": "https://localhost:8080/",
          "height": 434
        },
        "outputId": "ef6d6af5-d6a2-444d-b7db-863c1b0402e9"
      },
      "source": [
        "! pip install scikit-surprise\n",
        "from surprise import KNNBasic\n",
        "from surprise import Dataset\n",
        "from surprise import Reader\n",
        "\n",
        "from collections import defaultdict\n",
        "from operator import itemgetter\n",
        "import heapq\n",
        "\n",
        "import os\n",
        "import csv\n",
        "\n",
        "# Download the (small) Movielens dataset\n",
        "!wget http://files.grouplens.org/datasets/movielens/ml-latest-small.zip\n",
        "!unzip ml-latest-small.zip\n",
        "!ls"
      ],
      "execution_count": null,
      "outputs": [
        {
          "output_type": "stream",
          "text": [
            "Requirement already satisfied: scikit-surprise in /usr/local/lib/python3.6/dist-packages (1.1.1)\n",
            "Requirement already satisfied: numpy>=1.11.2 in /usr/local/lib/python3.6/dist-packages (from scikit-surprise) (1.18.5)\n",
            "Requirement already satisfied: joblib>=0.11 in /usr/local/lib/python3.6/dist-packages (from scikit-surprise) (0.16.0)\n",
            "Requirement already satisfied: scipy>=1.0.0 in /usr/local/lib/python3.6/dist-packages (from scikit-surprise) (1.4.1)\n",
            "Requirement already satisfied: six>=1.10.0 in /usr/local/lib/python3.6/dist-packages (from scikit-surprise) (1.15.0)\n",
            "--2020-09-14 20:35:09--  http://files.grouplens.org/datasets/movielens/ml-latest-small.zip\n",
            "Resolving files.grouplens.org (files.grouplens.org)... 128.101.65.152\n",
            "Connecting to files.grouplens.org (files.grouplens.org)|128.101.65.152|:80... connected.\n",
            "HTTP request sent, awaiting response... 200 OK\n",
            "Length: 978202 (955K) [application/zip]\n",
            "Saving to: ‘ml-latest-small.zip.1’\n",
            "\n",
            "ml-latest-small.zip 100%[===================>] 955.28K   945KB/s    in 1.0s    \n",
            "\n",
            "2020-09-14 20:35:10 (945 KB/s) - ‘ml-latest-small.zip.1’ saved [978202/978202]\n",
            "\n",
            "Archive:  ml-latest-small.zip\n",
            "replace ml-latest-small/links.csv? [y]es, [n]o, [A]ll, [N]one, [r]ename: A\n",
            "  inflating: ml-latest-small/links.csv  \n",
            "  inflating: ml-latest-small/tags.csv  \n",
            "  inflating: ml-latest-small/ratings.csv  \n",
            "  inflating: ml-latest-small/README.txt  \n",
            "  inflating: ml-latest-small/movies.csv  \n",
            "ml-latest-small  ml-latest-small.zip  ml-latest-small.zip.1  sample_data\n"
          ],
          "name": "stdout"
        }
      ]
    },
    {
      "cell_type": "markdown",
      "metadata": {
        "id": "rF6m36oLUYgR"
      },
      "source": [
        ""
      ]
    },
    {
      "cell_type": "code",
      "metadata": {
        "id": "tYxXRz7reLMN"
      },
      "source": [
        "# Load in the movie ratings and return a dataset.\n",
        "def load_dataset():\n",
        "    reader = Reader(line_format='user item rating timestamp', sep=',', skip_lines=1)\n",
        "    ratings_dataset = Dataset.load_from_file('ml-latest-small/ratings.csv', reader=reader)\n",
        "\n",
        "    # Lookup a movie's name with it's Movielens ID as key\n",
        "    movieID_to_name = {}\n",
        "    with open('ml-latest-small/movies.csv', newline='', encoding='ISO-8859-1') as csvfile:\n",
        "            movie_reader = csv.reader(csvfile)\n",
        "            next(movie_reader)\n",
        "            for row in movie_reader:\n",
        "                movieID = int(row[0])\n",
        "                movie_name = row[1]\n",
        "                movieID_to_name[movieID] = movie_name\n",
        "    # Return both the dataset and lookup dict in tuple\n",
        "    return (ratings_dataset, movieID_to_name)\n",
        "\n",
        "dataset, movieID_to_name = load_dataset()\n",
        "\n",
        "# Build a full Surprise training set from dataset\n",
        "trainset = dataset.build_full_trainset()"
      ],
      "execution_count": null,
      "outputs": []
    },
    {
      "cell_type": "code",
      "metadata": {
        "id": "zMXU-EePXNpu",
        "colab": {
          "base_uri": "https://localhost:8080/",
          "height": 86
        },
        "outputId": "929917ec-2f48-420d-8a79-642bc87e820e"
      },
      "source": [
        "similarity_matrix = KNNBasic(sim_options={\n",
        "        'name': 'cosine',\n",
        "        'user_based': False\n",
        "        })\\\n",
        "        .fit(trainset)\\\n",
        "        .compute_similarities()"
      ],
      "execution_count": null,
      "outputs": [
        {
          "output_type": "stream",
          "text": [
            "Computing the cosine similarity matrix...\n",
            "Done computing similarity matrix.\n",
            "Computing the cosine similarity matrix...\n",
            "Done computing similarity matrix.\n"
          ],
          "name": "stdout"
        }
      ]
    },
    {
      "cell_type": "code",
      "metadata": {
        "id": "BxUxbBbqOn3D"
      },
      "source": [
        "# Pick a random user ID, has to be a numeric string.\n",
        "# Play around and see how the final recommendations change\n",
        "# depending on the user! 1-610\n",
        "test_subject = '70'\n",
        "\n",
        "# Get the top K items user rated\n",
        "k = 20\n"
      ],
      "execution_count": null,
      "outputs": []
    },
    {
      "cell_type": "code",
      "metadata": {
        "id": "cA-GpVgVQTXY"
      },
      "source": [
        "# When using Surprise, there are RAW and INNER IDs.\n",
        "# Raw IDs are the IDs, strings or numbers, you use when\n",
        "# creating the trainset. The raw ID will be converted to\n",
        "# an unique integer Surprise can more easily manipulate\n",
        "# for computations.\n",
        "#\n",
        "# So in order to find an user inside the trainset, you\n",
        "# need to convert their RAW ID to the INNER Id. Read\n",
        "# here for more info https://surprise.readthedocs.io/en/stable/FAQ.html#what-are-raw-and-inner-ids\n",
        "test_subject_iid = trainset.to_inner_uid(test_subject)\n",
        "\n",
        "# Get the top K items we rated\n",
        "test_subject_ratings = trainset.ur[test_subject_iid]\n",
        "k_neighbors = heapq.nlargest(k, test_subject_ratings, key=lambda t: t[1])"
      ],
      "execution_count": null,
      "outputs": []
    },
    {
      "cell_type": "code",
      "metadata": {
        "id": "PDjwk2THR0Pz"
      },
      "source": [
        "# Default dict is basically a standard dictionary,\n",
        "# the difference beeing that it doesn't throw an error\n",
        "# when trying to access a key which does not exist,\n",
        "# instead a new entry, with that key, is created.\n",
        "candidates = defaultdict(float)\n",
        "\n",
        "for itemID, rating in k_neighbors:\n",
        "    try:\n",
        "      similaritities = similarity_matrix[itemID]\n",
        "      for innerID, score in enumerate(similaritities):\n",
        "          candidates[innerID] += score * (rating / 5.0)\n",
        "    except:\n",
        "      continue"
      ],
      "execution_count": null,
      "outputs": []
    },
    {
      "cell_type": "code",
      "metadata": {
        "id": "M2JokYeyIK8x"
      },
      "source": [
        "# Utility we'll use later.\n",
        "def getMovieName(movieID):\n",
        "  if int(movieID) in movieID_to_name:\n",
        "    return movieID_to_name[int(movieID)]\n",
        "  else:\n",
        "      return \"\""
      ],
      "execution_count": null,
      "outputs": []
    },
    {
      "cell_type": "code",
      "metadata": {
        "id": "mrHwYL1qUD0z",
        "colab": {
          "base_uri": "https://localhost:8080/",
          "height": 208
        },
        "outputId": "ab216fe0-9c68-40a9-aa27-53820405b2ee"
      },
      "source": [
        "# Build a dictionary of movies the user has watched\n",
        "watched = {}\n",
        "for itemID, rating in trainset.ur[test_subject_iid]:\n",
        "  watched[itemID] = 1\n",
        "\n",
        "# Add items to list of user's recommendations\n",
        "# If they are similar to their favorite movies,\n",
        "# AND have not already been watched.\n",
        "recommendations = []\n",
        "\n",
        "position = 0\n",
        "for itemID, rating_sum in sorted(candidates.items(), key=itemgetter(1), reverse=True):\n",
        "  if not itemID in watched:\n",
        "    recommendations.append(getMovieName(trainset.to_raw_iid(itemID)))\n",
        "    position += 1\n",
        "    if (position > 10): break # We only want top 10\n",
        "\n",
        "for rec in recommendations:\n",
        "  print(\"Movie: \", rec)"
      ],
      "execution_count": null,
      "outputs": [
        {
          "output_type": "stream",
          "text": [
            "Movie:  Bride & Prejudice (2004)\n",
            "Movie:  Quo Vadis (1951)\n",
            "Movie:  Safety Last! (1923)\n",
            "Movie:  Infamous (2006)\n",
            "Movie:  Oliver Twist (1948)\n",
            "Movie:  Return of the Secaucus 7 (1980)\n",
            "Movie:  Dark Days (2000)\n",
            "Movie:  Charlotte's Web (2006)\n",
            "Movie:  Only Angels Have Wings (1939)\n",
            "Movie:  Little Women (1949)\n",
            "Movie:  Mr. Deeds Goes to Town (1936)\n"
          ],
          "name": "stdout"
        }
      ]
    }
  ]
}